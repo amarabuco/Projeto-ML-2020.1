{
 "cells": [
  {
   "cell_type": "markdown",
   "metadata": {},
   "source": [
    "# Projeto de Aprendizagem de Máquina"
   ]
  },
  {
   "cell_type": "markdown",
   "metadata": {},
   "source": [
    "## *Partitioning fuzzy K-medoids clustering algorithms with relevance weight for each dissimilarity matrix estimated locally*"
   ]
  },
  {
   "cell_type": "code",
   "execution_count": 5,
   "metadata": {},
   "outputs": [],
   "source": [
    "import pandas as pd\n",
    "import numpy as np\n",
    "import os\n",
    "from tqdm import tqdm\n",
    "\n",
    "from scipy.spatial.distance import pdist, squareform\n",
    "\n",
    "from sklearn.preprocessing import MinMaxScaler\n",
    "from scipy import stats\n",
    "\n",
    "import matplotlib.pyplot as plt"
   ]
  },
  {
   "cell_type": "markdown",
   "metadata": {},
   "source": [
    "### Leitura dos dados"
   ]
  },
  {
   "cell_type": "code",
   "execution_count": 6,
   "metadata": {},
   "outputs": [],
   "source": [
    "PATH = '../data/'"
   ]
  },
  {
   "cell_type": "code",
   "execution_count": 7,
   "metadata": {},
   "outputs": [],
   "source": [
    "view1 = pd.read_csv(os.path.join(PATH, 'mfeat-fac'), sep='\\s+', header=None)\n",
    "view2 = pd.read_csv(os.path.join(PATH, 'mfeat-fou'), sep='\\s+',  header=None)\n",
    "view3 = pd.read_csv(os.path.join(PATH, 'mfeat-kar'), sep='\\s+',  header=None)"
   ]
  },
  {
   "cell_type": "markdown",
   "metadata": {},
   "source": [
    "#### View 1"
   ]
  },
  {
   "cell_type": "code",
   "execution_count": 8,
   "metadata": {},
   "outputs": [
    {
     "name": "stdout",
     "output_type": "stream",
     "text": [
      "(2000, 216)\n"
     ]
    },
    {
     "data": {
      "text/html": [
       "<div>\n",
       "<style scoped>\n",
       "    .dataframe tbody tr th:only-of-type {\n",
       "        vertical-align: middle;\n",
       "    }\n",
       "\n",
       "    .dataframe tbody tr th {\n",
       "        vertical-align: top;\n",
       "    }\n",
       "\n",
       "    .dataframe thead th {\n",
       "        text-align: right;\n",
       "    }\n",
       "</style>\n",
       "<table border=\"1\" class=\"dataframe\">\n",
       "  <thead>\n",
       "    <tr style=\"text-align: right;\">\n",
       "      <th></th>\n",
       "      <th>0</th>\n",
       "      <th>1</th>\n",
       "      <th>2</th>\n",
       "      <th>3</th>\n",
       "      <th>4</th>\n",
       "      <th>5</th>\n",
       "      <th>6</th>\n",
       "      <th>7</th>\n",
       "      <th>8</th>\n",
       "      <th>9</th>\n",
       "      <th>...</th>\n",
       "      <th>206</th>\n",
       "      <th>207</th>\n",
       "      <th>208</th>\n",
       "      <th>209</th>\n",
       "      <th>210</th>\n",
       "      <th>211</th>\n",
       "      <th>212</th>\n",
       "      <th>213</th>\n",
       "      <th>214</th>\n",
       "      <th>215</th>\n",
       "    </tr>\n",
       "  </thead>\n",
       "  <tbody>\n",
       "    <tr>\n",
       "      <th>0</th>\n",
       "      <td>98</td>\n",
       "      <td>236</td>\n",
       "      <td>531</td>\n",
       "      <td>673</td>\n",
       "      <td>607</td>\n",
       "      <td>647</td>\n",
       "      <td>2</td>\n",
       "      <td>9</td>\n",
       "      <td>3</td>\n",
       "      <td>6</td>\n",
       "      <td>...</td>\n",
       "      <td>474</td>\n",
       "      <td>536</td>\n",
       "      <td>628</td>\n",
       "      <td>632</td>\n",
       "      <td>18</td>\n",
       "      <td>36</td>\n",
       "      <td>8</td>\n",
       "      <td>15</td>\n",
       "      <td>12</td>\n",
       "      <td>13</td>\n",
       "    </tr>\n",
       "    <tr>\n",
       "      <th>1</th>\n",
       "      <td>121</td>\n",
       "      <td>193</td>\n",
       "      <td>607</td>\n",
       "      <td>611</td>\n",
       "      <td>585</td>\n",
       "      <td>665</td>\n",
       "      <td>7</td>\n",
       "      <td>9</td>\n",
       "      <td>2</td>\n",
       "      <td>4</td>\n",
       "      <td>...</td>\n",
       "      <td>520</td>\n",
       "      <td>458</td>\n",
       "      <td>570</td>\n",
       "      <td>634</td>\n",
       "      <td>15</td>\n",
       "      <td>32</td>\n",
       "      <td>11</td>\n",
       "      <td>13</td>\n",
       "      <td>15</td>\n",
       "      <td>11</td>\n",
       "    </tr>\n",
       "    <tr>\n",
       "      <th>2</th>\n",
       "      <td>115</td>\n",
       "      <td>141</td>\n",
       "      <td>590</td>\n",
       "      <td>605</td>\n",
       "      <td>557</td>\n",
       "      <td>627</td>\n",
       "      <td>12</td>\n",
       "      <td>6</td>\n",
       "      <td>3</td>\n",
       "      <td>3</td>\n",
       "      <td>...</td>\n",
       "      <td>535</td>\n",
       "      <td>498</td>\n",
       "      <td>572</td>\n",
       "      <td>656</td>\n",
       "      <td>20</td>\n",
       "      <td>35</td>\n",
       "      <td>16</td>\n",
       "      <td>14</td>\n",
       "      <td>13</td>\n",
       "      <td>6</td>\n",
       "    </tr>\n",
       "    <tr>\n",
       "      <th>3</th>\n",
       "      <td>90</td>\n",
       "      <td>122</td>\n",
       "      <td>627</td>\n",
       "      <td>692</td>\n",
       "      <td>607</td>\n",
       "      <td>642</td>\n",
       "      <td>0</td>\n",
       "      <td>6</td>\n",
       "      <td>4</td>\n",
       "      <td>5</td>\n",
       "      <td>...</td>\n",
       "      <td>576</td>\n",
       "      <td>549</td>\n",
       "      <td>628</td>\n",
       "      <td>621</td>\n",
       "      <td>16</td>\n",
       "      <td>35</td>\n",
       "      <td>7</td>\n",
       "      <td>12</td>\n",
       "      <td>15</td>\n",
       "      <td>9</td>\n",
       "    </tr>\n",
       "    <tr>\n",
       "      <th>4</th>\n",
       "      <td>157</td>\n",
       "      <td>167</td>\n",
       "      <td>681</td>\n",
       "      <td>666</td>\n",
       "      <td>587</td>\n",
       "      <td>666</td>\n",
       "      <td>8</td>\n",
       "      <td>6</td>\n",
       "      <td>1</td>\n",
       "      <td>4</td>\n",
       "      <td>...</td>\n",
       "      <td>594</td>\n",
       "      <td>525</td>\n",
       "      <td>568</td>\n",
       "      <td>653</td>\n",
       "      <td>16</td>\n",
       "      <td>35</td>\n",
       "      <td>10</td>\n",
       "      <td>15</td>\n",
       "      <td>13</td>\n",
       "      <td>13</td>\n",
       "    </tr>\n",
       "  </tbody>\n",
       "</table>\n",
       "<p>5 rows × 216 columns</p>\n",
       "</div>"
      ],
      "text/plain": [
       "   0    1    2    3    4    5    6    7    8    9    ...  206  207  208  209  \\\n",
       "0   98  236  531  673  607  647    2    9    3    6  ...  474  536  628  632   \n",
       "1  121  193  607  611  585  665    7    9    2    4  ...  520  458  570  634   \n",
       "2  115  141  590  605  557  627   12    6    3    3  ...  535  498  572  656   \n",
       "3   90  122  627  692  607  642    0    6    4    5  ...  576  549  628  621   \n",
       "4  157  167  681  666  587  666    8    6    1    4  ...  594  525  568  653   \n",
       "\n",
       "   210  211  212  213  214  215  \n",
       "0   18   36    8   15   12   13  \n",
       "1   15   32   11   13   15   11  \n",
       "2   20   35   16   14   13    6  \n",
       "3   16   35    7   12   15    9  \n",
       "4   16   35   10   15   13   13  \n",
       "\n",
       "[5 rows x 216 columns]"
      ]
     },
     "execution_count": 8,
     "metadata": {},
     "output_type": "execute_result"
    }
   ],
   "source": [
    "print(view1.shape)\n",
    "view1.head()"
   ]
  },
  {
   "cell_type": "code",
   "execution_count": 9,
   "metadata": {},
   "outputs": [
    {
     "data": {
      "text/html": [
       "<div>\n",
       "<style scoped>\n",
       "    .dataframe tbody tr th:only-of-type {\n",
       "        vertical-align: middle;\n",
       "    }\n",
       "\n",
       "    .dataframe tbody tr th {\n",
       "        vertical-align: top;\n",
       "    }\n",
       "\n",
       "    .dataframe thead th {\n",
       "        text-align: right;\n",
       "    }\n",
       "</style>\n",
       "<table border=\"1\" class=\"dataframe\">\n",
       "  <thead>\n",
       "    <tr style=\"text-align: right;\">\n",
       "      <th></th>\n",
       "      <th>count</th>\n",
       "      <th>mean</th>\n",
       "      <th>std</th>\n",
       "      <th>min</th>\n",
       "      <th>25%</th>\n",
       "      <th>50%</th>\n",
       "      <th>75%</th>\n",
       "      <th>max</th>\n",
       "    </tr>\n",
       "  </thead>\n",
       "  <tbody>\n",
       "    <tr>\n",
       "      <th>0</th>\n",
       "      <td>2000.0</td>\n",
       "      <td>272.0515</td>\n",
       "      <td>91.275454</td>\n",
       "      <td>67.0</td>\n",
       "      <td>208.00</td>\n",
       "      <td>274.5</td>\n",
       "      <td>338.0</td>\n",
       "      <td>515.0</td>\n",
       "    </tr>\n",
       "    <tr>\n",
       "      <th>1</th>\n",
       "      <td>2000.0</td>\n",
       "      <td>322.7255</td>\n",
       "      <td>109.426588</td>\n",
       "      <td>81.0</td>\n",
       "      <td>247.00</td>\n",
       "      <td>324.0</td>\n",
       "      <td>406.0</td>\n",
       "      <td>565.0</td>\n",
       "    </tr>\n",
       "    <tr>\n",
       "      <th>2</th>\n",
       "      <td>2000.0</td>\n",
       "      <td>774.8245</td>\n",
       "      <td>140.141570</td>\n",
       "      <td>500.0</td>\n",
       "      <td>656.75</td>\n",
       "      <td>766.0</td>\n",
       "      <td>879.0</td>\n",
       "      <td>1264.0</td>\n",
       "    </tr>\n",
       "    <tr>\n",
       "      <th>3</th>\n",
       "      <td>2000.0</td>\n",
       "      <td>754.3390</td>\n",
       "      <td>109.173768</td>\n",
       "      <td>543.0</td>\n",
       "      <td>667.00</td>\n",
       "      <td>736.0</td>\n",
       "      <td>830.0</td>\n",
       "      <td>1134.0</td>\n",
       "    </tr>\n",
       "    <tr>\n",
       "      <th>4</th>\n",
       "      <td>2000.0</td>\n",
       "      <td>640.4605</td>\n",
       "      <td>48.940117</td>\n",
       "      <td>437.0</td>\n",
       "      <td>607.00</td>\n",
       "      <td>636.5</td>\n",
       "      <td>667.0</td>\n",
       "      <td>823.0</td>\n",
       "    </tr>\n",
       "    <tr>\n",
       "      <th>...</th>\n",
       "      <td>...</td>\n",
       "      <td>...</td>\n",
       "      <td>...</td>\n",
       "      <td>...</td>\n",
       "      <td>...</td>\n",
       "      <td>...</td>\n",
       "      <td>...</td>\n",
       "      <td>...</td>\n",
       "    </tr>\n",
       "    <tr>\n",
       "      <th>211</th>\n",
       "      <td>2000.0</td>\n",
       "      <td>21.5840</td>\n",
       "      <td>7.982343</td>\n",
       "      <td>1.0</td>\n",
       "      <td>16.00</td>\n",
       "      <td>23.0</td>\n",
       "      <td>27.0</td>\n",
       "      <td>38.0</td>\n",
       "    </tr>\n",
       "    <tr>\n",
       "      <th>212</th>\n",
       "      <td>2000.0</td>\n",
       "      <td>17.6120</td>\n",
       "      <td>5.884451</td>\n",
       "      <td>1.0</td>\n",
       "      <td>13.00</td>\n",
       "      <td>18.0</td>\n",
       "      <td>21.0</td>\n",
       "      <td>36.0</td>\n",
       "    </tr>\n",
       "    <tr>\n",
       "      <th>213</th>\n",
       "      <td>2000.0</td>\n",
       "      <td>11.9680</td>\n",
       "      <td>2.579788</td>\n",
       "      <td>4.0</td>\n",
       "      <td>10.00</td>\n",
       "      <td>12.0</td>\n",
       "      <td>14.0</td>\n",
       "      <td>18.0</td>\n",
       "    </tr>\n",
       "    <tr>\n",
       "      <th>214</th>\n",
       "      <td>2000.0</td>\n",
       "      <td>13.7045</td>\n",
       "      <td>1.985485</td>\n",
       "      <td>5.0</td>\n",
       "      <td>12.00</td>\n",
       "      <td>14.0</td>\n",
       "      <td>15.0</td>\n",
       "      <td>19.0</td>\n",
       "    </tr>\n",
       "    <tr>\n",
       "      <th>215</th>\n",
       "      <td>2000.0</td>\n",
       "      <td>13.4525</td>\n",
       "      <td>4.637186</td>\n",
       "      <td>0.0</td>\n",
       "      <td>11.00</td>\n",
       "      <td>15.0</td>\n",
       "      <td>17.0</td>\n",
       "      <td>23.0</td>\n",
       "    </tr>\n",
       "  </tbody>\n",
       "</table>\n",
       "<p>216 rows × 8 columns</p>\n",
       "</div>"
      ],
      "text/plain": [
       "      count      mean         std    min     25%    50%    75%     max\n",
       "0    2000.0  272.0515   91.275454   67.0  208.00  274.5  338.0   515.0\n",
       "1    2000.0  322.7255  109.426588   81.0  247.00  324.0  406.0   565.0\n",
       "2    2000.0  774.8245  140.141570  500.0  656.75  766.0  879.0  1264.0\n",
       "3    2000.0  754.3390  109.173768  543.0  667.00  736.0  830.0  1134.0\n",
       "4    2000.0  640.4605   48.940117  437.0  607.00  636.5  667.0   823.0\n",
       "..      ...       ...         ...    ...     ...    ...    ...     ...\n",
       "211  2000.0   21.5840    7.982343    1.0   16.00   23.0   27.0    38.0\n",
       "212  2000.0   17.6120    5.884451    1.0   13.00   18.0   21.0    36.0\n",
       "213  2000.0   11.9680    2.579788    4.0   10.00   12.0   14.0    18.0\n",
       "214  2000.0   13.7045    1.985485    5.0   12.00   14.0   15.0    19.0\n",
       "215  2000.0   13.4525    4.637186    0.0   11.00   15.0   17.0    23.0\n",
       "\n",
       "[216 rows x 8 columns]"
      ]
     },
     "execution_count": 9,
     "metadata": {},
     "output_type": "execute_result"
    }
   ],
   "source": [
    "view1.describe().T"
   ]
  },
  {
   "cell_type": "markdown",
   "metadata": {},
   "source": [
    "#### View 2"
   ]
  },
  {
   "cell_type": "code",
   "execution_count": 10,
   "metadata": {},
   "outputs": [
    {
     "name": "stdout",
     "output_type": "stream",
     "text": [
      "(2000, 76)\n"
     ]
    },
    {
     "data": {
      "text/html": [
       "<div>\n",
       "<style scoped>\n",
       "    .dataframe tbody tr th:only-of-type {\n",
       "        vertical-align: middle;\n",
       "    }\n",
       "\n",
       "    .dataframe tbody tr th {\n",
       "        vertical-align: top;\n",
       "    }\n",
       "\n",
       "    .dataframe thead th {\n",
       "        text-align: right;\n",
       "    }\n",
       "</style>\n",
       "<table border=\"1\" class=\"dataframe\">\n",
       "  <thead>\n",
       "    <tr style=\"text-align: right;\">\n",
       "      <th></th>\n",
       "      <th>0</th>\n",
       "      <th>1</th>\n",
       "      <th>2</th>\n",
       "      <th>3</th>\n",
       "      <th>4</th>\n",
       "      <th>5</th>\n",
       "      <th>6</th>\n",
       "      <th>7</th>\n",
       "      <th>8</th>\n",
       "      <th>9</th>\n",
       "      <th>...</th>\n",
       "      <th>66</th>\n",
       "      <th>67</th>\n",
       "      <th>68</th>\n",
       "      <th>69</th>\n",
       "      <th>70</th>\n",
       "      <th>71</th>\n",
       "      <th>72</th>\n",
       "      <th>73</th>\n",
       "      <th>74</th>\n",
       "      <th>75</th>\n",
       "    </tr>\n",
       "  </thead>\n",
       "  <tbody>\n",
       "    <tr>\n",
       "      <th>0</th>\n",
       "      <td>0.065882</td>\n",
       "      <td>0.197312</td>\n",
       "      <td>0.103826</td>\n",
       "      <td>0.270362</td>\n",
       "      <td>0.616078</td>\n",
       "      <td>0.035856</td>\n",
       "      <td>0.424572</td>\n",
       "      <td>0.089701</td>\n",
       "      <td>0.367773</td>\n",
       "      <td>0.037065</td>\n",
       "      <td>...</td>\n",
       "      <td>0.123448</td>\n",
       "      <td>0.113374</td>\n",
       "      <td>0.074343</td>\n",
       "      <td>0.281666</td>\n",
       "      <td>0.067795</td>\n",
       "      <td>0.344182</td>\n",
       "      <td>0.038963</td>\n",
       "      <td>0.394366</td>\n",
       "      <td>0.049971</td>\n",
       "      <td>0.344871</td>\n",
       "    </tr>\n",
       "    <tr>\n",
       "      <th>1</th>\n",
       "      <td>0.049142</td>\n",
       "      <td>0.175971</td>\n",
       "      <td>0.105515</td>\n",
       "      <td>0.227095</td>\n",
       "      <td>0.599280</td>\n",
       "      <td>0.041217</td>\n",
       "      <td>0.431078</td>\n",
       "      <td>0.096801</td>\n",
       "      <td>0.326739</td>\n",
       "      <td>0.059661</td>\n",
       "      <td>...</td>\n",
       "      <td>0.045310</td>\n",
       "      <td>0.069337</td>\n",
       "      <td>0.045386</td>\n",
       "      <td>0.254264</td>\n",
       "      <td>0.045447</td>\n",
       "      <td>0.335659</td>\n",
       "      <td>0.021719</td>\n",
       "      <td>0.445277</td>\n",
       "      <td>0.083978</td>\n",
       "      <td>0.354092</td>\n",
       "    </tr>\n",
       "    <tr>\n",
       "      <th>2</th>\n",
       "      <td>0.034172</td>\n",
       "      <td>0.227649</td>\n",
       "      <td>0.108766</td>\n",
       "      <td>0.127697</td>\n",
       "      <td>0.612494</td>\n",
       "      <td>0.056554</td>\n",
       "      <td>0.470639</td>\n",
       "      <td>0.041903</td>\n",
       "      <td>0.324267</td>\n",
       "      <td>0.044569</td>\n",
       "      <td>...</td>\n",
       "      <td>0.019858</td>\n",
       "      <td>0.218842</td>\n",
       "      <td>0.041087</td>\n",
       "      <td>0.360464</td>\n",
       "      <td>0.047154</td>\n",
       "      <td>0.377408</td>\n",
       "      <td>0.052099</td>\n",
       "      <td>0.445029</td>\n",
       "      <td>0.071234</td>\n",
       "      <td>0.261465</td>\n",
       "    </tr>\n",
       "    <tr>\n",
       "      <th>3</th>\n",
       "      <td>0.062336</td>\n",
       "      <td>0.217979</td>\n",
       "      <td>0.080243</td>\n",
       "      <td>0.289592</td>\n",
       "      <td>0.546316</td>\n",
       "      <td>0.045779</td>\n",
       "      <td>0.425545</td>\n",
       "      <td>0.022841</td>\n",
       "      <td>0.331454</td>\n",
       "      <td>0.119052</td>\n",
       "      <td>...</td>\n",
       "      <td>0.083995</td>\n",
       "      <td>0.085479</td>\n",
       "      <td>0.087658</td>\n",
       "      <td>0.151880</td>\n",
       "      <td>0.075950</td>\n",
       "      <td>0.293462</td>\n",
       "      <td>0.022675</td>\n",
       "      <td>0.408291</td>\n",
       "      <td>0.063010</td>\n",
       "      <td>0.401376</td>\n",
       "    </tr>\n",
       "    <tr>\n",
       "      <th>4</th>\n",
       "      <td>0.061970</td>\n",
       "      <td>0.198358</td>\n",
       "      <td>0.111239</td>\n",
       "      <td>0.253460</td>\n",
       "      <td>0.608455</td>\n",
       "      <td>0.023631</td>\n",
       "      <td>0.415246</td>\n",
       "      <td>0.091866</td>\n",
       "      <td>0.309310</td>\n",
       "      <td>0.049142</td>\n",
       "      <td>...</td>\n",
       "      <td>0.021004</td>\n",
       "      <td>0.106960</td>\n",
       "      <td>0.032283</td>\n",
       "      <td>0.248565</td>\n",
       "      <td>0.015674</td>\n",
       "      <td>0.386276</td>\n",
       "      <td>0.039481</td>\n",
       "      <td>0.434701</td>\n",
       "      <td>0.069218</td>\n",
       "      <td>0.405403</td>\n",
       "    </tr>\n",
       "  </tbody>\n",
       "</table>\n",
       "<p>5 rows × 76 columns</p>\n",
       "</div>"
      ],
      "text/plain": [
       "         0         1         2         3         4         5         6   \\\n",
       "0  0.065882  0.197312  0.103826  0.270362  0.616078  0.035856  0.424572   \n",
       "1  0.049142  0.175971  0.105515  0.227095  0.599280  0.041217  0.431078   \n",
       "2  0.034172  0.227649  0.108766  0.127697  0.612494  0.056554  0.470639   \n",
       "3  0.062336  0.217979  0.080243  0.289592  0.546316  0.045779  0.425545   \n",
       "4  0.061970  0.198358  0.111239  0.253460  0.608455  0.023631  0.415246   \n",
       "\n",
       "         7         8         9   ...        66        67        68        69  \\\n",
       "0  0.089701  0.367773  0.037065  ...  0.123448  0.113374  0.074343  0.281666   \n",
       "1  0.096801  0.326739  0.059661  ...  0.045310  0.069337  0.045386  0.254264   \n",
       "2  0.041903  0.324267  0.044569  ...  0.019858  0.218842  0.041087  0.360464   \n",
       "3  0.022841  0.331454  0.119052  ...  0.083995  0.085479  0.087658  0.151880   \n",
       "4  0.091866  0.309310  0.049142  ...  0.021004  0.106960  0.032283  0.248565   \n",
       "\n",
       "         70        71        72        73        74        75  \n",
       "0  0.067795  0.344182  0.038963  0.394366  0.049971  0.344871  \n",
       "1  0.045447  0.335659  0.021719  0.445277  0.083978  0.354092  \n",
       "2  0.047154  0.377408  0.052099  0.445029  0.071234  0.261465  \n",
       "3  0.075950  0.293462  0.022675  0.408291  0.063010  0.401376  \n",
       "4  0.015674  0.386276  0.039481  0.434701  0.069218  0.405403  \n",
       "\n",
       "[5 rows x 76 columns]"
      ]
     },
     "execution_count": 10,
     "metadata": {},
     "output_type": "execute_result"
    }
   ],
   "source": [
    "print(view2.shape)\n",
    "view2.head()"
   ]
  },
  {
   "cell_type": "code",
   "execution_count": 11,
   "metadata": {},
   "outputs": [
    {
     "data": {
      "text/html": [
       "<div>\n",
       "<style scoped>\n",
       "    .dataframe tbody tr th:only-of-type {\n",
       "        vertical-align: middle;\n",
       "    }\n",
       "\n",
       "    .dataframe tbody tr th {\n",
       "        vertical-align: top;\n",
       "    }\n",
       "\n",
       "    .dataframe thead th {\n",
       "        text-align: right;\n",
       "    }\n",
       "</style>\n",
       "<table border=\"1\" class=\"dataframe\">\n",
       "  <thead>\n",
       "    <tr style=\"text-align: right;\">\n",
       "      <th></th>\n",
       "      <th>count</th>\n",
       "      <th>mean</th>\n",
       "      <th>std</th>\n",
       "      <th>min</th>\n",
       "      <th>25%</th>\n",
       "      <th>50%</th>\n",
       "      <th>75%</th>\n",
       "      <th>max</th>\n",
       "    </tr>\n",
       "  </thead>\n",
       "  <tbody>\n",
       "    <tr>\n",
       "      <th>0</th>\n",
       "      <td>2000.0</td>\n",
       "      <td>0.185544</td>\n",
       "      <td>0.091898</td>\n",
       "      <td>0.004928</td>\n",
       "      <td>0.112066</td>\n",
       "      <td>0.176093</td>\n",
       "      <td>0.270290</td>\n",
       "      <td>0.395772</td>\n",
       "    </tr>\n",
       "    <tr>\n",
       "      <th>1</th>\n",
       "      <td>2000.0</td>\n",
       "      <td>0.377311</td>\n",
       "      <td>0.176231</td>\n",
       "      <td>0.009000</td>\n",
       "      <td>0.223410</td>\n",
       "      <td>0.401208</td>\n",
       "      <td>0.523692</td>\n",
       "      <td>0.771281</td>\n",
       "    </tr>\n",
       "    <tr>\n",
       "      <th>2</th>\n",
       "      <td>2000.0</td>\n",
       "      <td>0.269378</td>\n",
       "      <td>0.137980</td>\n",
       "      <td>0.005624</td>\n",
       "      <td>0.142086</td>\n",
       "      <td>0.288355</td>\n",
       "      <td>0.378611</td>\n",
       "      <td>0.665372</td>\n",
       "    </tr>\n",
       "    <tr>\n",
       "      <th>3</th>\n",
       "      <td>2000.0</td>\n",
       "      <td>0.265686</td>\n",
       "      <td>0.110694</td>\n",
       "      <td>0.010114</td>\n",
       "      <td>0.195214</td>\n",
       "      <td>0.255635</td>\n",
       "      <td>0.325003</td>\n",
       "      <td>0.748012</td>\n",
       "    </tr>\n",
       "    <tr>\n",
       "      <th>4</th>\n",
       "      <td>2000.0</td>\n",
       "      <td>0.300367</td>\n",
       "      <td>0.156256</td>\n",
       "      <td>0.002090</td>\n",
       "      <td>0.180421</td>\n",
       "      <td>0.282515</td>\n",
       "      <td>0.413297</td>\n",
       "      <td>0.796487</td>\n",
       "    </tr>\n",
       "    <tr>\n",
       "      <th>...</th>\n",
       "      <td>...</td>\n",
       "      <td>...</td>\n",
       "      <td>...</td>\n",
       "      <td>...</td>\n",
       "      <td>...</td>\n",
       "      <td>...</td>\n",
       "      <td>...</td>\n",
       "      <td>...</td>\n",
       "    </tr>\n",
       "    <tr>\n",
       "      <th>71</th>\n",
       "      <td>2000.0</td>\n",
       "      <td>0.166702</td>\n",
       "      <td>0.091240</td>\n",
       "      <td>0.007784</td>\n",
       "      <td>0.097974</td>\n",
       "      <td>0.149127</td>\n",
       "      <td>0.218640</td>\n",
       "      <td>0.457965</td>\n",
       "    </tr>\n",
       "    <tr>\n",
       "      <th>72</th>\n",
       "      <td>2000.0</td>\n",
       "      <td>0.230956</td>\n",
       "      <td>0.123441</td>\n",
       "      <td>0.003569</td>\n",
       "      <td>0.130623</td>\n",
       "      <td>0.232392</td>\n",
       "      <td>0.323222</td>\n",
       "      <td>0.601370</td>\n",
       "    </tr>\n",
       "    <tr>\n",
       "      <th>73</th>\n",
       "      <td>2000.0</td>\n",
       "      <td>0.267786</td>\n",
       "      <td>0.131009</td>\n",
       "      <td>0.011433</td>\n",
       "      <td>0.157886</td>\n",
       "      <td>0.251738</td>\n",
       "      <td>0.388339</td>\n",
       "      <td>0.620857</td>\n",
       "    </tr>\n",
       "    <tr>\n",
       "      <th>74</th>\n",
       "      <td>2000.0</td>\n",
       "      <td>0.143982</td>\n",
       "      <td>0.085663</td>\n",
       "      <td>0.001136</td>\n",
       "      <td>0.075864</td>\n",
       "      <td>0.130413</td>\n",
       "      <td>0.198687</td>\n",
       "      <td>0.510432</td>\n",
       "    </tr>\n",
       "    <tr>\n",
       "      <th>75</th>\n",
       "      <td>2000.0</td>\n",
       "      <td>0.217792</td>\n",
       "      <td>0.122908</td>\n",
       "      <td>0.004572</td>\n",
       "      <td>0.115836</td>\n",
       "      <td>0.193452</td>\n",
       "      <td>0.318925</td>\n",
       "      <td>0.582411</td>\n",
       "    </tr>\n",
       "  </tbody>\n",
       "</table>\n",
       "<p>76 rows × 8 columns</p>\n",
       "</div>"
      ],
      "text/plain": [
       "     count      mean       std       min       25%       50%       75%  \\\n",
       "0   2000.0  0.185544  0.091898  0.004928  0.112066  0.176093  0.270290   \n",
       "1   2000.0  0.377311  0.176231  0.009000  0.223410  0.401208  0.523692   \n",
       "2   2000.0  0.269378  0.137980  0.005624  0.142086  0.288355  0.378611   \n",
       "3   2000.0  0.265686  0.110694  0.010114  0.195214  0.255635  0.325003   \n",
       "4   2000.0  0.300367  0.156256  0.002090  0.180421  0.282515  0.413297   \n",
       "..     ...       ...       ...       ...       ...       ...       ...   \n",
       "71  2000.0  0.166702  0.091240  0.007784  0.097974  0.149127  0.218640   \n",
       "72  2000.0  0.230956  0.123441  0.003569  0.130623  0.232392  0.323222   \n",
       "73  2000.0  0.267786  0.131009  0.011433  0.157886  0.251738  0.388339   \n",
       "74  2000.0  0.143982  0.085663  0.001136  0.075864  0.130413  0.198687   \n",
       "75  2000.0  0.217792  0.122908  0.004572  0.115836  0.193452  0.318925   \n",
       "\n",
       "         max  \n",
       "0   0.395772  \n",
       "1   0.771281  \n",
       "2   0.665372  \n",
       "3   0.748012  \n",
       "4   0.796487  \n",
       "..       ...  \n",
       "71  0.457965  \n",
       "72  0.601370  \n",
       "73  0.620857  \n",
       "74  0.510432  \n",
       "75  0.582411  \n",
       "\n",
       "[76 rows x 8 columns]"
      ]
     },
     "execution_count": 11,
     "metadata": {},
     "output_type": "execute_result"
    }
   ],
   "source": [
    "view2.describe().T"
   ]
  },
  {
   "cell_type": "markdown",
   "metadata": {},
   "source": [
    "#### View 3"
   ]
  },
  {
   "cell_type": "code",
   "execution_count": 12,
   "metadata": {},
   "outputs": [
    {
     "name": "stdout",
     "output_type": "stream",
     "text": [
      "(2000, 64)\n"
     ]
    },
    {
     "data": {
      "text/html": [
       "<div>\n",
       "<style scoped>\n",
       "    .dataframe tbody tr th:only-of-type {\n",
       "        vertical-align: middle;\n",
       "    }\n",
       "\n",
       "    .dataframe tbody tr th {\n",
       "        vertical-align: top;\n",
       "    }\n",
       "\n",
       "    .dataframe thead th {\n",
       "        text-align: right;\n",
       "    }\n",
       "</style>\n",
       "<table border=\"1\" class=\"dataframe\">\n",
       "  <thead>\n",
       "    <tr style=\"text-align: right;\">\n",
       "      <th></th>\n",
       "      <th>0</th>\n",
       "      <th>1</th>\n",
       "      <th>2</th>\n",
       "      <th>3</th>\n",
       "      <th>4</th>\n",
       "      <th>5</th>\n",
       "      <th>6</th>\n",
       "      <th>7</th>\n",
       "      <th>8</th>\n",
       "      <th>9</th>\n",
       "      <th>...</th>\n",
       "      <th>54</th>\n",
       "      <th>55</th>\n",
       "      <th>56</th>\n",
       "      <th>57</th>\n",
       "      <th>58</th>\n",
       "      <th>59</th>\n",
       "      <th>60</th>\n",
       "      <th>61</th>\n",
       "      <th>62</th>\n",
       "      <th>63</th>\n",
       "    </tr>\n",
       "  </thead>\n",
       "  <tbody>\n",
       "    <tr>\n",
       "      <th>0</th>\n",
       "      <td>-10.297008</td>\n",
       "      <td>-11.666789</td>\n",
       "      <td>11.560669</td>\n",
       "      <td>-2.081316</td>\n",
       "      <td>4.044656</td>\n",
       "      <td>4.086815</td>\n",
       "      <td>-2.558072</td>\n",
       "      <td>-8.476935</td>\n",
       "      <td>2.138135</td>\n",
       "      <td>3.503082</td>\n",
       "      <td>...</td>\n",
       "      <td>1.078083</td>\n",
       "      <td>0.921927</td>\n",
       "      <td>0.496387</td>\n",
       "      <td>-0.643667</td>\n",
       "      <td>0.284104</td>\n",
       "      <td>0.286555</td>\n",
       "      <td>0.348625</td>\n",
       "      <td>1.814691</td>\n",
       "      <td>-1.351353</td>\n",
       "      <td>-0.473910</td>\n",
       "    </tr>\n",
       "    <tr>\n",
       "      <th>1</th>\n",
       "      <td>-5.036009</td>\n",
       "      <td>-12.885333</td>\n",
       "      <td>0.161155</td>\n",
       "      <td>0.592460</td>\n",
       "      <td>3.123534</td>\n",
       "      <td>4.220469</td>\n",
       "      <td>-6.411771</td>\n",
       "      <td>-6.335328</td>\n",
       "      <td>-0.244622</td>\n",
       "      <td>1.346073</td>\n",
       "      <td>...</td>\n",
       "      <td>0.942353</td>\n",
       "      <td>2.938791</td>\n",
       "      <td>1.429883</td>\n",
       "      <td>-2.336344</td>\n",
       "      <td>1.281628</td>\n",
       "      <td>-0.098321</td>\n",
       "      <td>0.582357</td>\n",
       "      <td>0.485792</td>\n",
       "      <td>0.642451</td>\n",
       "      <td>0.613107</td>\n",
       "    </tr>\n",
       "    <tr>\n",
       "      <th>2</th>\n",
       "      <td>-9.639157</td>\n",
       "      <td>-6.655898</td>\n",
       "      <td>0.388687</td>\n",
       "      <td>-1.717650</td>\n",
       "      <td>0.300346</td>\n",
       "      <td>3.400769</td>\n",
       "      <td>-7.240785</td>\n",
       "      <td>-1.659405</td>\n",
       "      <td>-0.874005</td>\n",
       "      <td>4.153403</td>\n",
       "      <td>...</td>\n",
       "      <td>-0.413174</td>\n",
       "      <td>-0.023028</td>\n",
       "      <td>-0.025265</td>\n",
       "      <td>1.259838</td>\n",
       "      <td>-0.441360</td>\n",
       "      <td>-0.960094</td>\n",
       "      <td>1.995843</td>\n",
       "      <td>1.097748</td>\n",
       "      <td>0.827182</td>\n",
       "      <td>-1.767840</td>\n",
       "    </tr>\n",
       "    <tr>\n",
       "      <th>3</th>\n",
       "      <td>-6.650375</td>\n",
       "      <td>-7.043851</td>\n",
       "      <td>4.104350</td>\n",
       "      <td>-2.342780</td>\n",
       "      <td>3.494658</td>\n",
       "      <td>3.924822</td>\n",
       "      <td>-9.874812</td>\n",
       "      <td>-6.556576</td>\n",
       "      <td>-1.364269</td>\n",
       "      <td>1.153308</td>\n",
       "      <td>...</td>\n",
       "      <td>-0.961236</td>\n",
       "      <td>-1.043815</td>\n",
       "      <td>-0.204508</td>\n",
       "      <td>-1.981150</td>\n",
       "      <td>0.982438</td>\n",
       "      <td>-0.144233</td>\n",
       "      <td>-1.449328</td>\n",
       "      <td>-0.913552</td>\n",
       "      <td>-0.771735</td>\n",
       "      <td>0.304992</td>\n",
       "    </tr>\n",
       "    <tr>\n",
       "      <th>4</th>\n",
       "      <td>-10.664524</td>\n",
       "      <td>-10.974133</td>\n",
       "      <td>0.194391</td>\n",
       "      <td>0.453885</td>\n",
       "      <td>2.193088</td>\n",
       "      <td>-3.304663</td>\n",
       "      <td>-8.376592</td>\n",
       "      <td>-4.241146</td>\n",
       "      <td>2.964818</td>\n",
       "      <td>-0.949622</td>\n",
       "      <td>...</td>\n",
       "      <td>0.152957</td>\n",
       "      <td>1.448160</td>\n",
       "      <td>-1.254907</td>\n",
       "      <td>-3.481295</td>\n",
       "      <td>-0.563889</td>\n",
       "      <td>1.529335</td>\n",
       "      <td>0.510399</td>\n",
       "      <td>0.298318</td>\n",
       "      <td>-0.943213</td>\n",
       "      <td>1.149847</td>\n",
       "    </tr>\n",
       "  </tbody>\n",
       "</table>\n",
       "<p>5 rows × 64 columns</p>\n",
       "</div>"
      ],
      "text/plain": [
       "          0          1          2         3         4         5         6   \\\n",
       "0 -10.297008 -11.666789  11.560669 -2.081316  4.044656  4.086815 -2.558072   \n",
       "1  -5.036009 -12.885333   0.161155  0.592460  3.123534  4.220469 -6.411771   \n",
       "2  -9.639157  -6.655898   0.388687 -1.717650  0.300346  3.400769 -7.240785   \n",
       "3  -6.650375  -7.043851   4.104350 -2.342780  3.494658  3.924822 -9.874812   \n",
       "4 -10.664524 -10.974133   0.194391  0.453885  2.193088 -3.304663 -8.376592   \n",
       "\n",
       "         7         8         9   ...        54        55        56        57  \\\n",
       "0 -8.476935  2.138135  3.503082  ...  1.078083  0.921927  0.496387 -0.643667   \n",
       "1 -6.335328 -0.244622  1.346073  ...  0.942353  2.938791  1.429883 -2.336344   \n",
       "2 -1.659405 -0.874005  4.153403  ... -0.413174 -0.023028 -0.025265  1.259838   \n",
       "3 -6.556576 -1.364269  1.153308  ... -0.961236 -1.043815 -0.204508 -1.981150   \n",
       "4 -4.241146  2.964818 -0.949622  ...  0.152957  1.448160 -1.254907 -3.481295   \n",
       "\n",
       "         58        59        60        61        62        63  \n",
       "0  0.284104  0.286555  0.348625  1.814691 -1.351353 -0.473910  \n",
       "1  1.281628 -0.098321  0.582357  0.485792  0.642451  0.613107  \n",
       "2 -0.441360 -0.960094  1.995843  1.097748  0.827182 -1.767840  \n",
       "3  0.982438 -0.144233 -1.449328 -0.913552 -0.771735  0.304992  \n",
       "4 -0.563889  1.529335  0.510399  0.298318 -0.943213  1.149847  \n",
       "\n",
       "[5 rows x 64 columns]"
      ]
     },
     "execution_count": 12,
     "metadata": {},
     "output_type": "execute_result"
    }
   ],
   "source": [
    "print(view3.shape)\n",
    "view3.head()"
   ]
  },
  {
   "cell_type": "code",
   "execution_count": 13,
   "metadata": {},
   "outputs": [
    {
     "data": {
      "text/html": [
       "<div>\n",
       "<style scoped>\n",
       "    .dataframe tbody tr th:only-of-type {\n",
       "        vertical-align: middle;\n",
       "    }\n",
       "\n",
       "    .dataframe tbody tr th {\n",
       "        vertical-align: top;\n",
       "    }\n",
       "\n",
       "    .dataframe thead th {\n",
       "        text-align: right;\n",
       "    }\n",
       "</style>\n",
       "<table border=\"1\" class=\"dataframe\">\n",
       "  <thead>\n",
       "    <tr style=\"text-align: right;\">\n",
       "      <th></th>\n",
       "      <th>count</th>\n",
       "      <th>mean</th>\n",
       "      <th>std</th>\n",
       "      <th>min</th>\n",
       "      <th>25%</th>\n",
       "      <th>50%</th>\n",
       "      <th>75%</th>\n",
       "      <th>max</th>\n",
       "    </tr>\n",
       "  </thead>\n",
       "  <tbody>\n",
       "    <tr>\n",
       "      <th>0</th>\n",
       "      <td>2000.0</td>\n",
       "      <td>-1.119422</td>\n",
       "      <td>7.691305</td>\n",
       "      <td>-16.459305</td>\n",
       "      <td>-7.606095</td>\n",
       "      <td>-1.744261</td>\n",
       "      <td>4.806998</td>\n",
       "      <td>15.774811</td>\n",
       "    </tr>\n",
       "    <tr>\n",
       "      <th>1</th>\n",
       "      <td>2000.0</td>\n",
       "      <td>-0.684916</td>\n",
       "      <td>5.716466</td>\n",
       "      <td>-15.651466</td>\n",
       "      <td>-4.660418</td>\n",
       "      <td>-0.539887</td>\n",
       "      <td>3.409475</td>\n",
       "      <td>15.414573</td>\n",
       "    </tr>\n",
       "    <tr>\n",
       "      <th>2</th>\n",
       "      <td>2000.0</td>\n",
       "      <td>1.325787</td>\n",
       "      <td>5.574310</td>\n",
       "      <td>-14.333107</td>\n",
       "      <td>-2.704140</td>\n",
       "      <td>2.023201</td>\n",
       "      <td>5.354117</td>\n",
       "      <td>14.769929</td>\n",
       "    </tr>\n",
       "    <tr>\n",
       "      <th>3</th>\n",
       "      <td>2000.0</td>\n",
       "      <td>1.635315</td>\n",
       "      <td>5.507581</td>\n",
       "      <td>-14.303563</td>\n",
       "      <td>-2.186702</td>\n",
       "      <td>0.830831</td>\n",
       "      <td>5.360159</td>\n",
       "      <td>16.824829</td>\n",
       "    </tr>\n",
       "    <tr>\n",
       "      <th>4</th>\n",
       "      <td>2000.0</td>\n",
       "      <td>2.891171</td>\n",
       "      <td>3.994073</td>\n",
       "      <td>-8.213110</td>\n",
       "      <td>0.020924</td>\n",
       "      <td>2.693554</td>\n",
       "      <td>5.692744</td>\n",
       "      <td>14.992364</td>\n",
       "    </tr>\n",
       "    <tr>\n",
       "      <th>...</th>\n",
       "      <td>...</td>\n",
       "      <td>...</td>\n",
       "      <td>...</td>\n",
       "      <td>...</td>\n",
       "      <td>...</td>\n",
       "      <td>...</td>\n",
       "      <td>...</td>\n",
       "      <td>...</td>\n",
       "    </tr>\n",
       "    <tr>\n",
       "      <th>59</th>\n",
       "      <td>2000.0</td>\n",
       "      <td>-0.204876</td>\n",
       "      <td>1.050156</td>\n",
       "      <td>-3.624762</td>\n",
       "      <td>-0.940669</td>\n",
       "      <td>-0.204553</td>\n",
       "      <td>0.498455</td>\n",
       "      <td>3.351974</td>\n",
       "    </tr>\n",
       "    <tr>\n",
       "      <th>60</th>\n",
       "      <td>2000.0</td>\n",
       "      <td>-0.017153</td>\n",
       "      <td>0.907965</td>\n",
       "      <td>-3.056478</td>\n",
       "      <td>-0.647365</td>\n",
       "      <td>0.007285</td>\n",
       "      <td>0.585359</td>\n",
       "      <td>2.974369</td>\n",
       "    </tr>\n",
       "    <tr>\n",
       "      <th>61</th>\n",
       "      <td>2000.0</td>\n",
       "      <td>-0.049707</td>\n",
       "      <td>0.899926</td>\n",
       "      <td>-3.279887</td>\n",
       "      <td>-0.666966</td>\n",
       "      <td>-0.058137</td>\n",
       "      <td>0.521300</td>\n",
       "      <td>2.809290</td>\n",
       "    </tr>\n",
       "    <tr>\n",
       "      <th>62</th>\n",
       "      <td>2000.0</td>\n",
       "      <td>0.239816</td>\n",
       "      <td>0.892344</td>\n",
       "      <td>-2.617629</td>\n",
       "      <td>-0.393474</td>\n",
       "      <td>0.229076</td>\n",
       "      <td>0.849849</td>\n",
       "      <td>3.145101</td>\n",
       "    </tr>\n",
       "    <tr>\n",
       "      <th>63</th>\n",
       "      <td>2000.0</td>\n",
       "      <td>-0.181936</td>\n",
       "      <td>1.024102</td>\n",
       "      <td>-3.375015</td>\n",
       "      <td>-0.878151</td>\n",
       "      <td>-0.177332</td>\n",
       "      <td>0.525456</td>\n",
       "      <td>3.324201</td>\n",
       "    </tr>\n",
       "  </tbody>\n",
       "</table>\n",
       "<p>64 rows × 8 columns</p>\n",
       "</div>"
      ],
      "text/plain": [
       "     count      mean       std        min       25%       50%       75%  \\\n",
       "0   2000.0 -1.119422  7.691305 -16.459305 -7.606095 -1.744261  4.806998   \n",
       "1   2000.0 -0.684916  5.716466 -15.651466 -4.660418 -0.539887  3.409475   \n",
       "2   2000.0  1.325787  5.574310 -14.333107 -2.704140  2.023201  5.354117   \n",
       "3   2000.0  1.635315  5.507581 -14.303563 -2.186702  0.830831  5.360159   \n",
       "4   2000.0  2.891171  3.994073  -8.213110  0.020924  2.693554  5.692744   \n",
       "..     ...       ...       ...        ...       ...       ...       ...   \n",
       "59  2000.0 -0.204876  1.050156  -3.624762 -0.940669 -0.204553  0.498455   \n",
       "60  2000.0 -0.017153  0.907965  -3.056478 -0.647365  0.007285  0.585359   \n",
       "61  2000.0 -0.049707  0.899926  -3.279887 -0.666966 -0.058137  0.521300   \n",
       "62  2000.0  0.239816  0.892344  -2.617629 -0.393474  0.229076  0.849849   \n",
       "63  2000.0 -0.181936  1.024102  -3.375015 -0.878151 -0.177332  0.525456   \n",
       "\n",
       "          max  \n",
       "0   15.774811  \n",
       "1   15.414573  \n",
       "2   14.769929  \n",
       "3   16.824829  \n",
       "4   14.992364  \n",
       "..        ...  \n",
       "59   3.351974  \n",
       "60   2.974369  \n",
       "61   2.809290  \n",
       "62   3.145101  \n",
       "63   3.324201  \n",
       "\n",
       "[64 rows x 8 columns]"
      ]
     },
     "execution_count": 13,
     "metadata": {},
     "output_type": "execute_result"
    }
   ],
   "source": [
    "view3.describe().T"
   ]
  },
  {
   "cell_type": "markdown",
   "metadata": {},
   "source": [
    "### Obter target"
   ]
  },
  {
   "cell_type": "code",
   "execution_count": 14,
   "metadata": {},
   "outputs": [],
   "source": [
    "y = pd.Series([int(i / 200) for i in range(2000)], index=view1.index)"
   ]
  },
  {
   "cell_type": "markdown",
   "metadata": {},
   "source": [
    "### Pré-processamento"
   ]
  },
  {
   "cell_type": "markdown",
   "metadata": {},
   "source": [
    "#### Normalização (reescala)"
   ]
  },
  {
   "cell_type": "code",
   "execution_count": 15,
   "metadata": {},
   "outputs": [],
   "source": [
    "scaler = MinMaxScaler()\n",
    "view1 = scaler.fit_transform(view1)\n",
    "\n",
    "scaler = MinMaxScaler()\n",
    "view2 = scaler.fit_transform(view2)\n",
    "\n",
    "scaler = MinMaxScaler()\n",
    "view3 = scaler.fit_transform(view3)"
   ]
  },
  {
   "cell_type": "markdown",
   "metadata": {},
   "source": [
    "#### Dissimilaridade"
   ]
  },
  {
   "cell_type": "code",
   "execution_count": 16,
   "metadata": {},
   "outputs": [],
   "source": [
    "view1 = squareform(pdist(view1))\n",
    "view2 = squareform(pdist(view2))\n",
    "view3 = squareform(pdist(view3))"
   ]
  },
  {
   "cell_type": "code",
   "execution_count": 17,
   "metadata": {},
   "outputs": [
    {
     "data": {
      "text/html": [
       "<div>\n",
       "<style scoped>\n",
       "    .dataframe tbody tr th:only-of-type {\n",
       "        vertical-align: middle;\n",
       "    }\n",
       "\n",
       "    .dataframe tbody tr th {\n",
       "        vertical-align: top;\n",
       "    }\n",
       "\n",
       "    .dataframe thead th {\n",
       "        text-align: right;\n",
       "    }\n",
       "</style>\n",
       "<table border=\"1\" class=\"dataframe\">\n",
       "  <thead>\n",
       "    <tr style=\"text-align: right;\">\n",
       "      <th></th>\n",
       "      <th>0</th>\n",
       "      <th>1</th>\n",
       "      <th>2</th>\n",
       "      <th>3</th>\n",
       "      <th>4</th>\n",
       "      <th>5</th>\n",
       "      <th>6</th>\n",
       "      <th>7</th>\n",
       "      <th>8</th>\n",
       "      <th>9</th>\n",
       "      <th>...</th>\n",
       "      <th>1990</th>\n",
       "      <th>1991</th>\n",
       "      <th>1992</th>\n",
       "      <th>1993</th>\n",
       "      <th>1994</th>\n",
       "      <th>1995</th>\n",
       "      <th>1996</th>\n",
       "      <th>1997</th>\n",
       "      <th>1998</th>\n",
       "      <th>1999</th>\n",
       "    </tr>\n",
       "  </thead>\n",
       "  <tbody>\n",
       "    <tr>\n",
       "      <th>0</th>\n",
       "      <td>0.000000</td>\n",
       "      <td>1.725886</td>\n",
       "      <td>1.869928</td>\n",
       "      <td>1.759965</td>\n",
       "      <td>1.645997</td>\n",
       "      <td>3.301081</td>\n",
       "      <td>1.268244</td>\n",
       "      <td>1.252665</td>\n",
       "      <td>1.551345</td>\n",
       "      <td>1.625328</td>\n",
       "      <td>...</td>\n",
       "      <td>4.194407</td>\n",
       "      <td>4.087115</td>\n",
       "      <td>4.198332</td>\n",
       "      <td>3.317765</td>\n",
       "      <td>4.521834</td>\n",
       "      <td>4.160920</td>\n",
       "      <td>4.348320</td>\n",
       "      <td>4.040457</td>\n",
       "      <td>3.805022</td>\n",
       "      <td>4.600745</td>\n",
       "    </tr>\n",
       "    <tr>\n",
       "      <th>1</th>\n",
       "      <td>1.725886</td>\n",
       "      <td>0.000000</td>\n",
       "      <td>1.571679</td>\n",
       "      <td>1.553570</td>\n",
       "      <td>1.329155</td>\n",
       "      <td>2.576736</td>\n",
       "      <td>1.679099</td>\n",
       "      <td>1.690220</td>\n",
       "      <td>2.153856</td>\n",
       "      <td>1.446783</td>\n",
       "      <td>...</td>\n",
       "      <td>3.649613</td>\n",
       "      <td>4.005586</td>\n",
       "      <td>3.824178</td>\n",
       "      <td>2.858158</td>\n",
       "      <td>4.098826</td>\n",
       "      <td>3.738831</td>\n",
       "      <td>3.868827</td>\n",
       "      <td>3.680461</td>\n",
       "      <td>3.236586</td>\n",
       "      <td>4.153686</td>\n",
       "    </tr>\n",
       "    <tr>\n",
       "      <th>2</th>\n",
       "      <td>1.869928</td>\n",
       "      <td>1.571679</td>\n",
       "      <td>0.000000</td>\n",
       "      <td>1.616104</td>\n",
       "      <td>1.646691</td>\n",
       "      <td>2.997170</td>\n",
       "      <td>2.129503</td>\n",
       "      <td>1.786361</td>\n",
       "      <td>2.637528</td>\n",
       "      <td>1.718723</td>\n",
       "      <td>...</td>\n",
       "      <td>3.904762</td>\n",
       "      <td>4.261189</td>\n",
       "      <td>4.029427</td>\n",
       "      <td>3.178145</td>\n",
       "      <td>4.370217</td>\n",
       "      <td>3.881553</td>\n",
       "      <td>4.203490</td>\n",
       "      <td>3.969217</td>\n",
       "      <td>3.423565</td>\n",
       "      <td>4.545220</td>\n",
       "    </tr>\n",
       "    <tr>\n",
       "      <th>3</th>\n",
       "      <td>1.759965</td>\n",
       "      <td>1.553570</td>\n",
       "      <td>1.616104</td>\n",
       "      <td>0.000000</td>\n",
       "      <td>1.681033</td>\n",
       "      <td>2.566314</td>\n",
       "      <td>1.984997</td>\n",
       "      <td>1.875708</td>\n",
       "      <td>2.572424</td>\n",
       "      <td>1.562381</td>\n",
       "      <td>...</td>\n",
       "      <td>3.803966</td>\n",
       "      <td>3.697846</td>\n",
       "      <td>3.854261</td>\n",
       "      <td>3.028118</td>\n",
       "      <td>4.232098</td>\n",
       "      <td>3.829456</td>\n",
       "      <td>3.991010</td>\n",
       "      <td>3.741590</td>\n",
       "      <td>3.379092</td>\n",
       "      <td>4.255227</td>\n",
       "    </tr>\n",
       "    <tr>\n",
       "      <th>4</th>\n",
       "      <td>1.645997</td>\n",
       "      <td>1.329155</td>\n",
       "      <td>1.646691</td>\n",
       "      <td>1.681033</td>\n",
       "      <td>0.000000</td>\n",
       "      <td>2.575162</td>\n",
       "      <td>1.701834</td>\n",
       "      <td>1.178610</td>\n",
       "      <td>2.236434</td>\n",
       "      <td>1.753932</td>\n",
       "      <td>...</td>\n",
       "      <td>3.878807</td>\n",
       "      <td>3.960689</td>\n",
       "      <td>3.880548</td>\n",
       "      <td>3.077578</td>\n",
       "      <td>4.316539</td>\n",
       "      <td>3.782257</td>\n",
       "      <td>3.971378</td>\n",
       "      <td>3.692037</td>\n",
       "      <td>3.454330</td>\n",
       "      <td>4.287492</td>\n",
       "    </tr>\n",
       "    <tr>\n",
       "      <th>...</th>\n",
       "      <td>...</td>\n",
       "      <td>...</td>\n",
       "      <td>...</td>\n",
       "      <td>...</td>\n",
       "      <td>...</td>\n",
       "      <td>...</td>\n",
       "      <td>...</td>\n",
       "      <td>...</td>\n",
       "      <td>...</td>\n",
       "      <td>...</td>\n",
       "      <td>...</td>\n",
       "      <td>...</td>\n",
       "      <td>...</td>\n",
       "      <td>...</td>\n",
       "      <td>...</td>\n",
       "      <td>...</td>\n",
       "      <td>...</td>\n",
       "      <td>...</td>\n",
       "      <td>...</td>\n",
       "      <td>...</td>\n",
       "      <td>...</td>\n",
       "    </tr>\n",
       "    <tr>\n",
       "      <th>1995</th>\n",
       "      <td>4.160920</td>\n",
       "      <td>3.738831</td>\n",
       "      <td>3.881553</td>\n",
       "      <td>3.829456</td>\n",
       "      <td>3.782257</td>\n",
       "      <td>3.939873</td>\n",
       "      <td>4.068463</td>\n",
       "      <td>3.924021</td>\n",
       "      <td>4.365473</td>\n",
       "      <td>3.728196</td>\n",
       "      <td>...</td>\n",
       "      <td>1.847595</td>\n",
       "      <td>4.050167</td>\n",
       "      <td>1.923440</td>\n",
       "      <td>2.088153</td>\n",
       "      <td>2.312473</td>\n",
       "      <td>0.000000</td>\n",
       "      <td>2.483166</td>\n",
       "      <td>2.129954</td>\n",
       "      <td>1.753430</td>\n",
       "      <td>2.997773</td>\n",
       "    </tr>\n",
       "    <tr>\n",
       "      <th>1996</th>\n",
       "      <td>4.348320</td>\n",
       "      <td>3.868827</td>\n",
       "      <td>4.203490</td>\n",
       "      <td>3.991010</td>\n",
       "      <td>3.971378</td>\n",
       "      <td>3.896663</td>\n",
       "      <td>4.301339</td>\n",
       "      <td>3.989202</td>\n",
       "      <td>4.500203</td>\n",
       "      <td>4.133701</td>\n",
       "      <td>...</td>\n",
       "      <td>1.856652</td>\n",
       "      <td>3.985450</td>\n",
       "      <td>2.121931</td>\n",
       "      <td>3.049851</td>\n",
       "      <td>2.211533</td>\n",
       "      <td>2.483166</td>\n",
       "      <td>0.000000</td>\n",
       "      <td>2.970610</td>\n",
       "      <td>2.898650</td>\n",
       "      <td>2.449822</td>\n",
       "    </tr>\n",
       "    <tr>\n",
       "      <th>1997</th>\n",
       "      <td>4.040457</td>\n",
       "      <td>3.680461</td>\n",
       "      <td>3.969217</td>\n",
       "      <td>3.741590</td>\n",
       "      <td>3.692037</td>\n",
       "      <td>3.822823</td>\n",
       "      <td>3.928562</td>\n",
       "      <td>3.768974</td>\n",
       "      <td>4.235650</td>\n",
       "      <td>3.798585</td>\n",
       "      <td>...</td>\n",
       "      <td>2.293257</td>\n",
       "      <td>3.114244</td>\n",
       "      <td>2.025327</td>\n",
       "      <td>2.196002</td>\n",
       "      <td>3.061828</td>\n",
       "      <td>2.129954</td>\n",
       "      <td>2.970610</td>\n",
       "      <td>0.000000</td>\n",
       "      <td>1.899134</td>\n",
       "      <td>2.582854</td>\n",
       "    </tr>\n",
       "    <tr>\n",
       "      <th>1998</th>\n",
       "      <td>3.805022</td>\n",
       "      <td>3.236586</td>\n",
       "      <td>3.423565</td>\n",
       "      <td>3.379092</td>\n",
       "      <td>3.454330</td>\n",
       "      <td>3.690016</td>\n",
       "      <td>3.747376</td>\n",
       "      <td>3.657506</td>\n",
       "      <td>4.068222</td>\n",
       "      <td>3.488841</td>\n",
       "      <td>...</td>\n",
       "      <td>1.993954</td>\n",
       "      <td>3.864557</td>\n",
       "      <td>2.246586</td>\n",
       "      <td>1.766102</td>\n",
       "      <td>2.624392</td>\n",
       "      <td>1.753430</td>\n",
       "      <td>2.898650</td>\n",
       "      <td>1.899134</td>\n",
       "      <td>0.000000</td>\n",
       "      <td>3.206297</td>\n",
       "    </tr>\n",
       "    <tr>\n",
       "      <th>1999</th>\n",
       "      <td>4.600745</td>\n",
       "      <td>4.153686</td>\n",
       "      <td>4.545220</td>\n",
       "      <td>4.255227</td>\n",
       "      <td>4.287492</td>\n",
       "      <td>4.091462</td>\n",
       "      <td>4.542086</td>\n",
       "      <td>4.263704</td>\n",
       "      <td>4.732921</td>\n",
       "      <td>4.342655</td>\n",
       "      <td>...</td>\n",
       "      <td>2.405194</td>\n",
       "      <td>3.151466</td>\n",
       "      <td>2.101419</td>\n",
       "      <td>3.385778</td>\n",
       "      <td>3.162780</td>\n",
       "      <td>2.997773</td>\n",
       "      <td>2.449822</td>\n",
       "      <td>2.582854</td>\n",
       "      <td>3.206297</td>\n",
       "      <td>0.000000</td>\n",
       "    </tr>\n",
       "  </tbody>\n",
       "</table>\n",
       "<p>2000 rows × 2000 columns</p>\n",
       "</div>"
      ],
      "text/plain": [
       "          0         1         2         3         4         5         6     \\\n",
       "0     0.000000  1.725886  1.869928  1.759965  1.645997  3.301081  1.268244   \n",
       "1     1.725886  0.000000  1.571679  1.553570  1.329155  2.576736  1.679099   \n",
       "2     1.869928  1.571679  0.000000  1.616104  1.646691  2.997170  2.129503   \n",
       "3     1.759965  1.553570  1.616104  0.000000  1.681033  2.566314  1.984997   \n",
       "4     1.645997  1.329155  1.646691  1.681033  0.000000  2.575162  1.701834   \n",
       "...        ...       ...       ...       ...       ...       ...       ...   \n",
       "1995  4.160920  3.738831  3.881553  3.829456  3.782257  3.939873  4.068463   \n",
       "1996  4.348320  3.868827  4.203490  3.991010  3.971378  3.896663  4.301339   \n",
       "1997  4.040457  3.680461  3.969217  3.741590  3.692037  3.822823  3.928562   \n",
       "1998  3.805022  3.236586  3.423565  3.379092  3.454330  3.690016  3.747376   \n",
       "1999  4.600745  4.153686  4.545220  4.255227  4.287492  4.091462  4.542086   \n",
       "\n",
       "          7         8         9     ...      1990      1991      1992  \\\n",
       "0     1.252665  1.551345  1.625328  ...  4.194407  4.087115  4.198332   \n",
       "1     1.690220  2.153856  1.446783  ...  3.649613  4.005586  3.824178   \n",
       "2     1.786361  2.637528  1.718723  ...  3.904762  4.261189  4.029427   \n",
       "3     1.875708  2.572424  1.562381  ...  3.803966  3.697846  3.854261   \n",
       "4     1.178610  2.236434  1.753932  ...  3.878807  3.960689  3.880548   \n",
       "...        ...       ...       ...  ...       ...       ...       ...   \n",
       "1995  3.924021  4.365473  3.728196  ...  1.847595  4.050167  1.923440   \n",
       "1996  3.989202  4.500203  4.133701  ...  1.856652  3.985450  2.121931   \n",
       "1997  3.768974  4.235650  3.798585  ...  2.293257  3.114244  2.025327   \n",
       "1998  3.657506  4.068222  3.488841  ...  1.993954  3.864557  2.246586   \n",
       "1999  4.263704  4.732921  4.342655  ...  2.405194  3.151466  2.101419   \n",
       "\n",
       "          1993      1994      1995      1996      1997      1998      1999  \n",
       "0     3.317765  4.521834  4.160920  4.348320  4.040457  3.805022  4.600745  \n",
       "1     2.858158  4.098826  3.738831  3.868827  3.680461  3.236586  4.153686  \n",
       "2     3.178145  4.370217  3.881553  4.203490  3.969217  3.423565  4.545220  \n",
       "3     3.028118  4.232098  3.829456  3.991010  3.741590  3.379092  4.255227  \n",
       "4     3.077578  4.316539  3.782257  3.971378  3.692037  3.454330  4.287492  \n",
       "...        ...       ...       ...       ...       ...       ...       ...  \n",
       "1995  2.088153  2.312473  0.000000  2.483166  2.129954  1.753430  2.997773  \n",
       "1996  3.049851  2.211533  2.483166  0.000000  2.970610  2.898650  2.449822  \n",
       "1997  2.196002  3.061828  2.129954  2.970610  0.000000  1.899134  2.582854  \n",
       "1998  1.766102  2.624392  1.753430  2.898650  1.899134  0.000000  3.206297  \n",
       "1999  3.385778  3.162780  2.997773  2.449822  2.582854  3.206297  0.000000  \n",
       "\n",
       "[2000 rows x 2000 columns]"
      ]
     },
     "execution_count": 17,
     "metadata": {},
     "output_type": "execute_result"
    }
   ],
   "source": [
    "pd.DataFrame(view1)"
   ]
  },
  {
   "cell_type": "markdown",
   "metadata": {},
   "source": [
    "## Classificação"
   ]
  },
  {
   "cell_type": "code",
   "execution_count": 18,
   "metadata": {},
   "outputs": [],
   "source": [
    "from sklearn.naive_bayes import GaussianNB\n",
    "from sklearn.metrics import accuracy_score\n",
    "from sklearn.model_selection import train_test_split, KFold, StratifiedKFold\n",
    "from sklearn.base import clone"
   ]
  },
  {
   "cell_type": "markdown",
   "metadata": {},
   "source": [
    "### Separação dos dados"
   ]
  },
  {
   "cell_type": "code",
   "execution_count": 19,
   "metadata": {},
   "outputs": [],
   "source": [
    "train, test = train_test_split(y.index, stratify=y)"
   ]
  },
  {
   "cell_type": "code",
   "execution_count": 20,
   "metadata": {},
   "outputs": [],
   "source": [
    "y_train = y[train]\n",
    "y_test = y[test]"
   ]
  },
  {
   "cell_type": "code",
   "execution_count": 21,
   "metadata": {},
   "outputs": [
    {
     "data": {
      "text/plain": [
       "0    150\n",
       "1    150\n",
       "2    150\n",
       "3    150\n",
       "4    150\n",
       "5    150\n",
       "6    150\n",
       "7    150\n",
       "8    150\n",
       "9    150\n",
       "dtype: int64"
      ]
     },
     "execution_count": 21,
     "metadata": {},
     "output_type": "execute_result"
    }
   ],
   "source": [
    "y_train.value_counts().sort_index()"
   ]
  },
  {
   "cell_type": "code",
   "execution_count": 22,
   "metadata": {},
   "outputs": [],
   "source": [
    "view1_train = view1[train]\n",
    "view2_train = view2[train]\n",
    "view3_train = view3[train]\n",
    "\n",
    "view1_test = view1[test]\n",
    "view2_test = view2[test]\n",
    "view3_test = view3[test]"
   ]
  },
  {
   "cell_type": "code",
   "execution_count": 23,
   "metadata": {},
   "outputs": [],
   "source": [
    "nb_1 = GaussianNB()\n",
    "nb_2 = GaussianNB()\n",
    "nb_3 = GaussianNB()"
   ]
  },
  {
   "cell_type": "code",
   "execution_count": 24,
   "metadata": {},
   "outputs": [
    {
     "data": {
      "text/plain": [
       "GaussianNB()"
      ]
     },
     "execution_count": 24,
     "metadata": {},
     "output_type": "execute_result"
    }
   ],
   "source": [
    "nb_1.fit(view1_train, y_train)\n",
    "nb_2.fit(view2_train, y_train)\n",
    "nb_3.fit(view3_train, y_train)"
   ]
  },
  {
   "cell_type": "code",
   "execution_count": 25,
   "metadata": {},
   "outputs": [],
   "source": [
    "pred_1 = nb_1.predict_proba(view1_test)\n",
    "pred_2 = nb_2.predict_proba(view2_test)\n",
    "pred_3 = nb_3.predict_proba(view3_test)"
   ]
  },
  {
   "cell_type": "code",
   "execution_count": 26,
   "metadata": {},
   "outputs": [],
   "source": [
    "pred_sum = (pred_1 + pred_2 + pred_3)\n",
    "pred_classes = pred_sum.argmax(axis=1)"
   ]
  },
  {
   "cell_type": "code",
   "execution_count": 27,
   "metadata": {},
   "outputs": [
    {
     "name": "stdout",
     "output_type": "stream",
     "text": [
      "Acurácia: 0.906\n"
     ]
    }
   ],
   "source": [
    "### Utilizando a soma de todas as views\n",
    "print('Acurácia:', accuracy_score(y_test, pred_classes))"
   ]
  },
  {
   "cell_type": "code",
   "execution_count": 28,
   "metadata": {},
   "outputs": [
    {
     "name": "stdout",
     "output_type": "stream",
     "text": [
      "Acurácia por view:\n",
      "View 1: 0.882\n",
      "View 2: 0.648\n",
      "View 3: 0.844\n"
     ]
    }
   ],
   "source": [
    "### Utilizando classificadores e views individualmente\n",
    "print('Acurácia por view:')\n",
    "print('View 1:', accuracy_score(y_test, pred_1.argmax(axis=1)))\n",
    "print('View 2:', accuracy_score(y_test, pred_2.argmax(axis=1)))\n",
    "print('View 3:', accuracy_score(y_test, pred_3.argmax(axis=1)))"
   ]
  },
  {
   "cell_type": "markdown",
   "metadata": {},
   "source": [
    "#### Valicação cruzada"
   ]
  },
  {
   "cell_type": "code",
   "execution_count": 29,
   "metadata": {},
   "outputs": [],
   "source": [
    "def cross_val(model):\n",
    "    results = []\n",
    "    kfold = StratifiedKFold(n_splits=10, shuffle=True)\n",
    "    for train, test in kfold.split(y.index, y):\n",
    "        y_train = y[train]\n",
    "        y_test = y[test]\n",
    "\n",
    "        view1_train = view1[train]\n",
    "        view2_train = view2[train]\n",
    "        view3_train = view3[train]\n",
    "\n",
    "        view1_test = view1[test]\n",
    "        view2_test = view2[test]\n",
    "        view3_test = view3[test]\n",
    "        \n",
    "        clf1 = clone(model)\n",
    "        clf2 = clone(model)\n",
    "        clf3 = clone(model)\n",
    "        \n",
    "        clf1.fit(view1_train, y_train)\n",
    "        clf2.fit(view2_train, y_train)\n",
    "        clf3.fit(view3_train, y_train)\n",
    "        \n",
    "        pred_1 = clf1.predict_proba(view1_test)\n",
    "        pred_2 = clf2.predict_proba(view2_test)\n",
    "        pred_3 = clf3.predict_proba(view3_test)\n",
    "        \n",
    "        pred_sum = (pred_1 + pred_2 + pred_3)\n",
    "        pred_classes = pred_sum.argmax(axis=1)\n",
    "        \n",
    "        result = accuracy_score(y_test, pred_classes)\n",
    "        results.append(result)\n",
    "        \n",
    "    return results"
   ]
  },
  {
   "cell_type": "code",
   "execution_count": 30,
   "metadata": {},
   "outputs": [],
   "source": [
    "results_ = cross_val(GaussianNB())"
   ]
  },
  {
   "cell_type": "code",
   "execution_count": 31,
   "metadata": {},
   "outputs": [
    {
     "name": "stderr",
     "output_type": "stream",
     "text": [
      "100%|██████████| 30/30 [00:49<00:00,  1.66s/it]\n"
     ]
    }
   ],
   "source": [
    "results = []\n",
    "for i in tqdm(range(30)):\n",
    "    results_cross_val = cross_val(GaussianNB())\n",
    "#     results_cross_val = results_\n",
    "    results_cross_val_mean = np.mean(results_cross_val)\n",
    "    results.append(results_cross_val_mean)"
   ]
  },
  {
   "cell_type": "code",
   "execution_count": 32,
   "metadata": {},
   "outputs": [
    {
     "data": {
      "text/plain": [
       "[0.8969999999999999,\n",
       " 0.8939999999999999,\n",
       " 0.8969999999999999,\n",
       " 0.8960000000000001,\n",
       " 0.8945000000000001,\n",
       " 0.8939999999999999,\n",
       " 0.8945000000000002,\n",
       " 0.8950000000000001,\n",
       " 0.8945000000000001,\n",
       " 0.8934999999999998,\n",
       " 0.8939999999999999,\n",
       " 0.8960000000000001,\n",
       " 0.893,\n",
       " 0.8959999999999999,\n",
       " 0.8945000000000001,\n",
       " 0.8960000000000001,\n",
       " 0.8954999999999999,\n",
       " 0.897,\n",
       " 0.8960000000000001,\n",
       " 0.8954999999999999,\n",
       " 0.8945000000000001,\n",
       " 0.899,\n",
       " 0.893,\n",
       " 0.8955,\n",
       " 0.8949999999999999,\n",
       " 0.8960000000000001,\n",
       " 0.897,\n",
       " 0.8969999999999999,\n",
       " 0.8935000000000001,\n",
       " 0.8939999999999999]"
      ]
     },
     "execution_count": 32,
     "metadata": {},
     "output_type": "execute_result"
    }
   ],
   "source": [
    "results"
   ]
  },
  {
   "cell_type": "markdown",
   "metadata": {},
   "source": [
    "### k-NN"
   ]
  },
  {
   "cell_type": "code",
   "execution_count": 46,
   "metadata": {},
   "outputs": [],
   "source": [
    "from sklearn.neighbors import KNeighborsClassifier"
   ]
  },
  {
   "cell_type": "code",
   "execution_count": 49,
   "metadata": {},
   "outputs": [
    {
     "data": {
      "text/plain": [
       "KNeighborsClassifier()"
      ]
     },
     "execution_count": 49,
     "metadata": {},
     "output_type": "execute_result"
    }
   ],
   "source": [
    "knn = KNeighborsClassifier(n_neighbors=5)\n",
    "knn.fit(view1_train, y_train)\n",
    "knn"
   ]
  },
  {
   "cell_type": "code",
   "execution_count": 51,
   "metadata": {},
   "outputs": [],
   "source": [
    "pred = knn.predict_proba(view1_test)"
   ]
  },
  {
   "cell_type": "code",
   "execution_count": 66,
   "metadata": {},
   "outputs": [],
   "source": [
    "neigh_dist, neigh_ind = knn.kneighbors(view1_test[:2], 5)"
   ]
  },
  {
   "cell_type": "code",
   "execution_count": 78,
   "metadata": {},
   "outputs": [
    {
     "data": {
      "text/plain": [
       "array([0. , 0.8, 0. , 0. , 0. , 0. , 0. , 0. , 0. , 0.2])"
      ]
     },
     "execution_count": 78,
     "metadata": {},
     "output_type": "execute_result"
    }
   ],
   "source": [
    "pred[0]"
   ]
  },
  {
   "cell_type": "code",
   "execution_count": 77,
   "metadata": {},
   "outputs": [
    {
     "data": {
      "text/plain": [
       "253     1\n",
       "219     1\n",
       "293     1\n",
       "1915    9\n",
       "327     1\n",
       "dtype: int64"
      ]
     },
     "execution_count": 77,
     "metadata": {},
     "output_type": "execute_result"
    }
   ],
   "source": [
    "y_train.iloc[neigh_ind[0]]"
   ]
  },
  {
   "cell_type": "code",
   "execution_count": 609,
   "metadata": {},
   "outputs": [
    {
     "data": {
      "text/plain": [
       "1    0.8\n",
       "9    0.2\n",
       "dtype: float64"
      ]
     },
     "execution_count": 609,
     "metadata": {},
     "output_type": "execute_result"
    }
   ],
   "source": [
    "y_train.iloc[neigh_ind[0]].value_counts(normalize=True)"
   ]
  },
  {
   "cell_type": "markdown",
   "metadata": {},
   "source": [
    "### Parzen Window"
   ]
  },
  {
   "cell_type": "code",
   "execution_count": 97,
   "metadata": {},
   "outputs": [],
   "source": [
    "from sklearn.neighbors import KernelDensity\n",
    "from scipy.stats import gaussian_kde"
   ]
  },
  {
   "cell_type": "code",
   "execution_count": 622,
   "metadata": {},
   "outputs": [],
   "source": [
    "kde = KernelDensity(kernel='gaussian', bandwidth=2)"
   ]
  },
  {
   "cell_type": "code",
   "execution_count": 536,
   "metadata": {},
   "outputs": [],
   "source": [
    "values = view1_train[0].reshape(view1_train.shape[1], 1)"
   ]
  },
  {
   "cell_type": "code",
   "execution_count": 623,
   "metadata": {},
   "outputs": [],
   "source": [
    "kde.fit(values, y_train)\n",
    "scores = kde.score_samples(values)\n",
    "scores = np.exp(scores)"
   ]
  },
  {
   "cell_type": "code",
   "execution_count": 542,
   "metadata": {},
   "outputs": [
    {
     "data": {
      "text/plain": [
       "<matplotlib.axes._subplots.AxesSubplot at 0x7f510233ce50>"
      ]
     },
     "execution_count": 542,
     "metadata": {},
     "output_type": "execute_result"
    },
    {
     "data": {
      "image/png": "[encoded data removed]",
      "text/plain": [
       "<Figure size 432x288 with 1 Axes>"
      ]
     },
     "metadata": {
      "needs_background": "light"
     },
     "output_type": "display_data"
    }
   ],
   "source": [
    "pd.DataFrame([values[:,0], scores]).T.plot(x=0, y=1)"
   ]
  },
  {
   "cell_type": "code",
   "execution_count": 543,
   "metadata": {},
   "outputs": [
    {
     "data": {
      "text/plain": [
       "<matplotlib.axes._subplots.AxesSubplot at 0x7f51022361d0>"
      ]
     },
     "execution_count": 543,
     "metadata": {},
     "output_type": "execute_result"
    },
    {
     "data": {
      "image/png": "[encoded data removed]",
      "text/plain": [
       "<Figure size 432x288 with 1 Axes>"
      ]
     },
     "metadata": {
      "needs_background": "light"
     },
     "output_type": "display_data"
    }
   ],
   "source": [
    "pd.Series(values[:, 0]).hist()"
   ]
  },
  {
   "cell_type": "markdown",
   "metadata": {},
   "source": [
    "#### Implementação da predição com janela de parzen"
   ]
  },
  {
   "cell_type": "code",
   "execution_count": 544,
   "metadata": {},
   "outputs": [],
   "source": [
    "classes = y.unique()\n",
    "y_train_aux = y_train.reset_index(drop=True)\n",
    "training_sets_classes = [view1_train[y_train_aux[y_train_aux == clasess[c]].index] for c in classes]"
   ]
  },
  {
   "cell_type": "code",
   "execution_count": 509,
   "metadata": {},
   "outputs": [],
   "source": [
    "h = 1"
   ]
  },
  {
   "cell_type": "code",
   "execution_count": 511,
   "metadata": {},
   "outputs": [],
   "source": [
    "log_prioris = np.log(y_train_aux.value_counts(normalize=True).sort_index()).to_list()"
   ]
  },
  {
   "cell_type": "code",
   "execution_count": 549,
   "metadata": {},
   "outputs": [],
   "source": [
    "c = 0\n",
    "rows, cols = training_sets_classes[c].shape\n",
    "kernels = dict()\n",
    "\n",
    "for c in classes:\n",
    "    kernels['class_' + str(c)] = None\n",
    "    kernels_class = []\n",
    "    count = 0\n",
    "    for col in range(cols):\n",
    "        train_class_col = training_sets_classes[c][:, col]\n",
    "\n",
    "        kde = KernelDensity(bandwidth=h, kernel='gaussian')\n",
    "        kde.fit(train_class_col.reshape(len(train_class_col), 1))\n",
    "\n",
    "        kernels_class.append(kde)\n",
    "        count += 1\n",
    "        kernels['class_' + str(c)] = kernels_class"
   ]
  },
  {
   "cell_type": "code",
   "execution_count": 620,
   "metadata": {},
   "outputs": [
    {
     "name": "stderr",
     "output_type": "stream",
     "text": [
      "100%|██████████| 10/10 [00:26<00:00,  2.69s/it]\n"
     ]
    }
   ],
   "source": [
    "kernels_class = kernels['class_3']\n",
    "\n",
    "\n",
    "probs = []\n",
    "\n",
    "for target in tqdm(clasess):\n",
    "    kernels_class = kernels['class_' + str(target)]\n",
    "    score_classes = []\n",
    "    \n",
    "    for col, kernel in enumerate(kernels_class):\n",
    "        train_class_col = training_sets_classes[0][:, col]\n",
    "        scores = kernel.score_samples(train_class_col.reshape(len(train_class_col), 1))\n",
    "        scores = np.exp(scores)\n",
    "        score_classes.append(scores)\n",
    "        \n",
    "    score_classes = np.array(score_classes)\n",
    "    scores_prod = score_classes.prod(axis=0)\n",
    "    scores_sum = scores_prod.sum()\n",
    "    \n",
    "#     (1/train_class_col.shape[0]) * (1/h**2000) * scores_sum\n",
    "    \n",
    "    probs.append(scores_sum)"
   ]
  },
  {
   "cell_type": "code",
   "execution_count": 621,
   "metadata": {},
   "outputs": [
    {
     "data": {
      "text/plain": [
       "[0.0, 0.0, 0.0, 0.0, 0.0, 0.0, 0.0, 0.0, 0.0, 0.0]"
      ]
     },
     "execution_count": 621,
     "metadata": {},
     "output_type": "execute_result"
    }
   ],
   "source": [
    "probs"
   ]
  },
  {
   "cell_type": "code",
   "execution_count": 612,
   "metadata": {},
   "outputs": [],
   "source": [
    "scores_prod = score_classes.prod(axis=0)\n",
    "scores_sum = scores_prod.sum()"
   ]
  },
  {
   "cell_type": "code",
   "execution_count": 444,
   "metadata": {},
   "outputs": [],
   "source": [
    "from statsmodels.nonparametric.kernel_density import KDEMultivariate"
   ]
  },
  {
   "cell_type": "code",
   "execution_count": 464,
   "metadata": {},
   "outputs": [
    {
     "ename": "ValueError",
     "evalue": "The number of observations must be larger than the number of variables.",
     "output_type": "error",
     "traceback": [
      "\u001b[0;31m---------------------------------------------------------------------------\u001b[0m",
      "\u001b[0;31mValueError\u001b[0m                                Traceback (most recent call last)",
      "\u001b[0;32m<ipython-input-464-e6253fbc6b80>\u001b[0m in \u001b[0;36m<module>\u001b[0;34m\u001b[0m\n\u001b[0;32m----> 1\u001b[0;31m \u001b[0mkde\u001b[0m \u001b[0;34m=\u001b[0m \u001b[0mKDEMultivariate\u001b[0m\u001b[0;34m(\u001b[0m\u001b[0mtraining_sets_classes\u001b[0m\u001b[0;34m[\u001b[0m\u001b[0;36m0\u001b[0m\u001b[0;34m]\u001b[0m\u001b[0;34m,\u001b[0m \u001b[0mvar_type\u001b[0m\u001b[0;34m=\u001b[0m\u001b[0;34m'c'\u001b[0m\u001b[0;34m*\u001b[0m\u001b[0;36m2000\u001b[0m\u001b[0;34m,\u001b[0m \u001b[0mbw\u001b[0m\u001b[0;34m=\u001b[0m\u001b[0;36m2\u001b[0m\u001b[0;34m)\u001b[0m\u001b[0;34m\u001b[0m\u001b[0;34m\u001b[0m\u001b[0m\n\u001b[0m",
      "\u001b[0;32m~/anaconda3/lib/python3.7/site-packages/statsmodels/nonparametric/kernel_density.py\u001b[0m in \u001b[0;36m__init__\u001b[0;34m(self, data, var_type, bw, defaults)\u001b[0m\n\u001b[1;32m    106\u001b[0m         \u001b[0mself\u001b[0m\u001b[0;34m.\u001b[0m\u001b[0mnobs\u001b[0m\u001b[0;34m,\u001b[0m \u001b[0mself\u001b[0m\u001b[0;34m.\u001b[0m\u001b[0mk_vars\u001b[0m \u001b[0;34m=\u001b[0m \u001b[0mnp\u001b[0m\u001b[0;34m.\u001b[0m\u001b[0mshape\u001b[0m\u001b[0;34m(\u001b[0m\u001b[0mself\u001b[0m\u001b[0;34m.\u001b[0m\u001b[0mdata\u001b[0m\u001b[0;34m)\u001b[0m\u001b[0;34m\u001b[0m\u001b[0;34m\u001b[0m\u001b[0m\n\u001b[1;32m    107\u001b[0m         \u001b[0;32mif\u001b[0m \u001b[0mself\u001b[0m\u001b[0;34m.\u001b[0m\u001b[0mnobs\u001b[0m \u001b[0;34m<=\u001b[0m \u001b[0mself\u001b[0m\u001b[0;34m.\u001b[0m\u001b[0mk_vars\u001b[0m\u001b[0;34m:\u001b[0m\u001b[0;34m\u001b[0m\u001b[0;34m\u001b[0m\u001b[0m\n\u001b[0;32m--> 108\u001b[0;31m             raise ValueError(\"The number of observations must be larger \" \\\n\u001b[0m\u001b[1;32m    109\u001b[0m                              \"than the number of variables.\")\n\u001b[1;32m    110\u001b[0m         \u001b[0mdefaults\u001b[0m \u001b[0;34m=\u001b[0m \u001b[0mEstimatorSettings\u001b[0m\u001b[0;34m(\u001b[0m\u001b[0;34m)\u001b[0m \u001b[0;32mif\u001b[0m \u001b[0mdefaults\u001b[0m \u001b[0;32mis\u001b[0m \u001b[0;32mNone\u001b[0m \u001b[0;32melse\u001b[0m \u001b[0mdefaults\u001b[0m\u001b[0;34m\u001b[0m\u001b[0;34m\u001b[0m\u001b[0m\n",
      "\u001b[0;31mValueError\u001b[0m: The number of observations must be larger than the number of variables."
     ]
    }
   ],
   "source": [
    "kde = KDEMultivariate(training_sets_classes[0], var_type='c'*2000, bw=2)"
   ]
  },
  {
   "cell_type": "markdown",
   "metadata": {},
   "source": [
    "### Intervalo de confiança"
   ]
  },
  {
   "cell_type": "code",
   "execution_count": 33,
   "metadata": {},
   "outputs": [],
   "source": [
    "def normality_test(sample, sample_name):\n",
    "    stat, p = stats.shapiro(sample)\n",
    "    alpha = 0.05\n",
    "    if p > alpha:\n",
    "        print(sample_name + ': segue a distribuição normal (falha em rejeitar H0)')\n",
    "    else:\n",
    "        print(sample_name + ' Não segue a distribuição normal (rejeita H0)')"
   ]
  },
  {
   "cell_type": "code",
   "execution_count": 34,
   "metadata": {},
   "outputs": [
    {
     "name": "stdout",
     "output_type": "stream",
     "text": [
      "Resultado 1 (NB): segue a distribuição normal (falha em rejeitar H0)\n"
     ]
    }
   ],
   "source": [
    "normality_test(results, 'Resultado 1 (NB)')"
   ]
  },
  {
   "cell_type": "code",
   "execution_count": 35,
   "metadata": {},
   "outputs": [
    {
     "name": "stdout",
     "output_type": "stream",
     "text": [
      "Estimativa pontual: 0.8952666666666665\n",
      "Intervalo de confiaça: (0.894736924067777, 0.895796409265556)\n",
      "Confiança de 95%\n"
     ]
    }
   ],
   "source": [
    "confidence_level = 0.95\n",
    "degrees_freedom = len(results) - 1\n",
    "sample_mean = np.mean(results)\n",
    "sample_standard_error = stats.sem(results)\n",
    "\n",
    "confidence_interval = stats.t.interval(confidence_level, degrees_freedom, sample_mean, sample_standard_error)\n",
    "\n",
    "print('Estimativa pontual:', sample_mean)\n",
    "print('Intervalo de confiaça:', confidence_interval)\n",
    "print('Confiança de {}%'.format(int(confidence_level*100)))"
   ]
  },
  {
   "cell_type": "markdown",
   "metadata": {},
   "source": [
    "### Friedman test"
   ]
  },
  {
   "cell_type": "code",
   "execution_count": 36,
   "metadata": {},
   "outputs": [],
   "source": [
    "results_1 = np.array(results)"
   ]
  },
  {
   "cell_type": "code",
   "execution_count": 37,
   "metadata": {},
   "outputs": [],
   "source": [
    "### Simulação de resultados diferentes. Será substituído pelos resultados obtidos com os modelos II e III\n",
    "results_2 = np.array(results_1)\n",
    "results_3 = np.array(results_1)"
   ]
  },
  {
   "cell_type": "code",
   "execution_count": 38,
   "metadata": {},
   "outputs": [],
   "source": [
    "results_2[-1] = results_2[-1] + 0.0012\n",
    "results_2[0] = results_2[0] - 0.0014\n",
    "\n",
    "results_3[-2] = results_3[-2] + 0.0021\n",
    "results_3[-2] = results_3[2] - 0.0012"
   ]
  },
  {
   "cell_type": "code",
   "execution_count": 39,
   "metadata": {},
   "outputs": [],
   "source": [
    "stat, p = stats.friedmanchisquare(results_1, results_2, results_3)"
   ]
  },
  {
   "cell_type": "code",
   "execution_count": 40,
   "metadata": {},
   "outputs": [
    {
     "name": "stdout",
     "output_type": "stream",
     "text": [
      "Statistics=0.667, p=0.717\n",
      "Distribuições iguais (falha em rejeitar H0)\n"
     ]
    }
   ],
   "source": [
    "print('Statistics=%.3f, p=%.3f' % (stat, p))\n",
    "alpha = 0.05\n",
    "if p > alpha:\n",
    "    print('Distribuições iguais (falha em rejeitar H0)')\n",
    "else:\n",
    "    print('Distribuições diferentes (rejeita H0)')"
   ]
  },
  {
   "cell_type": "markdown",
   "metadata": {},
   "source": [
    "### Regra da soma"
   ]
  },
  {
   "cell_type": "code",
   "execution_count": 41,
   "metadata": {},
   "outputs": [],
   "source": [
    "def fit(estimators, X, y):\n",
    "    for estimator in estimators:\n",
    "        estimator.fit(X, y)"
   ]
  },
  {
   "cell_type": "code",
   "execution_count": 42,
   "metadata": {},
   "outputs": [],
   "source": [
    "def predict(estimators, X):\n",
    "    predictions = []\n",
    "    for estimator in estimators:\n",
    "        pred = estimator.predict_proba(X)\n",
    "        predictions.append(pred)\n",
    "        \n",
    "    predictions = np.array(predictions)\n",
    "    \n",
    "    predictions = np.sum(predictions, axis=0)\n",
    "    \n",
    "    predictions = np.argmax(predictions, axis=1)\n",
    "    \n",
    "    return predictions"
   ]
  },
  {
   "cell_type": "code",
   "execution_count": 43,
   "metadata": {},
   "outputs": [],
   "source": [
    "nb_1 = GaussianNB()\n",
    "nb_2 = GaussianNB()\n",
    "nb_3 = GaussianNB()"
   ]
  },
  {
   "cell_type": "code",
   "execution_count": 44,
   "metadata": {},
   "outputs": [],
   "source": [
    "estimators = [nb_1, nb_2, nb_3]\n",
    "fit(estimators, view1_train, y_train)"
   ]
  },
  {
   "cell_type": "code",
   "execution_count": 45,
   "metadata": {},
   "outputs": [],
   "source": [
    "pred = predict(estimators, view1_test)"
   ]
  }
 ],
 "metadata": {
  "kernelspec": {
   "display_name": "Python 3",
   "language": "python",
   "name": "python3"
  },
  "language_info": {
   "codemirror_mode": {
    "name": "ipython",
    "version": 3
   },
   "file_extension": ".py",
   "mimetype": "text/x-python",
   "name": "python",
   "nbconvert_exporter": "python",
   "pygments_lexer": "ipython3",
   "version": "3.7.6"
  }
 },
 "nbformat": 4,
 "nbformat_minor": 4
}
