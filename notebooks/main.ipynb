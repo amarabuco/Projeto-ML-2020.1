{
 "cells": [
  {
   "cell_type": "markdown",
   "metadata": {},
   "source": [
    "# Projeto de Aprendizagem de Máquina"
   ]
  },
  {
   "cell_type": "markdown",
   "metadata": {},
   "source": [
    "## *Partitioning fuzzy K-medoids clustering algorithms with relevance weight for each dissimilarity matrix estimated locally*"
   ]
  },
  {
   "cell_type": "code",
   "execution_count": 189,
   "metadata": {},
   "outputs": [],
   "source": [
    "import pandas as pd\n",
    "import numpy as np\n",
    "import os\n",
    "from tqdm import tqdm\n",
    "\n",
    "from scipy.spatial.distance import pdist, squareform\n",
    "\n",
    "from sklearn.preprocessing import MinMaxScaler\n",
    "from scipy import stats\n",
    "\n",
    "from sklearn.naive_bayes import GaussianNB\n",
    "from sklearn.neighbors import KNeighborsClassifier\n",
    "from sklearn.metrics import accuracy_score\n",
    "from sklearn.model_selection import train_test_split, KFold, StratifiedKFold\n",
    "from sklearn.base import clone\n",
    "\n",
    "from sklearn.neighbors import KernelDensity\n",
    "from scipy.stats import gaussian_kde\n",
    "from sklearn.base import BaseEstimator, ClassifierMixin\n",
    "\n",
    "\n",
    "import matplotlib.pyplot as plt"
   ]
  },
  {
   "cell_type": "markdown",
   "metadata": {},
   "source": [
    "### Leitura dos dados"
   ]
  },
  {
   "cell_type": "code",
   "execution_count": 2,
   "metadata": {},
   "outputs": [],
   "source": [
    "PATH = '../data/'"
   ]
  },
  {
   "cell_type": "code",
   "execution_count": 3,
   "metadata": {},
   "outputs": [],
   "source": [
    "view1 = pd.read_csv(os.path.join(PATH, 'mfeat-fac'), sep='\\s+', header=None)\n",
    "view2 = pd.read_csv(os.path.join(PATH, 'mfeat-fou'), sep='\\s+',  header=None)\n",
    "view3 = pd.read_csv(os.path.join(PATH, 'mfeat-kar'), sep='\\s+',  header=None)"
   ]
  },
  {
   "cell_type": "markdown",
   "metadata": {},
   "source": [
    "#### View 1"
   ]
  },
  {
   "cell_type": "code",
   "execution_count": 4,
   "metadata": {},
   "outputs": [
    {
     "name": "stdout",
     "output_type": "stream",
     "text": [
      "(2000, 216)\n"
     ]
    },
    {
     "data": {
      "text/html": [
       "<div>\n",
       "<style scoped>\n",
       "    .dataframe tbody tr th:only-of-type {\n",
       "        vertical-align: middle;\n",
       "    }\n",
       "\n",
       "    .dataframe tbody tr th {\n",
       "        vertical-align: top;\n",
       "    }\n",
       "\n",
       "    .dataframe thead th {\n",
       "        text-align: right;\n",
       "    }\n",
       "</style>\n",
       "<table border=\"1\" class=\"dataframe\">\n",
       "  <thead>\n",
       "    <tr style=\"text-align: right;\">\n",
       "      <th></th>\n",
       "      <th>0</th>\n",
       "      <th>1</th>\n",
       "      <th>2</th>\n",
       "      <th>3</th>\n",
       "      <th>4</th>\n",
       "      <th>5</th>\n",
       "      <th>6</th>\n",
       "      <th>7</th>\n",
       "      <th>8</th>\n",
       "      <th>9</th>\n",
       "      <th>...</th>\n",
       "      <th>206</th>\n",
       "      <th>207</th>\n",
       "      <th>208</th>\n",
       "      <th>209</th>\n",
       "      <th>210</th>\n",
       "      <th>211</th>\n",
       "      <th>212</th>\n",
       "      <th>213</th>\n",
       "      <th>214</th>\n",
       "      <th>215</th>\n",
       "    </tr>\n",
       "  </thead>\n",
       "  <tbody>\n",
       "    <tr>\n",
       "      <th>0</th>\n",
       "      <td>98</td>\n",
       "      <td>236</td>\n",
       "      <td>531</td>\n",
       "      <td>673</td>\n",
       "      <td>607</td>\n",
       "      <td>647</td>\n",
       "      <td>2</td>\n",
       "      <td>9</td>\n",
       "      <td>3</td>\n",
       "      <td>6</td>\n",
       "      <td>...</td>\n",
       "      <td>474</td>\n",
       "      <td>536</td>\n",
       "      <td>628</td>\n",
       "      <td>632</td>\n",
       "      <td>18</td>\n",
       "      <td>36</td>\n",
       "      <td>8</td>\n",
       "      <td>15</td>\n",
       "      <td>12</td>\n",
       "      <td>13</td>\n",
       "    </tr>\n",
       "    <tr>\n",
       "      <th>1</th>\n",
       "      <td>121</td>\n",
       "      <td>193</td>\n",
       "      <td>607</td>\n",
       "      <td>611</td>\n",
       "      <td>585</td>\n",
       "      <td>665</td>\n",
       "      <td>7</td>\n",
       "      <td>9</td>\n",
       "      <td>2</td>\n",
       "      <td>4</td>\n",
       "      <td>...</td>\n",
       "      <td>520</td>\n",
       "      <td>458</td>\n",
       "      <td>570</td>\n",
       "      <td>634</td>\n",
       "      <td>15</td>\n",
       "      <td>32</td>\n",
       "      <td>11</td>\n",
       "      <td>13</td>\n",
       "      <td>15</td>\n",
       "      <td>11</td>\n",
       "    </tr>\n",
       "    <tr>\n",
       "      <th>2</th>\n",
       "      <td>115</td>\n",
       "      <td>141</td>\n",
       "      <td>590</td>\n",
       "      <td>605</td>\n",
       "      <td>557</td>\n",
       "      <td>627</td>\n",
       "      <td>12</td>\n",
       "      <td>6</td>\n",
       "      <td>3</td>\n",
       "      <td>3</td>\n",
       "      <td>...</td>\n",
       "      <td>535</td>\n",
       "      <td>498</td>\n",
       "      <td>572</td>\n",
       "      <td>656</td>\n",
       "      <td>20</td>\n",
       "      <td>35</td>\n",
       "      <td>16</td>\n",
       "      <td>14</td>\n",
       "      <td>13</td>\n",
       "      <td>6</td>\n",
       "    </tr>\n",
       "    <tr>\n",
       "      <th>3</th>\n",
       "      <td>90</td>\n",
       "      <td>122</td>\n",
       "      <td>627</td>\n",
       "      <td>692</td>\n",
       "      <td>607</td>\n",
       "      <td>642</td>\n",
       "      <td>0</td>\n",
       "      <td>6</td>\n",
       "      <td>4</td>\n",
       "      <td>5</td>\n",
       "      <td>...</td>\n",
       "      <td>576</td>\n",
       "      <td>549</td>\n",
       "      <td>628</td>\n",
       "      <td>621</td>\n",
       "      <td>16</td>\n",
       "      <td>35</td>\n",
       "      <td>7</td>\n",
       "      <td>12</td>\n",
       "      <td>15</td>\n",
       "      <td>9</td>\n",
       "    </tr>\n",
       "    <tr>\n",
       "      <th>4</th>\n",
       "      <td>157</td>\n",
       "      <td>167</td>\n",
       "      <td>681</td>\n",
       "      <td>666</td>\n",
       "      <td>587</td>\n",
       "      <td>666</td>\n",
       "      <td>8</td>\n",
       "      <td>6</td>\n",
       "      <td>1</td>\n",
       "      <td>4</td>\n",
       "      <td>...</td>\n",
       "      <td>594</td>\n",
       "      <td>525</td>\n",
       "      <td>568</td>\n",
       "      <td>653</td>\n",
       "      <td>16</td>\n",
       "      <td>35</td>\n",
       "      <td>10</td>\n",
       "      <td>15</td>\n",
       "      <td>13</td>\n",
       "      <td>13</td>\n",
       "    </tr>\n",
       "  </tbody>\n",
       "</table>\n",
       "<p>5 rows × 216 columns</p>\n",
       "</div>"
      ],
      "text/plain": [
       "   0    1    2    3    4    5    6    7    8    9    ...  206  207  208  209  \\\n",
       "0   98  236  531  673  607  647    2    9    3    6  ...  474  536  628  632   \n",
       "1  121  193  607  611  585  665    7    9    2    4  ...  520  458  570  634   \n",
       "2  115  141  590  605  557  627   12    6    3    3  ...  535  498  572  656   \n",
       "3   90  122  627  692  607  642    0    6    4    5  ...  576  549  628  621   \n",
       "4  157  167  681  666  587  666    8    6    1    4  ...  594  525  568  653   \n",
       "\n",
       "   210  211  212  213  214  215  \n",
       "0   18   36    8   15   12   13  \n",
       "1   15   32   11   13   15   11  \n",
       "2   20   35   16   14   13    6  \n",
       "3   16   35    7   12   15    9  \n",
       "4   16   35   10   15   13   13  \n",
       "\n",
       "[5 rows x 216 columns]"
      ]
     },
     "execution_count": 4,
     "metadata": {},
     "output_type": "execute_result"
    }
   ],
   "source": [
    "print(view1.shape)\n",
    "view1.head()"
   ]
  },
  {
   "cell_type": "code",
   "execution_count": 5,
   "metadata": {},
   "outputs": [
    {
     "data": {
      "text/html": [
       "<div>\n",
       "<style scoped>\n",
       "    .dataframe tbody tr th:only-of-type {\n",
       "        vertical-align: middle;\n",
       "    }\n",
       "\n",
       "    .dataframe tbody tr th {\n",
       "        vertical-align: top;\n",
       "    }\n",
       "\n",
       "    .dataframe thead th {\n",
       "        text-align: right;\n",
       "    }\n",
       "</style>\n",
       "<table border=\"1\" class=\"dataframe\">\n",
       "  <thead>\n",
       "    <tr style=\"text-align: right;\">\n",
       "      <th></th>\n",
       "      <th>count</th>\n",
       "      <th>mean</th>\n",
       "      <th>std</th>\n",
       "      <th>min</th>\n",
       "      <th>25%</th>\n",
       "      <th>50%</th>\n",
       "      <th>75%</th>\n",
       "      <th>max</th>\n",
       "    </tr>\n",
       "  </thead>\n",
       "  <tbody>\n",
       "    <tr>\n",
       "      <th>0</th>\n",
       "      <td>2000.0</td>\n",
       "      <td>272.0515</td>\n",
       "      <td>91.275454</td>\n",
       "      <td>67.0</td>\n",
       "      <td>208.00</td>\n",
       "      <td>274.5</td>\n",
       "      <td>338.0</td>\n",
       "      <td>515.0</td>\n",
       "    </tr>\n",
       "    <tr>\n",
       "      <th>1</th>\n",
       "      <td>2000.0</td>\n",
       "      <td>322.7255</td>\n",
       "      <td>109.426588</td>\n",
       "      <td>81.0</td>\n",
       "      <td>247.00</td>\n",
       "      <td>324.0</td>\n",
       "      <td>406.0</td>\n",
       "      <td>565.0</td>\n",
       "    </tr>\n",
       "    <tr>\n",
       "      <th>2</th>\n",
       "      <td>2000.0</td>\n",
       "      <td>774.8245</td>\n",
       "      <td>140.141570</td>\n",
       "      <td>500.0</td>\n",
       "      <td>656.75</td>\n",
       "      <td>766.0</td>\n",
       "      <td>879.0</td>\n",
       "      <td>1264.0</td>\n",
       "    </tr>\n",
       "    <tr>\n",
       "      <th>3</th>\n",
       "      <td>2000.0</td>\n",
       "      <td>754.3390</td>\n",
       "      <td>109.173768</td>\n",
       "      <td>543.0</td>\n",
       "      <td>667.00</td>\n",
       "      <td>736.0</td>\n",
       "      <td>830.0</td>\n",
       "      <td>1134.0</td>\n",
       "    </tr>\n",
       "    <tr>\n",
       "      <th>4</th>\n",
       "      <td>2000.0</td>\n",
       "      <td>640.4605</td>\n",
       "      <td>48.940117</td>\n",
       "      <td>437.0</td>\n",
       "      <td>607.00</td>\n",
       "      <td>636.5</td>\n",
       "      <td>667.0</td>\n",
       "      <td>823.0</td>\n",
       "    </tr>\n",
       "    <tr>\n",
       "      <th>...</th>\n",
       "      <td>...</td>\n",
       "      <td>...</td>\n",
       "      <td>...</td>\n",
       "      <td>...</td>\n",
       "      <td>...</td>\n",
       "      <td>...</td>\n",
       "      <td>...</td>\n",
       "      <td>...</td>\n",
       "    </tr>\n",
       "    <tr>\n",
       "      <th>211</th>\n",
       "      <td>2000.0</td>\n",
       "      <td>21.5840</td>\n",
       "      <td>7.982343</td>\n",
       "      <td>1.0</td>\n",
       "      <td>16.00</td>\n",
       "      <td>23.0</td>\n",
       "      <td>27.0</td>\n",
       "      <td>38.0</td>\n",
       "    </tr>\n",
       "    <tr>\n",
       "      <th>212</th>\n",
       "      <td>2000.0</td>\n",
       "      <td>17.6120</td>\n",
       "      <td>5.884451</td>\n",
       "      <td>1.0</td>\n",
       "      <td>13.00</td>\n",
       "      <td>18.0</td>\n",
       "      <td>21.0</td>\n",
       "      <td>36.0</td>\n",
       "    </tr>\n",
       "    <tr>\n",
       "      <th>213</th>\n",
       "      <td>2000.0</td>\n",
       "      <td>11.9680</td>\n",
       "      <td>2.579788</td>\n",
       "      <td>4.0</td>\n",
       "      <td>10.00</td>\n",
       "      <td>12.0</td>\n",
       "      <td>14.0</td>\n",
       "      <td>18.0</td>\n",
       "    </tr>\n",
       "    <tr>\n",
       "      <th>214</th>\n",
       "      <td>2000.0</td>\n",
       "      <td>13.7045</td>\n",
       "      <td>1.985485</td>\n",
       "      <td>5.0</td>\n",
       "      <td>12.00</td>\n",
       "      <td>14.0</td>\n",
       "      <td>15.0</td>\n",
       "      <td>19.0</td>\n",
       "    </tr>\n",
       "    <tr>\n",
       "      <th>215</th>\n",
       "      <td>2000.0</td>\n",
       "      <td>13.4525</td>\n",
       "      <td>4.637186</td>\n",
       "      <td>0.0</td>\n",
       "      <td>11.00</td>\n",
       "      <td>15.0</td>\n",
       "      <td>17.0</td>\n",
       "      <td>23.0</td>\n",
       "    </tr>\n",
       "  </tbody>\n",
       "</table>\n",
       "<p>216 rows × 8 columns</p>\n",
       "</div>"
      ],
      "text/plain": [
       "      count      mean         std    min     25%    50%    75%     max\n",
       "0    2000.0  272.0515   91.275454   67.0  208.00  274.5  338.0   515.0\n",
       "1    2000.0  322.7255  109.426588   81.0  247.00  324.0  406.0   565.0\n",
       "2    2000.0  774.8245  140.141570  500.0  656.75  766.0  879.0  1264.0\n",
       "3    2000.0  754.3390  109.173768  543.0  667.00  736.0  830.0  1134.0\n",
       "4    2000.0  640.4605   48.940117  437.0  607.00  636.5  667.0   823.0\n",
       "..      ...       ...         ...    ...     ...    ...    ...     ...\n",
       "211  2000.0   21.5840    7.982343    1.0   16.00   23.0   27.0    38.0\n",
       "212  2000.0   17.6120    5.884451    1.0   13.00   18.0   21.0    36.0\n",
       "213  2000.0   11.9680    2.579788    4.0   10.00   12.0   14.0    18.0\n",
       "214  2000.0   13.7045    1.985485    5.0   12.00   14.0   15.0    19.0\n",
       "215  2000.0   13.4525    4.637186    0.0   11.00   15.0   17.0    23.0\n",
       "\n",
       "[216 rows x 8 columns]"
      ]
     },
     "execution_count": 5,
     "metadata": {},
     "output_type": "execute_result"
    }
   ],
   "source": [
    "view1.describe().T"
   ]
  },
  {
   "cell_type": "markdown",
   "metadata": {},
   "source": [
    "#### View 2"
   ]
  },
  {
   "cell_type": "code",
   "execution_count": 6,
   "metadata": {},
   "outputs": [
    {
     "name": "stdout",
     "output_type": "stream",
     "text": [
      "(2000, 76)\n"
     ]
    },
    {
     "data": {
      "text/html": [
       "<div>\n",
       "<style scoped>\n",
       "    .dataframe tbody tr th:only-of-type {\n",
       "        vertical-align: middle;\n",
       "    }\n",
       "\n",
       "    .dataframe tbody tr th {\n",
       "        vertical-align: top;\n",
       "    }\n",
       "\n",
       "    .dataframe thead th {\n",
       "        text-align: right;\n",
       "    }\n",
       "</style>\n",
       "<table border=\"1\" class=\"dataframe\">\n",
       "  <thead>\n",
       "    <tr style=\"text-align: right;\">\n",
       "      <th></th>\n",
       "      <th>0</th>\n",
       "      <th>1</th>\n",
       "      <th>2</th>\n",
       "      <th>3</th>\n",
       "      <th>4</th>\n",
       "      <th>5</th>\n",
       "      <th>6</th>\n",
       "      <th>7</th>\n",
       "      <th>8</th>\n",
       "      <th>9</th>\n",
       "      <th>...</th>\n",
       "      <th>66</th>\n",
       "      <th>67</th>\n",
       "      <th>68</th>\n",
       "      <th>69</th>\n",
       "      <th>70</th>\n",
       "      <th>71</th>\n",
       "      <th>72</th>\n",
       "      <th>73</th>\n",
       "      <th>74</th>\n",
       "      <th>75</th>\n",
       "    </tr>\n",
       "  </thead>\n",
       "  <tbody>\n",
       "    <tr>\n",
       "      <th>0</th>\n",
       "      <td>0.065882</td>\n",
       "      <td>0.197312</td>\n",
       "      <td>0.103826</td>\n",
       "      <td>0.270362</td>\n",
       "      <td>0.616078</td>\n",
       "      <td>0.035856</td>\n",
       "      <td>0.424572</td>\n",
       "      <td>0.089701</td>\n",
       "      <td>0.367773</td>\n",
       "      <td>0.037065</td>\n",
       "      <td>...</td>\n",
       "      <td>0.123448</td>\n",
       "      <td>0.113374</td>\n",
       "      <td>0.074343</td>\n",
       "      <td>0.281666</td>\n",
       "      <td>0.067795</td>\n",
       "      <td>0.344182</td>\n",
       "      <td>0.038963</td>\n",
       "      <td>0.394366</td>\n",
       "      <td>0.049971</td>\n",
       "      <td>0.344871</td>\n",
       "    </tr>\n",
       "    <tr>\n",
       "      <th>1</th>\n",
       "      <td>0.049142</td>\n",
       "      <td>0.175971</td>\n",
       "      <td>0.105515</td>\n",
       "      <td>0.227095</td>\n",
       "      <td>0.599280</td>\n",
       "      <td>0.041217</td>\n",
       "      <td>0.431078</td>\n",
       "      <td>0.096801</td>\n",
       "      <td>0.326739</td>\n",
       "      <td>0.059661</td>\n",
       "      <td>...</td>\n",
       "      <td>0.045310</td>\n",
       "      <td>0.069337</td>\n",
       "      <td>0.045386</td>\n",
       "      <td>0.254264</td>\n",
       "      <td>0.045447</td>\n",
       "      <td>0.335659</td>\n",
       "      <td>0.021719</td>\n",
       "      <td>0.445277</td>\n",
       "      <td>0.083978</td>\n",
       "      <td>0.354092</td>\n",
       "    </tr>\n",
       "    <tr>\n",
       "      <th>2</th>\n",
       "      <td>0.034172</td>\n",
       "      <td>0.227649</td>\n",
       "      <td>0.108766</td>\n",
       "      <td>0.127697</td>\n",
       "      <td>0.612494</td>\n",
       "      <td>0.056554</td>\n",
       "      <td>0.470639</td>\n",
       "      <td>0.041903</td>\n",
       "      <td>0.324267</td>\n",
       "      <td>0.044569</td>\n",
       "      <td>...</td>\n",
       "      <td>0.019858</td>\n",
       "      <td>0.218842</td>\n",
       "      <td>0.041087</td>\n",
       "      <td>0.360464</td>\n",
       "      <td>0.047154</td>\n",
       "      <td>0.377408</td>\n",
       "      <td>0.052099</td>\n",
       "      <td>0.445029</td>\n",
       "      <td>0.071234</td>\n",
       "      <td>0.261465</td>\n",
       "    </tr>\n",
       "    <tr>\n",
       "      <th>3</th>\n",
       "      <td>0.062336</td>\n",
       "      <td>0.217979</td>\n",
       "      <td>0.080243</td>\n",
       "      <td>0.289592</td>\n",
       "      <td>0.546316</td>\n",
       "      <td>0.045779</td>\n",
       "      <td>0.425545</td>\n",
       "      <td>0.022841</td>\n",
       "      <td>0.331454</td>\n",
       "      <td>0.119052</td>\n",
       "      <td>...</td>\n",
       "      <td>0.083995</td>\n",
       "      <td>0.085479</td>\n",
       "      <td>0.087658</td>\n",
       "      <td>0.151880</td>\n",
       "      <td>0.075950</td>\n",
       "      <td>0.293462</td>\n",
       "      <td>0.022675</td>\n",
       "      <td>0.408291</td>\n",
       "      <td>0.063010</td>\n",
       "      <td>0.401376</td>\n",
       "    </tr>\n",
       "    <tr>\n",
       "      <th>4</th>\n",
       "      <td>0.061970</td>\n",
       "      <td>0.198358</td>\n",
       "      <td>0.111239</td>\n",
       "      <td>0.253460</td>\n",
       "      <td>0.608455</td>\n",
       "      <td>0.023631</td>\n",
       "      <td>0.415246</td>\n",
       "      <td>0.091866</td>\n",
       "      <td>0.309310</td>\n",
       "      <td>0.049142</td>\n",
       "      <td>...</td>\n",
       "      <td>0.021004</td>\n",
       "      <td>0.106960</td>\n",
       "      <td>0.032283</td>\n",
       "      <td>0.248565</td>\n",
       "      <td>0.015674</td>\n",
       "      <td>0.386276</td>\n",
       "      <td>0.039481</td>\n",
       "      <td>0.434701</td>\n",
       "      <td>0.069218</td>\n",
       "      <td>0.405403</td>\n",
       "    </tr>\n",
       "  </tbody>\n",
       "</table>\n",
       "<p>5 rows × 76 columns</p>\n",
       "</div>"
      ],
      "text/plain": [
       "         0         1         2         3         4         5         6   \\\n",
       "0  0.065882  0.197312  0.103826  0.270362  0.616078  0.035856  0.424572   \n",
       "1  0.049142  0.175971  0.105515  0.227095  0.599280  0.041217  0.431078   \n",
       "2  0.034172  0.227649  0.108766  0.127697  0.612494  0.056554  0.470639   \n",
       "3  0.062336  0.217979  0.080243  0.289592  0.546316  0.045779  0.425545   \n",
       "4  0.061970  0.198358  0.111239  0.253460  0.608455  0.023631  0.415246   \n",
       "\n",
       "         7         8         9   ...        66        67        68        69  \\\n",
       "0  0.089701  0.367773  0.037065  ...  0.123448  0.113374  0.074343  0.281666   \n",
       "1  0.096801  0.326739  0.059661  ...  0.045310  0.069337  0.045386  0.254264   \n",
       "2  0.041903  0.324267  0.044569  ...  0.019858  0.218842  0.041087  0.360464   \n",
       "3  0.022841  0.331454  0.119052  ...  0.083995  0.085479  0.087658  0.151880   \n",
       "4  0.091866  0.309310  0.049142  ...  0.021004  0.106960  0.032283  0.248565   \n",
       "\n",
       "         70        71        72        73        74        75  \n",
       "0  0.067795  0.344182  0.038963  0.394366  0.049971  0.344871  \n",
       "1  0.045447  0.335659  0.021719  0.445277  0.083978  0.354092  \n",
       "2  0.047154  0.377408  0.052099  0.445029  0.071234  0.261465  \n",
       "3  0.075950  0.293462  0.022675  0.408291  0.063010  0.401376  \n",
       "4  0.015674  0.386276  0.039481  0.434701  0.069218  0.405403  \n",
       "\n",
       "[5 rows x 76 columns]"
      ]
     },
     "execution_count": 6,
     "metadata": {},
     "output_type": "execute_result"
    }
   ],
   "source": [
    "print(view2.shape)\n",
    "view2.head()"
   ]
  },
  {
   "cell_type": "code",
   "execution_count": 7,
   "metadata": {},
   "outputs": [
    {
     "data": {
      "text/html": [
       "<div>\n",
       "<style scoped>\n",
       "    .dataframe tbody tr th:only-of-type {\n",
       "        vertical-align: middle;\n",
       "    }\n",
       "\n",
       "    .dataframe tbody tr th {\n",
       "        vertical-align: top;\n",
       "    }\n",
       "\n",
       "    .dataframe thead th {\n",
       "        text-align: right;\n",
       "    }\n",
       "</style>\n",
       "<table border=\"1\" class=\"dataframe\">\n",
       "  <thead>\n",
       "    <tr style=\"text-align: right;\">\n",
       "      <th></th>\n",
       "      <th>count</th>\n",
       "      <th>mean</th>\n",
       "      <th>std</th>\n",
       "      <th>min</th>\n",
       "      <th>25%</th>\n",
       "      <th>50%</th>\n",
       "      <th>75%</th>\n",
       "      <th>max</th>\n",
       "    </tr>\n",
       "  </thead>\n",
       "  <tbody>\n",
       "    <tr>\n",
       "      <th>0</th>\n",
       "      <td>2000.0</td>\n",
       "      <td>0.185544</td>\n",
       "      <td>0.091898</td>\n",
       "      <td>0.004928</td>\n",
       "      <td>0.112066</td>\n",
       "      <td>0.176093</td>\n",
       "      <td>0.270290</td>\n",
       "      <td>0.395772</td>\n",
       "    </tr>\n",
       "    <tr>\n",
       "      <th>1</th>\n",
       "      <td>2000.0</td>\n",
       "      <td>0.377311</td>\n",
       "      <td>0.176231</td>\n",
       "      <td>0.009000</td>\n",
       "      <td>0.223410</td>\n",
       "      <td>0.401208</td>\n",
       "      <td>0.523692</td>\n",
       "      <td>0.771281</td>\n",
       "    </tr>\n",
       "    <tr>\n",
       "      <th>2</th>\n",
       "      <td>2000.0</td>\n",
       "      <td>0.269378</td>\n",
       "      <td>0.137980</td>\n",
       "      <td>0.005624</td>\n",
       "      <td>0.142086</td>\n",
       "      <td>0.288355</td>\n",
       "      <td>0.378611</td>\n",
       "      <td>0.665372</td>\n",
       "    </tr>\n",
       "    <tr>\n",
       "      <th>3</th>\n",
       "      <td>2000.0</td>\n",
       "      <td>0.265686</td>\n",
       "      <td>0.110694</td>\n",
       "      <td>0.010114</td>\n",
       "      <td>0.195214</td>\n",
       "      <td>0.255635</td>\n",
       "      <td>0.325003</td>\n",
       "      <td>0.748012</td>\n",
       "    </tr>\n",
       "    <tr>\n",
       "      <th>4</th>\n",
       "      <td>2000.0</td>\n",
       "      <td>0.300367</td>\n",
       "      <td>0.156256</td>\n",
       "      <td>0.002090</td>\n",
       "      <td>0.180421</td>\n",
       "      <td>0.282515</td>\n",
       "      <td>0.413297</td>\n",
       "      <td>0.796487</td>\n",
       "    </tr>\n",
       "    <tr>\n",
       "      <th>...</th>\n",
       "      <td>...</td>\n",
       "      <td>...</td>\n",
       "      <td>...</td>\n",
       "      <td>...</td>\n",
       "      <td>...</td>\n",
       "      <td>...</td>\n",
       "      <td>...</td>\n",
       "      <td>...</td>\n",
       "    </tr>\n",
       "    <tr>\n",
       "      <th>71</th>\n",
       "      <td>2000.0</td>\n",
       "      <td>0.166702</td>\n",
       "      <td>0.091240</td>\n",
       "      <td>0.007784</td>\n",
       "      <td>0.097974</td>\n",
       "      <td>0.149127</td>\n",
       "      <td>0.218640</td>\n",
       "      <td>0.457965</td>\n",
       "    </tr>\n",
       "    <tr>\n",
       "      <th>72</th>\n",
       "      <td>2000.0</td>\n",
       "      <td>0.230956</td>\n",
       "      <td>0.123441</td>\n",
       "      <td>0.003569</td>\n",
       "      <td>0.130623</td>\n",
       "      <td>0.232392</td>\n",
       "      <td>0.323222</td>\n",
       "      <td>0.601370</td>\n",
       "    </tr>\n",
       "    <tr>\n",
       "      <th>73</th>\n",
       "      <td>2000.0</td>\n",
       "      <td>0.267786</td>\n",
       "      <td>0.131009</td>\n",
       "      <td>0.011433</td>\n",
       "      <td>0.157886</td>\n",
       "      <td>0.251738</td>\n",
       "      <td>0.388339</td>\n",
       "      <td>0.620857</td>\n",
       "    </tr>\n",
       "    <tr>\n",
       "      <th>74</th>\n",
       "      <td>2000.0</td>\n",
       "      <td>0.143982</td>\n",
       "      <td>0.085663</td>\n",
       "      <td>0.001136</td>\n",
       "      <td>0.075864</td>\n",
       "      <td>0.130413</td>\n",
       "      <td>0.198687</td>\n",
       "      <td>0.510432</td>\n",
       "    </tr>\n",
       "    <tr>\n",
       "      <th>75</th>\n",
       "      <td>2000.0</td>\n",
       "      <td>0.217792</td>\n",
       "      <td>0.122908</td>\n",
       "      <td>0.004572</td>\n",
       "      <td>0.115836</td>\n",
       "      <td>0.193452</td>\n",
       "      <td>0.318925</td>\n",
       "      <td>0.582411</td>\n",
       "    </tr>\n",
       "  </tbody>\n",
       "</table>\n",
       "<p>76 rows × 8 columns</p>\n",
       "</div>"
      ],
      "text/plain": [
       "     count      mean       std       min       25%       50%       75%  \\\n",
       "0   2000.0  0.185544  0.091898  0.004928  0.112066  0.176093  0.270290   \n",
       "1   2000.0  0.377311  0.176231  0.009000  0.223410  0.401208  0.523692   \n",
       "2   2000.0  0.269378  0.137980  0.005624  0.142086  0.288355  0.378611   \n",
       "3   2000.0  0.265686  0.110694  0.010114  0.195214  0.255635  0.325003   \n",
       "4   2000.0  0.300367  0.156256  0.002090  0.180421  0.282515  0.413297   \n",
       "..     ...       ...       ...       ...       ...       ...       ...   \n",
       "71  2000.0  0.166702  0.091240  0.007784  0.097974  0.149127  0.218640   \n",
       "72  2000.0  0.230956  0.123441  0.003569  0.130623  0.232392  0.323222   \n",
       "73  2000.0  0.267786  0.131009  0.011433  0.157886  0.251738  0.388339   \n",
       "74  2000.0  0.143982  0.085663  0.001136  0.075864  0.130413  0.198687   \n",
       "75  2000.0  0.217792  0.122908  0.004572  0.115836  0.193452  0.318925   \n",
       "\n",
       "         max  \n",
       "0   0.395772  \n",
       "1   0.771281  \n",
       "2   0.665372  \n",
       "3   0.748012  \n",
       "4   0.796487  \n",
       "..       ...  \n",
       "71  0.457965  \n",
       "72  0.601370  \n",
       "73  0.620857  \n",
       "74  0.510432  \n",
       "75  0.582411  \n",
       "\n",
       "[76 rows x 8 columns]"
      ]
     },
     "execution_count": 7,
     "metadata": {},
     "output_type": "execute_result"
    }
   ],
   "source": [
    "view2.describe().T"
   ]
  },
  {
   "cell_type": "markdown",
   "metadata": {},
   "source": [
    "#### View 3"
   ]
  },
  {
   "cell_type": "code",
   "execution_count": 8,
   "metadata": {},
   "outputs": [
    {
     "name": "stdout",
     "output_type": "stream",
     "text": [
      "(2000, 64)\n"
     ]
    },
    {
     "data": {
      "text/html": [
       "<div>\n",
       "<style scoped>\n",
       "    .dataframe tbody tr th:only-of-type {\n",
       "        vertical-align: middle;\n",
       "    }\n",
       "\n",
       "    .dataframe tbody tr th {\n",
       "        vertical-align: top;\n",
       "    }\n",
       "\n",
       "    .dataframe thead th {\n",
       "        text-align: right;\n",
       "    }\n",
       "</style>\n",
       "<table border=\"1\" class=\"dataframe\">\n",
       "  <thead>\n",
       "    <tr style=\"text-align: right;\">\n",
       "      <th></th>\n",
       "      <th>0</th>\n",
       "      <th>1</th>\n",
       "      <th>2</th>\n",
       "      <th>3</th>\n",
       "      <th>4</th>\n",
       "      <th>5</th>\n",
       "      <th>6</th>\n",
       "      <th>7</th>\n",
       "      <th>8</th>\n",
       "      <th>9</th>\n",
       "      <th>...</th>\n",
       "      <th>54</th>\n",
       "      <th>55</th>\n",
       "      <th>56</th>\n",
       "      <th>57</th>\n",
       "      <th>58</th>\n",
       "      <th>59</th>\n",
       "      <th>60</th>\n",
       "      <th>61</th>\n",
       "      <th>62</th>\n",
       "      <th>63</th>\n",
       "    </tr>\n",
       "  </thead>\n",
       "  <tbody>\n",
       "    <tr>\n",
       "      <th>0</th>\n",
       "      <td>-10.297008</td>\n",
       "      <td>-11.666789</td>\n",
       "      <td>11.560669</td>\n",
       "      <td>-2.081316</td>\n",
       "      <td>4.044656</td>\n",
       "      <td>4.086815</td>\n",
       "      <td>-2.558072</td>\n",
       "      <td>-8.476935</td>\n",
       "      <td>2.138135</td>\n",
       "      <td>3.503082</td>\n",
       "      <td>...</td>\n",
       "      <td>1.078083</td>\n",
       "      <td>0.921927</td>\n",
       "      <td>0.496387</td>\n",
       "      <td>-0.643667</td>\n",
       "      <td>0.284104</td>\n",
       "      <td>0.286555</td>\n",
       "      <td>0.348625</td>\n",
       "      <td>1.814691</td>\n",
       "      <td>-1.351353</td>\n",
       "      <td>-0.473910</td>\n",
       "    </tr>\n",
       "    <tr>\n",
       "      <th>1</th>\n",
       "      <td>-5.036009</td>\n",
       "      <td>-12.885333</td>\n",
       "      <td>0.161155</td>\n",
       "      <td>0.592460</td>\n",
       "      <td>3.123534</td>\n",
       "      <td>4.220469</td>\n",
       "      <td>-6.411771</td>\n",
       "      <td>-6.335328</td>\n",
       "      <td>-0.244622</td>\n",
       "      <td>1.346073</td>\n",
       "      <td>...</td>\n",
       "      <td>0.942353</td>\n",
       "      <td>2.938791</td>\n",
       "      <td>1.429883</td>\n",
       "      <td>-2.336344</td>\n",
       "      <td>1.281628</td>\n",
       "      <td>-0.098321</td>\n",
       "      <td>0.582357</td>\n",
       "      <td>0.485792</td>\n",
       "      <td>0.642451</td>\n",
       "      <td>0.613107</td>\n",
       "    </tr>\n",
       "    <tr>\n",
       "      <th>2</th>\n",
       "      <td>-9.639157</td>\n",
       "      <td>-6.655898</td>\n",
       "      <td>0.388687</td>\n",
       "      <td>-1.717650</td>\n",
       "      <td>0.300346</td>\n",
       "      <td>3.400769</td>\n",
       "      <td>-7.240785</td>\n",
       "      <td>-1.659405</td>\n",
       "      <td>-0.874005</td>\n",
       "      <td>4.153403</td>\n",
       "      <td>...</td>\n",
       "      <td>-0.413174</td>\n",
       "      <td>-0.023028</td>\n",
       "      <td>-0.025265</td>\n",
       "      <td>1.259838</td>\n",
       "      <td>-0.441360</td>\n",
       "      <td>-0.960094</td>\n",
       "      <td>1.995843</td>\n",
       "      <td>1.097748</td>\n",
       "      <td>0.827182</td>\n",
       "      <td>-1.767840</td>\n",
       "    </tr>\n",
       "    <tr>\n",
       "      <th>3</th>\n",
       "      <td>-6.650375</td>\n",
       "      <td>-7.043851</td>\n",
       "      <td>4.104350</td>\n",
       "      <td>-2.342780</td>\n",
       "      <td>3.494658</td>\n",
       "      <td>3.924822</td>\n",
       "      <td>-9.874812</td>\n",
       "      <td>-6.556576</td>\n",
       "      <td>-1.364269</td>\n",
       "      <td>1.153308</td>\n",
       "      <td>...</td>\n",
       "      <td>-0.961236</td>\n",
       "      <td>-1.043815</td>\n",
       "      <td>-0.204508</td>\n",
       "      <td>-1.981150</td>\n",
       "      <td>0.982438</td>\n",
       "      <td>-0.144233</td>\n",
       "      <td>-1.449328</td>\n",
       "      <td>-0.913552</td>\n",
       "      <td>-0.771735</td>\n",
       "      <td>0.304992</td>\n",
       "    </tr>\n",
       "    <tr>\n",
       "      <th>4</th>\n",
       "      <td>-10.664524</td>\n",
       "      <td>-10.974133</td>\n",
       "      <td>0.194391</td>\n",
       "      <td>0.453885</td>\n",
       "      <td>2.193088</td>\n",
       "      <td>-3.304663</td>\n",
       "      <td>-8.376592</td>\n",
       "      <td>-4.241146</td>\n",
       "      <td>2.964818</td>\n",
       "      <td>-0.949622</td>\n",
       "      <td>...</td>\n",
       "      <td>0.152957</td>\n",
       "      <td>1.448160</td>\n",
       "      <td>-1.254907</td>\n",
       "      <td>-3.481295</td>\n",
       "      <td>-0.563889</td>\n",
       "      <td>1.529335</td>\n",
       "      <td>0.510399</td>\n",
       "      <td>0.298318</td>\n",
       "      <td>-0.943213</td>\n",
       "      <td>1.149847</td>\n",
       "    </tr>\n",
       "  </tbody>\n",
       "</table>\n",
       "<p>5 rows × 64 columns</p>\n",
       "</div>"
      ],
      "text/plain": [
       "          0          1          2         3         4         5         6   \\\n",
       "0 -10.297008 -11.666789  11.560669 -2.081316  4.044656  4.086815 -2.558072   \n",
       "1  -5.036009 -12.885333   0.161155  0.592460  3.123534  4.220469 -6.411771   \n",
       "2  -9.639157  -6.655898   0.388687 -1.717650  0.300346  3.400769 -7.240785   \n",
       "3  -6.650375  -7.043851   4.104350 -2.342780  3.494658  3.924822 -9.874812   \n",
       "4 -10.664524 -10.974133   0.194391  0.453885  2.193088 -3.304663 -8.376592   \n",
       "\n",
       "         7         8         9   ...        54        55        56        57  \\\n",
       "0 -8.476935  2.138135  3.503082  ...  1.078083  0.921927  0.496387 -0.643667   \n",
       "1 -6.335328 -0.244622  1.346073  ...  0.942353  2.938791  1.429883 -2.336344   \n",
       "2 -1.659405 -0.874005  4.153403  ... -0.413174 -0.023028 -0.025265  1.259838   \n",
       "3 -6.556576 -1.364269  1.153308  ... -0.961236 -1.043815 -0.204508 -1.981150   \n",
       "4 -4.241146  2.964818 -0.949622  ...  0.152957  1.448160 -1.254907 -3.481295   \n",
       "\n",
       "         58        59        60        61        62        63  \n",
       "0  0.284104  0.286555  0.348625  1.814691 -1.351353 -0.473910  \n",
       "1  1.281628 -0.098321  0.582357  0.485792  0.642451  0.613107  \n",
       "2 -0.441360 -0.960094  1.995843  1.097748  0.827182 -1.767840  \n",
       "3  0.982438 -0.144233 -1.449328 -0.913552 -0.771735  0.304992  \n",
       "4 -0.563889  1.529335  0.510399  0.298318 -0.943213  1.149847  \n",
       "\n",
       "[5 rows x 64 columns]"
      ]
     },
     "execution_count": 8,
     "metadata": {},
     "output_type": "execute_result"
    }
   ],
   "source": [
    "print(view3.shape)\n",
    "view3.head()"
   ]
  },
  {
   "cell_type": "code",
   "execution_count": 9,
   "metadata": {},
   "outputs": [
    {
     "data": {
      "text/html": [
       "<div>\n",
       "<style scoped>\n",
       "    .dataframe tbody tr th:only-of-type {\n",
       "        vertical-align: middle;\n",
       "    }\n",
       "\n",
       "    .dataframe tbody tr th {\n",
       "        vertical-align: top;\n",
       "    }\n",
       "\n",
       "    .dataframe thead th {\n",
       "        text-align: right;\n",
       "    }\n",
       "</style>\n",
       "<table border=\"1\" class=\"dataframe\">\n",
       "  <thead>\n",
       "    <tr style=\"text-align: right;\">\n",
       "      <th></th>\n",
       "      <th>count</th>\n",
       "      <th>mean</th>\n",
       "      <th>std</th>\n",
       "      <th>min</th>\n",
       "      <th>25%</th>\n",
       "      <th>50%</th>\n",
       "      <th>75%</th>\n",
       "      <th>max</th>\n",
       "    </tr>\n",
       "  </thead>\n",
       "  <tbody>\n",
       "    <tr>\n",
       "      <th>0</th>\n",
       "      <td>2000.0</td>\n",
       "      <td>-1.119422</td>\n",
       "      <td>7.691305</td>\n",
       "      <td>-16.459305</td>\n",
       "      <td>-7.606095</td>\n",
       "      <td>-1.744261</td>\n",
       "      <td>4.806998</td>\n",
       "      <td>15.774811</td>\n",
       "    </tr>\n",
       "    <tr>\n",
       "      <th>1</th>\n",
       "      <td>2000.0</td>\n",
       "      <td>-0.684916</td>\n",
       "      <td>5.716466</td>\n",
       "      <td>-15.651466</td>\n",
       "      <td>-4.660418</td>\n",
       "      <td>-0.539887</td>\n",
       "      <td>3.409475</td>\n",
       "      <td>15.414573</td>\n",
       "    </tr>\n",
       "    <tr>\n",
       "      <th>2</th>\n",
       "      <td>2000.0</td>\n",
       "      <td>1.325787</td>\n",
       "      <td>5.574310</td>\n",
       "      <td>-14.333107</td>\n",
       "      <td>-2.704140</td>\n",
       "      <td>2.023201</td>\n",
       "      <td>5.354117</td>\n",
       "      <td>14.769929</td>\n",
       "    </tr>\n",
       "    <tr>\n",
       "      <th>3</th>\n",
       "      <td>2000.0</td>\n",
       "      <td>1.635315</td>\n",
       "      <td>5.507581</td>\n",
       "      <td>-14.303563</td>\n",
       "      <td>-2.186702</td>\n",
       "      <td>0.830831</td>\n",
       "      <td>5.360159</td>\n",
       "      <td>16.824829</td>\n",
       "    </tr>\n",
       "    <tr>\n",
       "      <th>4</th>\n",
       "      <td>2000.0</td>\n",
       "      <td>2.891171</td>\n",
       "      <td>3.994073</td>\n",
       "      <td>-8.213110</td>\n",
       "      <td>0.020924</td>\n",
       "      <td>2.693554</td>\n",
       "      <td>5.692744</td>\n",
       "      <td>14.992364</td>\n",
       "    </tr>\n",
       "    <tr>\n",
       "      <th>...</th>\n",
       "      <td>...</td>\n",
       "      <td>...</td>\n",
       "      <td>...</td>\n",
       "      <td>...</td>\n",
       "      <td>...</td>\n",
       "      <td>...</td>\n",
       "      <td>...</td>\n",
       "      <td>...</td>\n",
       "    </tr>\n",
       "    <tr>\n",
       "      <th>59</th>\n",
       "      <td>2000.0</td>\n",
       "      <td>-0.204876</td>\n",
       "      <td>1.050156</td>\n",
       "      <td>-3.624762</td>\n",
       "      <td>-0.940669</td>\n",
       "      <td>-0.204553</td>\n",
       "      <td>0.498455</td>\n",
       "      <td>3.351974</td>\n",
       "    </tr>\n",
       "    <tr>\n",
       "      <th>60</th>\n",
       "      <td>2000.0</td>\n",
       "      <td>-0.017153</td>\n",
       "      <td>0.907965</td>\n",
       "      <td>-3.056478</td>\n",
       "      <td>-0.647365</td>\n",
       "      <td>0.007285</td>\n",
       "      <td>0.585359</td>\n",
       "      <td>2.974369</td>\n",
       "    </tr>\n",
       "    <tr>\n",
       "      <th>61</th>\n",
       "      <td>2000.0</td>\n",
       "      <td>-0.049707</td>\n",
       "      <td>0.899926</td>\n",
       "      <td>-3.279887</td>\n",
       "      <td>-0.666966</td>\n",
       "      <td>-0.058137</td>\n",
       "      <td>0.521300</td>\n",
       "      <td>2.809290</td>\n",
       "    </tr>\n",
       "    <tr>\n",
       "      <th>62</th>\n",
       "      <td>2000.0</td>\n",
       "      <td>0.239816</td>\n",
       "      <td>0.892344</td>\n",
       "      <td>-2.617629</td>\n",
       "      <td>-0.393474</td>\n",
       "      <td>0.229076</td>\n",
       "      <td>0.849849</td>\n",
       "      <td>3.145101</td>\n",
       "    </tr>\n",
       "    <tr>\n",
       "      <th>63</th>\n",
       "      <td>2000.0</td>\n",
       "      <td>-0.181936</td>\n",
       "      <td>1.024102</td>\n",
       "      <td>-3.375015</td>\n",
       "      <td>-0.878151</td>\n",
       "      <td>-0.177332</td>\n",
       "      <td>0.525456</td>\n",
       "      <td>3.324201</td>\n",
       "    </tr>\n",
       "  </tbody>\n",
       "</table>\n",
       "<p>64 rows × 8 columns</p>\n",
       "</div>"
      ],
      "text/plain": [
       "     count      mean       std        min       25%       50%       75%  \\\n",
       "0   2000.0 -1.119422  7.691305 -16.459305 -7.606095 -1.744261  4.806998   \n",
       "1   2000.0 -0.684916  5.716466 -15.651466 -4.660418 -0.539887  3.409475   \n",
       "2   2000.0  1.325787  5.574310 -14.333107 -2.704140  2.023201  5.354117   \n",
       "3   2000.0  1.635315  5.507581 -14.303563 -2.186702  0.830831  5.360159   \n",
       "4   2000.0  2.891171  3.994073  -8.213110  0.020924  2.693554  5.692744   \n",
       "..     ...       ...       ...        ...       ...       ...       ...   \n",
       "59  2000.0 -0.204876  1.050156  -3.624762 -0.940669 -0.204553  0.498455   \n",
       "60  2000.0 -0.017153  0.907965  -3.056478 -0.647365  0.007285  0.585359   \n",
       "61  2000.0 -0.049707  0.899926  -3.279887 -0.666966 -0.058137  0.521300   \n",
       "62  2000.0  0.239816  0.892344  -2.617629 -0.393474  0.229076  0.849849   \n",
       "63  2000.0 -0.181936  1.024102  -3.375015 -0.878151 -0.177332  0.525456   \n",
       "\n",
       "          max  \n",
       "0   15.774811  \n",
       "1   15.414573  \n",
       "2   14.769929  \n",
       "3   16.824829  \n",
       "4   14.992364  \n",
       "..        ...  \n",
       "59   3.351974  \n",
       "60   2.974369  \n",
       "61   2.809290  \n",
       "62   3.145101  \n",
       "63   3.324201  \n",
       "\n",
       "[64 rows x 8 columns]"
      ]
     },
     "execution_count": 9,
     "metadata": {},
     "output_type": "execute_result"
    }
   ],
   "source": [
    "view3.describe().T"
   ]
  },
  {
   "cell_type": "markdown",
   "metadata": {},
   "source": [
    "### Obter target"
   ]
  },
  {
   "cell_type": "code",
   "execution_count": 10,
   "metadata": {},
   "outputs": [],
   "source": [
    "y = pd.Series([int(i / 200) for i in range(2000)], index=view1.index)"
   ]
  },
  {
   "cell_type": "code",
   "execution_count": 223,
   "metadata": {},
   "outputs": [],
   "source": [
    "y_ = pd.read_csv('../clustering/results_multiview/particao_crisp.csv', header=None, squeeze=True)"
   ]
  },
  {
   "cell_type": "code",
   "execution_count": 227,
   "metadata": {},
   "outputs": [
    {
     "data": {
      "text/plain": [
       "(2000,)"
      ]
     },
     "execution_count": 227,
     "metadata": {},
     "output_type": "execute_result"
    }
   ],
   "source": [
    "y_.shape"
   ]
  },
  {
   "cell_type": "code",
   "execution_count": 231,
   "metadata": {},
   "outputs": [
    {
     "data": {
      "text/plain": [
       "1990    9.0\n",
       "1991    4.0\n",
       "1992    7.0\n",
       "1993    9.0\n",
       "1994    9.0\n",
       "1995    9.0\n",
       "1996    9.0\n",
       "1997    4.0\n",
       "1998    9.0\n",
       "1999    4.0\n",
       "Name: 0, dtype: float64"
      ]
     },
     "execution_count": 231,
     "metadata": {},
     "output_type": "execute_result"
    }
   ],
   "source": [
    "y_.tail(10)"
   ]
  },
  {
   "cell_type": "code",
   "execution_count": 234,
   "metadata": {},
   "outputs": [
    {
     "data": {
      "text/plain": [
       "0.076"
      ]
     },
     "execution_count": 234,
     "metadata": {},
     "output_type": "execute_result"
    }
   ],
   "source": [
    "accuracy_score(y, y_)"
   ]
  },
  {
   "cell_type": "markdown",
   "metadata": {},
   "source": [
    "### Pré-processamento"
   ]
  },
  {
   "cell_type": "markdown",
   "metadata": {},
   "source": [
    "#### Normalização (reescala)"
   ]
  },
  {
   "cell_type": "code",
   "execution_count": 11,
   "metadata": {},
   "outputs": [],
   "source": [
    "scaler = MinMaxScaler()\n",
    "view1 = scaler.fit_transform(view1)\n",
    "\n",
    "scaler = MinMaxScaler()\n",
    "view2 = scaler.fit_transform(view2)\n",
    "\n",
    "scaler = MinMaxScaler()\n",
    "view3 = scaler.fit_transform(view3)"
   ]
  },
  {
   "cell_type": "markdown",
   "metadata": {},
   "source": [
    "### Dissimilaridade"
   ]
  },
  {
   "cell_type": "code",
   "execution_count": 12,
   "metadata": {},
   "outputs": [],
   "source": [
    "# view1 = squareform(pdist(view1))\n",
    "# view2 = squareform(pdist(view2))\n",
    "# view3 = squareform(pdist(view3))"
   ]
  },
  {
   "cell_type": "markdown",
   "metadata": {},
   "source": [
    "## Classificação"
   ]
  },
  {
   "cell_type": "markdown",
   "metadata": {},
   "source": [
    "### Valicação cruzada com regra da soma"
   ]
  },
  {
   "cell_type": "code",
   "execution_count": 102,
   "metadata": {},
   "outputs": [],
   "source": [
    "def fit(model, Xs, y):\n",
    "    n_datasets = len(Xs)\n",
    "    estimators = [clone(model) for _ in range(n_datasets)]\n",
    "    \n",
    "    for i in range(n_datasets):\n",
    "        estimators[i].fit(Xs[i], y)\n",
    "        \n",
    "    return estimators"
   ]
  },
  {
   "cell_type": "code",
   "execution_count": 100,
   "metadata": {},
   "outputs": [],
   "source": [
    "def predict(estimators, Xs):\n",
    "    predictions = []\n",
    "    \n",
    "    n_datasets = len(Xs)\n",
    "    \n",
    "    for i in range(n_datasets):\n",
    "        pred = estimators[i].predict_proba(Xs[i])\n",
    "        predictions.append(pred)\n",
    "        \n",
    "    predictions = np.array(predictions)\n",
    "    \n",
    "    predictions = np.sum(predictions, axis=0)\n",
    "    \n",
    "    predictions = np.argmax(predictions, axis=1)\n",
    "    \n",
    "    return predictions"
   ]
  },
  {
   "cell_type": "code",
   "execution_count": 180,
   "metadata": {},
   "outputs": [],
   "source": [
    "def fine_tuning(model, parameters, Xs_train, y_train, Xs_val, y_val, verbose=0):\n",
    "    if verbose > 0:\n",
    "        print('###########')\n",
    "    \n",
    "    n_datasets = len(Xs_train)\n",
    "    \n",
    "    results = []\n",
    "    for key, values in parameters.items():\n",
    "        for value in values:\n",
    "            clf = model(**{key: value})\n",
    "    \n",
    "            estimators = fit(clf, Xs_train, y_train)\n",
    "            pred = predict(estimators, Xs_val)\n",
    "\n",
    "            result = accuracy_score(y_val, pred)\n",
    "            results.append({key: value, 'acurácia': result})\n",
    "\n",
    "    results_df = pd.DataFrame(results)\n",
    "    \n",
    "    best_result = results_df.sort_values('acurácia', ascending=False).iloc[0]\n",
    "    best_params = best_result[list(parameters.keys())].to_dict()\n",
    "    \n",
    "    if verbose > 0:\n",
    "        print('Resultados: ')\n",
    "        print(results_df)\n",
    "        print('Melhor resultado:')\n",
    "        print(best_result['acurácia'])\n",
    "        print('Melhores parâmetros:')\n",
    "        print(best_params)\n",
    "\n",
    "    return best_params"
   ]
  },
  {
   "cell_type": "code",
   "execution_count": 213,
   "metadata": {},
   "outputs": [],
   "source": [
    "def cross_val(model, parameters=None, verbose=0):\n",
    "    predictions = []\n",
    "    targets = []\n",
    "    results = []\n",
    "    kfold = StratifiedKFold(n_splits=10, shuffle=True)\n",
    "    for train, test in kfold.split(y.index, y):\n",
    "        \n",
    "        best_param = None\n",
    "        \n",
    "        if parameters:\n",
    "            ## Tuning\n",
    "            \n",
    "            train_aux, val = train_test_split(train, test_size=0.222)\n",
    "\n",
    "            y_train = y[train_aux]\n",
    "            y_val = y[val]\n",
    "\n",
    "            view1_train = view1[train_aux]\n",
    "            view2_train = view2[train_aux]\n",
    "            view3_train = view3[train_aux]\n",
    "\n",
    "            view1_val = view1[val]\n",
    "            view2_val = view2[val]\n",
    "            view3_val = view3[val]\n",
    "\n",
    "            Xs_train = [view1_train, view2_train, view3_train]\n",
    "            Xs_val = [view1_val, view2_val, view3_val]\n",
    "            best_param = fine_tuning(KNeighborsClassifier, parameters, Xs_train, y_train, Xs_val, y_val, verbose)\n",
    "        \n",
    "        ## Validation\n",
    "        y_train = y[train]\n",
    "        y_test = y[test]\n",
    "\n",
    "        view1_train = view1[train]\n",
    "        view2_train = view2[train]\n",
    "        view3_train = view3[train]\n",
    "\n",
    "        view1_test = view1[test]\n",
    "        view2_test = view2[test]\n",
    "        view3_test = view3[test]\n",
    "        \n",
    "        Xs_train = [view1_train, view2_train, view3_train]\n",
    "        Xs_test = [view1_test, view2_test, view3_test]\n",
    "        \n",
    "        if best_param:\n",
    "            clf = model(**{key: value})\n",
    "        else:\n",
    "            clf = model()\n",
    "        \n",
    "        estimators = fit(clf, Xs_train, y_train)\n",
    "        pred = predict(estimators, Xs_test)\n",
    "        \n",
    "        predictions.extend(pred)\n",
    "        targets.extend(y_test.values)\n",
    "        \n",
    "\n",
    "    results = accuracy_score(targets, predictions)\n",
    "        \n",
    "    return results"
   ]
  },
  {
   "cell_type": "code",
   "execution_count": 181,
   "metadata": {
    "scrolled": false
   },
   "outputs": [
    {
     "data": {
      "text/plain": [
       "0.9785"
      ]
     },
     "execution_count": 181,
     "metadata": {},
     "output_type": "execute_result"
    }
   ],
   "source": [
    "parameters = {'n_neighbors': [1, 3, 5, 7, 9]}\n",
    "results_ = cross_val(KNeighborsClassifier, parameters)\n",
    "results_"
   ]
  },
  {
   "cell_type": "code",
   "execution_count": 184,
   "metadata": {},
   "outputs": [
    {
     "name": "stderr",
     "output_type": "stream",
     "text": [
      "100%|██████████| 2/2 [00:32<00:00, 16.37s/it]\n"
     ]
    }
   ],
   "source": [
    "n_experiments = 2\n",
    "results = []\n",
    "for i in tqdm(range(n_experiments)):\n",
    "    result = cross_val(KNeighborsClassifier, parameters)\n",
    "    results.append(result)"
   ]
  },
  {
   "cell_type": "markdown",
   "metadata": {},
   "source": [
    "### Parzen Window"
   ]
  },
  {
   "cell_type": "code",
   "execution_count": null,
   "metadata": {},
   "outputs": [],
   "source": [
    "kde = KernelDensity(kernel='gaussian', bandwidth=2)"
   ]
  },
  {
   "cell_type": "code",
   "execution_count": null,
   "metadata": {},
   "outputs": [],
   "source": [
    "values = view1_train[0].reshape(view1_train.shape[1], 1)"
   ]
  },
  {
   "cell_type": "code",
   "execution_count": null,
   "metadata": {},
   "outputs": [],
   "source": [
    "kde.fit(values, y_train)\n",
    "scores = kde.score_samples(values)\n",
    "scores = np.exp(scores)"
   ]
  },
  {
   "cell_type": "code",
   "execution_count": null,
   "metadata": {},
   "outputs": [],
   "source": [
    "pd.Series(values[:, 0]).hist()"
   ]
  },
  {
   "cell_type": "markdown",
   "metadata": {},
   "source": [
    "### Implementação da predição com janela de parzen"
   ]
  },
  {
   "cell_type": "code",
   "execution_count": 186,
   "metadata": {},
   "outputs": [],
   "source": [
    "class KDEClassifier(BaseEstimator, ClassifierMixin):\n",
    "    \"\"\"Bayesian generative classification based on KDE\n",
    "    \n",
    "    Parameters\n",
    "    ----------\n",
    "    bandwidth : float\n",
    "        the kernel bandwidth within each class\n",
    "    kernel : str\n",
    "        the kernel name, passed to KernelDensity\n",
    "    \"\"\"\n",
    "    def __init__(self, bandwidth=1.0, kernel='gaussian'):\n",
    "        self.bandwidth = bandwidth\n",
    "        self.kernel = kernel\n",
    "        \n",
    "    def fit(self, X, y):\n",
    "        self.classes_ = np.sort(np.unique(y))\n",
    "        training_sets = [X[y == yi] for yi in self.classes_]\n",
    "        self.models_ = [KernelDensity(bandwidth=self.bandwidth,\n",
    "                                      kernel=self.kernel).fit(Xi)\n",
    "                        for Xi in training_sets]\n",
    "        self.logpriors_ = [np.log(Xi.shape[0] / X.shape[0])\n",
    "                           for Xi in training_sets]\n",
    "        return self\n",
    "        \n",
    "    def predict_proba(self, X):\n",
    "        logprobs = np.array([model.score_samples(X)\n",
    "                             for model in self.models_]).T\n",
    "        result = np.exp(logprobs + self.logpriors_)\n",
    "        return result / result.sum(1, keepdims=True)\n",
    "        \n",
    "    def predict(self, X):\n",
    "        return self.classes_[np.argmax(self.predict_proba(X), 1)]"
   ]
  },
  {
   "cell_type": "code",
   "execution_count": null,
   "metadata": {},
   "outputs": [],
   "source": [
    "kde = KDEClassifier(1)\n",
    "kde.fit(view1_train, y_train_aux)"
   ]
  },
  {
   "cell_type": "code",
   "execution_count": null,
   "metadata": {},
   "outputs": [],
   "source": [
    "pred = kde.predict(view1_train)\n",
    "print(accuracy_score(y_train_aux, pred))\n",
    "\n",
    "pred = kde.predict(view1_test)\n",
    "print(accuracy_score(y_test.reset_index(drop=True), pred))"
   ]
  },
  {
   "cell_type": "markdown",
   "metadata": {},
   "source": [
    "### Experimentos"
   ]
  },
  {
   "cell_type": "code",
   "execution_count": 208,
   "metadata": {},
   "outputs": [],
   "source": [
    "n_experiments = 3"
   ]
  },
  {
   "cell_type": "markdown",
   "metadata": {},
   "source": [
    "### Naive Bayes"
   ]
  },
  {
   "cell_type": "code",
   "execution_count": 214,
   "metadata": {},
   "outputs": [
    {
     "name": "stderr",
     "output_type": "stream",
     "text": [
      "100%|██████████| 30/30 [00:03<00:00,  8.19it/s]\n"
     ]
    },
    {
     "data": {
      "text/plain": [
       "[0.9535,\n",
       " 0.9545,\n",
       " 0.9535,\n",
       " 0.9545,\n",
       " 0.953,\n",
       " 0.9545,\n",
       " 0.9545,\n",
       " 0.9555,\n",
       " 0.955,\n",
       " 0.952,\n",
       " 0.954,\n",
       " 0.954,\n",
       " 0.954,\n",
       " 0.9555,\n",
       " 0.955,\n",
       " 0.954,\n",
       " 0.954,\n",
       " 0.953,\n",
       " 0.9525,\n",
       " 0.954,\n",
       " 0.954,\n",
       " 0.9545,\n",
       " 0.9545,\n",
       " 0.954,\n",
       " 0.9545,\n",
       " 0.9535,\n",
       " 0.954,\n",
       " 0.9545,\n",
       " 0.954,\n",
       " 0.953]"
      ]
     },
     "execution_count": 214,
     "metadata": {},
     "output_type": "execute_result"
    }
   ],
   "source": [
    "model = GaussianNB\n",
    "\n",
    "results_nb = []\n",
    "for i in tqdm(range(n_experiments)):\n",
    "    result = cross_val(model)\n",
    "    results_nb.append(result)\n",
    "results_nb"
   ]
  },
  {
   "cell_type": "markdown",
   "metadata": {},
   "source": [
    "### k-NN"
   ]
  },
  {
   "cell_type": "code",
   "execution_count": 264,
   "metadata": {},
   "outputs": [
    {
     "name": "stderr",
     "output_type": "stream",
     "text": [
      "100%|██████████| 30/30 [08:26<00:00, 16.87s/it]\n"
     ]
    },
    {
     "data": {
      "text/plain": [
       "[0.979,\n",
       " 0.979,\n",
       " 0.9805,\n",
       " 0.978,\n",
       " 0.9795,\n",
       " 0.98,\n",
       " 0.981,\n",
       " 0.9795,\n",
       " 0.9815,\n",
       " 0.9795,\n",
       " 0.9795,\n",
       " 0.9795,\n",
       " 0.979,\n",
       " 0.98,\n",
       " 0.978,\n",
       " 0.9795,\n",
       " 0.979,\n",
       " 0.981,\n",
       " 0.9805,\n",
       " 0.98,\n",
       " 0.9795,\n",
       " 0.9785,\n",
       " 0.9795,\n",
       " 0.9795,\n",
       " 0.9805,\n",
       " 0.9785,\n",
       " 0.978,\n",
       " 0.9805,\n",
       " 0.979,\n",
       " 0.979]"
      ]
     },
     "execution_count": 264,
     "metadata": {},
     "output_type": "execute_result"
    }
   ],
   "source": [
    "parameters = {'n_neighbors': [1, 3, 5, 7, 9]}\n",
    "model = KNeighborsClassifier\n",
    "\n",
    "results_knn = []\n",
    "for i in tqdm(range(n_experiments)):\n",
    "    result = cross_val(model, parameters)\n",
    "    results_knn.append(result)\n",
    "results_knn"
   ]
  },
  {
   "cell_type": "markdown",
   "metadata": {},
   "source": [
    "### Janela de Parzen"
   ]
  },
  {
   "cell_type": "code",
   "execution_count": 215,
   "metadata": {},
   "outputs": [
    {
     "name": "stderr",
     "output_type": "stream",
     "text": [
      "100%|██████████| 30/30 [01:35<00:00,  3.18s/it]\n"
     ]
    },
    {
     "data": {
      "text/plain": [
       "[0.952,\n",
       " 0.9525,\n",
       " 0.952,\n",
       " 0.952,\n",
       " 0.9515,\n",
       " 0.952,\n",
       " 0.9525,\n",
       " 0.9525,\n",
       " 0.951,\n",
       " 0.9535,\n",
       " 0.953,\n",
       " 0.953,\n",
       " 0.952,\n",
       " 0.9515,\n",
       " 0.9515,\n",
       " 0.9525,\n",
       " 0.953,\n",
       " 0.9515,\n",
       " 0.9535,\n",
       " 0.954,\n",
       " 0.953,\n",
       " 0.953,\n",
       " 0.9525,\n",
       " 0.953,\n",
       " 0.9535,\n",
       " 0.952,\n",
       " 0.951,\n",
       " 0.9495,\n",
       " 0.952,\n",
       " 0.9525]"
      ]
     },
     "execution_count": 215,
     "metadata": {},
     "output_type": "execute_result"
    }
   ],
   "source": [
    "parameters = {'bandwidth': [0.1, 0.3, 0.5, 1, 1.5, 2]}\n",
    "model = KDEClassifier\n",
    "\n",
    "results_parzen = []\n",
    "for i in tqdm(range(n_experiments)):\n",
    "    result = cross_val(model)\n",
    "    results_parzen.append(result)\n",
    "results_parzen"
   ]
  },
  {
   "cell_type": "markdown",
   "metadata": {},
   "source": [
    "### Box plot"
   ]
  },
  {
   "cell_type": "code",
   "execution_count": 236,
   "metadata": {},
   "outputs": [],
   "source": [
    "import seaborn as sns"
   ]
  },
  {
   "cell_type": "code",
   "execution_count": 268,
   "metadata": {},
   "outputs": [],
   "source": [
    "results_df = pd.DataFrame(np.vstack((results_nb, results_knn, results_parzen)).T, columns=['Naive Bayes', 'k-NN', 'Parzen'])"
   ]
  },
  {
   "cell_type": "code",
   "execution_count": 270,
   "metadata": {},
   "outputs": [
    {
     "data": {
      "text/plain": [
       "<matplotlib.axes._subplots.AxesSubplot at 0x7fba465dbe10>"
      ]
     },
     "execution_count": 270,
     "metadata": {},
     "output_type": "execute_result"
    },
    {
     "data": {
      "image/png": "[encoded data removed]",
      "text/plain": [
       "<Figure size 864x504 with 1 Axes>"
      ]
     },
     "metadata": {
      "needs_background": "light"
     },
     "output_type": "display_data"
    }
   ],
   "source": [
    "results_df.boxplot(figsize=(12,7), grid=False, fontsize=14)"
   ]
  },
  {
   "cell_type": "code",
   "execution_count": 237,
   "metadata": {},
   "outputs": [
    {
     "data": {
      "text/plain": [
       "<matplotlib.axes._subplots.AxesSubplot at 0x7fba472bdf50>"
      ]
     },
     "execution_count": 237,
     "metadata": {},
     "output_type": "execute_result"
    },
    {
     "data": {
      "image/png": "[encoded data removed]",
      "text/plain": [
       "<Figure size 432x288 with 1 Axes>"
      ]
     },
     "metadata": {
      "needs_background": "light"
     },
     "output_type": "display_data"
    }
   ],
   "source": [
    "sns.boxplot(,)"
   ]
  },
  {
   "cell_type": "markdown",
   "metadata": {},
   "source": [
    "### Friedman test"
   ]
  },
  {
   "cell_type": "code",
   "execution_count": null,
   "metadata": {},
   "outputs": [],
   "source": [
    "results_1 = np.array(results)"
   ]
  },
  {
   "cell_type": "code",
   "execution_count": null,
   "metadata": {},
   "outputs": [],
   "source": [
    "### Simulação de resultados diferentes. Será substituído pelos resultados obtidos com os modelos II e III\n",
    "results_2 = np.array(results_1)\n",
    "results_3 = np.array(results_1)"
   ]
  },
  {
   "cell_type": "code",
   "execution_count": null,
   "metadata": {},
   "outputs": [],
   "source": [
    "results_2[-1] = results_2[-1] + 0.0012\n",
    "results_2[0] = results_2[0] - 0.0014\n",
    "\n",
    "results_3[-2] = results_3[-2] + 0.0021\n",
    "results_3[-2] = results_3[2] - 0.0012"
   ]
  },
  {
   "cell_type": "code",
   "execution_count": null,
   "metadata": {},
   "outputs": [],
   "source": [
    "stat, p = stats.friedmanchisquare(results_1, results_2, results_3)"
   ]
  },
  {
   "cell_type": "code",
   "execution_count": null,
   "metadata": {},
   "outputs": [],
   "source": [
    "print('Statistics=%.3f, p=%.3f' % (stat, p))\n",
    "alpha = 0.05\n",
    "if p > alpha:\n",
    "    print('Distribuições iguais (falha em rejeitar H0)')\n",
    "else:\n",
    "    print('Distribuições diferentes (rejeita H0)')"
   ]
  },
  {
   "cell_type": "markdown",
   "metadata": {},
   "source": [
    "### Intervalo de confiança"
   ]
  },
  {
   "cell_type": "code",
   "execution_count": 216,
   "metadata": {},
   "outputs": [],
   "source": [
    "def normality_test(sample, sample_name):\n",
    "    stat, p = stats.shapiro(sample)\n",
    "    alpha = 0.05\n",
    "    if p > alpha:\n",
    "        print(sample_name + ': segue a distribuição normal (falha em rejeitar H0)')\n",
    "    else:\n",
    "        print(sample_name + ' Não segue a distribuição normal (rejeita H0)')"
   ]
  },
  {
   "cell_type": "code",
   "execution_count": null,
   "metadata": {},
   "outputs": [],
   "source": [
    "normality_test(results, 'Resultado 1 (NB)')"
   ]
  },
  {
   "cell_type": "code",
   "execution_count": null,
   "metadata": {},
   "outputs": [],
   "source": [
    "confidence_level = 0.95\n",
    "degrees_freedom = len(results) - 1\n",
    "sample_mean = np.mean(results)\n",
    "sample_standard_error = stats.sem(results)\n",
    "\n",
    "confidence_interval = stats.t.interval(confidence_level, degrees_freedom, sample_mean, sample_standard_error)\n",
    "\n",
    "print('Estimativa pontual:', sample_mean)\n",
    "print('Intervalo de confiaça:', confidence_interval)\n",
    "print('Confiança de {}%'.format(int(confidence_level*100)))"
   ]
  }
 ],
 "metadata": {
  "kernelspec": {
   "display_name": "Python 3",
   "language": "python",
   "name": "python3"
  },
  "language_info": {
   "codemirror_mode": {
    "name": "ipython",
    "version": 3
   },
   "file_extension": ".py",
   "mimetype": "text/x-python",
   "name": "python",
   "nbconvert_exporter": "python",
   "pygments_lexer": "ipython3",
   "version": "3.7.6"
  }
 },
 "nbformat": 4,
 "nbformat_minor": 4
}
