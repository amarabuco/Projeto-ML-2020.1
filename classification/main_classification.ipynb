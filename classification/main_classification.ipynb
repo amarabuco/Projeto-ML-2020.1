{
 "cells": [
  {
   "cell_type": "markdown",
   "metadata": {},
   "source": [
    "# Projeto de Aprendizagem de Máquina"
   ]
  },
  {
   "cell_type": "markdown",
   "metadata": {},
   "source": [
    "## *Partitioning fuzzy K-medoids clustering algorithms with relevance weight for each dissimilarity matrix estimated locally*"
   ]
  },
  {
   "cell_type": "code",
   "execution_count": 2,
   "metadata": {},
   "outputs": [],
   "source": [
    "import pandas as pd\n",
    "import numpy as np\n",
    "import os\n",
    "from tqdm import tqdm\n",
    "\n",
    "from scipy.spatial.distance import pdist, squareform\n",
    "\n",
    "from sklearn.preprocessing import MinMaxScaler\n",
    "from scipy import stats\n",
    "\n",
    "from sklearn.naive_bayes import GaussianNB\n",
    "from sklearn.neighbors import KNeighborsClassifier\n",
    "from sklearn.metrics import accuracy_score\n",
    "from sklearn.model_selection import train_test_split, KFold, StratifiedKFold\n",
    "from sklearn.base import clone\n",
    "\n",
    "from sklearn.neighbors import KernelDensity\n",
    "from scipy.stats import gaussian_kde\n",
    "from sklearn.base import BaseEstimator, ClassifierMixin\n",
    "\n",
    "import matplotlib.pyplot as plt\n",
    "import seaborn as sns"
   ]
  },
  {
   "cell_type": "markdown",
   "metadata": {},
   "source": [
    "### Leitura dos dados"
   ]
  },
  {
   "cell_type": "code",
   "execution_count": 3,
   "metadata": {},
   "outputs": [],
   "source": [
    "PATH = '../data/'"
   ]
  },
  {
   "cell_type": "code",
   "execution_count": 4,
   "metadata": {},
   "outputs": [],
   "source": [
    "view1 = pd.read_csv(os.path.join(PATH, 'mfeat-fac'), sep='\\s+', header=None)\n",
    "view2 = pd.read_csv(os.path.join(PATH, 'mfeat-fou'), sep='\\s+',  header=None)\n",
    "view3 = pd.read_csv(os.path.join(PATH, 'mfeat-kar'), sep='\\s+',  header=None)"
   ]
  },
  {
   "cell_type": "code",
   "execution_count": 47,
   "metadata": {},
   "outputs": [
    {
     "name": "stdout",
     "output_type": "stream",
     "text": [
      "(2000, 216)\n",
      "(2000, 76)\n",
      "(2000, 64)\n"
     ]
    }
   ],
   "source": [
    "print(view1.shape)\n",
    "print(view2.shape)\n",
    "print(view3.shape)"
   ]
  },
  {
   "cell_type": "markdown",
   "metadata": {},
   "source": [
    "### Obter target"
   ]
  },
  {
   "cell_type": "code",
   "execution_count": 11,
   "metadata": {},
   "outputs": [],
   "source": [
    "y = pd.read_csv('../clustering/results_multiviews/particao_crisp.csv', header=None, squeeze=True)"
   ]
  },
  {
   "cell_type": "markdown",
   "metadata": {},
   "source": [
    "### Pré-processamento"
   ]
  },
  {
   "cell_type": "markdown",
   "metadata": {},
   "source": [
    "#### Normalização (reescala)"
   ]
  },
  {
   "cell_type": "code",
   "execution_count": 12,
   "metadata": {},
   "outputs": [],
   "source": [
    "scaler = MinMaxScaler()\n",
    "view1 = scaler.fit_transform(view1)\n",
    "\n",
    "scaler = MinMaxScaler()\n",
    "view2 = scaler.fit_transform(view2)\n",
    "\n",
    "scaler = MinMaxScaler()\n",
    "view3 = scaler.fit_transform(view3)"
   ]
  },
  {
   "cell_type": "markdown",
   "metadata": {},
   "source": [
    "## Classificação"
   ]
  },
  {
   "cell_type": "markdown",
   "metadata": {},
   "source": [
    "### Valicação cruzada com regra da soma"
   ]
  },
  {
   "cell_type": "code",
   "execution_count": 62,
   "metadata": {},
   "outputs": [],
   "source": [
    "def fit(model, Xs, y):\n",
    "    n_datasets = len(Xs)\n",
    "    estimators = [clone(model) for _ in range(n_datasets)]\n",
    "    \n",
    "    for i in range(n_datasets):\n",
    "        estimators[i].fit(Xs[i], y)\n",
    "        \n",
    "    return estimators"
   ]
  },
  {
   "cell_type": "code",
   "execution_count": 63,
   "metadata": {},
   "outputs": [],
   "source": [
    "def predict(estimators, Xs):\n",
    "    predictions = []\n",
    "    \n",
    "    n_datasets = len(Xs)\n",
    "    \n",
    "    for i in range(n_datasets):\n",
    "        pred = estimators[i].predict_proba(Xs[i])\n",
    "        predictions.append(pred)\n",
    "        \n",
    "    predictions = np.array(predictions)\n",
    "    \n",
    "    predictions = np.sum(predictions, axis=0)\n",
    "    \n",
    "    predictions = np.argmax(predictions, axis=1)\n",
    "    \n",
    "    return predictions"
   ]
  },
  {
   "cell_type": "code",
   "execution_count": 52,
   "metadata": {},
   "outputs": [],
   "source": [
    "def fine_tuning(model, parameters, Xs_train, y_train, Xs_val, y_val, verbose=0):\n",
    "    if verbose > 0:\n",
    "        print('###########')\n",
    "    \n",
    "    n_datasets = len(Xs_train)\n",
    "    \n",
    "    results = []\n",
    "    for key, values in parameters.items():\n",
    "        for value in values:\n",
    "            clf = model(**{key: value})\n",
    "    \n",
    "            estimators = fit(clf, Xs_train, y_train)\n",
    "            pred = predict(estimators, Xs_val)\n",
    "\n",
    "            result = accuracy_score(y_val, pred)\n",
    "            results.append({key: value, 'acurácia': result})\n",
    "\n",
    "    results_df = pd.DataFrame(results)\n",
    "    \n",
    "    best_result = results_df.sort_values('acurácia', ascending=False).iloc[0]\n",
    "    best_params = best_result[list(parameters.keys())].convert_dtypes().to_dict()\n",
    "    \n",
    "    \n",
    "    if verbose > 0:\n",
    "        print('Resultados: ')\n",
    "        print(results_df)\n",
    "        print('Melhor resultado:')\n",
    "        print(best_result['acurácia'])\n",
    "        print('Melhores parâmetros:')\n",
    "        print(best_params)\n",
    "\n",
    "    return best_params"
   ]
  },
  {
   "cell_type": "code",
   "execution_count": 64,
   "metadata": {},
   "outputs": [],
   "source": [
    "def cross_val(model, parameters=None, verbose=0):\n",
    "    predictions = []\n",
    "    targets = []\n",
    "    results = []\n",
    "    kfold = StratifiedKFold(n_splits=10, shuffle=True)\n",
    "    for train, test in kfold.split(y.index, y):\n",
    "        \n",
    "        best_param = None\n",
    "        \n",
    "        if parameters:\n",
    "            ## Tuning\n",
    "            \n",
    "            train_aux, val = train_test_split(train, test_size=0.222)\n",
    "\n",
    "            y_train = y[train_aux]\n",
    "            y_val = y[val]\n",
    "\n",
    "            view1_train = view1[train_aux]\n",
    "            view2_train = view2[train_aux]\n",
    "            view3_train = view3[train_aux]\n",
    "\n",
    "            view1_val = view1[val]\n",
    "            view2_val = view2[val]\n",
    "            view3_val = view3[val]\n",
    "\n",
    "            Xs_train = [view1_train, view2_train, view3_train]\n",
    "            Xs_val = [view1_val, view2_val, view3_val]\n",
    "            best_param = fine_tuning(model, parameters, Xs_train, y_train, Xs_val, y_val, verbose)\n",
    "        \n",
    "        ## Validation\n",
    "        y_train = y[train]\n",
    "        y_test = y[test]\n",
    "\n",
    "        view1_train = view1[train]\n",
    "        view2_train = view2[train]\n",
    "        view3_train = view3[train]\n",
    "\n",
    "        view1_test = view1[test]\n",
    "        view2_test = view2[test]\n",
    "        view3_test = view3[test]\n",
    "        \n",
    "        Xs_train = [view1_train, view2_train, view3_train]\n",
    "        Xs_test = [view1_test, view2_test, view3_test]\n",
    "        \n",
    "        if best_param:\n",
    "            clf = model(**best_param)\n",
    "        else:\n",
    "            clf = model()\n",
    "        \n",
    "        estimators = fit(clf, Xs_train, y_train)\n",
    "        pred = predict(estimators, Xs_test)\n",
    "        \n",
    "        predictions.extend(pred)\n",
    "        targets.extend(y_test.values)\n",
    "        \n",
    "\n",
    "    results = accuracy_score(targets, predictions)\n",
    "        \n",
    "    return results"
   ]
  },
  {
   "cell_type": "markdown",
   "metadata": {},
   "source": [
    "### Parzen Window"
   ]
  },
  {
   "cell_type": "markdown",
   "metadata": {},
   "source": [
    "### Implementação da predição com janela de parzen"
   ]
  },
  {
   "cell_type": "code",
   "execution_count": 22,
   "metadata": {},
   "outputs": [],
   "source": [
    "class KDEClassifier(BaseEstimator, ClassifierMixin):\n",
    "    \"\"\"Bayesian generative classification based on KDE\n",
    "    \n",
    "    Parameters\n",
    "    ----------\n",
    "    bandwidth : float\n",
    "        the kernel bandwidth within each class\n",
    "    kernel : str\n",
    "        the kernel name, passed to KernelDensity\n",
    "    \"\"\"\n",
    "    def __init__(self, bandwidth=1.0, kernel='gaussian'):\n",
    "        self.bandwidth = bandwidth\n",
    "        self.kernel = kernel\n",
    "        \n",
    "    def fit(self, X, y):\n",
    "        self.classes_ = np.sort(np.unique(y))\n",
    "        training_sets = [X[y == yi] for yi in self.classes_]\n",
    "        self.models_ = [KernelDensity(bandwidth=self.bandwidth,\n",
    "                                      kernel=self.kernel).fit(Xi)\n",
    "                        for Xi in training_sets]\n",
    "        self.logpriors_ = [np.log(Xi.shape[0] / X.shape[0])\n",
    "                           for Xi in training_sets]\n",
    "        return self\n",
    "        \n",
    "    def predict_proba(self, X):\n",
    "        logprobs = np.array([model.score_samples(X)\n",
    "                             for model in self.models_]).T\n",
    "        result = np.exp(logprobs + self.logpriors_)\n",
    "        return result / result.sum(1, keepdims=True)\n",
    "        \n",
    "    def predict(self, X):\n",
    "        return self.classes_[np.argmax(self.predict_proba(X), 1)]"
   ]
  },
  {
   "cell_type": "markdown",
   "metadata": {},
   "source": [
    "### Experimentos"
   ]
  },
  {
   "cell_type": "code",
   "execution_count": 23,
   "metadata": {},
   "outputs": [],
   "source": [
    "n_experiments = 30"
   ]
  },
  {
   "cell_type": "markdown",
   "metadata": {},
   "source": [
    "### Naive Bayes"
   ]
  },
  {
   "cell_type": "code",
   "execution_count": 24,
   "metadata": {},
   "outputs": [
    {
     "name": "stderr",
     "output_type": "stream",
     "text": [
      "100%|██████████| 30/30 [00:04<00:00,  7.11it/s]\n"
     ]
    },
    {
     "data": {
      "text/plain": [
       "[0.7005,\n",
       " 0.707,\n",
       " 0.705,\n",
       " 0.6995,\n",
       " 0.7025,\n",
       " 0.7035,\n",
       " 0.7015,\n",
       " 0.7005,\n",
       " 0.704,\n",
       " 0.704,\n",
       " 0.7035,\n",
       " 0.703,\n",
       " 0.704,\n",
       " 0.706,\n",
       " 0.7045,\n",
       " 0.707,\n",
       " 0.702,\n",
       " 0.7035,\n",
       " 0.7035,\n",
       " 0.7035,\n",
       " 0.703,\n",
       " 0.704,\n",
       " 0.7025,\n",
       " 0.703,\n",
       " 0.7025,\n",
       " 0.702,\n",
       " 0.704,\n",
       " 0.7015,\n",
       " 0.703,\n",
       " 0.7045]"
      ]
     },
     "execution_count": 24,
     "metadata": {},
     "output_type": "execute_result"
    }
   ],
   "source": [
    "model = GaussianNB\n",
    "\n",
    "results_nb = []\n",
    "for i in tqdm(range(n_experiments)):\n",
    "    result = cross_val(model)\n",
    "    results_nb.append(result)\n",
    "results_nb"
   ]
  },
  {
   "cell_type": "markdown",
   "metadata": {},
   "source": [
    "### k-NN"
   ]
  },
  {
   "cell_type": "code",
   "execution_count": 25,
   "metadata": {},
   "outputs": [
    {
     "name": "stderr",
     "output_type": "stream",
     "text": [
      "100%|██████████| 30/30 [07:55<00:00, 15.84s/it]\n"
     ]
    },
    {
     "data": {
      "text/plain": [
       "[0.7585,\n",
       " 0.7525,\n",
       " 0.7565,\n",
       " 0.757,\n",
       " 0.7485,\n",
       " 0.754,\n",
       " 0.7575,\n",
       " 0.755,\n",
       " 0.756,\n",
       " 0.7525,\n",
       " 0.7525,\n",
       " 0.7525,\n",
       " 0.7585,\n",
       " 0.751,\n",
       " 0.7545,\n",
       " 0.7615,\n",
       " 0.7555,\n",
       " 0.7585,\n",
       " 0.7565,\n",
       " 0.7585,\n",
       " 0.755,\n",
       " 0.7545,\n",
       " 0.7605,\n",
       " 0.759,\n",
       " 0.756,\n",
       " 0.7585,\n",
       " 0.7525,\n",
       " 0.759,\n",
       " 0.7605,\n",
       " 0.7505]"
      ]
     },
     "execution_count": 25,
     "metadata": {},
     "output_type": "execute_result"
    }
   ],
   "source": [
    "parameters = {'n_neighbors': [1, 3, 5, 7, 9]}\n",
    "model = KNeighborsClassifier\n",
    "\n",
    "results_knn = []\n",
    "for i in tqdm(range(n_experiments)):\n",
    "    result = cross_val(model, parameters)\n",
    "    results_knn.append(result)\n",
    "results_knn"
   ]
  },
  {
   "cell_type": "markdown",
   "metadata": {},
   "source": [
    "### Janela de Parzen"
   ]
  },
  {
   "cell_type": "code",
   "execution_count": 61,
   "metadata": {},
   "outputs": [
    {
     "data": {
      "text/plain": [
       "KDEClassifier(bandwidth=0.1)"
      ]
     },
     "execution_count": 61,
     "metadata": {},
     "output_type": "execute_result"
    }
   ],
   "source": [
    "KDEClassifier(**{'bandwidth': 0.1})"
   ]
  },
  {
   "cell_type": "code",
   "execution_count": 65,
   "metadata": {},
   "outputs": [
    {
     "name": "stderr",
     "output_type": "stream",
     "text": [
      "\n",
      "  0%|          | 0/30 [00:00<?, ?it/s]\u001b[A\n",
      "  3%|▎         | 1/30 [00:28<13:34, 28.10s/it]\u001b[A\n",
      "  7%|▋         | 2/30 [00:56<13:07, 28.12s/it]\u001b[A\n",
      " 10%|█         | 3/30 [01:24<12:39, 28.12s/it]\u001b[A\n",
      " 13%|█▎        | 4/30 [01:52<12:11, 28.15s/it]\u001b[A\n",
      " 17%|█▋        | 5/30 [02:20<11:43, 28.12s/it]\u001b[A\n",
      " 20%|██        | 6/30 [02:48<11:10, 27.94s/it]\u001b[A\n",
      " 23%|██▎       | 7/30 [03:16<10:42, 27.92s/it]\u001b[A\n",
      " 27%|██▋       | 8/30 [03:42<10:06, 27.59s/it]\u001b[A\n",
      " 30%|███       | 9/30 [04:10<09:36, 27.46s/it]\u001b[A\n",
      " 33%|███▎      | 10/30 [04:37<09:08, 27.43s/it]\u001b[A\n",
      " 37%|███▋      | 11/30 [05:05<08:43, 27.53s/it]\u001b[A\n",
      " 40%|████      | 12/30 [05:32<08:14, 27.47s/it]\u001b[A\n",
      " 43%|████▎     | 13/30 [05:59<07:46, 27.46s/it]\u001b[A\n",
      " 47%|████▋     | 14/30 [06:27<07:17, 27.37s/it]\u001b[A\n",
      " 50%|█████     | 15/30 [06:53<06:46, 27.10s/it]\u001b[A\n",
      " 53%|█████▎    | 16/30 [07:20<06:16, 26.92s/it]\u001b[A\n",
      " 57%|█████▋    | 17/30 [07:46<05:47, 26.76s/it]\u001b[A\n",
      " 60%|██████    | 18/30 [08:12<05:20, 26.67s/it]\u001b[A\n",
      " 63%|██████▎   | 19/30 [08:39<04:52, 26.60s/it]\u001b[A\n",
      " 67%|██████▋   | 20/30 [09:05<04:26, 26.62s/it]\u001b[A\n",
      " 70%|███████   | 21/30 [09:33<04:01, 26.79s/it]\u001b[A\n",
      " 73%|███████▎  | 22/30 [10:00<03:35, 26.93s/it]\u001b[A\n",
      " 77%|███████▋  | 23/30 [10:27<03:09, 27.05s/it]\u001b[A\n",
      " 80%|████████  | 24/30 [10:55<02:42, 27.15s/it]\u001b[A\n",
      " 83%|████████▎ | 25/30 [11:23<02:17, 27.41s/it]\u001b[A\n",
      " 87%|████████▋ | 26/30 [11:50<01:49, 27.29s/it]\u001b[A\n",
      " 90%|█████████ | 27/30 [12:17<01:21, 27.30s/it]\u001b[A\n",
      " 93%|█████████▎| 28/30 [12:44<00:54, 27.35s/it]\u001b[A\n",
      " 97%|█████████▋| 29/30 [13:12<00:27, 27.40s/it]\u001b[A\n",
      "100%|██████████| 30/30 [13:40<00:00, 27.34s/it]\u001b[A\n"
     ]
    },
    {
     "data": {
      "text/plain": [
       "[0.7545,\n",
       " 0.739,\n",
       " 0.748,\n",
       " 0.745,\n",
       " 0.745,\n",
       " 0.745,\n",
       " 0.7485,\n",
       " 0.7485,\n",
       " 0.7525,\n",
       " 0.748,\n",
       " 0.7505,\n",
       " 0.7475,\n",
       " 0.7505,\n",
       " 0.7505,\n",
       " 0.7425,\n",
       " 0.746,\n",
       " 0.7495,\n",
       " 0.7535,\n",
       " 0.7445,\n",
       " 0.753,\n",
       " 0.7405,\n",
       " 0.751,\n",
       " 0.7475,\n",
       " 0.742,\n",
       " 0.748,\n",
       " 0.7565,\n",
       " 0.742,\n",
       " 0.7465,\n",
       " 0.749,\n",
       " 0.7445]"
      ]
     },
     "execution_count": 65,
     "metadata": {},
     "output_type": "execute_result"
    }
   ],
   "source": [
    "parameters = {'bandwidth': [0.1, 0.3, 0.5, 1, 1.5, 2]}\n",
    "model = KDEClassifier\n",
    "\n",
    "results_parzen = []\n",
    "for i in tqdm(range(n_experiments)):\n",
    "    result = cross_val(model, parameters)\n",
    "    results_parzen.append(result)\n",
    "results_parzen"
   ]
  },
  {
   "cell_type": "markdown",
   "metadata": {},
   "source": [
    "### Box plot"
   ]
  },
  {
   "cell_type": "code",
   "execution_count": 94,
   "metadata": {},
   "outputs": [],
   "source": [
    "results_df = pd.DataFrame(np.vstack((results_nb, results_knn, results_parzen)).T, columns=['Gaussiano', 'k-NN', 'Parzen'])"
   ]
  },
  {
   "cell_type": "code",
   "execution_count": 95,
   "metadata": {},
   "outputs": [
    {
     "data": {
      "text/plain": [
       "<matplotlib.axes._subplots.AxesSubplot at 0x7f3a799b4710>"
      ]
     },
     "execution_count": 95,
     "metadata": {},
     "output_type": "execute_result"
    },
    {
     "data": {
      "image/png": "[encoded data removed]",
      "text/plain": [
       "<Figure size 864x504 with 1 Axes>"
      ]
     },
     "metadata": {
      "needs_background": "light"
     },
     "output_type": "display_data"
    }
   ],
   "source": [
    "results_df.boxplot(figsize=(12,7), grid=False, fontsize=14)"
   ]
  },
  {
   "cell_type": "markdown",
   "metadata": {},
   "source": [
    "### Friedman test"
   ]
  },
  {
   "cell_type": "code",
   "execution_count": 72,
   "metadata": {},
   "outputs": [],
   "source": [
    "stat, p = stats.friedmanchisquare(results_nb, results_knn, results_parzen)"
   ]
  },
  {
   "cell_type": "code",
   "execution_count": 73,
   "metadata": {},
   "outputs": [
    {
     "name": "stdout",
     "output_type": "stream",
     "text": [
      "Statistics=60.000, p=0.000\n",
      "Distribuições diferentes (rejeita H0)\n"
     ]
    }
   ],
   "source": [
    "print('Statistics=%.3f, p=%.3f' % (stat, p))\n",
    "alpha = 0.05\n",
    "if p > alpha:\n",
    "    print('Distribuições iguais (falha em rejeitar H0)')\n",
    "else:\n",
    "    print('Distribuições diferentes (rejeita H0)')"
   ]
  },
  {
   "cell_type": "markdown",
   "metadata": {},
   "source": [
    "### Intervalo de confiança"
   ]
  },
  {
   "cell_type": "code",
   "execution_count": 70,
   "metadata": {},
   "outputs": [],
   "source": [
    "def mean_confidence_interval(results, sample_name):\n",
    "    confidence_level = 0.95\n",
    "    degrees_freedom = len(results) - 1\n",
    "    sample_mean = np.mean(results)\n",
    "    sample_standard_error = stats.sem(results)\n",
    "\n",
    "    confidence_interval = stats.t.interval(confidence_level, degrees_freedom, sample_mean, sample_standard_error)\n",
    "\n",
    "    print('### {} ###'.format(sample_name))\n",
    "    print('Estimativa pontual:', sample_mean)\n",
    "    print('Intervalo de confiaça:', confidence_interval)\n",
    "    print('Confiança de {}%'.format(int(confidence_level*100)))\n",
    "    print('\\n')"
   ]
  },
  {
   "cell_type": "code",
   "execution_count": 71,
   "metadata": {},
   "outputs": [
    {
     "name": "stdout",
     "output_type": "stream",
     "text": [
      "### NB ###\n",
      "Estimativa pontual: 0.7032833333333333\n",
      "Intervalo de confiaça: (0.7026427686183639, 0.7039238980483026)\n",
      "Confiança de 95%\n",
      "\n",
      "\n",
      "### k-NN ###\n",
      "Estimativa pontual: 0.7557833333333334\n",
      "Intervalo de confiaça: (0.7545706964375075, 0.7569959702291592)\n",
      "Confiança de 95%\n",
      "\n",
      "\n",
      "### Parzen ###\n",
      "Estimativa pontual: 0.7476499999999999\n",
      "Intervalo de confiaça: (0.746075551797689, 0.7492244482023108)\n",
      "Confiança de 95%\n",
      "\n",
      "\n"
     ]
    }
   ],
   "source": [
    "mean_confidence_interval(results_nb, 'NB')\n",
    "mean_confidence_interval(results_knn, 'k-NN')\n",
    "mean_confidence_interval(results_parzen, 'Parzen')"
   ]
  }
 ],
 "metadata": {
  "kernelspec": {
   "display_name": "Python 3",
   "language": "python",
   "name": "python3"
  },
  "language_info": {
   "codemirror_mode": {
    "name": "ipython",
    "version": 3
   },
   "file_extension": ".py",
   "mimetype": "text/x-python",
   "name": "python",
   "nbconvert_exporter": "python",
   "pygments_lexer": "ipython3",
   "version": "3.7.6"
  }
 },
 "nbformat": 4,
 "nbformat_minor": 4
}
