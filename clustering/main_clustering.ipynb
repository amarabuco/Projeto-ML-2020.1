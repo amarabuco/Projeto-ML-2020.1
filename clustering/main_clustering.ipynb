{
 "cells": [
  {
   "cell_type": "markdown",
   "metadata": {
    "heading_collapsed": true
   },
   "source": [
    "# Imports"
   ]
  },
  {
   "cell_type": "code",
   "execution_count": 1,
   "metadata": {
    "ExecuteTime": {
     "end_time": "2020-09-06T03:30:07.357852Z",
     "start_time": "2020-09-06T03:30:03.543213Z"
    },
    "hidden": true
   },
   "outputs": [],
   "source": [
    "import pandas as pd\n",
    "import numpy as np\n",
    "import matplotlib.pyplot as plt\n",
    "import pickle\n",
    "\n",
    "from sklearn import preprocessing\n",
    "from sklearn.metrics.pairwise import euclidean_distances\n",
    "from sklearn.metrics.cluster import contingency_matrix\n",
    "from sklearn.metrics.cluster import adjusted_rand_score"
   ]
  },
  {
   "cell_type": "markdown",
   "metadata": {
    "heading_collapsed": true
   },
   "source": [
    "# Funções e Classes"
   ]
  },
  {
   "cell_type": "code",
   "execution_count": 118,
   "metadata": {
    "ExecuteTime": {
     "end_time": "2020-09-04T22:49:42.899231Z",
     "start_time": "2020-09-04T22:49:42.763619Z"
    },
    "code_folding": [
     0,
     7,
     14,
     23,
     30,
     52,
     73,
     104,
     115,
     122,
     129,
     143,
     149,
     155,
     170,
     184,
     193,
     206,
     214
    ],
    "hidden": true
   },
   "outputs": [],
   "source": [
    "def matching_per_dissim_matrix(i, prototypes, j):\n",
    "\n",
    "    dissim_matrix = dissim_matrices[j]\n",
    "    dissimilarity = dissim_matrix[i][prototypes].sum()\n",
    "\n",
    "    return dissimilarity\n",
    "\n",
    "def matching_function(i, k, prototypes):\n",
    "  \n",
    "    weighted_matches = [Lambda[k, j] * matching_per_dissim_matrix(i, prototypes, j) for j in range(p)]\n",
    "    matching_to_cluster = np.array(weighted_matches).sum()\n",
    "\n",
    "    return matching_to_cluster\n",
    "\n",
    "def homogeneity_intra_cluster(k, prototypes):\n",
    "\n",
    "    membership_degrees = U[:, k]\n",
    "    membership_degrees = np.power(membership_degrees, m)\n",
    "    cluster_matches = [matching_function(i, k, prototypes) for i in range(n)]\n",
    "    homogeneity_cluster = np.multiply(membership_degrees, cluster_matches).sum()\n",
    "\n",
    "    return homogeneity_cluster\n",
    "\n",
    "def adequacy_criterion():\n",
    "\n",
    "    homogeneities = [homogeneity_intra_cluster(k, G[k, :]) for k in range(K)]\n",
    "    sum_homogeneities = np.array(homogeneities).sum()\n",
    "\n",
    "    return sum_homogeneities\n",
    "\n",
    "def best_prototypes():\n",
    "\n",
    "    prototypes = np.zeros([K, q], dtype=int)\n",
    "\n",
    "    for k in range(K):\n",
    "\n",
    "        candidates_homogeneities = [homogeneity_intra_cluster(k, [h]) for h in range(n)]\n",
    "        homogeneities_series = pd.Series(candidates_homogeneities)\n",
    "        homogeneities_sorted = homogeneities_series.sort_values()\n",
    "                \n",
    "        # Não selecionar protótipos já definidos para outros clusters na tentativa de gerar maior diversidade. \n",
    "        best_protos = []\n",
    "        i = 0\n",
    "        while len(best_protos) < q:\n",
    "            if homogeneities_sorted.index[i] not in prototypes:\n",
    "                best_protos.append(homogeneities_sorted.index[i])\n",
    "            i += 1\n",
    "        \n",
    "        prototypes[k] = best_protos\n",
    "\n",
    "    return prototypes\n",
    "\n",
    "def best_relevance_weights():\n",
    "\n",
    "    relevance_weights = np.ones([K, p])\n",
    "\n",
    "    if p == 1: # Com uma única matriz de dissimilaridade não há o conceito de 'relevance weights'.\n",
    "        return relevance_weights\n",
    "\n",
    "    for k in range(K):\n",
    "\n",
    "        membership_degrees = np.power(U[:, k], m)\n",
    "        prototypes = G[k, :]\n",
    "\n",
    "        dissims_per_matrix_list = [dissim_matrices[h][:, prototypes].sum(axis=1) for h in range(p)]\n",
    "        homogen_list = [np.multiply(membership_degrees, dissims_per_matrix_list[h]).sum() for h in range(p)]\n",
    "\n",
    "        numerator = np.prod(homogen_list)**(1/p)\n",
    "\n",
    "        relevance_weights[k] = [numerator / homogen_list[j] for j in range(p)]\n",
    "\n",
    "    return relevance_weights\n",
    "\n",
    "def best_fuzzy_partition():\n",
    "\n",
    "    fuzzy_partition = np.empty((n, K))\n",
    "\n",
    "    for i in range(n):\n",
    "\n",
    "        if i in G: # Este elto eh 'compartilhado' igualitariamente entre os clusters os quais eh representante, zerando u_ik p/ o resto.\n",
    "\n",
    "            which_clusters = [1 if i in G[k] else 0 for k in range(K)] # Onde i é protótipo?\n",
    "            which_clusters = np.array(which_clusters, dtype='float64')\n",
    "\n",
    "            how_many_clusters = which_clusters.sum() # i é protótipo de quantos grupos?\n",
    "            membership_degrees = which_clusters * 1/how_many_clusters\n",
    "\n",
    "            fuzzy_partition[i] = membership_degrees\n",
    "\n",
    "        else:\n",
    "\n",
    "            for k in range(K):\n",
    "\n",
    "                exp = 1 / (m - 1)\n",
    "                numerator = matching_function(i, k, G[k, :])\n",
    "                dist_proportions = [(numerator / matching_function(i, h, G[h, :])) ** exp for h in range(K)]\n",
    "\n",
    "                membership_degree = np.array(dist_proportions).sum()\n",
    "                membership_degree **= -1\n",
    "\n",
    "                fuzzy_partition[i, k] = membership_degree\n",
    "\n",
    "    return fuzzy_partition\n",
    "\n",
    "class Experiment:\n",
    "\n",
    "    prototypes = None\n",
    "    relevance_weights = None\n",
    "    fuzzy_partition = None\n",
    "    adequacy_criterion = None\n",
    "    iterations = None\n",
    "\n",
    "    crisp_partition = None\n",
    "    expand_confusion_matrix = None\n",
    "\n",
    "    def partition_coeff(self):\n",
    "\n",
    "        membership_squared = np.power(self.fuzzy_partition, 2)\n",
    "        Vpc = membership_squared.sum() / n\n",
    "\n",
    "        return Vpc\n",
    "\n",
    "    def mod_partition_coeff(self):\n",
    "\n",
    "        Vpc = self.partition_coeff()\n",
    "        Vmpc = 1 - (K/(K-1)) * (1 - Vpc)\n",
    "\n",
    "        return Vmpc\n",
    "\n",
    "    def partition_entropy(self):\n",
    "\n",
    "        memberships = self.fuzzy_partition.copy()\n",
    "\n",
    "        # log(0) eh indefinido. Tem que tratar algumas entradas para nao dar erro.\n",
    "        # Mas, como multiplica-se por u_ik depois, onde esses u_ik's = 0, o valor resultante eh zero.\n",
    "        memberships[memberships == 0] = 1e-15\n",
    "        membership_log = np.log(memberships)\n",
    "\n",
    "        Vpe = np.multiply(self.fuzzy_partition, membership_log).sum()\n",
    "        Vpe *= -1/n\n",
    "\n",
    "        return Vpe\n",
    "\n",
    "    def fuzzy_to_crisp(self):\n",
    "\n",
    "        predicted_labels = [np.argmax(self.fuzzy_partition[i, :]) for i in range(n)]\n",
    "\n",
    "        self.crisp_partition = np.array(predicted_labels)\n",
    "\n",
    "    def adjusted_rand_index(self):\n",
    "\n",
    "        ar_index = adjusted_rand_score(true_labels, self.crisp_partition)\n",
    "\n",
    "        return ar_index\n",
    "\n",
    "    def confusion_matrix(self):\n",
    "\n",
    "        original_matrix = contingency_matrix(true_labels, self.crisp_partition)\n",
    "\n",
    "        cardinality_clusters = original_matrix.sum(axis=0)\n",
    "        cardinality_clusters = np.array([cardinality_clusters])\n",
    "        expanded_matrix = np.append(original_matrix, cardinality_clusters, axis=0)\n",
    "\n",
    "        cardinality_classes = original_matrix.sum(axis=1)\n",
    "        expand_card_classes = np.append(cardinality_classes, n)\n",
    "        expand_card_classes = np.array([expand_card_classes]).T\n",
    "        expanded_matrix = np.concatenate((expanded_matrix, expand_card_classes), axis=1)\n",
    "\n",
    "        self.expand_confusion_matrix = expanded_matrix\n",
    "\n",
    "    def partial_f_measure(self, i, j):\n",
    "\n",
    "        n_ij = self.expand_confusion_matrix[i][j]\n",
    "\n",
    "        if n_ij == 0:\n",
    "            return 0\n",
    "\n",
    "        precision_ij = n_ij / self.expand_confusion_matrix[-1][j]\n",
    "        recall_ij = n_ij / self.expand_confusion_matrix[i][-1]\n",
    "\n",
    "        F1_ij = 2 * (precision_ij * recall_ij) / (precision_ij + recall_ij)\n",
    "\n",
    "        return F1_ij\n",
    "\n",
    "    def max_partial_f_measure(self, i):\n",
    "\n",
    "        num_clusters = self.expand_confusion_matrix.shape[1] - 1\n",
    "\n",
    "        partial_f_measures = [self.partial_f_measure(i, j) for j in range(num_clusters)]\n",
    "        max_partial_F1 = np.array(partial_f_measures).max()\n",
    "\n",
    "        return max_partial_F1\n",
    "\n",
    "    def f_measure(self):\n",
    "\n",
    "        num_classes = self.expand_confusion_matrix.shape[0] - 1\n",
    "        max_partial_f_measures = [self.max_partial_f_measure(i) for i in range(num_classes)]\n",
    "\n",
    "        class_cardinalities = self.expand_confusion_matrix[:-1,-1]\n",
    "\n",
    "        cards_by_partialF1 = np.multiply(class_cardinalities, np.array(max_partial_f_measures))\n",
    "\n",
    "        F1 = cards_by_partialF1.sum() / n\n",
    "\n",
    "        return F1\n",
    "\n",
    "    def classification_error_rate(self):\n",
    "\n",
    "        original_matrix = self.expand_confusion_matrix[:-1,:-1]\n",
    "        accuracy = np.amax(original_matrix, axis=0).sum() / n\n",
    "        overall_error = 1 - accuracy\n",
    "\n",
    "        return overall_error\n",
    "    \n",
    "def run_experiments():\n",
    "    global G, Lambda, U\n",
    "    \n",
    "    best_experiment = Experiment()\n",
    "    best_experiment.adequacy_criterion = float('Inf')\n",
    "\n",
    "    adequacy_criterions = []\n",
    "\n",
    "    for num_experiment in range(num_max_experiments):\n",
    "\n",
    "        print(\"EXPERIMENTO\", num_experiment)\n",
    "\n",
    "        G = np.random.choice(n, (K,q), replace=False)\n",
    "        Lambda = np.ones([K, p])\n",
    "        U = best_fuzzy_partition()\n",
    "        previous_J = adequacy_criterion()\n",
    "\n",
    "        for t in range(T):\n",
    "\n",
    "            print(t)\n",
    "\n",
    "            G = best_prototypes()\n",
    "            Lambda = best_relevance_weights()\n",
    "            U = best_fuzzy_partition()\n",
    "\n",
    "            current_J = adequacy_criterion()\n",
    "\n",
    "            if abs(current_J - previous_J) <= epsilon:\n",
    "                break\n",
    "\n",
    "            previous_J = current_J\n",
    "\n",
    "        adequacy_criterions.append(current_J)\n",
    "        if current_J < best_experiment.adequacy_criterion:\n",
    "\n",
    "            best_experiment.prototypes = G\n",
    "            best_experiment.relevance_weights = Lambda\n",
    "            best_experiment.fuzzy_partition = U\n",
    "            best_experiment.adequacy_criterion = current_J\n",
    "            best_experiment.iterations = t\n",
    "    \n",
    "    return best_experiment, adequacy_criterions"
   ]
  },
  {
   "cell_type": "markdown",
   "metadata": {
    "heading_collapsed": true
   },
   "source": [
    "# Base de Dados"
   ]
  },
  {
   "cell_type": "code",
   "execution_count": 8,
   "metadata": {
    "ExecuteTime": {
     "end_time": "2020-09-06T03:33:19.653160Z",
     "start_time": "2020-09-06T03:33:19.647852Z"
    },
    "hidden": true
   },
   "outputs": [],
   "source": [
    "base_URL = '../data/mfeat-'\n",
    "\n",
    "scaler = preprocessing.MinMaxScaler()"
   ]
  },
  {
   "cell_type": "markdown",
   "metadata": {
    "heading_collapsed": true,
    "hidden": true
   },
   "source": [
    "## mfeat-fac (VIEW1): 216 Profile Correlations"
   ]
  },
  {
   "cell_type": "code",
   "execution_count": 5,
   "metadata": {
    "ExecuteTime": {
     "end_time": "2020-09-06T03:31:13.805166Z",
     "start_time": "2020-09-06T03:31:13.522415Z"
    },
    "hidden": true
   },
   "outputs": [
    {
     "data": {
      "text/plain": [
       "array([[0.        , 1.72588593, 1.86992771, ..., 4.04045739, 3.80502234,\n",
       "        4.600745  ],\n",
       "       [1.72588593, 0.        , 1.57167923, ..., 3.68046119, 3.2365864 ,\n",
       "        4.1536858 ],\n",
       "       [1.86992771, 1.57167923, 0.        , ..., 3.9692168 , 3.42356504,\n",
       "        4.54522005],\n",
       "       ...,\n",
       "       [4.04045739, 3.68046119, 3.9692168 , ..., 0.        , 1.89913396,\n",
       "        2.58285392],\n",
       "       [3.80502234, 3.2365864 , 3.42356504, ..., 1.89913396, 0.        ,\n",
       "        3.20629692],\n",
       "       [4.600745  , 4.1536858 , 4.54522005, ..., 2.58285392, 3.20629692,\n",
       "        0.        ]])"
      ]
     },
     "execution_count": 5,
     "metadata": {},
     "output_type": "execute_result"
    }
   ],
   "source": [
    "dataset_name = 'fac'\n",
    "view1_data = pd.read_csv(base_URL + dataset_name, delim_whitespace=True, header=None)\n",
    "\n",
    "view1_scaled_data = scaler.fit_transform(view1_data)\n",
    "\n",
    "view1_dissim_matrix = euclidean_distances(view1_scaled_data)\n",
    "view1_dissim_matrix"
   ]
  },
  {
   "cell_type": "markdown",
   "metadata": {
    "heading_collapsed": true,
    "hidden": true
   },
   "source": [
    "## mfeat-fou (VIEW2): 76 Fourier coefficients of the character shapes"
   ]
  },
  {
   "cell_type": "code",
   "execution_count": 6,
   "metadata": {
    "ExecuteTime": {
     "end_time": "2020-09-06T03:31:26.327129Z",
     "start_time": "2020-09-06T03:31:26.114361Z"
    },
    "hidden": true
   },
   "outputs": [
    {
     "data": {
      "text/plain": [
       "array([[0.        , 1.35395181, 1.30867471, ..., 2.24390513, 1.96626151,\n",
       "        2.13523067],\n",
       "       [1.35395181, 0.        , 0.98924623, ..., 2.65347044, 2.30267995,\n",
       "        2.42725748],\n",
       "       [1.30867471, 0.98924623, 0.        , ..., 2.58489862, 2.29506297,\n",
       "        2.33933551],\n",
       "       ...,\n",
       "       [2.24390513, 2.65347044, 2.58489862, ..., 0.        , 1.83682649,\n",
       "        2.15597947],\n",
       "       [1.96626151, 2.30267995, 2.29506297, ..., 1.83682649, 0.        ,\n",
       "        1.59639079],\n",
       "       [2.13523067, 2.42725748, 2.33933551, ..., 2.15597947, 1.59639079,\n",
       "        0.        ]])"
      ]
     },
     "execution_count": 6,
     "metadata": {},
     "output_type": "execute_result"
    }
   ],
   "source": [
    "dataset_name = 'fou'\n",
    "view2_data = pd.read_csv(base_URL + dataset_name, delim_whitespace=True, header=None)\n",
    "\n",
    "view2_scaled_data = scaler.fit_transform(view2_data)\n",
    "\n",
    "view2_dissim_matrix = euclidean_distances(view2_scaled_data)\n",
    "view2_dissim_matrix"
   ]
  },
  {
   "cell_type": "markdown",
   "metadata": {
    "heading_collapsed": true,
    "hidden": true
   },
   "source": [
    "## mfeat-kar (VIEW3): 64 Karhunen-Love coefficients"
   ]
  },
  {
   "cell_type": "code",
   "execution_count": 7,
   "metadata": {
    "ExecuteTime": {
     "end_time": "2020-09-06T03:31:34.039163Z",
     "start_time": "2020-09-06T03:31:33.872319Z"
    },
    "hidden": true
   },
   "outputs": [
    {
     "data": {
      "text/plain": [
       "array([[0.        , 1.27019294, 1.39703393, ..., 1.60547602, 1.375733  ,\n",
       "        1.6555859 ],\n",
       "       [1.27019294, 0.        , 1.47075805, ..., 1.61638344, 1.31450716,\n",
       "        1.66624684],\n",
       "       [1.39703393, 1.47075805, 0.        , ..., 1.49547019, 1.35372992,\n",
       "        1.69808797],\n",
       "       ...,\n",
       "       [1.60547602, 1.61638344, 1.49547019, ..., 0.        , 1.2464665 ,\n",
       "        1.74205919],\n",
       "       [1.375733  , 1.31450716, 1.35372992, ..., 1.2464665 , 0.        ,\n",
       "        1.46683793],\n",
       "       [1.6555859 , 1.66624684, 1.69808797, ..., 1.74205919, 1.46683793,\n",
       "        0.        ]])"
      ]
     },
     "execution_count": 7,
     "metadata": {},
     "output_type": "execute_result"
    }
   ],
   "source": [
    "dataset_name = 'kar'\n",
    "view3_data = pd.read_csv(base_URL + dataset_name, delim_whitespace=True, header=None)\n",
    "\n",
    "view3_scaled_data = scaler.fit_transform(view3_data)\n",
    "\n",
    "view3_dissim_matrix = euclidean_distances(view3_scaled_data)\n",
    "view3_dissim_matrix"
   ]
  },
  {
   "cell_type": "markdown",
   "metadata": {
    "heading_collapsed": true,
    "hidden": true
   },
   "source": [
    "## Rotulagem a priori"
   ]
  },
  {
   "cell_type": "markdown",
   "metadata": {
    "hidden": true
   },
   "source": [
    "\"The first 200 patterns are of class '0', followed by sets of 200 patterns for each of the classes '1' - '9'.\""
   ]
  },
  {
   "cell_type": "code",
   "execution_count": 129,
   "metadata": {
    "ExecuteTime": {
     "end_time": "2020-09-04T23:08:11.305863Z",
     "start_time": "2020-09-04T23:08:11.296826Z"
    },
    "hidden": true
   },
   "outputs": [],
   "source": [
    "true_labels = [int(i/200) for i in range (2000)]"
   ]
  },
  {
   "cell_type": "markdown",
   "metadata": {
    "heading_collapsed": true
   },
   "source": [
    "# Parâmetros Globais"
   ]
  },
  {
   "cell_type": "code",
   "execution_count": 142,
   "metadata": {
    "ExecuteTime": {
     "end_time": "2020-09-04T23:15:18.136696Z",
     "start_time": "2020-09-04T23:15:18.129596Z"
    },
    "hidden": true
   },
   "outputs": [],
   "source": [
    "n = view1_data.shape[0]\n",
    "\n",
    "K = 10\n",
    "m = 1.6\n",
    "T = 150\n",
    "epsilon = 10**-10\n",
    "\n",
    "q = 1\n",
    "\n",
    "num_max_experiments = 10"
   ]
  },
  {
   "cell_type": "markdown",
   "metadata": {},
   "source": [
    "# Experimento com as 3 Matrizes de Dissimilaridade Simultaneamente"
   ]
  },
  {
   "cell_type": "code",
   "execution_count": 143,
   "metadata": {
    "ExecuteTime": {
     "end_time": "2020-09-05T19:27:26.432672Z",
     "start_time": "2020-09-04T23:22:59.743786Z"
    }
   },
   "outputs": [
    {
     "name": "stdout",
     "output_type": "stream",
     "text": [
      "EXPERIMENTO 0\n",
      "0\n",
      "1\n",
      "2\n",
      "3\n",
      "4\n",
      "5\n",
      "EXPERIMENTO 1\n",
      "0\n",
      "1\n",
      "2\n",
      "3\n",
      "4\n",
      "EXPERIMENTO 2\n",
      "0\n",
      "1\n",
      "2\n",
      "3\n",
      "4\n",
      "5\n",
      "EXPERIMENTO 3\n",
      "0\n",
      "1\n",
      "2\n",
      "3\n",
      "4\n",
      "5\n",
      "EXPERIMENTO 4\n",
      "0\n",
      "1\n",
      "2\n",
      "3\n",
      "4\n",
      "5\n",
      "EXPERIMENTO 5\n",
      "0\n",
      "1\n",
      "2\n",
      "3\n",
      "4\n",
      "EXPERIMENTO 6\n",
      "0\n",
      "1\n",
      "2\n",
      "3\n",
      "4\n",
      "5\n",
      "EXPERIMENTO 7\n",
      "0\n",
      "1\n",
      "2\n",
      "3\n",
      "4\n",
      "5\n",
      "EXPERIMENTO 8\n",
      "0\n",
      "1\n",
      "2\n",
      "3\n",
      "4\n",
      "5\n",
      "EXPERIMENTO 9\n",
      "0\n",
      "1\n",
      "2\n",
      "3\n",
      "4\n"
     ]
    }
   ],
   "source": [
    "dissim_matrices = [view1_dissim_matrix, view2_dissim_matrix, view3_dissim_matrix]\n",
    "p = len(dissim_matrices)\n",
    "\n",
    "G = Lambda = U = None\n",
    "\n",
    "best_multiple_matrices, adequacy_criterions_mult = run_experiments()"
   ]
  },
  {
   "cell_type": "markdown",
   "metadata": {
    "heading_collapsed": true
   },
   "source": [
    "## Resultados"
   ]
  },
  {
   "cell_type": "code",
   "execution_count": 149,
   "metadata": {
    "ExecuteTime": {
     "end_time": "2020-09-05T21:49:23.052945Z",
     "start_time": "2020-09-05T21:49:23.049211Z"
    },
    "hidden": true
   },
   "outputs": [],
   "source": [
    "path_results_multiview = \"results_multiview/\""
   ]
  },
  {
   "cell_type": "markdown",
   "metadata": {
    "heading_collapsed": true,
    "hidden": true
   },
   "source": [
    "### Função Objetivo"
   ]
  },
  {
   "cell_type": "code",
   "execution_count": 145,
   "metadata": {
    "ExecuteTime": {
     "end_time": "2020-09-05T20:51:09.937498Z",
     "start_time": "2020-09-05T20:51:09.931492Z"
    },
    "hidden": true
   },
   "outputs": [
    {
     "data": {
      "text/plain": [
       "array([3327.75323691, 3325.7634124 , 3316.29413038, 3337.82882428,\n",
       "       3327.76945868, 3331.53975281, 3331.5117614 , 3324.92277635,\n",
       "       3311.4009504 , 3329.17185056])"
      ]
     },
     "execution_count": 145,
     "metadata": {},
     "output_type": "execute_result"
    }
   ],
   "source": [
    "adequacy_criterions_mult = np.array(adequacy_criterions_mult)\n",
    "adequacy_criterions_mult"
   ]
  },
  {
   "cell_type": "code",
   "execution_count": 147,
   "metadata": {
    "ExecuteTime": {
     "end_time": "2020-09-05T20:53:24.628248Z",
     "start_time": "2020-09-05T20:53:24.611366Z"
    },
    "hidden": true
   },
   "outputs": [
    {
     "data": {
      "text/html": [
       "<div>\n",
       "<style scoped>\n",
       "    .dataframe tbody tr th:only-of-type {\n",
       "        vertical-align: middle;\n",
       "    }\n",
       "\n",
       "    .dataframe tbody tr th {\n",
       "        vertical-align: top;\n",
       "    }\n",
       "\n",
       "    .dataframe thead th {\n",
       "        text-align: right;\n",
       "    }\n",
       "</style>\n",
       "<table border=\"1\" class=\"dataframe\">\n",
       "  <thead>\n",
       "    <tr style=\"text-align: right;\">\n",
       "      <th></th>\n",
       "      <th>Mínimo</th>\n",
       "      <th>Máximo</th>\n",
       "      <th>Média</th>\n",
       "      <th>Desvio-padrão</th>\n",
       "    </tr>\n",
       "  </thead>\n",
       "  <tbody>\n",
       "    <tr>\n",
       "      <th>0</th>\n",
       "      <td>3311.40095</td>\n",
       "      <td>3337.828824</td>\n",
       "      <td>3326.395615</td>\n",
       "      <td>7.240458</td>\n",
       "    </tr>\n",
       "  </tbody>\n",
       "</table>\n",
       "</div>"
      ],
      "text/plain": [
       "       Mínimo       Máximo        Média  Desvio-padrão\n",
       "0  3311.40095  3337.828824  3326.395615       7.240458"
      ]
     },
     "execution_count": 147,
     "metadata": {},
     "output_type": "execute_result"
    }
   ],
   "source": [
    "min_J = adequacy_criterions_mult.min()\n",
    "max_J = adequacy_criterions_mult.max()\n",
    "mean_J = adequacy_criterions_mult.mean()\n",
    "std_J = adequacy_criterions_mult.std()\n",
    "\n",
    "cols = columns=['Mínimo', 'Máximo', 'Média', 'Desvio-padrão']\n",
    "pd.DataFrame([[min_J, max_J, mean_J, std_J]], columns=cols)"
   ]
  },
  {
   "cell_type": "code",
   "execution_count": 148,
   "metadata": {
    "ExecuteTime": {
     "end_time": "2020-09-05T20:54:03.228239Z",
     "start_time": "2020-09-05T20:54:03.003679Z"
    },
    "hidden": true
   },
   "outputs": [
    {
     "data": {
      "image/png": "[encoded data removed]",
      "text/plain": [
       "<Figure size 720x432 with 1 Axes>"
      ]
     },
     "metadata": {
      "needs_background": "light"
     },
     "output_type": "display_data"
    }
   ],
   "source": [
    "ax = pd.DataFrame(adequacy_criterions_mult).plot(figsize=(10,6),\n",
    "                                       xticks=range(num_max_experiments),\n",
    "                                      fontsize=14,\n",
    "                                      legend=False)\n",
    "\n",
    "ax.set_xlabel(\"Nº Experimento\", fontsize=15)\n",
    "ax.set_ylabel(\"Função Objetivo\", fontsize=15)\n",
    "plt.show()"
   ]
  },
  {
   "cell_type": "code",
   "execution_count": 150,
   "metadata": {
    "ExecuteTime": {
     "end_time": "2020-09-05T21:50:42.449648Z",
     "start_time": "2020-09-05T21:50:42.412893Z"
    },
    "hidden": true
   },
   "outputs": [
    {
     "name": "stdout",
     "output_type": "stream",
     "text": [
      "Nº iterações do melhor experimento: 6\n"
     ]
    }
   ],
   "source": [
    "num_iter_best_exp = best_multiple_matrices.iterations + 1\n",
    "print(\"Nº iterações do melhor experimento:\", num_iter_best_exp)\n",
    "\n",
    "np.savetxt(path_results_multiview + 'num_iter_melhor_exp.csv', [num_iter_best_exp], delimiter=',')"
   ]
  },
  {
   "cell_type": "code",
   "execution_count": 151,
   "metadata": {
    "ExecuteTime": {
     "end_time": "2020-09-05T21:52:03.431712Z",
     "start_time": "2020-09-05T21:52:03.426258Z"
    },
    "hidden": true
   },
   "outputs": [],
   "source": [
    "np.savetxt(path_results_multiview + \"funcao_obj.csv\", adequacy_criterions_mult, delimiter=\",\")"
   ]
  },
  {
   "cell_type": "markdown",
   "metadata": {
    "heading_collapsed": true,
    "hidden": true
   },
   "source": [
    "### Set-medoids (Protótipos)"
   ]
  },
  {
   "cell_type": "code",
   "execution_count": 152,
   "metadata": {
    "ExecuteTime": {
     "end_time": "2020-09-05T21:54:23.070588Z",
     "start_time": "2020-09-05T21:54:23.065607Z"
    },
    "hidden": true
   },
   "outputs": [
    {
     "data": {
      "text/plain": [
       "array([[ 692],\n",
       "       [ 661],\n",
       "       [1717],\n",
       "       [  36],\n",
       "       [1831],\n",
       "       [1722],\n",
       "       [  25],\n",
       "       [ 753],\n",
       "       [  78],\n",
       "       [1864]])"
      ]
     },
     "execution_count": 152,
     "metadata": {},
     "output_type": "execute_result"
    }
   ],
   "source": [
    "best_multiple_matrices.prototypes"
   ]
  },
  {
   "cell_type": "code",
   "execution_count": 153,
   "metadata": {
    "ExecuteTime": {
     "end_time": "2020-09-05T21:55:31.528790Z",
     "start_time": "2020-09-05T21:55:31.518978Z"
    },
    "hidden": true
   },
   "outputs": [
    {
     "name": "stdout",
     "output_type": "stream",
     "text": [
      "Set-medoids (protótipos):\n",
      "\n",
      "Q1: [692]\n",
      "Q2: [661]\n",
      "Q3: [1717]\n",
      "Q4: [36]\n",
      "Q5: [1831]\n",
      "Q6: [1722]\n",
      "Q7: [25]\n",
      "Q8: [753]\n",
      "Q9: [78]\n",
      "Q10: [1864]\n"
     ]
    }
   ],
   "source": [
    "print(\"Set-medoids (protótipos):\\n\")\n",
    "for num_cluster in range(K):\n",
    "    print('Q' + str(num_cluster+1) + \":\", best_multiple_matrices.prototypes[num_cluster])"
   ]
  },
  {
   "cell_type": "code",
   "execution_count": 154,
   "metadata": {
    "ExecuteTime": {
     "end_time": "2020-09-05T21:56:33.304317Z",
     "start_time": "2020-09-05T21:56:33.297325Z"
    },
    "hidden": true
   },
   "outputs": [],
   "source": [
    "np.savetxt(path_results_multiview + \"prototipos.csv\", best_multiple_matrices.prototypes, delimiter=\",\")"
   ]
  },
  {
   "cell_type": "markdown",
   "metadata": {
    "heading_collapsed": true,
    "hidden": true
   },
   "source": [
    "### Partição Fuzzy"
   ]
  },
  {
   "cell_type": "code",
   "execution_count": 155,
   "metadata": {
    "ExecuteTime": {
     "end_time": "2020-09-05T21:59:22.024204Z",
     "start_time": "2020-09-05T21:59:22.014265Z"
    },
    "hidden": true
   },
   "outputs": [
    {
     "data": {
      "text/plain": [
       "array([[0.06037635, 0.05546225, 0.07311459, ..., 0.05376523, 0.2012007 ,\n",
       "        0.06299311],\n",
       "       [0.06320974, 0.06118753, 0.07690489, ..., 0.05787425, 0.18235497,\n",
       "        0.0699425 ],\n",
       "       [0.0677925 , 0.06350592, 0.08445756, ..., 0.05895369, 0.17672818,\n",
       "        0.07653252],\n",
       "       ...,\n",
       "       [0.10251634, 0.09809593, 0.0810013 , ..., 0.09410151, 0.09630054,\n",
       "        0.12265326],\n",
       "       [0.1000335 , 0.09895682, 0.08402019, ..., 0.09365571, 0.09278749,\n",
       "        0.1317448 ],\n",
       "       [0.08877798, 0.10203466, 0.08378263, ..., 0.11388018, 0.07933743,\n",
       "        0.11002313]])"
      ]
     },
     "execution_count": 155,
     "metadata": {},
     "output_type": "execute_result"
    }
   ],
   "source": [
    "best_multiple_matrices.fuzzy_partition"
   ]
  },
  {
   "cell_type": "code",
   "execution_count": 179,
   "metadata": {
    "ExecuteTime": {
     "end_time": "2020-09-05T22:16:05.517619Z",
     "start_time": "2020-09-05T22:16:05.510306Z"
    },
    "hidden": true
   },
   "outputs": [
    {
     "data": {
      "text/plain": [
       "array([1., 1., 1., ..., 1., 1., 1.])"
      ]
     },
     "execution_count": 179,
     "metadata": {},
     "output_type": "execute_result"
    }
   ],
   "source": [
    "memberships_sums = best_multiple_matrices.fuzzy_partition.sum(axis=1)\n",
    "memberships_sums"
   ]
  },
  {
   "cell_type": "code",
   "execution_count": 195,
   "metadata": {
    "ExecuteTime": {
     "end_time": "2020-09-05T22:27:36.730870Z",
     "start_time": "2020-09-05T22:27:36.459387Z"
    },
    "hidden": true
   },
   "outputs": [
    {
     "data": {
      "image/png": "[encoded data removed]",
      "text/plain": [
       "<Figure size 720x432 with 1 Axes>"
      ]
     },
     "metadata": {
      "needs_background": "light"
     },
     "output_type": "display_data"
    }
   ],
   "source": [
    "# Os graus de pertinência de cada objeto devem somar 1.\n",
    "ax = pd.DataFrame(memberships_sums).plot(figsize=(10,6),\n",
    "                                      fontsize=14,\n",
    "                                      legend=False)\n",
    "\n",
    "ax.set_xlabel(\"Objeto\", fontsize=15)\n",
    "ax.set_ylabel(\"Soma Graus Pertinência\", fontsize=15)\n",
    "plt.show()"
   ]
  },
  {
   "cell_type": "code",
   "execution_count": 205,
   "metadata": {
    "ExecuteTime": {
     "end_time": "2020-09-05T22:34:11.889194Z",
     "start_time": "2020-09-05T22:34:11.881401Z"
    },
    "hidden": true
   },
   "outputs": [
    {
     "data": {
      "text/plain": [
       "(0.9999999999999998, 1.0000000000000002)"
      ]
     },
     "execution_count": 205,
     "metadata": {},
     "output_type": "execute_result"
    }
   ],
   "source": [
    "# Os que não somam, é devido a erros numéricos.\n",
    "memberships_sums.min(), memberships_sums.max()"
   ]
  },
  {
   "cell_type": "code",
   "execution_count": 156,
   "metadata": {
    "ExecuteTime": {
     "end_time": "2020-09-05T22:00:23.038608Z",
     "start_time": "2020-09-05T22:00:22.991719Z"
    },
    "hidden": true
   },
   "outputs": [],
   "source": [
    "np.savetxt(path_results_multiview + \"particao_fuzzy.csv\", best_multiple_matrices.fuzzy_partition, delimiter=\",\")"
   ]
  },
  {
   "cell_type": "markdown",
   "metadata": {
    "heading_collapsed": true,
    "hidden": true
   },
   "source": [
    "### Partição Crisp"
   ]
  },
  {
   "cell_type": "code",
   "execution_count": 157,
   "metadata": {
    "ExecuteTime": {
     "end_time": "2020-09-05T22:02:08.271632Z",
     "start_time": "2020-09-05T22:02:08.244734Z"
    },
    "hidden": true,
    "scrolled": true
   },
   "outputs": [
    {
     "data": {
      "text/plain": [
       "array([8, 8, 8, ..., 4, 9, 4])"
      ]
     },
     "execution_count": 157,
     "metadata": {},
     "output_type": "execute_result"
    }
   ],
   "source": [
    "best_multiple_matrices.fuzzy_to_crisp()\n",
    "best_multiple_matrices.crisp_partition"
   ]
  },
  {
   "cell_type": "code",
   "execution_count": 158,
   "metadata": {
    "ExecuteTime": {
     "end_time": "2020-09-05T22:04:58.252849Z",
     "start_time": "2020-09-05T22:04:58.229594Z"
    },
    "hidden": true
   },
   "outputs": [
    {
     "name": "stdout",
     "output_type": "stream",
     "text": [
      "Lista de Objetos por Grupo:\n",
      "\n",
      "Q1: [ 203  205  207  209  217  218  219  221  223  231  232  234  239  241\n",
      "  245  249  251  253  256  259  262  263  268  270  271  273  277  280\n",
      "  285  286  289  291  293  294  295  297  298  310  311  314  317  319\n",
      "  320  323  326  334  339  341  345  346  350  357  363  366  368  377\n",
      "  378  379  381  382  383  386  388  389  394  396  399  405  451  565\n",
      "  567  583  600  609  611  615  617  620  621  631  634  637  649  650\n",
      "  651  657  667  670  671  673  677  682  686  690  692  699  700  705\n",
      "  711  716  717  720  730  736  740  741  744  769  770  775  784  785\n",
      "  787  791  795  799  801  803  806  814  816  826  830  831  837  847\n",
      "  848  872  873  887  899  903  904  930  931  932  962  966  977  984\n",
      "  986  996  997 1001 1011 1016 1023 1025 1037 1039 1047 1049 1050 1052\n",
      " 1054 1056 1060 1067 1068 1069 1078 1080 1089 1096 1099 1110 1114 1121\n",
      " 1122 1128 1132 1133 1135 1143 1146 1151 1153 1175 1185 1189 1191 1194\n",
      " 1198 1199 1222 1233 1241 1249 1263 1280 1281 1290 1299 1316 1320 1324\n",
      " 1380 1390 1396 1510] \n",
      "\n",
      "Q2: [ 210  211  212  224  226  233  237  244  260  274  276  278  281  282\n",
      "  283  292  299  304  306  312  322  325  329  337  338  353  356  361\n",
      "  365  373  387  400  401  406  411  423  427  440  446  457  467  482\n",
      "  486  495  497  506  508  513  546  557  590  597  603  604  605  607\n",
      "  612  613  614  616  618  619  622  625  628  630  632  635  638  639\n",
      "  644  646  652  654  658  661  662  668  669  680  688  695  698  703\n",
      "  704  707  708  709  712  714  718  725  727  728  731  733  734  737\n",
      "  745  747  748  750  751  754  755  757  759  761  762  766  768  771\n",
      "  772  774  779  783  792  793  798  828  854  905  950  960 1012 1013\n",
      " 1014 1073 1075 1090 1097 1101 1107 1120 1125 1127 1158 1160 1164 1178\n",
      " 1183 1187 1190 1196 1234 1378 1401 1420 1421 1424 1436 1442 1443 1445\n",
      " 1447 1454 1463 1470 1472 1499 1530 1538 1548 1568 1581 1596 1599 1667] \n",
      "\n",
      "Q3: [ 101  106  228  264  290  302  307  313  327  331  343  369  404  412\n",
      "  418  431  438  453  461  489  517  519  522  530  531  540  549  559\n",
      "  586  758  800  802  804  805  807  808  810  811  812  817  818  819\n",
      "  820  821  822  825  827  829  834  835  836  838  840  841  842  843\n",
      "  844  845  849  850  851  852  853  855  858  859  860  861  862  863\n",
      "  864  865  866  867  868  869  870  871  874  875  876  878  879  880\n",
      "  883  884  885  886  889  890  892  893  894  895  896  897  898  901\n",
      "  906  907  909  910  913  914  915  916  918  919  922  923  924  925\n",
      "  926  927  928  929  933  934  935  936  937  938  940  941  942  944\n",
      "  945  946  947  948  949  952  953  954  956  958  959  963  964  965\n",
      "  967  968  969  970  972  973  975  978  979  981  982  983  985  987\n",
      "  988  989  990  991  992  993  994  995  998  999 1003 1044 1045 1064\n",
      " 1065 1082 1088 1113 1117 1118 1119 1137 1169 1173 1176 1192 1197 1200\n",
      " 1201 1202 1203 1204 1205 1206 1207 1208 1209 1210 1211 1212 1214 1215\n",
      " 1216 1217 1218 1219 1220 1221 1223 1224 1225 1226 1227 1228 1229 1230\n",
      " 1231 1232 1235 1236 1237 1238 1239 1240 1242 1243 1244 1245 1246 1247\n",
      " 1248 1250 1251 1252 1253 1254 1255 1256 1257 1258 1259 1260 1261 1262\n",
      " 1265 1266 1267 1268 1269 1270 1271 1272 1273 1274 1275 1276 1277 1278\n",
      " 1279 1282 1283 1284 1285 1286 1288 1289 1291 1292 1293 1294 1295 1296\n",
      " 1297 1298 1300 1301 1302 1303 1304 1305 1306 1307 1308 1309 1310 1311\n",
      " 1312 1313 1314 1315 1317 1318 1319 1321 1322 1323 1325 1326 1327 1328\n",
      " 1329 1331 1332 1333 1334 1335 1336 1337 1338 1340 1341 1342 1343 1344\n",
      " 1345 1346 1347 1348 1349 1350 1351 1352 1353 1354 1355 1356 1357 1358\n",
      " 1359 1360 1361 1362 1363 1364 1365 1366 1367 1368 1369 1370 1371 1372\n",
      " 1373 1374 1375 1376 1377 1379 1381 1382 1383 1384 1385 1386 1387 1388\n",
      " 1389 1391 1392 1393 1394 1395 1397 1398 1399 1609 1611 1614 1631 1632\n",
      " 1635 1638 1639 1640 1646 1647 1656 1660 1671 1677 1680 1688 1692 1693\n",
      " 1702 1707 1715 1717 1719 1732 1740 1741 1748 1753 1755 1756 1768 1784\n",
      " 1786 1791 1793 1915 1936] \n",
      "\n",
      "Q4: [   5   12   27   34   36   44   56   59   66   70   73   75   84   92\n",
      "   96  105  109  113  115  137  149  152  166  172  177  184  185  189\n",
      "  190  439  458  473  480  514  521  550 1031 1070 1148 1172 1180 1182\n",
      " 1287 1601 1604 1613 1622 1628 1684 1724 1745 1783] \n",
      "\n",
      "Q5: [ 200  201  213  214  215  216  222  230  246  248  255  257  258  261\n",
      "  266  267  272  275  284  287  288  300  305  308  309  324  328  333\n",
      "  340  342  347  348  351  354  355  362  364  367  375  376  380  384\n",
      "  390  391  392  393  397  403  408  410  413  414  416  417  420  422\n",
      "  424  425  426  428  429  432  433  434  435  436  437  441  443  445\n",
      "  447  448  449  450  452  454  455  456  459  460  463  464  465  468\n",
      "  470  471  472  475  477  478  479  481  483  484  485  487  488  490\n",
      "  491  493  494  499  500  502  503  504  505  507  509  512  515  516\n",
      "  518  520  523  524  526  528  532  533  534  535  536  537  538  539\n",
      "  541  542  543  544  547  548  553  555  556  558  560  562  566  569\n",
      "  570  572  575  576  577  578  579  580  582  585  588  589  591  592\n",
      "  593  594  595  596  598  599  776  857  900  939 1006 1007 1008 1015\n",
      " 1019 1022 1024 1028 1029 1032 1066 1072 1074 1077 1081 1093 1095 1100\n",
      " 1103 1104 1108 1109 1116 1134 1136 1139 1142 1147 1154 1161 1184 1402\n",
      " 1403 1404 1406 1407 1408 1409 1410 1411 1412 1413 1414 1415 1416 1419\n",
      " 1422 1423 1425 1426 1427 1428 1429 1430 1431 1432 1433 1434 1435 1439\n",
      " 1440 1441 1444 1449 1450 1451 1452 1453 1455 1456 1457 1458 1459 1460\n",
      " 1461 1462 1464 1465 1466 1467 1468 1469 1471 1473 1474 1475 1477 1478\n",
      " 1479 1480 1481 1482 1483 1485 1486 1487 1489 1490 1491 1492 1493 1494\n",
      " 1495 1496 1497 1498 1500 1501 1502 1504 1505 1506 1508 1509 1511 1513\n",
      " 1515 1516 1517 1518 1520 1522 1523 1524 1525 1526 1527 1528 1529 1531\n",
      " 1532 1533 1534 1535 1536 1537 1539 1540 1541 1542 1543 1544 1545 1546\n",
      " 1547 1549 1550 1551 1552 1553 1554 1555 1556 1557 1558 1559 1560 1561\n",
      " 1562 1564 1565 1566 1567 1569 1570 1571 1572 1573 1574 1575 1576 1578\n",
      " 1579 1580 1582 1583 1584 1585 1586 1587 1588 1589 1590 1591 1592 1593\n",
      " 1594 1597 1598 1729 1800 1801 1803 1804 1805 1806 1808 1810 1811 1812\n",
      " 1813 1814 1817 1821 1823 1826 1827 1828 1831 1834 1836 1837 1840 1841\n",
      " 1843 1844 1845 1846 1847 1850 1851 1853 1854 1855 1856 1857 1858 1859\n",
      " 1861 1862 1863 1865 1866 1867 1869 1873 1875 1878 1881 1882 1884 1887\n",
      " 1888 1890 1891 1892 1893 1894 1895 1897 1898 1899 1900 1901 1902 1903\n",
      " 1904 1906 1908 1910 1911 1916 1920 1922 1923 1924 1926 1927 1930 1931\n",
      " 1932 1933 1935 1938 1939 1940 1942 1943 1944 1946 1948 1950 1952 1953\n",
      " 1955 1956 1957 1958 1959 1960 1961 1962 1963 1964 1965 1966 1969 1970\n",
      " 1971 1972 1973 1974 1975 1976 1977 1979 1980 1981 1983 1985 1986 1989\n",
      " 1991 1997 1999] \n",
      "\n",
      "Q6: [ 107  158  208  243  296  301  372  419  430  442  469  474  476  496\n",
      "  501  511  525  527  529  545  551  552  561  563  564  571  573  574\n",
      "  581  587  902  908  920  976 1091 1102 1105 1124 1600 1602 1606 1607\n",
      " 1608 1612 1615 1617 1619 1621 1624 1626 1627 1629 1634 1637 1641 1643\n",
      " 1645 1648 1650 1651 1652 1653 1654 1655 1657 1658 1661 1662 1663 1664\n",
      " 1665 1666 1668 1669 1670 1672 1673 1674 1675 1681 1682 1683 1686 1690\n",
      " 1695 1697 1698 1700 1701 1703 1705 1708 1709 1710 1711 1712 1713 1714\n",
      " 1716 1720 1721 1722 1723 1725 1726 1727 1728 1730 1731 1733 1734 1735\n",
      " 1736 1737 1738 1739 1742 1743 1744 1747 1749 1750 1751 1754 1757 1759\n",
      " 1760 1761 1762 1764 1765 1766 1767 1769 1770 1771 1772 1776 1777 1778\n",
      " 1779 1781 1782 1788 1790 1792 1794 1795 1796 1797] \n",
      "\n",
      "Q7: [   7    9   10   13   14   15   16   22   23   25   29   32   38   39\n",
      "   41   46   48   50   51   54   55   57   61   62   64   68   71   72\n",
      "   74   76   77   80   82   86   87   88   90   91   98  102  108  110\n",
      "  112  118  120  122  127  130  131  132  139  147  148  150  155  157\n",
      "  159  160  164  165  168  169  170  180  181  182  183  186  191  193\n",
      "  194  195  199  402  409  421  510  568 1000 1058 1605 1610 1620 1633\n",
      " 1644 1659 1685 1687 1689 1691 1694 1704 1706 1718 1746 1752 1763 1773\n",
      " 1775 1785 1789 1798 1799] \n",
      "\n",
      "Q8: [ 202  279  344  360  407  444  466  492  498  584  601  602  606  608\n",
      "  610  623  624  626  627  629  633  636  640  641  642  643  645  647\n",
      "  653  655  656  659  660  663  664  665  666  672  674  675  676  678\n",
      "  679  681  683  684  685  687  689  691  693  694  696  697  701  706\n",
      "  710  715  719  721  722  723  724  726  729  732  735  738  739  742\n",
      "  743  746  749  752  753  756  760  763  764  765  767  773  777  778\n",
      "  780  781  782  786  788  789  790  794  796  797  809  823  833  839\n",
      "  846  877  881  888  911  917  921  943  957  974 1004 1010 1030 1053\n",
      " 1061 1062 1063 1079 1085 1087 1106 1111 1123 1126 1129 1141 1144 1152\n",
      " 1156 1157 1167 1170 1177 1179 1181 1186 1193 1195 1264 1400 1417 1418\n",
      " 1438 1446 1448 1488 1503 1507 1512 1514 1521 1563 1992] \n",
      "\n",
      "Q9: [   0    1    2    3    4    6    8   11   17   18   19   20   21   24\n",
      "   26   28   30   31   33   35   37   40   42   43   45   47   49   52\n",
      "   53   58   60   63   65   67   69   78   79   81   83   85   89   93\n",
      "   94   95   97   99  100  103  104  111  114  116  117  119  121  123\n",
      "  124  125  126  128  129  133  134  135  136  138  140  141  142  143\n",
      "  144  145  146  151  153  154  156  161  162  163  167  171  173  174\n",
      "  175  176  178  179  187  188  192  196  197  198  415  815  980 1018\n",
      " 1036 1112 1213 1339 1616 1618 1630 1636 1642 1649 1676 1678 1679 1774\n",
      " 1780 1787] \n",
      "\n",
      "Q10: [ 204  206  220  225  227  229  235  236  238  240  242  247  250  252\n",
      "  254  265  269  303  315  316  318  321  330  332  335  336  349  352\n",
      "  358  359  370  371  374  385  395  398  462  554  648  702  713  813\n",
      "  824  832  856  882  891  912  951  955  961  971 1002 1005 1009 1017\n",
      " 1020 1021 1026 1027 1033 1034 1035 1038 1040 1041 1042 1043 1046 1048\n",
      " 1051 1055 1057 1059 1071 1076 1083 1084 1086 1092 1094 1098 1115 1130\n",
      " 1131 1138 1140 1145 1149 1150 1155 1159 1162 1163 1165 1166 1168 1171\n",
      " 1174 1188 1330 1405 1437 1476 1484 1519 1577 1595 1603 1623 1625 1696\n",
      " 1699 1758 1802 1807 1809 1815 1816 1818 1819 1820 1822 1824 1825 1829\n",
      " 1830 1832 1833 1835 1838 1839 1842 1848 1849 1852 1860 1864 1868 1870\n",
      " 1871 1872 1874 1876 1877 1879 1880 1883 1885 1886 1889 1896 1905 1907\n",
      " 1909 1912 1913 1914 1917 1918 1919 1921 1925 1928 1929 1934 1937 1941\n",
      " 1945 1947 1949 1951 1954 1967 1968 1978 1982 1984 1987 1988 1990 1993\n",
      " 1994 1995 1996 1998] \n",
      "\n"
     ]
    }
   ],
   "source": [
    "print(\"Lista de Objetos por Grupo:\\n\")\n",
    "\n",
    "crisp_clusters_mult = [np.where(best_multiple_matrices.crisp_partition == k)[0] for k in range(K)]\n",
    "\n",
    "for k in range(K): \n",
    "    print('Q' + str(k+1) + \":\", crisp_clusters_mult[k], '\\n')"
   ]
  },
  {
   "cell_type": "code",
   "execution_count": 159,
   "metadata": {
    "ExecuteTime": {
     "end_time": "2020-09-05T22:06:29.286409Z",
     "start_time": "2020-09-05T22:06:29.267895Z"
    },
    "hidden": true
   },
   "outputs": [
    {
     "name": "stdout",
     "output_type": "stream",
     "text": [
      "Número de Objetos em cada Grupo Crisp: \n",
      "\n",
      "Q1: 200\n",
      "Q2: 168\n",
      "Q3: 397\n",
      "Q4: 52\n",
      "Q5: 479\n",
      "Q6: 150\n",
      "Q7: 103\n",
      "Q8: 151\n",
      "Q9: 114\n",
      "Q10: 186\n"
     ]
    }
   ],
   "source": [
    "print(\"Número de Objetos em cada Grupo Crisp: \\n\")\n",
    "\n",
    "num_objects_crisp_mult = [cluster.shape[0] for cluster in crisp_clusters_mult]\n",
    "\n",
    "for k in range(K):\n",
    "    \n",
    "    print('Q' + str(k+1) + \":\", num_objects_crisp_mult[k])"
   ]
  },
  {
   "cell_type": "code",
   "execution_count": 160,
   "metadata": {
    "ExecuteTime": {
     "end_time": "2020-09-05T22:07:48.175304Z",
     "start_time": "2020-09-05T22:07:47.896504Z"
    },
    "hidden": true
   },
   "outputs": [
    {
     "data": {
      "image/png": "[encoded data removed]",
      "text/plain": [
       "<Figure size 720x576 with 1 Axes>"
      ]
     },
     "metadata": {
      "needs_background": "light"
     },
     "output_type": "display_data"
    }
   ],
   "source": [
    "ax = pd.DataFrame(num_objects_crisp_mult).plot.bar(figsize=(10,8),\n",
    "                                              fontsize=14,\n",
    "                                              legend=False,\n",
    "                                              rot=0)\n",
    "        \n",
    "ax.set_xticklabels(['Q' + str(k+1) for k in range(K)])\n",
    "ax.set_ylabel(\"Qtd Objetos\", fontsize=15)\n",
    "plt.show()"
   ]
  },
  {
   "cell_type": "code",
   "execution_count": 161,
   "metadata": {
    "ExecuteTime": {
     "end_time": "2020-09-05T22:08:52.594818Z",
     "start_time": "2020-09-05T22:08:52.517914Z"
    },
    "hidden": true
   },
   "outputs": [],
   "source": [
    "np.savetxt(path_results_multiview + \"particao_crisp.csv\", best_multiple_matrices.crisp_partition, delimiter=\",\")"
   ]
  },
  {
   "cell_type": "markdown",
   "metadata": {
    "heading_collapsed": true,
    "hidden": true
   },
   "source": [
    "### Pesos das Matrizes"
   ]
  },
  {
   "cell_type": "code",
   "execution_count": 162,
   "metadata": {
    "ExecuteTime": {
     "end_time": "2020-09-05T22:10:27.181770Z",
     "start_time": "2020-09-05T22:10:27.175842Z"
    },
    "hidden": true
   },
   "outputs": [
    {
     "data": {
      "text/plain": [
       "array([[0.62546765, 1.20655669, 1.32509621],\n",
       "       [0.59664723, 1.22740541, 1.36550828],\n",
       "       [0.60511056, 1.21661274, 1.3583538 ],\n",
       "       [0.62558544, 1.15381799, 1.3854028 ],\n",
       "       [0.59709906, 1.16749705, 1.43449097],\n",
       "       [0.65113622, 1.14566644, 1.34050967],\n",
       "       [0.6269772 , 1.09731552, 1.45350567],\n",
       "       [0.62889041, 1.15991183, 1.37088191],\n",
       "       [0.61996293, 1.11364121, 1.44840156],\n",
       "       [0.62249977, 1.14849643, 1.39872119]])"
      ]
     },
     "execution_count": 162,
     "metadata": {},
     "output_type": "execute_result"
    }
   ],
   "source": [
    "best_multiple_matrices.relevance_weights"
   ]
  },
  {
   "cell_type": "code",
   "execution_count": 194,
   "metadata": {
    "ExecuteTime": {
     "end_time": "2020-09-05T22:26:50.473270Z",
     "start_time": "2020-09-05T22:26:50.466805Z"
    },
    "hidden": true
   },
   "outputs": [
    {
     "data": {
      "text/plain": [
       "array([1., 1., 1., 1., 1., 1., 1., 1., 1., 1.])"
      ]
     },
     "execution_count": 194,
     "metadata": {},
     "output_type": "execute_result"
    }
   ],
   "source": [
    "weights_prod = best_multiple_matrices.relevance_weights.prod(axis=1)\n",
    "weights_prod"
   ]
  },
  {
   "cell_type": "code",
   "execution_count": 202,
   "metadata": {
    "ExecuteTime": {
     "end_time": "2020-09-05T22:32:03.807145Z",
     "start_time": "2020-09-05T22:32:03.581422Z"
    },
    "hidden": true
   },
   "outputs": [
    {
     "data": {
      "image/png": "[encoded data removed]",
      "text/plain": [
       "<Figure size 720x432 with 1 Axes>"
      ]
     },
     "metadata": {
      "needs_background": "light"
     },
     "output_type": "display_data"
    }
   ],
   "source": [
    "# O produto dos pesos das matrizes para cada cluster deve ser 1.\n",
    "ax = pd.DataFrame(weights_prod).plot(figsize=(10,6),\n",
    "                                      fontsize=14,\n",
    "                                    xticks = range(10),\n",
    "                                      legend=False)\n",
    "\n",
    "ax.set_xticklabels(['Q' + str(k+1) for k in range(K)])\n",
    "ax.set_ylabel(\"Prod Pesos Matrizes\", fontsize=15)\n",
    "plt.show()"
   ]
  },
  {
   "cell_type": "code",
   "execution_count": 206,
   "metadata": {
    "ExecuteTime": {
     "end_time": "2020-09-05T22:34:57.319170Z",
     "start_time": "2020-09-05T22:34:57.312795Z"
    },
    "hidden": true
   },
   "outputs": [
    {
     "data": {
      "text/plain": [
       "(0.999999999999999, 0.9999999999999994)"
      ]
     },
     "execution_count": 206,
     "metadata": {},
     "output_type": "execute_result"
    }
   ],
   "source": [
    "# Os que não resultam em 1, é devido a erros numéricos.\n",
    "weights_prod.min(), weights_prod.max()"
   ]
  },
  {
   "cell_type": "code",
   "execution_count": 207,
   "metadata": {
    "ExecuteTime": {
     "end_time": "2020-09-05T22:36:03.536829Z",
     "start_time": "2020-09-05T22:36:03.521871Z"
    },
    "hidden": true
   },
   "outputs": [
    {
     "data": {
      "text/html": [
       "<div>\n",
       "<style scoped>\n",
       "    .dataframe tbody tr th:only-of-type {\n",
       "        vertical-align: middle;\n",
       "    }\n",
       "\n",
       "    .dataframe tbody tr th {\n",
       "        vertical-align: top;\n",
       "    }\n",
       "\n",
       "    .dataframe thead th {\n",
       "        text-align: right;\n",
       "    }\n",
       "</style>\n",
       "<table border=\"1\" class=\"dataframe\">\n",
       "  <thead>\n",
       "    <tr style=\"text-align: right;\">\n",
       "      <th></th>\n",
       "      <th>View1</th>\n",
       "      <th>View2</th>\n",
       "      <th>View3</th>\n",
       "    </tr>\n",
       "  </thead>\n",
       "  <tbody>\n",
       "    <tr>\n",
       "      <th>Q1</th>\n",
       "      <td>0.625468</td>\n",
       "      <td>1.206557</td>\n",
       "      <td>1.325096</td>\n",
       "    </tr>\n",
       "    <tr>\n",
       "      <th>Q2</th>\n",
       "      <td>0.596647</td>\n",
       "      <td>1.227405</td>\n",
       "      <td>1.365508</td>\n",
       "    </tr>\n",
       "    <tr>\n",
       "      <th>Q3</th>\n",
       "      <td>0.605111</td>\n",
       "      <td>1.216613</td>\n",
       "      <td>1.358354</td>\n",
       "    </tr>\n",
       "    <tr>\n",
       "      <th>Q4</th>\n",
       "      <td>0.625585</td>\n",
       "      <td>1.153818</td>\n",
       "      <td>1.385403</td>\n",
       "    </tr>\n",
       "    <tr>\n",
       "      <th>Q5</th>\n",
       "      <td>0.597099</td>\n",
       "      <td>1.167497</td>\n",
       "      <td>1.434491</td>\n",
       "    </tr>\n",
       "    <tr>\n",
       "      <th>Q6</th>\n",
       "      <td>0.651136</td>\n",
       "      <td>1.145666</td>\n",
       "      <td>1.340510</td>\n",
       "    </tr>\n",
       "    <tr>\n",
       "      <th>Q7</th>\n",
       "      <td>0.626977</td>\n",
       "      <td>1.097316</td>\n",
       "      <td>1.453506</td>\n",
       "    </tr>\n",
       "    <tr>\n",
       "      <th>Q8</th>\n",
       "      <td>0.628890</td>\n",
       "      <td>1.159912</td>\n",
       "      <td>1.370882</td>\n",
       "    </tr>\n",
       "    <tr>\n",
       "      <th>Q9</th>\n",
       "      <td>0.619963</td>\n",
       "      <td>1.113641</td>\n",
       "      <td>1.448402</td>\n",
       "    </tr>\n",
       "    <tr>\n",
       "      <th>Q10</th>\n",
       "      <td>0.622500</td>\n",
       "      <td>1.148496</td>\n",
       "      <td>1.398721</td>\n",
       "    </tr>\n",
       "  </tbody>\n",
       "</table>\n",
       "</div>"
      ],
      "text/plain": [
       "        View1     View2     View3\n",
       "Q1   0.625468  1.206557  1.325096\n",
       "Q2   0.596647  1.227405  1.365508\n",
       "Q3   0.605111  1.216613  1.358354\n",
       "Q4   0.625585  1.153818  1.385403\n",
       "Q5   0.597099  1.167497  1.434491\n",
       "Q6   0.651136  1.145666  1.340510\n",
       "Q7   0.626977  1.097316  1.453506\n",
       "Q8   0.628890  1.159912  1.370882\n",
       "Q9   0.619963  1.113641  1.448402\n",
       "Q10  0.622500  1.148496  1.398721"
      ]
     },
     "execution_count": 207,
     "metadata": {},
     "output_type": "execute_result"
    }
   ],
   "source": [
    "cols = ['View'+ str(i+1) for i in range(p)]\n",
    "\n",
    "pd.DataFrame(best_multiple_matrices.relevance_weights, columns=cols, \n",
    "             index = ['Q' + str(k+1) for k in range(K)])"
   ]
  },
  {
   "cell_type": "code",
   "execution_count": 208,
   "metadata": {
    "ExecuteTime": {
     "end_time": "2020-09-05T22:37:32.904172Z",
     "start_time": "2020-09-05T22:37:32.899284Z"
    },
    "hidden": true
   },
   "outputs": [],
   "source": [
    "np.savetxt(path_results_multiview + \"pesos_matrizes.csv\", best_multiple_matrices.relevance_weights, delimiter=\",\")"
   ]
  },
  {
   "cell_type": "markdown",
   "metadata": {
    "heading_collapsed": true,
    "hidden": true
   },
   "source": [
    "### Métricas"
   ]
  },
  {
   "cell_type": "code",
   "execution_count": 209,
   "metadata": {
    "ExecuteTime": {
     "end_time": "2020-09-05T22:39:38.604270Z",
     "start_time": "2020-09-05T22:39:38.599870Z"
    },
    "hidden": true
   },
   "outputs": [],
   "source": [
    "measures_multiview = []"
   ]
  },
  {
   "cell_type": "markdown",
   "metadata": {
    "heading_collapsed": true,
    "hidden": true
   },
   "source": [
    "#### Métricas Internas"
   ]
  },
  {
   "cell_type": "markdown",
   "metadata": {
    "hidden": true
   },
   "source": [
    "Modified Partition Coefficient"
   ]
  },
  {
   "cell_type": "code",
   "execution_count": 210,
   "metadata": {
    "ExecuteTime": {
     "end_time": "2020-09-05T22:41:21.322280Z",
     "start_time": "2020-09-05T22:41:21.316312Z"
    },
    "hidden": true
   },
   "outputs": [
    {
     "data": {
      "text/plain": [
       "0.010821174248414"
      ]
     },
     "execution_count": 210,
     "metadata": {},
     "output_type": "execute_result"
    }
   ],
   "source": [
    "mpc = best_multiple_matrices.mod_partition_coeff()\n",
    "mpc"
   ]
  },
  {
   "cell_type": "code",
   "execution_count": 211,
   "metadata": {
    "ExecuteTime": {
     "end_time": "2020-09-05T22:41:58.985177Z",
     "start_time": "2020-09-05T22:41:58.982223Z"
    },
    "hidden": true
   },
   "outputs": [],
   "source": [
    "measures_multiview.append(mpc)"
   ]
  },
  {
   "cell_type": "markdown",
   "metadata": {
    "hidden": true
   },
   "source": [
    "Partition Entropy"
   ]
  },
  {
   "cell_type": "code",
   "execution_count": 212,
   "metadata": {
    "ExecuteTime": {
     "end_time": "2020-09-05T22:43:22.485061Z",
     "start_time": "2020-09-05T22:43:22.477663Z"
    },
    "hidden": true
   },
   "outputs": [
    {
     "data": {
      "text/plain": [
       "2.266436381341166"
      ]
     },
     "execution_count": 212,
     "metadata": {},
     "output_type": "execute_result"
    }
   ],
   "source": [
    "pe = best_multiple_matrices.partition_entropy()\n",
    "pe"
   ]
  },
  {
   "cell_type": "code",
   "execution_count": 213,
   "metadata": {
    "ExecuteTime": {
     "end_time": "2020-09-05T22:43:46.299142Z",
     "start_time": "2020-09-05T22:43:46.296003Z"
    },
    "hidden": true
   },
   "outputs": [],
   "source": [
    "measures_multiview.append(pe)"
   ]
  },
  {
   "cell_type": "markdown",
   "metadata": {
    "heading_collapsed": true,
    "hidden": true
   },
   "source": [
    "#### Métricas Externas"
   ]
  },
  {
   "cell_type": "code",
   "execution_count": 214,
   "metadata": {
    "ExecuteTime": {
     "end_time": "2020-09-05T22:45:53.781192Z",
     "start_time": "2020-09-05T22:45:53.751385Z"
    },
    "hidden": true
   },
   "outputs": [
    {
     "data": {
      "text/html": [
       "<div>\n",
       "<style scoped>\n",
       "    .dataframe tbody tr th:only-of-type {\n",
       "        vertical-align: middle;\n",
       "    }\n",
       "\n",
       "    .dataframe tbody tr th {\n",
       "        vertical-align: top;\n",
       "    }\n",
       "\n",
       "    .dataframe thead th {\n",
       "        text-align: right;\n",
       "    }\n",
       "</style>\n",
       "<table border=\"1\" class=\"dataframe\">\n",
       "  <thead>\n",
       "    <tr style=\"text-align: right;\">\n",
       "      <th></th>\n",
       "      <th>Q1</th>\n",
       "      <th>Q2</th>\n",
       "      <th>Q3</th>\n",
       "      <th>Q4</th>\n",
       "      <th>Q5</th>\n",
       "      <th>Q6</th>\n",
       "      <th>Q7</th>\n",
       "      <th>Q8</th>\n",
       "      <th>Q9</th>\n",
       "      <th>Q10</th>\n",
       "      <th>Soma</th>\n",
       "    </tr>\n",
       "  </thead>\n",
       "  <tbody>\n",
       "    <tr>\n",
       "      <th>P1</th>\n",
       "      <td>0</td>\n",
       "      <td>0</td>\n",
       "      <td>2</td>\n",
       "      <td>29</td>\n",
       "      <td>0</td>\n",
       "      <td>2</td>\n",
       "      <td>73</td>\n",
       "      <td>0</td>\n",
       "      <td>94</td>\n",
       "      <td>0</td>\n",
       "      <td>200</td>\n",
       "    </tr>\n",
       "    <tr>\n",
       "      <th>P2</th>\n",
       "      <td>67</td>\n",
       "      <td>31</td>\n",
       "      <td>10</td>\n",
       "      <td>0</td>\n",
       "      <td>47</td>\n",
       "      <td>5</td>\n",
       "      <td>0</td>\n",
       "      <td>4</td>\n",
       "      <td>0</td>\n",
       "      <td>36</td>\n",
       "      <td>200</td>\n",
       "    </tr>\n",
       "    <tr>\n",
       "      <th>P3</th>\n",
       "      <td>5</td>\n",
       "      <td>21</td>\n",
       "      <td>17</td>\n",
       "      <td>7</td>\n",
       "      <td>113</td>\n",
       "      <td>23</td>\n",
       "      <td>5</td>\n",
       "      <td>6</td>\n",
       "      <td>1</td>\n",
       "      <td>2</td>\n",
       "      <td>200</td>\n",
       "    </tr>\n",
       "    <tr>\n",
       "      <th>P4</th>\n",
       "      <td>44</td>\n",
       "      <td>67</td>\n",
       "      <td>1</td>\n",
       "      <td>0</td>\n",
       "      <td>1</td>\n",
       "      <td>0</td>\n",
       "      <td>0</td>\n",
       "      <td>84</td>\n",
       "      <td>0</td>\n",
       "      <td>3</td>\n",
       "      <td>200</td>\n",
       "    </tr>\n",
       "    <tr>\n",
       "      <th>P5</th>\n",
       "      <td>27</td>\n",
       "      <td>5</td>\n",
       "      <td>134</td>\n",
       "      <td>0</td>\n",
       "      <td>3</td>\n",
       "      <td>4</td>\n",
       "      <td>0</td>\n",
       "      <td>14</td>\n",
       "      <td>2</td>\n",
       "      <td>11</td>\n",
       "      <td>200</td>\n",
       "    </tr>\n",
       "    <tr>\n",
       "      <th>P6</th>\n",
       "      <td>41</td>\n",
       "      <td>20</td>\n",
       "      <td>17</td>\n",
       "      <td>6</td>\n",
       "      <td>31</td>\n",
       "      <td>4</td>\n",
       "      <td>2</td>\n",
       "      <td>28</td>\n",
       "      <td>3</td>\n",
       "      <td>48</td>\n",
       "      <td>200</td>\n",
       "    </tr>\n",
       "    <tr>\n",
       "      <th>P7</th>\n",
       "      <td>15</td>\n",
       "      <td>2</td>\n",
       "      <td>178</td>\n",
       "      <td>1</td>\n",
       "      <td>0</td>\n",
       "      <td>0</td>\n",
       "      <td>0</td>\n",
       "      <td>1</td>\n",
       "      <td>2</td>\n",
       "      <td>1</td>\n",
       "      <td>200</td>\n",
       "    </tr>\n",
       "    <tr>\n",
       "      <th>P8</th>\n",
       "      <td>1</td>\n",
       "      <td>21</td>\n",
       "      <td>0</td>\n",
       "      <td>0</td>\n",
       "      <td>158</td>\n",
       "      <td>0</td>\n",
       "      <td>0</td>\n",
       "      <td>13</td>\n",
       "      <td>0</td>\n",
       "      <td>7</td>\n",
       "      <td>200</td>\n",
       "    </tr>\n",
       "    <tr>\n",
       "      <th>P9</th>\n",
       "      <td>0</td>\n",
       "      <td>1</td>\n",
       "      <td>36</td>\n",
       "      <td>9</td>\n",
       "      <td>1</td>\n",
       "      <td>112</td>\n",
       "      <td>23</td>\n",
       "      <td>0</td>\n",
       "      <td>12</td>\n",
       "      <td>6</td>\n",
       "      <td>200</td>\n",
       "    </tr>\n",
       "    <tr>\n",
       "      <th>P10</th>\n",
       "      <td>0</td>\n",
       "      <td>0</td>\n",
       "      <td>2</td>\n",
       "      <td>0</td>\n",
       "      <td>125</td>\n",
       "      <td>0</td>\n",
       "      <td>0</td>\n",
       "      <td>1</td>\n",
       "      <td>0</td>\n",
       "      <td>72</td>\n",
       "      <td>200</td>\n",
       "    </tr>\n",
       "    <tr>\n",
       "      <th>Soma</th>\n",
       "      <td>200</td>\n",
       "      <td>168</td>\n",
       "      <td>397</td>\n",
       "      <td>52</td>\n",
       "      <td>479</td>\n",
       "      <td>150</td>\n",
       "      <td>103</td>\n",
       "      <td>151</td>\n",
       "      <td>114</td>\n",
       "      <td>186</td>\n",
       "      <td>2000</td>\n",
       "    </tr>\n",
       "  </tbody>\n",
       "</table>\n",
       "</div>"
      ],
      "text/plain": [
       "       Q1   Q2   Q3  Q4   Q5   Q6   Q7   Q8   Q9  Q10  Soma\n",
       "P1      0    0    2  29    0    2   73    0   94    0   200\n",
       "P2     67   31   10   0   47    5    0    4    0   36   200\n",
       "P3      5   21   17   7  113   23    5    6    1    2   200\n",
       "P4     44   67    1   0    1    0    0   84    0    3   200\n",
       "P5     27    5  134   0    3    4    0   14    2   11   200\n",
       "P6     41   20   17   6   31    4    2   28    3   48   200\n",
       "P7     15    2  178   1    0    0    0    1    2    1   200\n",
       "P8      1   21    0   0  158    0    0   13    0    7   200\n",
       "P9      0    1   36   9    1  112   23    0   12    6   200\n",
       "P10     0    0    2   0  125    0    0    1    0   72   200\n",
       "Soma  200  168  397  52  479  150  103  151  114  186  2000"
      ]
     },
     "execution_count": 214,
     "metadata": {},
     "output_type": "execute_result"
    }
   ],
   "source": [
    "best_multiple_matrices.confusion_matrix()\n",
    "\n",
    "cols =  ['Q' + str(k+1) for k in range(K)] + ['Soma']\n",
    "indexes = ['P' + str(k+1) for k in range(K)] + ['Soma']\n",
    "\n",
    "pd.DataFrame(best_multiple_matrices.expand_confusion_matrix, columns=cols, index=indexes)"
   ]
  },
  {
   "cell_type": "markdown",
   "metadata": {
    "hidden": true
   },
   "source": [
    "Índice de Rand Corrigido"
   ]
  },
  {
   "cell_type": "code",
   "execution_count": 215,
   "metadata": {
    "ExecuteTime": {
     "end_time": "2020-09-05T22:47:11.055260Z",
     "start_time": "2020-09-05T22:47:11.047723Z"
    },
    "hidden": true
   },
   "outputs": [
    {
     "data": {
      "text/plain": [
       "0.26617543496019475"
      ]
     },
     "execution_count": 215,
     "metadata": {},
     "output_type": "execute_result"
    }
   ],
   "source": [
    "ar_index = best_multiple_matrices.adjusted_rand_index()\n",
    "ar_index"
   ]
  },
  {
   "cell_type": "code",
   "execution_count": 216,
   "metadata": {
    "ExecuteTime": {
     "end_time": "2020-09-05T22:47:41.966752Z",
     "start_time": "2020-09-05T22:47:41.963575Z"
    },
    "hidden": true
   },
   "outputs": [],
   "source": [
    "measures_multiview.append(ar_index)"
   ]
  },
  {
   "cell_type": "markdown",
   "metadata": {
    "hidden": true
   },
   "source": [
    "F-measure"
   ]
  },
  {
   "cell_type": "code",
   "execution_count": 217,
   "metadata": {
    "ExecuteTime": {
     "end_time": "2020-09-05T22:48:27.743520Z",
     "start_time": "2020-09-05T22:48:27.736855Z"
    },
    "hidden": true
   },
   "outputs": [
    {
     "data": {
      "text/plain": [
       "0.4517579077106426"
      ]
     },
     "execution_count": 217,
     "metadata": {},
     "output_type": "execute_result"
    }
   ],
   "source": [
    "f1 = best_multiple_matrices.f_measure()\n",
    "f1"
   ]
  },
  {
   "cell_type": "code",
   "execution_count": 218,
   "metadata": {
    "ExecuteTime": {
     "end_time": "2020-09-05T22:48:46.599841Z",
     "start_time": "2020-09-05T22:48:46.594166Z"
    },
    "hidden": true
   },
   "outputs": [],
   "source": [
    "measures_multiview.append(f1)"
   ]
  },
  {
   "cell_type": "markdown",
   "metadata": {
    "hidden": true
   },
   "source": [
    "Erro de Atribuição"
   ]
  },
  {
   "cell_type": "code",
   "execution_count": 219,
   "metadata": {
    "ExecuteTime": {
     "end_time": "2020-09-05T22:49:27.891270Z",
     "start_time": "2020-09-05T22:49:27.884051Z"
    },
    "hidden": true
   },
   "outputs": [
    {
     "data": {
      "text/plain": [
       "0.5329999999999999"
      ]
     },
     "execution_count": 219,
     "metadata": {},
     "output_type": "execute_result"
    }
   ],
   "source": [
    "error_rate = best_multiple_matrices.classification_error_rate()\n",
    "error_rate"
   ]
  },
  {
   "cell_type": "code",
   "execution_count": 220,
   "metadata": {
    "ExecuteTime": {
     "end_time": "2020-09-05T22:49:49.554308Z",
     "start_time": "2020-09-05T22:49:49.547367Z"
    },
    "hidden": true
   },
   "outputs": [],
   "source": [
    "measures_multiview.append(error_rate)"
   ]
  },
  {
   "cell_type": "markdown",
   "metadata": {
    "heading_collapsed": true,
    "hidden": true
   },
   "source": [
    "#### Métricas Sumarizadas"
   ]
  },
  {
   "cell_type": "code",
   "execution_count": 221,
   "metadata": {
    "ExecuteTime": {
     "end_time": "2020-09-05T22:51:07.800245Z",
     "start_time": "2020-09-05T22:51:07.795352Z"
    },
    "hidden": true
   },
   "outputs": [
    {
     "data": {
      "text/plain": [
       "[0.010821174248414,\n",
       " 2.266436381341166,\n",
       " 0.26617543496019475,\n",
       " 0.4517579077106426,\n",
       " 0.5329999999999999]"
      ]
     },
     "execution_count": 221,
     "metadata": {},
     "output_type": "execute_result"
    }
   ],
   "source": [
    "measures_multiview"
   ]
  },
  {
   "cell_type": "code",
   "execution_count": 222,
   "metadata": {
    "ExecuteTime": {
     "end_time": "2020-09-05T22:51:46.092560Z",
     "start_time": "2020-09-05T22:51:46.068304Z"
    },
    "hidden": true
   },
   "outputs": [
    {
     "data": {
      "text/html": [
       "<div>\n",
       "<style scoped>\n",
       "    .dataframe tbody tr th:only-of-type {\n",
       "        vertical-align: middle;\n",
       "    }\n",
       "\n",
       "    .dataframe tbody tr th {\n",
       "        vertical-align: top;\n",
       "    }\n",
       "\n",
       "    .dataframe thead th {\n",
       "        text-align: right;\n",
       "    }\n",
       "</style>\n",
       "<table border=\"1\" class=\"dataframe\">\n",
       "  <thead>\n",
       "    <tr style=\"text-align: right;\">\n",
       "      <th></th>\n",
       "      <th>Mod Partition Coeff</th>\n",
       "      <th>Partition Entropy</th>\n",
       "      <th>Indice Rand Corr</th>\n",
       "      <th>F-measure</th>\n",
       "      <th>Erro Atribuição</th>\n",
       "    </tr>\n",
       "  </thead>\n",
       "  <tbody>\n",
       "    <tr>\n",
       "      <th>0</th>\n",
       "      <td>0.010821</td>\n",
       "      <td>2.266436</td>\n",
       "      <td>0.266175</td>\n",
       "      <td>0.451758</td>\n",
       "      <td>0.533</td>\n",
       "    </tr>\n",
       "  </tbody>\n",
       "</table>\n",
       "</div>"
      ],
      "text/plain": [
       "   Mod Partition Coeff  Partition Entropy  Indice Rand Corr  F-measure  \\\n",
       "0             0.010821           2.266436          0.266175   0.451758   \n",
       "\n",
       "   Erro Atribuição  \n",
       "0            0.533  "
      ]
     },
     "execution_count": 222,
     "metadata": {},
     "output_type": "execute_result"
    }
   ],
   "source": [
    "cols = ['Mod Partition Coeff', 'Partition Entropy', 'Indice Rand Corr',\n",
    "        'F-measure', 'Erro Atribuição']\n",
    "\n",
    "pd.DataFrame(measures_multiview, index = cols).T"
   ]
  },
  {
   "cell_type": "markdown",
   "metadata": {
    "heading_collapsed": true
   },
   "source": [
    "## Persistir Objeto do Experimento"
   ]
  },
  {
   "cell_type": "code",
   "execution_count": 225,
   "metadata": {
    "ExecuteTime": {
     "end_time": "2020-09-05T22:59:13.837768Z",
     "start_time": "2020-09-05T22:59:13.832786Z"
    },
    "hidden": true
   },
   "outputs": [],
   "source": [
    "exp_object_file = open(path_results_multiview + \"experiment_object\", \"wb\")\n",
    "\n",
    "pickle.dump(best_multiple_matrices, exp_object_file)\n",
    "\n",
    "exp_object_file.close()"
   ]
  },
  {
   "cell_type": "markdown",
   "metadata": {
    "ExecuteTime": {
     "end_time": "2020-09-05T19:27:26.438023Z",
     "start_time": "2020-09-05T19:27:26.435097Z"
    },
    "heading_collapsed": true
   },
   "source": [
    "# Experimento com a View1 Individualmente"
   ]
  },
  {
   "cell_type": "code",
   "execution_count": null,
   "metadata": {
    "hidden": true
   },
   "outputs": [],
   "source": [
    "dissim_matrices = [view1_dissim_matrix]\n",
    "p = len(dissim_matrices)\n",
    "\n",
    "G = Lambda = U = None\n",
    "\n",
    "best_view1, adequacy_criterions_view1 = run_experiments()"
   ]
  },
  {
   "cell_type": "code",
   "execution_count": null,
   "metadata": {
    "hidden": true
   },
   "outputs": [],
   "source": []
  },
  {
   "cell_type": "code",
   "execution_count": null,
   "metadata": {
    "hidden": true
   },
   "outputs": [],
   "source": []
  },
  {
   "cell_type": "code",
   "execution_count": null,
   "metadata": {
    "hidden": true
   },
   "outputs": [],
   "source": []
  },
  {
   "cell_type": "code",
   "execution_count": null,
   "metadata": {
    "hidden": true
   },
   "outputs": [],
   "source": []
  },
  {
   "cell_type": "markdown",
   "metadata": {
    "heading_collapsed": true
   },
   "source": [
    "# Experimento com a View2 Individualmente"
   ]
  },
  {
   "cell_type": "code",
   "execution_count": null,
   "metadata": {
    "hidden": true
   },
   "outputs": [],
   "source": [
    "dissim_matrices = [view2_dissim_matrix]\n",
    "p = len(dissim_matrices)\n",
    "\n",
    "G = Lambda = U = None\n",
    "\n",
    "best_view2, adequacy_criterions_view2 = run_experiments()"
   ]
  },
  {
   "cell_type": "code",
   "execution_count": null,
   "metadata": {
    "hidden": true
   },
   "outputs": [],
   "source": []
  },
  {
   "cell_type": "code",
   "execution_count": null,
   "metadata": {
    "hidden": true
   },
   "outputs": [],
   "source": []
  },
  {
   "cell_type": "markdown",
   "metadata": {
    "heading_collapsed": true
   },
   "source": [
    "# Experimento com a View3 Individualmente"
   ]
  },
  {
   "cell_type": "code",
   "execution_count": null,
   "metadata": {
    "hidden": true
   },
   "outputs": [],
   "source": [
    "dissim_matrices = [view3_dissim_matrix]\n",
    "p = len(dissim_matrices)\n",
    "\n",
    "G = Lambda = U = None\n",
    "\n",
    "best_view3, adequacy_criterions_view3 = run_experiments()"
   ]
  },
  {
   "cell_type": "code",
   "execution_count": null,
   "metadata": {
    "hidden": true
   },
   "outputs": [],
   "source": []
  },
  {
   "cell_type": "code",
   "execution_count": null,
   "metadata": {
    "hidden": true
   },
   "outputs": [],
   "source": []
  },
  {
   "cell_type": "code",
   "execution_count": null,
   "metadata": {
    "hidden": true
   },
   "outputs": [],
   "source": []
  }
 ],
 "metadata": {
  "kernelspec": {
   "display_name": "Python 3",
   "language": "python",
   "name": "python3"
  },
  "language_info": {
   "codemirror_mode": {
    "name": "ipython",
    "version": 3
   },
   "file_extension": ".py",
   "mimetype": "text/x-python",
   "name": "python",
   "nbconvert_exporter": "python",
   "pygments_lexer": "ipython3",
   "version": "3.7.6"
  },
  "toc": {
   "base_numbering": 1,
   "nav_menu": {},
   "number_sections": true,
   "sideBar": true,
   "skip_h1_title": false,
   "title_cell": "Table of Contents",
   "title_sidebar": "Contents",
   "toc_cell": false,
   "toc_position": {
    "height": "calc(100% - 180px)",
    "left": "10px",
    "top": "150px",
    "width": "212.656px"
   },
   "toc_section_display": true,
   "toc_window_display": false
  }
 },
 "nbformat": 4,
 "nbformat_minor": 4
}
