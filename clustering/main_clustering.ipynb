{
 "cells": [
  {
   "cell_type": "markdown",
   "metadata": {
    "heading_collapsed": true
   },
   "source": [
    "# Imports"
   ]
  },
  {
   "cell_type": "code",
   "execution_count": 1,
   "metadata": {
    "ExecuteTime": {
     "end_time": "2020-09-06T03:30:07.357852Z",
     "start_time": "2020-09-06T03:30:03.543213Z"
    },
    "hidden": true
   },
   "outputs": [],
   "source": [
    "import pandas as pd\n",
    "import numpy as np\n",
    "import matplotlib.pyplot as plt\n",
    "import pickle\n",
    "\n",
    "from sklearn import preprocessing\n",
    "from sklearn.metrics.pairwise import euclidean_distances\n",
    "from sklearn.metrics.cluster import contingency_matrix\n",
    "from sklearn.metrics.cluster import adjusted_rand_score"
   ]
  },
  {
   "cell_type": "markdown",
   "metadata": {
    "heading_collapsed": true
   },
   "source": [
    "# Funções e Classes"
   ]
  },
  {
   "cell_type": "code",
   "execution_count": 9,
   "metadata": {
    "ExecuteTime": {
     "end_time": "2020-09-06T03:52:32.688190Z",
     "start_time": "2020-09-06T03:52:32.632044Z"
    },
    "code_folding": [
     0,
     7,
     14,
     23,
     30,
     52,
     73,
     104,
     115,
     122,
     129,
     143,
     149,
     155,
     170,
     184,
     193,
     206,
     214
    ],
    "hidden": true
   },
   "outputs": [],
   "source": [
    "def matching_per_dissim_matrix(i, prototypes, j):\n",
    "\n",
    "    dissim_matrix = dissim_matrices[j]\n",
    "    dissimilarity = dissim_matrix[i][prototypes].sum()\n",
    "\n",
    "    return dissimilarity\n",
    "\n",
    "def matching_function(i, k, prototypes):\n",
    "  \n",
    "    weighted_matches = [Lambda[k, j] * matching_per_dissim_matrix(i, prototypes, j) for j in range(p)]\n",
    "    matching_to_cluster = np.array(weighted_matches).sum()\n",
    "\n",
    "    return matching_to_cluster\n",
    "\n",
    "def homogeneity_intra_cluster(k, prototypes):\n",
    "\n",
    "    membership_degrees = U[:, k]\n",
    "    membership_degrees = np.power(membership_degrees, m)\n",
    "    cluster_matches = [matching_function(i, k, prototypes) for i in range(n)]\n",
    "    homogeneity_cluster = np.multiply(membership_degrees, cluster_matches).sum()\n",
    "\n",
    "    return homogeneity_cluster\n",
    "\n",
    "def adequacy_criterion():\n",
    "\n",
    "    homogeneities = [homogeneity_intra_cluster(k, G[k, :]) for k in range(K)]\n",
    "    sum_homogeneities = np.array(homogeneities).sum()\n",
    "\n",
    "    return sum_homogeneities\n",
    "\n",
    "def best_prototypes():\n",
    "\n",
    "    prototypes = np.zeros([K, q], dtype=int)\n",
    "\n",
    "    for k in range(K):\n",
    "\n",
    "        candidates_homogeneities = [homogeneity_intra_cluster(k, [h]) for h in range(n)]\n",
    "        homogeneities_series = pd.Series(candidates_homogeneities)\n",
    "        homogeneities_sorted = homogeneities_series.sort_values()\n",
    "                \n",
    "        # Não selecionar protótipos já definidos para outros clusters na tentativa de gerar maior diversidade. \n",
    "        best_protos = []\n",
    "        i = 0\n",
    "        while len(best_protos) < q:\n",
    "            if homogeneities_sorted.index[i] not in prototypes:\n",
    "                best_protos.append(homogeneities_sorted.index[i])\n",
    "            i += 1\n",
    "        \n",
    "        prototypes[k] = best_protos\n",
    "\n",
    "    return prototypes\n",
    "\n",
    "def best_relevance_weights():\n",
    "\n",
    "    relevance_weights = np.ones([K, p])\n",
    "\n",
    "    if p == 1: # Com uma única matriz de dissimilaridade não há o conceito de 'relevance weights'.\n",
    "        return relevance_weights\n",
    "\n",
    "    for k in range(K):\n",
    "\n",
    "        membership_degrees = np.power(U[:, k], m)\n",
    "        prototypes = G[k, :]\n",
    "\n",
    "        dissims_per_matrix_list = [dissim_matrices[h][:, prototypes].sum(axis=1) for h in range(p)]\n",
    "        homogen_list = [np.multiply(membership_degrees, dissims_per_matrix_list[h]).sum() for h in range(p)]\n",
    "\n",
    "        numerator = np.prod(homogen_list)**(1/p)\n",
    "\n",
    "        relevance_weights[k] = [numerator / homogen_list[j] for j in range(p)]\n",
    "\n",
    "    return relevance_weights\n",
    "\n",
    "def best_fuzzy_partition():\n",
    "\n",
    "    fuzzy_partition = np.empty((n, K))\n",
    "\n",
    "    for i in range(n):\n",
    "\n",
    "        if i in G: # Este elto eh 'compartilhado' igualitariamente entre os clusters os quais eh representante, zerando u_ik p/ o resto.\n",
    "\n",
    "            which_clusters = [1 if i in G[k] else 0 for k in range(K)] # Onde i é protótipo?\n",
    "            which_clusters = np.array(which_clusters, dtype='float64')\n",
    "\n",
    "            how_many_clusters = which_clusters.sum() # i é protótipo de quantos grupos?\n",
    "            membership_degrees = which_clusters * 1/how_many_clusters\n",
    "\n",
    "            fuzzy_partition[i] = membership_degrees\n",
    "\n",
    "        else:\n",
    "\n",
    "            for k in range(K):\n",
    "\n",
    "                exp = 1 / (m - 1)\n",
    "                numerator = matching_function(i, k, G[k, :])\n",
    "                dist_proportions = [(numerator / matching_function(i, h, G[h, :])) ** exp for h in range(K)]\n",
    "\n",
    "                membership_degree = np.array(dist_proportions).sum()\n",
    "                membership_degree **= -1\n",
    "\n",
    "                fuzzy_partition[i, k] = membership_degree\n",
    "\n",
    "    return fuzzy_partition\n",
    "\n",
    "class Experiment:\n",
    "\n",
    "    prototypes = None\n",
    "    relevance_weights = None\n",
    "    fuzzy_partition = None\n",
    "    adequacy_criterion = None\n",
    "    iterations = None\n",
    "\n",
    "    crisp_partition = None\n",
    "    expand_confusion_matrix = None\n",
    "\n",
    "    def partition_coeff(self):\n",
    "\n",
    "        membership_squared = np.power(self.fuzzy_partition, 2)\n",
    "        Vpc = membership_squared.sum() / n\n",
    "\n",
    "        return Vpc\n",
    "\n",
    "    def mod_partition_coeff(self):\n",
    "\n",
    "        Vpc = self.partition_coeff()\n",
    "        Vmpc = 1 - (K/(K-1)) * (1 - Vpc)\n",
    "\n",
    "        return Vmpc\n",
    "\n",
    "    def partition_entropy(self):\n",
    "\n",
    "        memberships = self.fuzzy_partition.copy()\n",
    "\n",
    "        # log(0) eh indefinido. Tem que tratar algumas entradas para nao dar erro.\n",
    "        # Mas, como multiplica-se por u_ik depois, onde esses u_ik's = 0, o valor resultante eh zero.\n",
    "        memberships[memberships == 0] = 1e-15\n",
    "        membership_log = np.log(memberships)\n",
    "\n",
    "        Vpe = np.multiply(self.fuzzy_partition, membership_log).sum()\n",
    "        Vpe *= -1/n\n",
    "\n",
    "        return Vpe\n",
    "\n",
    "    def fuzzy_to_crisp(self):\n",
    "\n",
    "        predicted_labels = [np.argmax(self.fuzzy_partition[i, :]) for i in range(n)]\n",
    "\n",
    "        self.crisp_partition = np.array(predicted_labels)\n",
    "\n",
    "    def adjusted_rand_index(self):\n",
    "\n",
    "        ar_index = adjusted_rand_score(true_labels, self.crisp_partition)\n",
    "\n",
    "        return ar_index\n",
    "\n",
    "    def confusion_matrix(self):\n",
    "\n",
    "        original_matrix = contingency_matrix(true_labels, self.crisp_partition)\n",
    "\n",
    "        cardinality_clusters = original_matrix.sum(axis=0)\n",
    "        cardinality_clusters = np.array([cardinality_clusters])\n",
    "        expanded_matrix = np.append(original_matrix, cardinality_clusters, axis=0)\n",
    "\n",
    "        cardinality_classes = original_matrix.sum(axis=1)\n",
    "        expand_card_classes = np.append(cardinality_classes, n)\n",
    "        expand_card_classes = np.array([expand_card_classes]).T\n",
    "        expanded_matrix = np.concatenate((expanded_matrix, expand_card_classes), axis=1)\n",
    "\n",
    "        self.expand_confusion_matrix = expanded_matrix\n",
    "\n",
    "    def partial_f_measure(self, i, j):\n",
    "\n",
    "        n_ij = self.expand_confusion_matrix[i][j]\n",
    "\n",
    "        if n_ij == 0:\n",
    "            return 0\n",
    "\n",
    "        precision_ij = n_ij / self.expand_confusion_matrix[-1][j]\n",
    "        recall_ij = n_ij / self.expand_confusion_matrix[i][-1]\n",
    "\n",
    "        F1_ij = 2 * (precision_ij * recall_ij) / (precision_ij + recall_ij)\n",
    "\n",
    "        return F1_ij\n",
    "\n",
    "    def max_partial_f_measure(self, i):\n",
    "\n",
    "        num_clusters = self.expand_confusion_matrix.shape[1] - 1\n",
    "\n",
    "        partial_f_measures = [self.partial_f_measure(i, j) for j in range(num_clusters)]\n",
    "        max_partial_F1 = np.array(partial_f_measures).max()\n",
    "\n",
    "        return max_partial_F1\n",
    "\n",
    "    def f_measure(self):\n",
    "\n",
    "        num_classes = self.expand_confusion_matrix.shape[0] - 1\n",
    "        max_partial_f_measures = [self.max_partial_f_measure(i) for i in range(num_classes)]\n",
    "\n",
    "        class_cardinalities = self.expand_confusion_matrix[:-1,-1]\n",
    "\n",
    "        cards_by_partialF1 = np.multiply(class_cardinalities, np.array(max_partial_f_measures))\n",
    "\n",
    "        F1 = cards_by_partialF1.sum() / n\n",
    "\n",
    "        return F1\n",
    "\n",
    "    def classification_error_rate(self):\n",
    "\n",
    "        original_matrix = self.expand_confusion_matrix[:-1,:-1]\n",
    "        accuracy = np.amax(original_matrix, axis=0).sum() / n\n",
    "        overall_error = 1 - accuracy\n",
    "\n",
    "        return overall_error\n",
    "    \n",
    "def run_experiments():\n",
    "    global G, Lambda, U\n",
    "    \n",
    "    best_experiment = Experiment()\n",
    "    best_experiment.adequacy_criterion = float('Inf')\n",
    "\n",
    "    adequacy_criterions = []\n",
    "\n",
    "    for num_experiment in range(num_max_experiments):\n",
    "\n",
    "        print(\"EXPERIMENTO\", num_experiment)\n",
    "\n",
    "        G = np.random.choice(n, (K,q), replace=False)\n",
    "        Lambda = np.ones([K, p])\n",
    "        U = best_fuzzy_partition()\n",
    "        previous_J = adequacy_criterion()\n",
    "\n",
    "        for t in range(T):\n",
    "\n",
    "            print(t)\n",
    "\n",
    "            G = best_prototypes()\n",
    "            Lambda = best_relevance_weights()\n",
    "            U = best_fuzzy_partition()\n",
    "\n",
    "            current_J = adequacy_criterion()\n",
    "\n",
    "            if abs(current_J - previous_J) <= epsilon:\n",
    "                break\n",
    "\n",
    "            previous_J = current_J\n",
    "\n",
    "        adequacy_criterions.append(current_J)\n",
    "        if current_J < best_experiment.adequacy_criterion:\n",
    "\n",
    "            best_experiment.prototypes = G\n",
    "            best_experiment.relevance_weights = Lambda\n",
    "            best_experiment.fuzzy_partition = U\n",
    "            best_experiment.adequacy_criterion = current_J\n",
    "            best_experiment.iterations = t\n",
    "    \n",
    "    return best_experiment, adequacy_criterions"
   ]
  },
  {
   "cell_type": "markdown",
   "metadata": {},
   "source": [
    "# Base de Dados"
   ]
  },
  {
   "cell_type": "code",
   "execution_count": 10,
   "metadata": {
    "ExecuteTime": {
     "end_time": "2020-09-06T03:52:39.613080Z",
     "start_time": "2020-09-06T03:52:39.604706Z"
    }
   },
   "outputs": [],
   "source": [
    "base_URL = '../data/mfeat-'\n",
    "\n",
    "scaler = preprocessing.MinMaxScaler()"
   ]
  },
  {
   "cell_type": "markdown",
   "metadata": {
    "heading_collapsed": true
   },
   "source": [
    "## mfeat-fac (VIEW1): 216 Profile Correlations"
   ]
  },
  {
   "cell_type": "code",
   "execution_count": 5,
   "metadata": {
    "ExecuteTime": {
     "end_time": "2020-09-06T03:31:13.805166Z",
     "start_time": "2020-09-06T03:31:13.522415Z"
    },
    "hidden": true
   },
   "outputs": [
    {
     "data": {
      "text/plain": [
       "array([[0.        , 1.72588593, 1.86992771, ..., 4.04045739, 3.80502234,\n",
       "        4.600745  ],\n",
       "       [1.72588593, 0.        , 1.57167923, ..., 3.68046119, 3.2365864 ,\n",
       "        4.1536858 ],\n",
       "       [1.86992771, 1.57167923, 0.        , ..., 3.9692168 , 3.42356504,\n",
       "        4.54522005],\n",
       "       ...,\n",
       "       [4.04045739, 3.68046119, 3.9692168 , ..., 0.        , 1.89913396,\n",
       "        2.58285392],\n",
       "       [3.80502234, 3.2365864 , 3.42356504, ..., 1.89913396, 0.        ,\n",
       "        3.20629692],\n",
       "       [4.600745  , 4.1536858 , 4.54522005, ..., 2.58285392, 3.20629692,\n",
       "        0.        ]])"
      ]
     },
     "execution_count": 5,
     "metadata": {},
     "output_type": "execute_result"
    }
   ],
   "source": [
    "dataset_name = 'fac'\n",
    "view1_data = pd.read_csv(base_URL + dataset_name, delim_whitespace=True, header=None)\n",
    "\n",
    "view1_scaled_data = scaler.fit_transform(view1_data)\n",
    "\n",
    "view1_dissim_matrix = euclidean_distances(view1_scaled_data)\n",
    "view1_dissim_matrix"
   ]
  },
  {
   "cell_type": "markdown",
   "metadata": {
    "heading_collapsed": true
   },
   "source": [
    "## mfeat-fou (VIEW2): 76 Fourier coefficients of the character shapes"
   ]
  },
  {
   "cell_type": "code",
   "execution_count": 6,
   "metadata": {
    "ExecuteTime": {
     "end_time": "2020-09-06T03:31:26.327129Z",
     "start_time": "2020-09-06T03:31:26.114361Z"
    },
    "hidden": true
   },
   "outputs": [
    {
     "data": {
      "text/plain": [
       "array([[0.        , 1.35395181, 1.30867471, ..., 2.24390513, 1.96626151,\n",
       "        2.13523067],\n",
       "       [1.35395181, 0.        , 0.98924623, ..., 2.65347044, 2.30267995,\n",
       "        2.42725748],\n",
       "       [1.30867471, 0.98924623, 0.        , ..., 2.58489862, 2.29506297,\n",
       "        2.33933551],\n",
       "       ...,\n",
       "       [2.24390513, 2.65347044, 2.58489862, ..., 0.        , 1.83682649,\n",
       "        2.15597947],\n",
       "       [1.96626151, 2.30267995, 2.29506297, ..., 1.83682649, 0.        ,\n",
       "        1.59639079],\n",
       "       [2.13523067, 2.42725748, 2.33933551, ..., 2.15597947, 1.59639079,\n",
       "        0.        ]])"
      ]
     },
     "execution_count": 6,
     "metadata": {},
     "output_type": "execute_result"
    }
   ],
   "source": [
    "dataset_name = 'fou'\n",
    "view2_data = pd.read_csv(base_URL + dataset_name, delim_whitespace=True, header=None)\n",
    "\n",
    "view2_scaled_data = scaler.fit_transform(view2_data)\n",
    "\n",
    "view2_dissim_matrix = euclidean_distances(view2_scaled_data)\n",
    "view2_dissim_matrix"
   ]
  },
  {
   "cell_type": "markdown",
   "metadata": {
    "heading_collapsed": true
   },
   "source": [
    "## mfeat-kar (VIEW3): 64 Karhunen-Love coefficients"
   ]
  },
  {
   "cell_type": "code",
   "execution_count": 7,
   "metadata": {
    "ExecuteTime": {
     "end_time": "2020-09-06T03:31:34.039163Z",
     "start_time": "2020-09-06T03:31:33.872319Z"
    },
    "hidden": true
   },
   "outputs": [
    {
     "data": {
      "text/plain": [
       "array([[0.        , 1.27019294, 1.39703393, ..., 1.60547602, 1.375733  ,\n",
       "        1.6555859 ],\n",
       "       [1.27019294, 0.        , 1.47075805, ..., 1.61638344, 1.31450716,\n",
       "        1.66624684],\n",
       "       [1.39703393, 1.47075805, 0.        , ..., 1.49547019, 1.35372992,\n",
       "        1.69808797],\n",
       "       ...,\n",
       "       [1.60547602, 1.61638344, 1.49547019, ..., 0.        , 1.2464665 ,\n",
       "        1.74205919],\n",
       "       [1.375733  , 1.31450716, 1.35372992, ..., 1.2464665 , 0.        ,\n",
       "        1.46683793],\n",
       "       [1.6555859 , 1.66624684, 1.69808797, ..., 1.74205919, 1.46683793,\n",
       "        0.        ]])"
      ]
     },
     "execution_count": 7,
     "metadata": {},
     "output_type": "execute_result"
    }
   ],
   "source": [
    "dataset_name = 'kar'\n",
    "view3_data = pd.read_csv(base_URL + dataset_name, delim_whitespace=True, header=None)\n",
    "\n",
    "view3_scaled_data = scaler.fit_transform(view3_data)\n",
    "\n",
    "view3_dissim_matrix = euclidean_distances(view3_scaled_data)\n",
    "view3_dissim_matrix"
   ]
  },
  {
   "cell_type": "markdown",
   "metadata": {},
   "source": [
    "## Análise Descritiva (TO DO)"
   ]
  },
  {
   "cell_type": "code",
   "execution_count": 28,
   "metadata": {
    "ExecuteTime": {
     "end_time": "2020-09-06T07:23:40.461951Z",
     "start_time": "2020-09-06T07:23:40.396505Z"
    }
   },
   "outputs": [],
   "source": [
    "caso1 = np.argwhere(view1_dissim_matrix == 0)\n",
    "caso2 = np.argwhere(view2_dissim_matrix == 0)\n",
    "caso3 = np.argwhere(view3_dissim_matrix == 0)"
   ]
  },
  {
   "cell_type": "code",
   "execution_count": 40,
   "metadata": {
    "ExecuteTime": {
     "end_time": "2020-09-06T07:46:08.675830Z",
     "start_time": "2020-09-06T07:46:08.645843Z"
    }
   },
   "outputs": [
    {
     "name": "stdout",
     "output_type": "stream",
     "text": [
      "[605 774]\n",
      "[774 605]\n",
      "[1148 1172]\n",
      "[1172 1148]\n",
      "[1237 1271]\n",
      "[1271 1237]\n",
      "[1448 1521]\n",
      "[1521 1448]\n",
      "[1892 1999]\n",
      "[1999 1892]\n",
      "------------\n",
      "[605 774]\n",
      "[774 605]\n",
      "[1148 1172]\n",
      "[1172 1148]\n",
      "[1237 1271]\n",
      "[1265 1272]\n",
      "[1271 1237]\n",
      "[1272 1265]\n",
      "[1448 1521]\n",
      "[1521 1448]\n",
      "[1892 1999]\n",
      "[1999 1892]\n",
      "------------\n",
      "[605 774]\n",
      "[774 605]\n",
      "[1237 1271]\n",
      "[1265 1272]\n",
      "[1271 1237]\n",
      "[1272 1265]\n",
      "[1448 1521]\n",
      "[1521 1448]\n",
      "[1892 1999]\n",
      "[1999 1892]\n"
     ]
    }
   ],
   "source": [
    "for caso in caso1:\n",
    "    if caso[0] != caso[1]:\n",
    "        print(caso)\n",
    "print('------------')\n",
    "\n",
    "for caso in caso2:\n",
    "    if caso[0] != caso[1]:\n",
    "        print(caso)\n",
    "        \n",
    "print('------------')\n",
    "for caso in caso3:\n",
    "    if caso[0] != caso[1]:\n",
    "        print(caso)"
   ]
  },
  {
   "cell_type": "markdown",
   "metadata": {
    "heading_collapsed": true
   },
   "source": [
    "## Rotulagem a priori"
   ]
  },
  {
   "cell_type": "markdown",
   "metadata": {
    "hidden": true
   },
   "source": [
    "\"The first 200 patterns are of class '0', followed by sets of 200 patterns for each of the classes '1' - '9'.\""
   ]
  },
  {
   "cell_type": "code",
   "execution_count": 11,
   "metadata": {
    "ExecuteTime": {
     "end_time": "2020-09-06T03:53:03.076175Z",
     "start_time": "2020-09-06T03:53:03.071362Z"
    },
    "hidden": true
   },
   "outputs": [],
   "source": [
    "true_labels = [int(i/200) for i in range (2000)]"
   ]
  },
  {
   "cell_type": "markdown",
   "metadata": {
    "heading_collapsed": true
   },
   "source": [
    "# Parâmetros Globais"
   ]
  },
  {
   "cell_type": "code",
   "execution_count": 41,
   "metadata": {
    "ExecuteTime": {
     "end_time": "2020-09-06T07:52:40.375114Z",
     "start_time": "2020-09-06T07:52:40.366796Z"
    },
    "hidden": true
   },
   "outputs": [],
   "source": [
    "n = view1_data.shape[0]\n",
    "\n",
    "K = 10\n",
    "m = 1.6\n",
    "T = 150\n",
    "epsilon = 10**-10\n",
    "\n",
    "q = 2\n",
    "\n",
    "num_max_experiments = 10"
   ]
  },
  {
   "cell_type": "markdown",
   "metadata": {
    "heading_collapsed": true
   },
   "source": [
    "# Experimento com as 3 Matrizes de Dissimilaridade Simultaneamente"
   ]
  },
  {
   "cell_type": "code",
   "execution_count": 157,
   "metadata": {
    "ExecuteTime": {
     "end_time": "2020-09-07T20:19:40.449485Z",
     "start_time": "2020-09-07T01:35:55.732744Z"
    },
    "hidden": true
   },
   "outputs": [
    {
     "name": "stdout",
     "output_type": "stream",
     "text": [
      "EXPERIMENTO 0\n",
      "0\n",
      "1\n",
      "2\n",
      "3\n",
      "4\n",
      "5\n",
      "6\n",
      "EXPERIMENTO 1\n",
      "0\n",
      "1\n",
      "2\n",
      "3\n",
      "4\n",
      "5\n",
      "6\n",
      "EXPERIMENTO 2\n",
      "0\n",
      "1\n",
      "2\n",
      "3\n",
      "4\n",
      "5\n",
      "EXPERIMENTO 3\n",
      "0\n",
      "1\n",
      "2\n",
      "3\n",
      "4\n",
      "5\n",
      "EXPERIMENTO 4\n",
      "0\n",
      "1\n",
      "2\n",
      "3\n",
      "4\n",
      "EXPERIMENTO 5\n",
      "0\n",
      "1\n",
      "2\n",
      "3\n",
      "4\n",
      "5\n",
      "EXPERIMENTO 6\n",
      "0\n",
      "1\n",
      "2\n",
      "3\n",
      "4\n",
      "5\n",
      "6\n",
      "EXPERIMENTO 7\n",
      "0\n",
      "1\n",
      "2\n",
      "3\n",
      "4\n",
      "5\n",
      "EXPERIMENTO 8\n",
      "0\n",
      "1\n",
      "2\n",
      "3\n",
      "4\n",
      "5\n",
      "EXPERIMENTO 9\n",
      "0\n",
      "1\n",
      "2\n",
      "3\n",
      "4\n",
      "5\n"
     ]
    }
   ],
   "source": [
    "dissim_matrices = [view1_dissim_matrix, view2_dissim_matrix, view3_dissim_matrix]\n",
    "p = len(dissim_matrices)\n",
    "\n",
    "G = Lambda = U = None\n",
    "\n",
    "best_multiviews, adequacy_criterions_multiviews = run_experiments()"
   ]
  },
  {
   "cell_type": "markdown",
   "metadata": {
    "heading_collapsed": true,
    "hidden": true
   },
   "source": [
    "## Resultados"
   ]
  },
  {
   "cell_type": "code",
   "execution_count": 159,
   "metadata": {
    "ExecuteTime": {
     "end_time": "2020-09-07T21:53:25.551965Z",
     "start_time": "2020-09-07T21:53:25.548734Z"
    },
    "hidden": true
   },
   "outputs": [],
   "source": [
    "path_results_multiviews = \"results_multiviews/\""
   ]
  },
  {
   "cell_type": "markdown",
   "metadata": {
    "heading_collapsed": true,
    "hidden": true
   },
   "source": [
    "### Função Objetivo"
   ]
  },
  {
   "cell_type": "code",
   "execution_count": 160,
   "metadata": {
    "ExecuteTime": {
     "end_time": "2020-09-07T21:54:35.000198Z",
     "start_time": "2020-09-07T21:54:34.873112Z"
    },
    "hidden": true
   },
   "outputs": [
    {
     "data": {
      "text/plain": [
       "array([6739.78750674, 6750.4489911 , 6760.40613811, 6719.13418377,\n",
       "       6773.88113029, 6739.54122106, 6748.71287219, 6742.24973457,\n",
       "       6747.59686221, 6759.88869536])"
      ]
     },
     "execution_count": 160,
     "metadata": {},
     "output_type": "execute_result"
    }
   ],
   "source": [
    "adequacy_criterions_multiviews = np.array(adequacy_criterions_multiviews)\n",
    "adequacy_criterions_multiviews"
   ]
  },
  {
   "cell_type": "code",
   "execution_count": 161,
   "metadata": {
    "ExecuteTime": {
     "end_time": "2020-09-07T21:55:17.859216Z",
     "start_time": "2020-09-07T21:55:17.460200Z"
    },
    "hidden": true
   },
   "outputs": [
    {
     "data": {
      "text/html": [
       "<div>\n",
       "<style scoped>\n",
       "    .dataframe tbody tr th:only-of-type {\n",
       "        vertical-align: middle;\n",
       "    }\n",
       "\n",
       "    .dataframe tbody tr th {\n",
       "        vertical-align: top;\n",
       "    }\n",
       "\n",
       "    .dataframe thead th {\n",
       "        text-align: right;\n",
       "    }\n",
       "</style>\n",
       "<table border=\"1\" class=\"dataframe\">\n",
       "  <thead>\n",
       "    <tr style=\"text-align: right;\">\n",
       "      <th></th>\n",
       "      <th>Mínimo</th>\n",
       "      <th>Máximo</th>\n",
       "      <th>Média</th>\n",
       "      <th>Desvio-padrão</th>\n",
       "    </tr>\n",
       "  </thead>\n",
       "  <tbody>\n",
       "    <tr>\n",
       "      <th>0</th>\n",
       "      <td>6719.134184</td>\n",
       "      <td>6773.88113</td>\n",
       "      <td>6748.164734</td>\n",
       "      <td>14.059801</td>\n",
       "    </tr>\n",
       "  </tbody>\n",
       "</table>\n",
       "</div>"
      ],
      "text/plain": [
       "        Mínimo      Máximo        Média  Desvio-padrão\n",
       "0  6719.134184  6773.88113  6748.164734      14.059801"
      ]
     },
     "execution_count": 161,
     "metadata": {},
     "output_type": "execute_result"
    }
   ],
   "source": [
    "min_J = adequacy_criterions_multiviews.min()\n",
    "max_J = adequacy_criterions_multiviews.max()\n",
    "mean_J = adequacy_criterions_multiviews.mean()\n",
    "std_J = adequacy_criterions_multiviews.std()\n",
    "\n",
    "cols = columns=['Mínimo', 'Máximo', 'Média', 'Desvio-padrão']\n",
    "pd.DataFrame([[min_J, max_J, mean_J, std_J]], columns=cols)"
   ]
  },
  {
   "cell_type": "code",
   "execution_count": 162,
   "metadata": {
    "ExecuteTime": {
     "end_time": "2020-09-07T21:56:00.064166Z",
     "start_time": "2020-09-07T21:55:59.051213Z"
    },
    "hidden": true
   },
   "outputs": [
    {
     "data": {
      "image/png": "[encoded data removed]",
      "text/plain": [
       "<Figure size 720x432 with 1 Axes>"
      ]
     },
     "metadata": {
      "needs_background": "light"
     },
     "output_type": "display_data"
    }
   ],
   "source": [
    "ax = pd.DataFrame(adequacy_criterions_multiviews).plot(figsize=(10,6),\n",
    "                                       xticks=range(num_max_experiments),\n",
    "                                      fontsize=14,\n",
    "                                      legend=False)\n",
    "\n",
    "ax.set_xlabel(\"Nº Experimento\", fontsize=15)\n",
    "ax.set_ylabel(\"Função Objetivo\", fontsize=15)\n",
    "plt.show()"
   ]
  },
  {
   "cell_type": "code",
   "execution_count": 163,
   "metadata": {
    "ExecuteTime": {
     "end_time": "2020-09-07T21:57:19.241458Z",
     "start_time": "2020-09-07T21:57:19.209378Z"
    },
    "hidden": true
   },
   "outputs": [
    {
     "name": "stdout",
     "output_type": "stream",
     "text": [
      "Nº iterações do melhor experimento: 6\n"
     ]
    }
   ],
   "source": [
    "num_iter_best_exp = best_multiviews.iterations + 1\n",
    "print(\"Nº iterações do melhor experimento:\", num_iter_best_exp)\n",
    "\n",
    "np.savetxt(path_results_multiviews + 'num_iter_melhor_exp.csv', [num_iter_best_exp], delimiter=',')"
   ]
  },
  {
   "cell_type": "code",
   "execution_count": 164,
   "metadata": {
    "ExecuteTime": {
     "end_time": "2020-09-07T21:58:10.762055Z",
     "start_time": "2020-09-07T21:58:10.757275Z"
    },
    "hidden": true
   },
   "outputs": [],
   "source": [
    "np.savetxt(path_results_multiviews + \"funcao_obj.csv\", adequacy_criterions_multiviews, delimiter=\",\")"
   ]
  },
  {
   "cell_type": "markdown",
   "metadata": {
    "heading_collapsed": true,
    "hidden": true
   },
   "source": [
    "### Set-medoids (Protótipos)"
   ]
  },
  {
   "cell_type": "code",
   "execution_count": 165,
   "metadata": {
    "ExecuteTime": {
     "end_time": "2020-09-07T21:59:40.186221Z",
     "start_time": "2020-09-07T21:59:40.180065Z"
    },
    "hidden": true
   },
   "outputs": [
    {
     "data": {
      "text/plain": [
       "array([[ 692, 1864],\n",
       "       [1722, 1689],\n",
       "       [ 449,  436],\n",
       "       [1765, 1655],\n",
       "       [1717, 1715],\n",
       "       [1662, 1627],\n",
       "       [1890, 1831],\n",
       "       [ 661,  753],\n",
       "       [ 588,  504],\n",
       "       [1885, 1993]])"
      ]
     },
     "execution_count": 165,
     "metadata": {},
     "output_type": "execute_result"
    }
   ],
   "source": [
    "best_multiviews.prototypes"
   ]
  },
  {
   "cell_type": "code",
   "execution_count": 166,
   "metadata": {
    "ExecuteTime": {
     "end_time": "2020-09-07T22:00:24.058297Z",
     "start_time": "2020-09-07T22:00:24.019430Z"
    },
    "hidden": true
   },
   "outputs": [
    {
     "name": "stdout",
     "output_type": "stream",
     "text": [
      "Set-medoids (protótipos):\n",
      "\n",
      "Q1: [ 692 1864]\n",
      "Q2: [1722 1689]\n",
      "Q3: [449 436]\n",
      "Q4: [1765 1655]\n",
      "Q5: [1717 1715]\n",
      "Q6: [1662 1627]\n",
      "Q7: [1890 1831]\n",
      "Q8: [661 753]\n",
      "Q9: [588 504]\n",
      "Q10: [1885 1993]\n"
     ]
    }
   ],
   "source": [
    "print(\"Set-medoids (protótipos):\\n\")\n",
    "for num_cluster in range(K):\n",
    "    print('Q' + str(num_cluster+1) + \":\", best_multiviews.prototypes[num_cluster])"
   ]
  },
  {
   "cell_type": "code",
   "execution_count": 167,
   "metadata": {
    "ExecuteTime": {
     "end_time": "2020-09-07T22:00:59.669475Z",
     "start_time": "2020-09-07T22:00:59.662359Z"
    },
    "hidden": true
   },
   "outputs": [],
   "source": [
    "np.savetxt(path_results_multiviews + \"prototipos.csv\", best_multiviews.prototypes, delimiter=\",\")"
   ]
  },
  {
   "cell_type": "markdown",
   "metadata": {
    "heading_collapsed": true,
    "hidden": true
   },
   "source": [
    "### Partição Fuzzy"
   ]
  },
  {
   "cell_type": "code",
   "execution_count": 168,
   "metadata": {
    "ExecuteTime": {
     "end_time": "2020-09-07T22:01:45.119202Z",
     "start_time": "2020-09-07T22:01:45.113696Z"
    },
    "hidden": true
   },
   "outputs": [
    {
     "data": {
      "text/plain": [
       "array([[0.08760034, 0.12734084, 0.08204584, ..., 0.07752916, 0.08439179,\n",
       "        0.10182012],\n",
       "       [0.08373651, 0.13047288, 0.0835423 , ..., 0.07502456, 0.08126475,\n",
       "        0.10241487],\n",
       "       [0.0899679 , 0.12121461, 0.08736924, ..., 0.07650654, 0.0897374 ,\n",
       "        0.10222887],\n",
       "       ...,\n",
       "       [0.10990088, 0.0924898 , 0.08612685, ..., 0.09437163, 0.08578653,\n",
       "        0.14398889],\n",
       "       [0.10669456, 0.08853812, 0.08058692, ..., 0.09025353, 0.07144169,\n",
       "        0.16348344],\n",
       "       [0.09350296, 0.08086174, 0.10542743, ..., 0.10225797, 0.10448067,\n",
       "        0.10002219]])"
      ]
     },
     "execution_count": 168,
     "metadata": {},
     "output_type": "execute_result"
    }
   ],
   "source": [
    "best_multiviews.fuzzy_partition"
   ]
  },
  {
   "cell_type": "code",
   "execution_count": 169,
   "metadata": {
    "ExecuteTime": {
     "end_time": "2020-09-07T22:02:17.115579Z",
     "start_time": "2020-09-07T22:02:17.109247Z"
    },
    "hidden": true
   },
   "outputs": [
    {
     "data": {
      "text/plain": [
       "array([1., 1., 1., ..., 1., 1., 1.])"
      ]
     },
     "execution_count": 169,
     "metadata": {},
     "output_type": "execute_result"
    }
   ],
   "source": [
    "memberships_sums = best_multiviews.fuzzy_partition.sum(axis=1)\n",
    "memberships_sums"
   ]
  },
  {
   "cell_type": "code",
   "execution_count": 170,
   "metadata": {
    "ExecuteTime": {
     "end_time": "2020-09-07T22:02:46.064522Z",
     "start_time": "2020-09-07T22:02:45.814264Z"
    },
    "hidden": true
   },
   "outputs": [
    {
     "data": {
      "image/png": "[encoded data removed]",
      "text/plain": [
       "<Figure size 720x432 with 1 Axes>"
      ]
     },
     "metadata": {
      "needs_background": "light"
     },
     "output_type": "display_data"
    }
   ],
   "source": [
    "# Os graus de pertinência de cada objeto devem somar 1.\n",
    "ax = pd.DataFrame(memberships_sums).plot(figsize=(10,6),\n",
    "                                      fontsize=14,\n",
    "                                      legend=False)\n",
    "\n",
    "ax.set_xlabel(\"Objeto\", fontsize=15)\n",
    "ax.set_ylabel(\"Soma Graus Pertinência\", fontsize=15)\n",
    "plt.show()"
   ]
  },
  {
   "cell_type": "code",
   "execution_count": 171,
   "metadata": {
    "ExecuteTime": {
     "end_time": "2020-09-07T22:03:00.885449Z",
     "start_time": "2020-09-07T22:03:00.880891Z"
    },
    "hidden": true
   },
   "outputs": [
    {
     "data": {
      "text/plain": [
       "(0.9999999999999998, 1.0000000000000002)"
      ]
     },
     "execution_count": 171,
     "metadata": {},
     "output_type": "execute_result"
    }
   ],
   "source": [
    "# Os que não somam, é devido a erros numéricos.\n",
    "memberships_sums.min(), memberships_sums.max()"
   ]
  },
  {
   "cell_type": "code",
   "execution_count": 172,
   "metadata": {
    "ExecuteTime": {
     "end_time": "2020-09-07T22:03:27.110528Z",
     "start_time": "2020-09-07T22:03:27.053370Z"
    },
    "hidden": true
   },
   "outputs": [],
   "source": [
    "np.savetxt(path_results_multiviews + \"particao_fuzzy.csv\", best_multiviews.fuzzy_partition, delimiter=\",\")"
   ]
  },
  {
   "cell_type": "markdown",
   "metadata": {
    "heading_collapsed": true,
    "hidden": true
   },
   "source": [
    "### Partição Crisp"
   ]
  },
  {
   "cell_type": "code",
   "execution_count": 173,
   "metadata": {
    "ExecuteTime": {
     "end_time": "2020-09-07T22:04:38.058687Z",
     "start_time": "2020-09-07T22:04:38.037564Z"
    },
    "hidden": true,
    "scrolled": true
   },
   "outputs": [
    {
     "data": {
      "text/plain": [
       "array([3, 5, 3, ..., 9, 9, 6])"
      ]
     },
     "execution_count": 173,
     "metadata": {},
     "output_type": "execute_result"
    }
   ],
   "source": [
    "best_multiviews.fuzzy_to_crisp()\n",
    "best_multiviews.crisp_partition"
   ]
  },
  {
   "cell_type": "code",
   "execution_count": 174,
   "metadata": {
    "ExecuteTime": {
     "end_time": "2020-09-07T22:05:31.036224Z",
     "start_time": "2020-09-07T22:05:31.010566Z"
    },
    "hidden": true
   },
   "outputs": [
    {
     "name": "stdout",
     "output_type": "stream",
     "text": [
      "Lista de Objetos por Grupo:\n",
      "\n",
      "Q1: [ 203  204  205  209  219  220  221  223  225  227  229  231  234  238\n",
      "  239  240  244  250  252  253  254  259  262  263  265  269  270  271\n",
      "  273  286  289  291  294  303  307  310  311  314  319  320  321  323\n",
      "  327  332  334  339  341  345  350  358  363  368  370  374  379  381\n",
      "  386  389  394  395  396  399  648  657  692  702  713  716  730  733\n",
      "  799  806  811  814  816  826  830  832  835  848  850  858  860  864\n",
      "  872  876  882  883  886  887  891  912  916  920  924  930  931  946\n",
      "  955  963  964  971  977  984  986  997 1002 1016 1018 1021 1027 1033\n",
      " 1035 1038 1039 1041 1043 1045 1049 1050 1052 1055 1057 1059 1060 1064\n",
      " 1069 1083 1089 1098 1106 1110 1114 1115 1126 1130 1133 1135 1138 1140\n",
      " 1143 1145 1149 1150 1151 1155 1159 1168 1173 1180 1185 1194 1222 1290\n",
      " 1330 1390 1609 1696 1818 1825 1830 1846 1864 1896 1914 1915 1917 1919\n",
      " 1929 1945 1954 1995] \n",
      "\n",
      "Q2: [   7   15   20   21   28   29   38   39   54   57   58   62   64   67\n",
      "   71   74   77   82   93   97   98   99  102  105  111  115  119  121\n",
      "  122  123  127  132  134  138  147  148  154  157  163  169  173  181\n",
      "  182  184  194  195  199  208  243  251  842  879  908  965 1000 1025\n",
      " 1031 1058 1070 1091 1099 1121 1124 1128 1137 1197 1202 1216 1224 1228\n",
      " 1244 1258 1261 1273 1275 1276 1282 1287 1319 1326 1337 1355 1365 1378\n",
      " 1391 1602 1604 1611 1613 1634 1643 1644 1646 1650 1652 1665 1669 1689\n",
      " 1710 1712 1722 1723 1724 1732 1733 1734 1739 1745 1760 1762 1764 1771\n",
      " 1776 1777 1782 1788] \n",
      "\n",
      "Q3: [ 215  400  402  410  413  414  415  416  417  422  424  426  433  436\n",
      "  438  449  452  459  462  464  465  468  472  480  490  491  493  495\n",
      "  499  500  502  503  512  514  523  528  535  539  544  546  549  550\n",
      "  554  555  562  570  572  575  576  592  595  598  599  905  932  950\n",
      "  960  987 1001 1081 1406 1415 1416 1417 1426 1433 1451 1456 1461 1469\n",
      " 1471 1473 1483 1499 1507 1513 1515 1522 1523 1532 1539 1551 1552 1561\n",
      " 1571 1582 1584 1593] \n",
      "\n",
      "Q4: [   0    2    3    6    8    9   10   11   12   13   14   16   17   18\n",
      "   19   22   23   24   25   26   27   30   31   32   33   35   36   37\n",
      "   40   41   42   43   44   45   46   47   48   49   50   51   52   53\n",
      "   55   56   61   63   65   66   68   69   70   72   73   76   78   79\n",
      "   80   81   83   84   85   87   88   89   90   91   92   94   95   96\n",
      "  100  103  104  106  108  109  110  112  113  114  116  117  118  124\n",
      "  125  126  129  130  131  133  135  136  137  139  140  141  142  143\n",
      "  144  145  146  149  150  151  152  153  156  159  160  161  162  165\n",
      "  166  167  168  170  171  174  175  176  177  178  179  180  183  185\n",
      "  186  187  188  189  190  191  192  193  196  197  198  808  815  825\n",
      "  980 1023 1076 1088 1102 1105 1113 1122 1209 1211 1213 1215 1246 1295\n",
      " 1317 1321 1323 1339 1350 1352 1384 1397 1603 1605 1608 1610 1614 1615\n",
      " 1616 1617 1618 1619 1620 1621 1622 1623 1625 1628 1630 1631 1632 1633\n",
      " 1635 1636 1637 1638 1639 1640 1642 1647 1649 1651 1653 1654 1655 1656\n",
      " 1657 1659 1660 1663 1666 1668 1671 1673 1675 1676 1678 1679 1680 1683\n",
      " 1684 1685 1687 1688 1690 1691 1693 1694 1699 1700 1702 1703 1704 1706\n",
      " 1707 1708 1714 1716 1719 1720 1721 1730 1738 1741 1742 1743 1746 1751\n",
      " 1755 1763 1765 1773 1774 1775 1778 1780 1783 1784 1785 1786 1787 1789\n",
      " 1790 1791 1792 1796 1798 1799 1832 1870] \n",
      "\n",
      "Q5: [  59  101  228  232  245  248  264  277  290  296  301  302  313  317\n",
      "  343  357  369  621  758  800  802  804  805  807  810  812  817  818\n",
      "  819  820  821  822  827  829  831  834  836  837  838  840  841  843\n",
      "  844  845  849  851  852  853  855  861  862  863  865  866  867  868\n",
      "  869  870  871  873  874  875  880  884  885  889  890  892  893  894\n",
      "  895  896  898  901  903  904  906  907  909  910  913  914  915  918\n",
      "  919  922  923  925  926  927  928  929  933  935  936  937  938  940\n",
      "  941  942  944  945  947  948  949  952  953  954  956  958  959  967\n",
      "  968  969  970  972  973  975  976  978  979  981  982  983  985  988\n",
      "  989  990  991  992  993  994  995  998  999 1003 1044 1065 1082 1117\n",
      " 1118 1119 1127 1169 1176 1192 1200 1201 1203 1204 1205 1206 1208 1212\n",
      " 1214 1217 1218 1220 1221 1223 1225 1226 1227 1229 1230 1231 1232 1233\n",
      " 1235 1236 1237 1238 1239 1240 1241 1242 1243 1247 1248 1249 1250 1251\n",
      " 1252 1253 1254 1255 1257 1260 1262 1265 1266 1267 1269 1271 1272 1274\n",
      " 1277 1278 1279 1283 1284 1285 1286 1288 1291 1292 1293 1297 1298 1300\n",
      " 1301 1302 1303 1304 1305 1306 1307 1309 1310 1311 1312 1313 1315 1316\n",
      " 1318 1322 1324 1325 1327 1328 1329 1331 1332 1333 1334 1335 1336 1340\n",
      " 1341 1342 1343 1344 1346 1347 1348 1353 1354 1356 1357 1358 1359 1360\n",
      " 1361 1362 1363 1364 1366 1367 1368 1369 1370 1372 1373 1374 1375 1376\n",
      " 1377 1379 1381 1382 1383 1385 1387 1388 1389 1392 1393 1394 1395 1396\n",
      " 1398 1399 1601 1612 1692 1715 1717 1748 1756 1761 1768 1779 1793] \n",
      "\n",
      "Q6: [   1    4    5   34   60   75   86  107  120  128  155  158  164  172\n",
      "  218  255  285  362  372  377  383  573  951 1210 1219 1245 1259 1263\n",
      " 1270 1280 1281 1289 1299 1308 1320 1349 1371 1380 1386 1600 1606 1607\n",
      " 1624 1626 1627 1629 1641 1645 1648 1658 1661 1662 1664 1670 1672 1674\n",
      " 1677 1681 1682 1686 1695 1697 1698 1701 1705 1709 1711 1713 1718 1725\n",
      " 1726 1727 1728 1731 1735 1736 1737 1740 1744 1747 1749 1750 1752 1753\n",
      " 1754 1757 1759 1766 1767 1769 1770 1772 1781 1794 1795 1797] \n",
      "\n",
      "Q7: [ 201  206  207  214  222  230  246  247  257  258  260  261  267  268\n",
      "  272  275  281  282  283  284  287  288  292  299  300  305  308  315\n",
      "  316  318  324  328  333  335  336  337  340  346  348  349  351  352\n",
      "  354  355  364  367  375  376  380  384  385  390  391  392  397  578\n",
      "  610 1006 1007 1008 1015 1019 1022 1024 1028 1029 1032 1066 1072 1074\n",
      " 1077 1093 1095 1103 1104 1108 1109 1116 1123 1134 1136 1139 1142 1144\n",
      " 1147 1154 1161 1167 1170 1184 1191 1193 1195 1207 1402 1403 1404 1405\n",
      " 1407 1408 1409 1410 1412 1414 1419 1422 1425 1427 1428 1429 1431 1432\n",
      " 1435 1437 1439 1441 1443 1444 1447 1449 1450 1453 1458 1459 1460 1462\n",
      " 1463 1465 1468 1475 1476 1478 1479 1480 1481 1484 1485 1486 1487 1489\n",
      " 1490 1491 1492 1494 1495 1496 1497 1498 1500 1501 1502 1504 1506 1509\n",
      " 1517 1518 1519 1520 1524 1525 1526 1527 1530 1531 1533 1534 1535 1536\n",
      " 1537 1540 1541 1542 1545 1546 1547 1549 1553 1554 1555 1556 1557 1558\n",
      " 1559 1562 1564 1565 1566 1569 1570 1572 1573 1574 1576 1577 1578 1579\n",
      " 1580 1583 1585 1586 1587 1588 1592 1595 1597 1598 1729 1800 1801 1803\n",
      " 1804 1805 1807 1808 1810 1811 1812 1813 1814 1815 1816 1817 1819 1820\n",
      " 1821 1823 1824 1826 1827 1828 1831 1834 1835 1836 1837 1840 1842 1843\n",
      " 1844 1845 1847 1848 1849 1850 1851 1853 1854 1855 1856 1857 1858 1859\n",
      " 1861 1862 1863 1865 1866 1867 1868 1869 1871 1873 1874 1875 1876 1878\n",
      " 1880 1881 1882 1883 1887 1888 1889 1890 1891 1892 1893 1894 1895 1897\n",
      " 1898 1899 1900 1901 1902 1903 1904 1906 1908 1910 1911 1912 1913 1916\n",
      " 1920 1922 1923 1925 1926 1930 1931 1932 1933 1935 1937 1938 1940 1942\n",
      " 1943 1944 1946 1948 1949 1950 1952 1953 1955 1956 1957 1958 1960 1962\n",
      " 1963 1964 1965 1966 1968 1969 1970 1971 1972 1973 1974 1975 1976 1977\n",
      " 1978 1979 1980 1983 1984 1985 1986 1987 1988 1989 1990 1991 1992 1994\n",
      " 1996 1999] \n",
      "\n",
      "Q8: [ 210  211  216  224  226  233  236  237  241  242  249  256  274  276\n",
      "  293  295  297  304  306  309  322  325  329  330  338  353  356  361\n",
      "  365  366  373  382  387  388  398  600  601  602  603  604  605  606\n",
      "  607  608  609  611  612  613  614  615  616  617  618  619  620  622\n",
      "  623  624  625  626  627  628  629  630  631  632  633  634  635  636\n",
      "  637  638  639  640  641  642  643  644  645  646  649  650  651  652\n",
      "  653  654  655  656  658  659  660  661  662  663  664  665  666  667\n",
      "  668  669  670  671  672  673  674  675  676  677  678  679  680  681\n",
      "  682  683  684  685  686  687  688  689  690  691  693  694  695  696\n",
      "  697  698  699  700  701  703  704  705  706  707  708  709  710  711\n",
      "  712  714  715  717  718  719  720  721  722  723  724  725  726  727\n",
      "  728  729  731  732  734  735  736  737  738  739  740  741  742  743\n",
      "  744  745  746  747  748  749  750  751  752  753  754  755  756  757\n",
      "  759  760  761  762  763  764  765  766  767  768  769  770  771  772\n",
      "  773  774  775  777  778  779  780  781  782  783  784  785  786  787\n",
      "  788  789  790  791  792  793  794  795  796  797  798  801  803  809\n",
      "  823  828  839  846  847  854  877  881  888  899  911  917  921  939\n",
      "  943  957  962  974  996 1004 1010 1012 1013 1014 1030 1042 1046 1047\n",
      " 1056 1061 1063 1073 1075 1079 1085 1087 1090 1101 1107 1120 1125 1141\n",
      " 1152 1156 1157 1158 1160 1163 1164 1165 1174 1175 1178 1179 1181 1183\n",
      " 1186 1187 1190 1196 1234 1264 1401 1420 1421 1424 1436 1438 1440 1442\n",
      " 1445 1454 1470 1472 1488 1505 1511 1538 1543 1548 1560 1567 1568 1581\n",
      " 1596 1599] \n",
      "\n",
      "Q9: [ 200  202  213  266  298  312  344  347  360  401  403  404  405  406\n",
      "  407  408  409  411  412  418  419  420  421  423  425  427  428  429\n",
      "  430  431  432  434  435  437  439  440  441  442  443  444  445  446\n",
      "  447  448  450  451  453  454  455  456  457  458  460  461  463  466\n",
      "  467  469  470  471  473  474  475  476  477  478  479  481  482  483\n",
      "  484  485  486  487  488  489  492  494  496  497  498  501  504  505\n",
      "  506  507  508  509  510  511  513  515  516  517  518  519  520  521\n",
      "  522  524  525  526  527  529  530  531  532  533  534  536  537  538\n",
      "  540  541  542  543  545  547  548  551  552  553  556  557  558  559\n",
      "  560  561  563  564  565  566  567  568  569  571  574  577  579  580\n",
      "  581  582  583  584  585  586  587  588  589  590  591  593  594  596\n",
      "  597  647  776  833  857  900 1053 1054 1062 1097 1100 1129 1256 1296\n",
      " 1314 1338 1345 1400 1411 1413 1418 1423 1430 1434 1446 1448 1452 1455\n",
      " 1457 1464 1466 1467 1474 1477 1482 1493 1503 1508 1510 1512 1514 1516\n",
      " 1521 1528 1529 1544 1550 1563 1575 1589 1590 1591 1594 1667 1758 1806\n",
      " 1884 1939] \n",
      "\n",
      "Q10: [ 212  217  235  278  279  280  326  331  342  359  371  378  393  813\n",
      "  824  856  859  878  897  902  934  961  966 1005 1009 1011 1017 1020\n",
      " 1026 1034 1036 1037 1040 1048 1051 1067 1068 1071 1078 1080 1084 1086\n",
      " 1092 1094 1096 1111 1112 1131 1132 1146 1148 1153 1162 1166 1171 1172\n",
      " 1177 1182 1188 1189 1198 1199 1268 1294 1351 1802 1809 1822 1829 1833\n",
      " 1838 1839 1841 1852 1860 1872 1877 1879 1885 1886 1905 1907 1909 1918\n",
      " 1921 1924 1927 1928 1934 1936 1941 1947 1951 1959 1961 1967 1981 1982\n",
      " 1993 1997 1998] \n",
      "\n"
     ]
    }
   ],
   "source": [
    "print(\"Lista de Objetos por Grupo:\\n\")\n",
    "\n",
    "crisp_clusters_multiviews = [np.where(best_multiviews.crisp_partition == k)[0] for k in range(K)]\n",
    "\n",
    "for k in range(K): \n",
    "    print('Q' + str(k+1) + \":\", crisp_clusters_multiviews[k], '\\n')"
   ]
  },
  {
   "cell_type": "code",
   "execution_count": 175,
   "metadata": {
    "ExecuteTime": {
     "end_time": "2020-09-07T22:07:45.234362Z",
     "start_time": "2020-09-07T22:07:45.224200Z"
    },
    "hidden": true
   },
   "outputs": [
    {
     "name": "stdout",
     "output_type": "stream",
     "text": [
      "Número de Objetos em cada Grupo Crisp: \n",
      "\n",
      "Q1: 172\n",
      "Q2: 116\n",
      "Q3: 88\n",
      "Q4: 260\n",
      "Q5: 293\n",
      "Q6: 96\n",
      "Q7: 352\n",
      "Q8: 310\n",
      "Q9: 212\n",
      "Q10: 101\n"
     ]
    }
   ],
   "source": [
    "print(\"Número de Objetos em cada Grupo Crisp: \\n\")\n",
    "\n",
    "num_objects_crisp_multiviews = [cluster.shape[0] for cluster in crisp_clusters_multiviews]\n",
    "\n",
    "for k in range(K):\n",
    "    \n",
    "    print('Q' + str(k+1) + \":\", num_objects_crisp_multiviews[k])"
   ]
  },
  {
   "cell_type": "code",
   "execution_count": 177,
   "metadata": {
    "ExecuteTime": {
     "end_time": "2020-09-07T22:09:10.346488Z",
     "start_time": "2020-09-07T22:09:10.046077Z"
    },
    "hidden": true
   },
   "outputs": [
    {
     "data": {
      "image/png": "[encoded data removed]",
      "text/plain": [
       "<Figure size 720x576 with 1 Axes>"
      ]
     },
     "metadata": {
      "needs_background": "light"
     },
     "output_type": "display_data"
    }
   ],
   "source": [
    "ax = pd.DataFrame(num_objects_crisp_multiviews).plot.bar(figsize=(10,8),\n",
    "                                              fontsize=14,\n",
    "                                              legend=False,\n",
    "                                              rot=0)\n",
    "        \n",
    "ax.set_xticklabels(['Q' + str(k+1) for k in range(K)])\n",
    "ax.set_ylabel(\"Qtd Objetos\", fontsize=15)\n",
    "plt.show()"
   ]
  },
  {
   "cell_type": "code",
   "execution_count": 178,
   "metadata": {
    "ExecuteTime": {
     "end_time": "2020-09-07T22:09:52.852907Z",
     "start_time": "2020-09-07T22:09:52.841182Z"
    },
    "hidden": true
   },
   "outputs": [],
   "source": [
    "np.savetxt(path_results_multiviews + \"particao_crisp.csv\", best_multiviews.crisp_partition, delimiter=\",\")"
   ]
  },
  {
   "cell_type": "markdown",
   "metadata": {
    "heading_collapsed": true,
    "hidden": true
   },
   "source": [
    "### Pesos das Matrizes"
   ]
  },
  {
   "cell_type": "code",
   "execution_count": 179,
   "metadata": {
    "ExecuteTime": {
     "end_time": "2020-09-07T22:11:41.753695Z",
     "start_time": "2020-09-07T22:11:41.746269Z"
    },
    "hidden": true
   },
   "outputs": [
    {
     "data": {
      "text/plain": [
       "array([[0.62246813, 1.17706584, 1.36484119],\n",
       "       [0.66463982, 1.1380216 , 1.32209644],\n",
       "       [0.64758757, 1.15553144, 1.33634851],\n",
       "       [0.65264491, 1.13459584, 1.35046042],\n",
       "       [0.6303075 , 1.18155078, 1.34274991],\n",
       "       [0.64947335, 1.16948752, 1.31656733],\n",
       "       [0.59918283, 1.15031546, 1.4508539 ],\n",
       "       [0.61623196, 1.18176457, 1.37317161],\n",
       "       [0.63628626, 1.20214655, 1.30734449],\n",
       "       [0.62693591, 1.1563272 , 1.3794187 ]])"
      ]
     },
     "execution_count": 179,
     "metadata": {},
     "output_type": "execute_result"
    }
   ],
   "source": [
    "best_multiviews.relevance_weights"
   ]
  },
  {
   "cell_type": "code",
   "execution_count": 180,
   "metadata": {
    "ExecuteTime": {
     "end_time": "2020-09-07T22:12:23.083127Z",
     "start_time": "2020-09-07T22:12:23.075966Z"
    },
    "hidden": true
   },
   "outputs": [
    {
     "data": {
      "text/plain": [
       "array([1., 1., 1., 1., 1., 1., 1., 1., 1., 1.])"
      ]
     },
     "execution_count": 180,
     "metadata": {},
     "output_type": "execute_result"
    }
   ],
   "source": [
    "weights_prod = best_multiviews.relevance_weights.prod(axis=1)\n",
    "weights_prod"
   ]
  },
  {
   "cell_type": "code",
   "execution_count": 181,
   "metadata": {
    "ExecuteTime": {
     "end_time": "2020-09-07T22:14:22.882949Z",
     "start_time": "2020-09-07T22:14:22.601795Z"
    },
    "hidden": true
   },
   "outputs": [
    {
     "data": {
      "image/png": "[encoded data removed]",
      "text/plain": [
       "<Figure size 720x432 with 1 Axes>"
      ]
     },
     "metadata": {
      "needs_background": "light"
     },
     "output_type": "display_data"
    }
   ],
   "source": [
    "# O produto dos pesos das matrizes para cada cluster deve ser 1.\n",
    "ax = pd.DataFrame(weights_prod).plot(figsize=(10,6),\n",
    "                                      fontsize=14,\n",
    "                                    xticks = range(10),\n",
    "                                      legend=False)\n",
    "\n",
    "ax.set_xticklabels(['Q' + str(k+1) for k in range(K)])\n",
    "ax.set_ylabel(\"Prod Pesos Matrizes\", fontsize=15)\n",
    "plt.show()"
   ]
  },
  {
   "cell_type": "code",
   "execution_count": 182,
   "metadata": {
    "ExecuteTime": {
     "end_time": "2020-09-07T22:14:29.584782Z",
     "start_time": "2020-09-07T22:14:29.580217Z"
    },
    "hidden": true
   },
   "outputs": [
    {
     "data": {
      "text/plain": [
       "(0.9999999999999988, 0.9999999999999994)"
      ]
     },
     "execution_count": 182,
     "metadata": {},
     "output_type": "execute_result"
    }
   ],
   "source": [
    "# Os que não resultam em 1, é devido a erros numéricos.\n",
    "weights_prod.min(), weights_prod.max()"
   ]
  },
  {
   "cell_type": "code",
   "execution_count": 183,
   "metadata": {
    "ExecuteTime": {
     "end_time": "2020-09-07T22:14:58.211441Z",
     "start_time": "2020-09-07T22:14:58.190057Z"
    },
    "hidden": true
   },
   "outputs": [
    {
     "data": {
      "text/html": [
       "<div>\n",
       "<style scoped>\n",
       "    .dataframe tbody tr th:only-of-type {\n",
       "        vertical-align: middle;\n",
       "    }\n",
       "\n",
       "    .dataframe tbody tr th {\n",
       "        vertical-align: top;\n",
       "    }\n",
       "\n",
       "    .dataframe thead th {\n",
       "        text-align: right;\n",
       "    }\n",
       "</style>\n",
       "<table border=\"1\" class=\"dataframe\">\n",
       "  <thead>\n",
       "    <tr style=\"text-align: right;\">\n",
       "      <th></th>\n",
       "      <th>View1</th>\n",
       "      <th>View2</th>\n",
       "      <th>View3</th>\n",
       "    </tr>\n",
       "  </thead>\n",
       "  <tbody>\n",
       "    <tr>\n",
       "      <th>Q1</th>\n",
       "      <td>0.622468</td>\n",
       "      <td>1.177066</td>\n",
       "      <td>1.364841</td>\n",
       "    </tr>\n",
       "    <tr>\n",
       "      <th>Q2</th>\n",
       "      <td>0.664640</td>\n",
       "      <td>1.138022</td>\n",
       "      <td>1.322096</td>\n",
       "    </tr>\n",
       "    <tr>\n",
       "      <th>Q3</th>\n",
       "      <td>0.647588</td>\n",
       "      <td>1.155531</td>\n",
       "      <td>1.336349</td>\n",
       "    </tr>\n",
       "    <tr>\n",
       "      <th>Q4</th>\n",
       "      <td>0.652645</td>\n",
       "      <td>1.134596</td>\n",
       "      <td>1.350460</td>\n",
       "    </tr>\n",
       "    <tr>\n",
       "      <th>Q5</th>\n",
       "      <td>0.630308</td>\n",
       "      <td>1.181551</td>\n",
       "      <td>1.342750</td>\n",
       "    </tr>\n",
       "    <tr>\n",
       "      <th>Q6</th>\n",
       "      <td>0.649473</td>\n",
       "      <td>1.169488</td>\n",
       "      <td>1.316567</td>\n",
       "    </tr>\n",
       "    <tr>\n",
       "      <th>Q7</th>\n",
       "      <td>0.599183</td>\n",
       "      <td>1.150315</td>\n",
       "      <td>1.450854</td>\n",
       "    </tr>\n",
       "    <tr>\n",
       "      <th>Q8</th>\n",
       "      <td>0.616232</td>\n",
       "      <td>1.181765</td>\n",
       "      <td>1.373172</td>\n",
       "    </tr>\n",
       "    <tr>\n",
       "      <th>Q9</th>\n",
       "      <td>0.636286</td>\n",
       "      <td>1.202147</td>\n",
       "      <td>1.307344</td>\n",
       "    </tr>\n",
       "    <tr>\n",
       "      <th>Q10</th>\n",
       "      <td>0.626936</td>\n",
       "      <td>1.156327</td>\n",
       "      <td>1.379419</td>\n",
       "    </tr>\n",
       "  </tbody>\n",
       "</table>\n",
       "</div>"
      ],
      "text/plain": [
       "        View1     View2     View3\n",
       "Q1   0.622468  1.177066  1.364841\n",
       "Q2   0.664640  1.138022  1.322096\n",
       "Q3   0.647588  1.155531  1.336349\n",
       "Q4   0.652645  1.134596  1.350460\n",
       "Q5   0.630308  1.181551  1.342750\n",
       "Q6   0.649473  1.169488  1.316567\n",
       "Q7   0.599183  1.150315  1.450854\n",
       "Q8   0.616232  1.181765  1.373172\n",
       "Q9   0.636286  1.202147  1.307344\n",
       "Q10  0.626936  1.156327  1.379419"
      ]
     },
     "execution_count": 183,
     "metadata": {},
     "output_type": "execute_result"
    }
   ],
   "source": [
    "cols = ['View'+ str(i+1) for i in range(p)]\n",
    "\n",
    "pd.DataFrame(best_multiviews.relevance_weights, columns=cols, \n",
    "             index = ['Q' + str(k+1) for k in range(K)])"
   ]
  },
  {
   "cell_type": "code",
   "execution_count": 184,
   "metadata": {
    "ExecuteTime": {
     "end_time": "2020-09-07T22:15:43.621073Z",
     "start_time": "2020-09-07T22:15:43.614482Z"
    },
    "hidden": true
   },
   "outputs": [],
   "source": [
    "np.savetxt(path_results_multiviews + \"pesos_matrizes.csv\", best_multiviews.relevance_weights, delimiter=\",\")"
   ]
  },
  {
   "cell_type": "markdown",
   "metadata": {
    "heading_collapsed": true,
    "hidden": true
   },
   "source": [
    "### Métricas"
   ]
  },
  {
   "cell_type": "code",
   "execution_count": 185,
   "metadata": {
    "ExecuteTime": {
     "end_time": "2020-09-07T22:17:29.088874Z",
     "start_time": "2020-09-07T22:17:29.086103Z"
    },
    "hidden": true
   },
   "outputs": [],
   "source": [
    "measures_multiviews = []"
   ]
  },
  {
   "cell_type": "markdown",
   "metadata": {
    "heading_collapsed": true,
    "hidden": true
   },
   "source": [
    "#### Métricas Internas"
   ]
  },
  {
   "cell_type": "markdown",
   "metadata": {
    "hidden": true
   },
   "source": [
    "Modified Partition Coefficient"
   ]
  },
  {
   "cell_type": "code",
   "execution_count": 186,
   "metadata": {
    "ExecuteTime": {
     "end_time": "2020-09-07T22:17:50.708866Z",
     "start_time": "2020-09-07T22:17:50.702310Z"
    },
    "hidden": true
   },
   "outputs": [
    {
     "data": {
      "text/plain": [
       "0.01406667299619635"
      ]
     },
     "execution_count": 186,
     "metadata": {},
     "output_type": "execute_result"
    }
   ],
   "source": [
    "mpc = best_multiviews.mod_partition_coeff()\n",
    "mpc"
   ]
  },
  {
   "cell_type": "code",
   "execution_count": 187,
   "metadata": {
    "ExecuteTime": {
     "end_time": "2020-09-07T22:18:05.133516Z",
     "start_time": "2020-09-07T22:18:05.129017Z"
    },
    "hidden": true
   },
   "outputs": [],
   "source": [
    "measures_multiviews.append(mpc)"
   ]
  },
  {
   "cell_type": "markdown",
   "metadata": {
    "hidden": true
   },
   "source": [
    "Partition Entropy"
   ]
  },
  {
   "cell_type": "code",
   "execution_count": 188,
   "metadata": {
    "ExecuteTime": {
     "end_time": "2020-09-07T22:18:17.506531Z",
     "start_time": "2020-09-07T22:18:17.497136Z"
    },
    "hidden": true
   },
   "outputs": [
    {
     "data": {
      "text/plain": [
       "2.2625000583814696"
      ]
     },
     "execution_count": 188,
     "metadata": {},
     "output_type": "execute_result"
    }
   ],
   "source": [
    "pe = best_multiviews.partition_entropy()\n",
    "pe"
   ]
  },
  {
   "cell_type": "code",
   "execution_count": 189,
   "metadata": {
    "ExecuteTime": {
     "end_time": "2020-09-07T22:18:35.120173Z",
     "start_time": "2020-09-07T22:18:35.114905Z"
    },
    "hidden": true
   },
   "outputs": [],
   "source": [
    "measures_multiviews.append(pe)"
   ]
  },
  {
   "cell_type": "markdown",
   "metadata": {
    "heading_collapsed": true,
    "hidden": true
   },
   "source": [
    "#### Métricas Externas"
   ]
  },
  {
   "cell_type": "code",
   "execution_count": 190,
   "metadata": {
    "ExecuteTime": {
     "end_time": "2020-09-07T22:19:14.457664Z",
     "start_time": "2020-09-07T22:19:14.268635Z"
    },
    "hidden": true
   },
   "outputs": [
    {
     "data": {
      "text/html": [
       "<div>\n",
       "<style scoped>\n",
       "    .dataframe tbody tr th:only-of-type {\n",
       "        vertical-align: middle;\n",
       "    }\n",
       "\n",
       "    .dataframe tbody tr th {\n",
       "        vertical-align: top;\n",
       "    }\n",
       "\n",
       "    .dataframe thead th {\n",
       "        text-align: right;\n",
       "    }\n",
       "</style>\n",
       "<table border=\"1\" class=\"dataframe\">\n",
       "  <thead>\n",
       "    <tr style=\"text-align: right;\">\n",
       "      <th></th>\n",
       "      <th>Q1</th>\n",
       "      <th>Q2</th>\n",
       "      <th>Q3</th>\n",
       "      <th>Q4</th>\n",
       "      <th>Q5</th>\n",
       "      <th>Q6</th>\n",
       "      <th>Q7</th>\n",
       "      <th>Q8</th>\n",
       "      <th>Q9</th>\n",
       "      <th>Q10</th>\n",
       "      <th>Soma</th>\n",
       "    </tr>\n",
       "  </thead>\n",
       "  <tbody>\n",
       "    <tr>\n",
       "      <th>P1</th>\n",
       "      <td>0</td>\n",
       "      <td>47</td>\n",
       "      <td>0</td>\n",
       "      <td>137</td>\n",
       "      <td>2</td>\n",
       "      <td>14</td>\n",
       "      <td>0</td>\n",
       "      <td>0</td>\n",
       "      <td>0</td>\n",
       "      <td>0</td>\n",
       "      <td>200</td>\n",
       "    </tr>\n",
       "    <tr>\n",
       "      <th>P2</th>\n",
       "      <td>62</td>\n",
       "      <td>3</td>\n",
       "      <td>1</td>\n",
       "      <td>0</td>\n",
       "      <td>15</td>\n",
       "      <td>7</td>\n",
       "      <td>55</td>\n",
       "      <td>35</td>\n",
       "      <td>9</td>\n",
       "      <td>13</td>\n",
       "      <td>200</td>\n",
       "    </tr>\n",
       "    <tr>\n",
       "      <th>P3</th>\n",
       "      <td>0</td>\n",
       "      <td>0</td>\n",
       "      <td>52</td>\n",
       "      <td>0</td>\n",
       "      <td>0</td>\n",
       "      <td>1</td>\n",
       "      <td>1</td>\n",
       "      <td>0</td>\n",
       "      <td>146</td>\n",
       "      <td>0</td>\n",
       "      <td>200</td>\n",
       "    </tr>\n",
       "    <tr>\n",
       "      <th>P4</th>\n",
       "      <td>9</td>\n",
       "      <td>0</td>\n",
       "      <td>0</td>\n",
       "      <td>0</td>\n",
       "      <td>2</td>\n",
       "      <td>0</td>\n",
       "      <td>1</td>\n",
       "      <td>186</td>\n",
       "      <td>2</td>\n",
       "      <td>0</td>\n",
       "      <td>200</td>\n",
       "    </tr>\n",
       "    <tr>\n",
       "      <th>P5</th>\n",
       "      <td>35</td>\n",
       "      <td>4</td>\n",
       "      <td>5</td>\n",
       "      <td>4</td>\n",
       "      <td>116</td>\n",
       "      <td>1</td>\n",
       "      <td>0</td>\n",
       "      <td>22</td>\n",
       "      <td>3</td>\n",
       "      <td>10</td>\n",
       "      <td>200</td>\n",
       "    </tr>\n",
       "    <tr>\n",
       "      <th>P6</th>\n",
       "      <td>46</td>\n",
       "      <td>12</td>\n",
       "      <td>2</td>\n",
       "      <td>7</td>\n",
       "      <td>11</td>\n",
       "      <td>0</td>\n",
       "      <td>36</td>\n",
       "      <td>41</td>\n",
       "      <td>6</td>\n",
       "      <td>39</td>\n",
       "      <td>200</td>\n",
       "    </tr>\n",
       "    <tr>\n",
       "      <th>P7</th>\n",
       "      <td>4</td>\n",
       "      <td>19</td>\n",
       "      <td>0</td>\n",
       "      <td>14</td>\n",
       "      <td>136</td>\n",
       "      <td>16</td>\n",
       "      <td>1</td>\n",
       "      <td>2</td>\n",
       "      <td>5</td>\n",
       "      <td>3</td>\n",
       "      <td>200</td>\n",
       "    </tr>\n",
       "    <tr>\n",
       "      <th>P8</th>\n",
       "      <td>0</td>\n",
       "      <td>0</td>\n",
       "      <td>28</td>\n",
       "      <td>0</td>\n",
       "      <td>0</td>\n",
       "      <td>0</td>\n",
       "      <td>112</td>\n",
       "      <td>24</td>\n",
       "      <td>36</td>\n",
       "      <td>0</td>\n",
       "      <td>200</td>\n",
       "    </tr>\n",
       "    <tr>\n",
       "      <th>P9</th>\n",
       "      <td>2</td>\n",
       "      <td>31</td>\n",
       "      <td>0</td>\n",
       "      <td>96</td>\n",
       "      <td>11</td>\n",
       "      <td>57</td>\n",
       "      <td>1</td>\n",
       "      <td>0</td>\n",
       "      <td>2</td>\n",
       "      <td>0</td>\n",
       "      <td>200</td>\n",
       "    </tr>\n",
       "    <tr>\n",
       "      <th>P10</th>\n",
       "      <td>14</td>\n",
       "      <td>0</td>\n",
       "      <td>0</td>\n",
       "      <td>2</td>\n",
       "      <td>0</td>\n",
       "      <td>0</td>\n",
       "      <td>145</td>\n",
       "      <td>0</td>\n",
       "      <td>3</td>\n",
       "      <td>36</td>\n",
       "      <td>200</td>\n",
       "    </tr>\n",
       "    <tr>\n",
       "      <th>Soma</th>\n",
       "      <td>172</td>\n",
       "      <td>116</td>\n",
       "      <td>88</td>\n",
       "      <td>260</td>\n",
       "      <td>293</td>\n",
       "      <td>96</td>\n",
       "      <td>352</td>\n",
       "      <td>310</td>\n",
       "      <td>212</td>\n",
       "      <td>101</td>\n",
       "      <td>2000</td>\n",
       "    </tr>\n",
       "  </tbody>\n",
       "</table>\n",
       "</div>"
      ],
      "text/plain": [
       "       Q1   Q2  Q3   Q4   Q5  Q6   Q7   Q8   Q9  Q10  Soma\n",
       "P1      0   47   0  137    2  14    0    0    0    0   200\n",
       "P2     62    3   1    0   15   7   55   35    9   13   200\n",
       "P3      0    0  52    0    0   1    1    0  146    0   200\n",
       "P4      9    0   0    0    2   0    1  186    2    0   200\n",
       "P5     35    4   5    4  116   1    0   22    3   10   200\n",
       "P6     46   12   2    7   11   0   36   41    6   39   200\n",
       "P7      4   19   0   14  136  16    1    2    5    3   200\n",
       "P8      0    0  28    0    0   0  112   24   36    0   200\n",
       "P9      2   31   0   96   11  57    1    0    2    0   200\n",
       "P10    14    0   0    2    0   0  145    0    3   36   200\n",
       "Soma  172  116  88  260  293  96  352  310  212  101  2000"
      ]
     },
     "execution_count": 190,
     "metadata": {},
     "output_type": "execute_result"
    }
   ],
   "source": [
    "best_multiviews.confusion_matrix()\n",
    "\n",
    "cols =  ['Q' + str(k+1) for k in range(K)] + ['Soma']\n",
    "indexes = ['P' + str(k+1) for k in range(K)] + ['Soma']\n",
    "\n",
    "pd.DataFrame(best_multiviews.expand_confusion_matrix, columns=cols, index=indexes)"
   ]
  },
  {
   "cell_type": "markdown",
   "metadata": {
    "hidden": true
   },
   "source": [
    "Índice de Rand Corrigido"
   ]
  },
  {
   "cell_type": "code",
   "execution_count": 191,
   "metadata": {
    "ExecuteTime": {
     "end_time": "2020-09-07T22:20:02.104529Z",
     "start_time": "2020-09-07T22:20:01.863823Z"
    },
    "hidden": true
   },
   "outputs": [
    {
     "data": {
      "text/plain": [
       "0.3326660520935902"
      ]
     },
     "execution_count": 191,
     "metadata": {},
     "output_type": "execute_result"
    }
   ],
   "source": [
    "ar_index = best_multiviews.adjusted_rand_index()\n",
    "ar_index"
   ]
  },
  {
   "cell_type": "code",
   "execution_count": 192,
   "metadata": {
    "ExecuteTime": {
     "end_time": "2020-09-07T22:20:14.535936Z",
     "start_time": "2020-09-07T22:20:14.532376Z"
    },
    "hidden": true
   },
   "outputs": [],
   "source": [
    "measures_multiviews.append(ar_index)"
   ]
  },
  {
   "cell_type": "markdown",
   "metadata": {
    "hidden": true
   },
   "source": [
    "F-measure"
   ]
  },
  {
   "cell_type": "code",
   "execution_count": 193,
   "metadata": {
    "ExecuteTime": {
     "end_time": "2020-09-07T22:20:44.999446Z",
     "start_time": "2020-09-07T22:20:44.992365Z"
    },
    "hidden": true
   },
   "outputs": [
    {
     "data": {
      "text/plain": [
       "0.4997134446517348"
      ]
     },
     "execution_count": 193,
     "metadata": {},
     "output_type": "execute_result"
    }
   ],
   "source": [
    "f1 = best_multiviews.f_measure()\n",
    "f1"
   ]
  },
  {
   "cell_type": "code",
   "execution_count": 194,
   "metadata": {
    "ExecuteTime": {
     "end_time": "2020-09-07T22:20:55.364536Z",
     "start_time": "2020-09-07T22:20:55.359946Z"
    },
    "hidden": true
   },
   "outputs": [],
   "source": [
    "measures_multiviews.append(f1)"
   ]
  },
  {
   "cell_type": "markdown",
   "metadata": {
    "hidden": true
   },
   "source": [
    "Erro de Atribuição"
   ]
  },
  {
   "cell_type": "code",
   "execution_count": 195,
   "metadata": {
    "ExecuteTime": {
     "end_time": "2020-09-07T22:21:08.271900Z",
     "start_time": "2020-09-07T22:21:08.263154Z"
    },
    "hidden": true
   },
   "outputs": [
    {
     "data": {
      "text/plain": [
       "0.49650000000000005"
      ]
     },
     "execution_count": 195,
     "metadata": {},
     "output_type": "execute_result"
    }
   ],
   "source": [
    "error_rate = best_multiviews.classification_error_rate()\n",
    "error_rate"
   ]
  },
  {
   "cell_type": "code",
   "execution_count": 196,
   "metadata": {
    "ExecuteTime": {
     "end_time": "2020-09-07T22:21:15.976964Z",
     "start_time": "2020-09-07T22:21:15.973375Z"
    },
    "hidden": true
   },
   "outputs": [],
   "source": [
    "measures_multiviews.append(error_rate)"
   ]
  },
  {
   "cell_type": "markdown",
   "metadata": {
    "heading_collapsed": true,
    "hidden": true
   },
   "source": [
    "#### Métricas Sumarizadas"
   ]
  },
  {
   "cell_type": "code",
   "execution_count": 197,
   "metadata": {
    "ExecuteTime": {
     "end_time": "2020-09-07T22:21:39.689658Z",
     "start_time": "2020-09-07T22:21:39.684391Z"
    },
    "hidden": true
   },
   "outputs": [
    {
     "data": {
      "text/plain": [
       "[0.01406667299619635,\n",
       " 2.2625000583814696,\n",
       " 0.3326660520935902,\n",
       " 0.4997134446517348,\n",
       " 0.49650000000000005]"
      ]
     },
     "execution_count": 197,
     "metadata": {},
     "output_type": "execute_result"
    }
   ],
   "source": [
    "measures_multiviews"
   ]
  },
  {
   "cell_type": "code",
   "execution_count": 198,
   "metadata": {
    "ExecuteTime": {
     "end_time": "2020-09-07T22:21:57.869559Z",
     "start_time": "2020-09-07T22:21:57.851973Z"
    },
    "hidden": true
   },
   "outputs": [
    {
     "data": {
      "text/html": [
       "<div>\n",
       "<style scoped>\n",
       "    .dataframe tbody tr th:only-of-type {\n",
       "        vertical-align: middle;\n",
       "    }\n",
       "\n",
       "    .dataframe tbody tr th {\n",
       "        vertical-align: top;\n",
       "    }\n",
       "\n",
       "    .dataframe thead th {\n",
       "        text-align: right;\n",
       "    }\n",
       "</style>\n",
       "<table border=\"1\" class=\"dataframe\">\n",
       "  <thead>\n",
       "    <tr style=\"text-align: right;\">\n",
       "      <th></th>\n",
       "      <th>Mod Partition Coeff</th>\n",
       "      <th>Partition Entropy</th>\n",
       "      <th>Indice Rand Corr</th>\n",
       "      <th>F-measure</th>\n",
       "      <th>Erro Atribuição</th>\n",
       "    </tr>\n",
       "  </thead>\n",
       "  <tbody>\n",
       "    <tr>\n",
       "      <th>0</th>\n",
       "      <td>0.014067</td>\n",
       "      <td>2.2625</td>\n",
       "      <td>0.332666</td>\n",
       "      <td>0.499713</td>\n",
       "      <td>0.4965</td>\n",
       "    </tr>\n",
       "  </tbody>\n",
       "</table>\n",
       "</div>"
      ],
      "text/plain": [
       "   Mod Partition Coeff  Partition Entropy  Indice Rand Corr  F-measure  \\\n",
       "0             0.014067             2.2625          0.332666   0.499713   \n",
       "\n",
       "   Erro Atribuição  \n",
       "0           0.4965  "
      ]
     },
     "execution_count": 198,
     "metadata": {},
     "output_type": "execute_result"
    }
   ],
   "source": [
    "cols = ['Mod Partition Coeff', 'Partition Entropy', 'Indice Rand Corr',\n",
    "        'F-measure', 'Erro Atribuição']\n",
    "\n",
    "pd.DataFrame(measures_multiviews, index = cols).T"
   ]
  },
  {
   "cell_type": "markdown",
   "metadata": {
    "heading_collapsed": true,
    "hidden": true
   },
   "source": [
    "## Persistir Objeto do Experimento"
   ]
  },
  {
   "cell_type": "code",
   "execution_count": 199,
   "metadata": {
    "ExecuteTime": {
     "end_time": "2020-09-07T22:24:09.576899Z",
     "start_time": "2020-09-07T22:24:09.499601Z"
    },
    "hidden": true
   },
   "outputs": [],
   "source": [
    "exp_object_file = open(path_results_multiviews + \"experiment_object\", \"wb\")\n",
    "\n",
    "pickle.dump(best_multiviews, exp_object_file)\n",
    "\n",
    "exp_object_file.close()"
   ]
  },
  {
   "cell_type": "markdown",
   "metadata": {
    "ExecuteTime": {
     "end_time": "2020-09-05T19:27:26.438023Z",
     "start_time": "2020-09-05T19:27:26.435097Z"
    },
    "heading_collapsed": true
   },
   "source": [
    "# Experimento com a View1 Individualmente"
   ]
  },
  {
   "cell_type": "code",
   "execution_count": 42,
   "metadata": {
    "ExecuteTime": {
     "end_time": "2020-09-06T12:21:10.315108Z",
     "start_time": "2020-09-06T07:52:53.632299Z"
    },
    "hidden": true
   },
   "outputs": [
    {
     "name": "stdout",
     "output_type": "stream",
     "text": [
      "EXPERIMENTO 0\n",
      "0\n",
      "1\n",
      "2\n",
      "EXPERIMENTO 1\n",
      "0\n",
      "1\n",
      "2\n",
      "EXPERIMENTO 2\n",
      "0\n",
      "1\n",
      "2\n",
      "EXPERIMENTO 3\n",
      "0\n",
      "1\n",
      "2\n",
      "EXPERIMENTO 4\n",
      "0\n",
      "1\n",
      "2\n",
      "EXPERIMENTO 5\n",
      "0\n",
      "1\n",
      "2\n",
      "EXPERIMENTO 6\n",
      "0\n",
      "1\n",
      "2\n",
      "EXPERIMENTO 7\n",
      "0\n",
      "1\n",
      "2\n",
      "EXPERIMENTO 8\n",
      "0\n",
      "1\n",
      "EXPERIMENTO 9\n",
      "0\n",
      "1\n",
      "2\n"
     ]
    }
   ],
   "source": [
    "dissim_matrices = [view1_dissim_matrix]\n",
    "p = len(dissim_matrices)\n",
    "\n",
    "G = Lambda = U = None\n",
    "\n",
    "best_view1, adequacy_criterions_view1 = run_experiments()"
   ]
  },
  {
   "cell_type": "markdown",
   "metadata": {
    "heading_collapsed": true,
    "hidden": true
   },
   "source": [
    "## Resultados"
   ]
  },
  {
   "cell_type": "code",
   "execution_count": 45,
   "metadata": {
    "ExecuteTime": {
     "end_time": "2020-09-07T00:03:04.696702Z",
     "start_time": "2020-09-07T00:03:04.692128Z"
    },
    "hidden": true
   },
   "outputs": [],
   "source": [
    "path_results_view1 = \"results_view1/\""
   ]
  },
  {
   "cell_type": "markdown",
   "metadata": {
    "heading_collapsed": true,
    "hidden": true
   },
   "source": [
    "### Função Objetivo"
   ]
  },
  {
   "cell_type": "code",
   "execution_count": 46,
   "metadata": {
    "ExecuteTime": {
     "end_time": "2020-09-07T01:01:19.470410Z",
     "start_time": "2020-09-07T01:01:19.465188Z"
    },
    "hidden": true
   },
   "outputs": [
    {
     "data": {
      "text/plain": [
       "array([3417.65321444, 3446.71243929, 3429.82005819, 3446.54581318,\n",
       "       3422.90615145, 3446.79631039, 3422.97026395, 3436.91377552,\n",
       "       3421.69323835, 3445.40591384])"
      ]
     },
     "execution_count": 46,
     "metadata": {},
     "output_type": "execute_result"
    }
   ],
   "source": [
    "adequacy_criterions_view1 = np.array(adequacy_criterions_view1)\n",
    "adequacy_criterions_view1"
   ]
  },
  {
   "cell_type": "code",
   "execution_count": 47,
   "metadata": {
    "ExecuteTime": {
     "end_time": "2020-09-07T01:01:48.870765Z",
     "start_time": "2020-09-07T01:01:48.855753Z"
    },
    "hidden": true
   },
   "outputs": [
    {
     "data": {
      "text/html": [
       "<div>\n",
       "<style scoped>\n",
       "    .dataframe tbody tr th:only-of-type {\n",
       "        vertical-align: middle;\n",
       "    }\n",
       "\n",
       "    .dataframe tbody tr th {\n",
       "        vertical-align: top;\n",
       "    }\n",
       "\n",
       "    .dataframe thead th {\n",
       "        text-align: right;\n",
       "    }\n",
       "</style>\n",
       "<table border=\"1\" class=\"dataframe\">\n",
       "  <thead>\n",
       "    <tr style=\"text-align: right;\">\n",
       "      <th></th>\n",
       "      <th>Mínimo</th>\n",
       "      <th>Máximo</th>\n",
       "      <th>Média</th>\n",
       "      <th>Desvio-padrão</th>\n",
       "    </tr>\n",
       "  </thead>\n",
       "  <tbody>\n",
       "    <tr>\n",
       "      <th>0</th>\n",
       "      <td>3417.653214</td>\n",
       "      <td>3446.79631</td>\n",
       "      <td>3433.741718</td>\n",
       "      <td>11.408511</td>\n",
       "    </tr>\n",
       "  </tbody>\n",
       "</table>\n",
       "</div>"
      ],
      "text/plain": [
       "        Mínimo      Máximo        Média  Desvio-padrão\n",
       "0  3417.653214  3446.79631  3433.741718      11.408511"
      ]
     },
     "execution_count": 47,
     "metadata": {},
     "output_type": "execute_result"
    }
   ],
   "source": [
    "min_J = adequacy_criterions_view1.min()\n",
    "max_J = adequacy_criterions_view1.max()\n",
    "mean_J = adequacy_criterions_view1.mean()\n",
    "std_J = adequacy_criterions_view1.std()\n",
    "\n",
    "cols = columns=['Mínimo', 'Máximo', 'Média', 'Desvio-padrão']\n",
    "pd.DataFrame([[min_J, max_J, mean_J, std_J]], columns=cols)"
   ]
  },
  {
   "cell_type": "code",
   "execution_count": 48,
   "metadata": {
    "ExecuteTime": {
     "end_time": "2020-09-07T01:02:16.306886Z",
     "start_time": "2020-09-07T01:02:16.053651Z"
    },
    "hidden": true
   },
   "outputs": [
    {
     "data": {
      "image/png": "[encoded data removed]",
      "text/plain": [
       "<Figure size 720x432 with 1 Axes>"
      ]
     },
     "metadata": {
      "needs_background": "light"
     },
     "output_type": "display_data"
    }
   ],
   "source": [
    "ax = pd.DataFrame(adequacy_criterions_view1).plot(figsize=(10,6),\n",
    "                                       xticks=range(num_max_experiments),\n",
    "                                      fontsize=14,\n",
    "                                      legend=False)\n",
    "\n",
    "ax.set_xlabel(\"Nº Experimento\", fontsize=15)\n",
    "ax.set_ylabel(\"Função Objetivo\", fontsize=15)\n",
    "plt.show()"
   ]
  },
  {
   "cell_type": "code",
   "execution_count": 49,
   "metadata": {
    "ExecuteTime": {
     "end_time": "2020-09-07T01:02:55.125637Z",
     "start_time": "2020-09-07T01:02:55.119720Z"
    },
    "hidden": true
   },
   "outputs": [
    {
     "name": "stdout",
     "output_type": "stream",
     "text": [
      "Nº iterações do melhor experimento: 3\n"
     ]
    }
   ],
   "source": [
    "num_iter_best_exp = best_view1.iterations + 1\n",
    "print(\"Nº iterações do melhor experimento:\", num_iter_best_exp)\n",
    "\n",
    "np.savetxt(path_results_view1 + 'num_iter_melhor_exp.csv', [num_iter_best_exp], delimiter=',')"
   ]
  },
  {
   "cell_type": "code",
   "execution_count": 50,
   "metadata": {
    "ExecuteTime": {
     "end_time": "2020-09-07T01:03:22.625614Z",
     "start_time": "2020-09-07T01:03:22.620162Z"
    },
    "hidden": true
   },
   "outputs": [],
   "source": [
    "np.savetxt(path_results_view1 + \"funcao_obj.csv\", adequacy_criterions_view1, delimiter=\",\")"
   ]
  },
  {
   "cell_type": "markdown",
   "metadata": {
    "heading_collapsed": true,
    "hidden": true
   },
   "source": [
    "### Set-medoids (Protótipos)"
   ]
  },
  {
   "cell_type": "code",
   "execution_count": 52,
   "metadata": {
    "ExecuteTime": {
     "end_time": "2020-09-07T01:04:05.397076Z",
     "start_time": "2020-09-07T01:04:05.390900Z"
    },
    "hidden": true
   },
   "outputs": [
    {
     "data": {
      "text/plain": [
       "array([[ 749,  797],\n",
       "       [1722, 1689],\n",
       "       [1025, 1658],\n",
       "       [ 436,  593],\n",
       "       [1655, 1798],\n",
       "       [ 426,  512],\n",
       "       [1764, 1760],\n",
       "       [1693, 1799],\n",
       "       [ 695,  772],\n",
       "       [1825, 1959]])"
      ]
     },
     "execution_count": 52,
     "metadata": {},
     "output_type": "execute_result"
    }
   ],
   "source": [
    "best_view1.prototypes"
   ]
  },
  {
   "cell_type": "code",
   "execution_count": 53,
   "metadata": {
    "ExecuteTime": {
     "end_time": "2020-09-07T01:04:33.456019Z",
     "start_time": "2020-09-07T01:04:33.444327Z"
    },
    "hidden": true
   },
   "outputs": [
    {
     "name": "stdout",
     "output_type": "stream",
     "text": [
      "Set-medoids (protótipos):\n",
      "\n",
      "Q1: [749 797]\n",
      "Q2: [1722 1689]\n",
      "Q3: [1025 1658]\n",
      "Q4: [436 593]\n",
      "Q5: [1655 1798]\n",
      "Q6: [426 512]\n",
      "Q7: [1764 1760]\n",
      "Q8: [1693 1799]\n",
      "Q9: [695 772]\n",
      "Q10: [1825 1959]\n"
     ]
    }
   ],
   "source": [
    "print(\"Set-medoids (protótipos):\\n\")\n",
    "for num_cluster in range(K):\n",
    "    print('Q' + str(num_cluster+1) + \":\", best_view1.prototypes[num_cluster])"
   ]
  },
  {
   "cell_type": "code",
   "execution_count": 54,
   "metadata": {
    "ExecuteTime": {
     "end_time": "2020-09-07T01:04:56.482320Z",
     "start_time": "2020-09-07T01:04:56.474799Z"
    },
    "hidden": true
   },
   "outputs": [],
   "source": [
    "np.savetxt(path_results_view1 + \"prototipos.csv\", best_view1.prototypes, delimiter=\",\")"
   ]
  },
  {
   "cell_type": "markdown",
   "metadata": {
    "heading_collapsed": true,
    "hidden": true
   },
   "source": [
    "### Partição Fuzzy"
   ]
  },
  {
   "cell_type": "code",
   "execution_count": 55,
   "metadata": {
    "ExecuteTime": {
     "end_time": "2020-09-07T01:05:44.385425Z",
     "start_time": "2020-09-07T01:05:44.377755Z"
    },
    "hidden": true
   },
   "outputs": [
    {
     "data": {
      "text/plain": [
       "array([[0.053855  , 0.14277392, 0.10690863, ..., 0.12626142, 0.06796859,\n",
       "        0.07364616],\n",
       "       [0.05450686, 0.15291145, 0.10332908, ..., 0.11658175, 0.06446262,\n",
       "        0.07821587],\n",
       "       [0.05501307, 0.13767718, 0.10246666, ..., 0.14811244, 0.06889393,\n",
       "        0.07524029],\n",
       "       ...,\n",
       "       [0.11450192, 0.08783213, 0.10209005, ..., 0.07748494, 0.08523386,\n",
       "        0.16261202],\n",
       "       [0.0956867 , 0.0884174 , 0.09564499, ..., 0.0771466 , 0.0953133 ,\n",
       "        0.21313286],\n",
       "       [0.1348869 , 0.06833755, 0.06931932, ..., 0.0616101 , 0.08348092,\n",
       "        0.12043525]])"
      ]
     },
     "execution_count": 55,
     "metadata": {},
     "output_type": "execute_result"
    }
   ],
   "source": [
    "best_view1.fuzzy_partition"
   ]
  },
  {
   "cell_type": "code",
   "execution_count": 56,
   "metadata": {
    "ExecuteTime": {
     "end_time": "2020-09-07T01:06:03.100092Z",
     "start_time": "2020-09-07T01:06:03.092953Z"
    },
    "hidden": true
   },
   "outputs": [
    {
     "data": {
      "text/plain": [
       "array([1., 1., 1., ..., 1., 1., 1.])"
      ]
     },
     "execution_count": 56,
     "metadata": {},
     "output_type": "execute_result"
    }
   ],
   "source": [
    "memberships_sums = best_view1.fuzzy_partition.sum(axis=1)\n",
    "memberships_sums"
   ]
  },
  {
   "cell_type": "code",
   "execution_count": 57,
   "metadata": {
    "ExecuteTime": {
     "end_time": "2020-09-07T01:06:13.376036Z",
     "start_time": "2020-09-07T01:06:12.570797Z"
    },
    "hidden": true
   },
   "outputs": [
    {
     "data": {
      "image/png": "[encoded data removed]",
      "text/plain": [
       "<Figure size 720x432 with 1 Axes>"
      ]
     },
     "metadata": {
      "needs_background": "light"
     },
     "output_type": "display_data"
    }
   ],
   "source": [
    "# Os graus de pertinência de cada objeto devem somar 1.\n",
    "ax = pd.DataFrame(memberships_sums).plot(figsize=(10,6),\n",
    "                                      fontsize=14,\n",
    "                                      legend=False)\n",
    "\n",
    "ax.set_xlabel(\"Objeto\", fontsize=15)\n",
    "ax.set_ylabel(\"Soma Graus Pertinência\", fontsize=15)\n",
    "plt.show()"
   ]
  },
  {
   "cell_type": "code",
   "execution_count": 58,
   "metadata": {
    "ExecuteTime": {
     "end_time": "2020-09-07T01:06:20.824920Z",
     "start_time": "2020-09-07T01:06:20.818062Z"
    },
    "hidden": true
   },
   "outputs": [
    {
     "data": {
      "text/plain": [
       "(0.9999999999999998, 1.0000000000000002)"
      ]
     },
     "execution_count": 58,
     "metadata": {},
     "output_type": "execute_result"
    }
   ],
   "source": [
    "# Os que não somam, é devido a erros numéricos.\n",
    "memberships_sums.min(), memberships_sums.max()"
   ]
  },
  {
   "cell_type": "code",
   "execution_count": 59,
   "metadata": {
    "ExecuteTime": {
     "end_time": "2020-09-07T01:07:04.701583Z",
     "start_time": "2020-09-07T01:07:04.670273Z"
    },
    "hidden": true
   },
   "outputs": [],
   "source": [
    "np.savetxt(path_results_view1 + \"particao_fuzzy.csv\", best_view1.fuzzy_partition, delimiter=\",\")"
   ]
  },
  {
   "cell_type": "markdown",
   "metadata": {
    "heading_collapsed": true,
    "hidden": true
   },
   "source": [
    "### Partição Crisp"
   ]
  },
  {
   "cell_type": "code",
   "execution_count": 60,
   "metadata": {
    "ExecuteTime": {
     "end_time": "2020-09-07T01:07:53.911320Z",
     "start_time": "2020-09-07T01:07:53.879959Z"
    },
    "hidden": true,
    "scrolled": true
   },
   "outputs": [
    {
     "data": {
      "text/plain": [
       "array([6, 6, 6, ..., 9, 9, 5])"
      ]
     },
     "execution_count": 60,
     "metadata": {},
     "output_type": "execute_result"
    }
   ],
   "source": [
    "best_view1.fuzzy_to_crisp()\n",
    "best_view1.crisp_partition"
   ]
  },
  {
   "cell_type": "code",
   "execution_count": 61,
   "metadata": {
    "ExecuteTime": {
     "end_time": "2020-09-07T01:08:42.360451Z",
     "start_time": "2020-09-07T01:08:42.347331Z"
    },
    "hidden": true
   },
   "outputs": [
    {
     "name": "stdout",
     "output_type": "stream",
     "text": [
      "Lista de Objetos por Grupo:\n",
      "\n",
      "Q1: [ 201  203  204  210  211  212  214  215  216  217  218  222  223  224\n",
      "  226  227  229  230  231  232  233  234  237  238  240  241  242  244\n",
      "  246  248  249  256  257  258  261  263  267  268  270  274  275  278\n",
      "  279  280  283  284  285  287  289  294  297  299  300  303  304  305\n",
      "  306  308  309  310  311  314  316  322  324  325  326  328  329  333\n",
      "  334  339  340  341  342  345  346  348  349  351  353  354  356  361\n",
      "  362  365  368  372  373  374  376  384  386  388  390  391  392  393\n",
      "  396  399  604  608  610  613  614  619  623  626  628  629  637  640\n",
      "  641  642  643  644  653  655  656  661  663  665  666  672  674  677\n",
      "  679  681  687  689  693  701  707  714  721  722  723  727  728  729\n",
      "  731  732  734  738  739  741  742  746  749  750  751  752  753  756\n",
      "  757  760  761  762  763  764  765  767  773  775  778  782  786  788\n",
      "  790  793  794  795  796  797  803  837  846  872  877  888  943  957\n",
      "  974 1004 1006 1008 1010 1019 1022 1024 1028 1030 1061 1077 1093 1103\n",
      " 1109 1111 1116 1123 1134 1136 1141 1144 1154 1157 1161 1164 1177 1179\n",
      " 1181 1193 1195 1438 1471 1543 1560 1725 1850 1863 1950] \n",
      "\n",
      "Q2: [   5  147  158  243  245  251  296  301  302  726  783  826  847  861\n",
      "  931  996 1091 1095 1220 1234 1242 1247 1270 1316 1390 1396 1612 1621\n",
      " 1624 1627 1634 1643 1650 1661 1662 1664 1669 1675 1681 1682 1689 1690\n",
      " 1695 1697 1701 1711 1713 1715 1722 1726 1731 1733 1734 1735 1739 1744\n",
      " 1747 1754 1769 1771 1772 1776 1779 1782 1788 1795 1797] \n",
      "\n",
      "Q3: [ 205  219  253  327  716  740  800  811  814  816  830  835  848  850\n",
      "  856  858  859  864  876  881  886  887  891  912  920  930  934  955\n",
      "  963  966  968  971  975  977  997  999 1002 1003 1005 1011 1016 1017\n",
      " 1020 1021 1023 1025 1026 1027 1033 1037 1039 1040 1041 1043 1045 1047\n",
      " 1048 1050 1051 1052 1054 1055 1067 1068 1069 1070 1073 1074 1076 1078\n",
      " 1079 1080 1082 1083 1084 1085 1088 1096 1099 1105 1106 1108 1113 1115\n",
      " 1117 1118 1119 1121 1122 1124 1126 1128 1132 1133 1135 1137 1140 1143\n",
      " 1146 1148 1149 1151 1153 1155 1156 1162 1168 1169 1170 1171 1172 1173\n",
      " 1176 1182 1185 1186 1189 1191 1192 1194 1197 1198 1199 1201 1208 1210\n",
      " 1221 1227 1229 1230 1233 1241 1252 1255 1262 1265 1269 1272 1277 1278\n",
      " 1279 1280 1282 1283 1285 1292 1293 1311 1319 1336 1337 1340 1341 1345\n",
      " 1353 1359 1361 1363 1365 1368 1371 1374 1375 1376 1377 1379 1383 1385\n",
      " 1386 1399 1658 1945] \n",
      "\n",
      "Q4: [ 107  200  202  213  255  266  277  295  312  344  347  360  383  397\n",
      "  400  401  402  403  404  405  406  407  408  409  410  411  412  415\n",
      "  416  418  419  420  421  423  427  428  429  430  431  432  434  435\n",
      "  436  437  438  439  440  442  444  445  446  447  448  450  451  453\n",
      "  454  455  456  457  458  460  461  462  463  464  465  467  468  469\n",
      "  471  472  473  474  475  476  477  478  479  480  482  483  484  485\n",
      "  486  487  488  489  490  492  493  494  496  497  498  499  500  501\n",
      "  502  503  504  505  506  507  508  509  510  511  513  514  515  516\n",
      "  517  518  519  520  521  522  524  525  526  527  528  529  530  531\n",
      "  532  533  534  535  536  537  538  540  541  544  545  546  547  548\n",
      "  549  550  551  552  553  554  556  557  558  559  560  561  563  564\n",
      "  565  566  567  568  569  571  572  573  574  575  576  577  579  580\n",
      "  581  582  583  585  586  587  588  589  590  591  593  594  595  596\n",
      "  597  598  599  602  633  647  659  706  715  743  776  801  804  805\n",
      "  806  809  817  823  827  828  833  836  839  841  851  854  857  862\n",
      "  873  874  893  899  900  904  905  914  921  925  928  936  939  940\n",
      "  950  952  953  960  978  983  989  991 1007 1032 1062 1072 1087 1097\n",
      " 1100 1129 1175 1184 1264 1299 1378 1380 1400 1411 1413 1416 1417 1418\n",
      " 1423 1429 1432 1434 1446 1448 1455 1456 1457 1464 1466 1467 1473 1477\n",
      " 1480 1482 1493 1501 1503 1508 1510 1512 1514 1516 1521 1529 1539 1544\n",
      " 1550 1563 1567 1575 1587 1589 1590 1591 1606 1625 1705 1727 1736 1750\n",
      " 1761 1805 1806 1846 1855 1884 1939 1979 1991] \n",
      "\n",
      "Q5: [ 264  331 1202 1203 1204 1209 1212 1213 1214 1215 1216 1218 1219 1224\n",
      " 1226 1232 1236 1238 1244 1245 1248 1250 1253 1258 1259 1261 1263 1266\n",
      " 1267 1275 1276 1281 1288 1291 1294 1298 1303 1308 1315 1320 1322 1323\n",
      " 1324 1325 1327 1334 1339 1347 1348 1349 1350 1354 1355 1381 1388 1389\n",
      " 1392 1394 1600 1601 1602 1605 1607 1608 1610 1611 1615 1616 1617 1622\n",
      " 1628 1629 1630 1631 1633 1635 1636 1638 1640 1641 1644 1645 1647 1648\n",
      " 1649 1651 1653 1655 1656 1657 1659 1660 1663 1668 1671 1673 1674 1677\n",
      " 1679 1683 1685 1687 1688 1694 1700 1703 1704 1706 1707 1708 1709 1714\n",
      " 1718 1720 1728 1730 1737 1738 1740 1742 1743 1745 1746 1748 1751 1752\n",
      " 1759 1763 1766 1767 1773 1775 1778 1780 1781 1783 1785 1787 1789 1790\n",
      " 1791 1792 1794 1798 1837] \n",
      "\n",
      "Q6: [ 413  414  417  422  424  425  426  433  441  443  449  452  459  466\n",
      "  470  481  491  495  512  523  539  542  543  555  562  570  578  584\n",
      "  592  781 1053 1056 1063 1075 1081 1142 1401 1402 1403 1404 1406 1408\n",
      " 1409 1410 1412 1414 1415 1419 1420 1421 1422 1425 1426 1427 1428 1430\n",
      " 1431 1433 1435 1436 1439 1440 1441 1442 1443 1444 1445 1447 1449 1450\n",
      " 1451 1452 1453 1454 1458 1459 1460 1461 1462 1463 1465 1468 1469 1472\n",
      " 1474 1475 1478 1479 1481 1483 1485 1486 1487 1488 1489 1490 1492 1494\n",
      " 1495 1496 1497 1498 1499 1500 1502 1504 1505 1506 1507 1509 1511 1513\n",
      " 1515 1517 1518 1520 1522 1523 1524 1525 1526 1527 1528 1530 1531 1532\n",
      " 1533 1534 1535 1536 1537 1540 1541 1542 1545 1546 1547 1549 1551 1552\n",
      " 1553 1554 1555 1556 1558 1559 1561 1562 1564 1565 1566 1568 1569 1570\n",
      " 1571 1572 1573 1574 1576 1579 1580 1581 1582 1583 1584 1585 1586 1588\n",
      " 1592 1593 1594 1597 1598 1599 1804 1810 1811 1812 1813 1814 1821 1828\n",
      " 1831 1843 1847 1853 1857 1861 1866 1873 1878 1888 1891 1892 1893 1894\n",
      " 1898 1900 1901 1903 1904 1910 1911 1916 1922 1931 1933 1935 1944 1952\n",
      " 1955 1958 1960 1963 1965 1966 1969 1974 1977 1980 1985 1999] \n",
      "\n",
      "Q7: [   0    1    2    3    4    6    7    8    9   10   11   12   13   14\n",
      "   15   16   17   18   19   20   21   22   23   24   25   26   27   28\n",
      "   29   30   31   32   34   35   36   37   38   39   40   41   42   43\n",
      "   45   46   47   49   51   53   54   55   56   57   58   60   62   63\n",
      "   64   65   67   69   70   71   73   74   75   76   77   78   80   81\n",
      "   82   83   85   86   87   89   90   91   93   94   95   96   97   98\n",
      "   99  100  102  103  104  105  110  111  112  113  114  117  118  119\n",
      "  120  121  122  123  124  125  126  127  128  129  131  132  133  135\n",
      "  137  138  139  140  141  142  143  144  145  146  148  150  151  153\n",
      "  154  155  156  157  159  161  162  163  164  165  167  168  169  170\n",
      "  171  172  173  174  175  176  177  178  179  180  181  182  183  184\n",
      "  185  186  187  188  191  192  194  195  196  197  198  199  758  902\n",
      " 1000 1018 1112 1127 1180 1604 1613 1618 1619 1626 1637 1642 1652 1654\n",
      " 1665 1666 1670 1672 1678 1684 1686 1691 1698 1710 1712 1716 1721 1723\n",
      " 1724 1749 1757 1760 1762 1764 1765 1770 1774 1777 1796] \n",
      "\n",
      "Q8: [  33   44   48   50   52   59   61   66   68   72   79   84   88   92\n",
      "  101  106  108  109  115  116  130  134  136  149  152  160  166  189\n",
      "  190  193  228  343  802  807  808  810  812  813  815  818  821  822\n",
      "  825  829  831  832  834  838  840  842  843  844  845  849  852  853\n",
      "  855  860  863  865  866  867  868  869  870  875  878  879  880  883\n",
      "  884  885  889  890  892  895  896  897  898  901  903  906  907  908\n",
      "  909  910  911  913  915  916  917  918  919  922  923  924  926  927\n",
      "  929  933  935  937  938  941  942  944  945  946  947  948  949  954\n",
      "  956  958  959  961  964  965  967  969  970  972  973  976  979  980\n",
      "  981  982  984  985  986  987  988  990  992  993  994  995  998 1036\n",
      " 1058 1064 1065 1102 1200 1205 1206 1207 1211 1217 1222 1223 1225 1228\n",
      " 1231 1235 1237 1239 1240 1243 1246 1249 1251 1254 1256 1257 1260 1268\n",
      " 1271 1273 1274 1284 1286 1287 1289 1290 1295 1296 1297 1300 1301 1302\n",
      " 1304 1305 1306 1307 1309 1310 1312 1313 1314 1317 1318 1321 1326 1328\n",
      " 1329 1331 1332 1333 1335 1338 1342 1343 1344 1346 1351 1352 1356 1357\n",
      " 1358 1360 1362 1364 1366 1367 1369 1370 1372 1373 1382 1384 1391 1393\n",
      " 1395 1397 1398 1614 1620 1632 1646 1676 1680 1692 1693 1702 1717 1719\n",
      " 1729 1732 1753 1755 1756 1768 1784 1786 1793 1799] \n",
      "\n",
      "Q9: [ 207  208  209  220  221  225  239  250  254  259  260  262  265  269\n",
      "  271  272  273  276  286  288  290  291  293  298  307  313  315  317\n",
      "  319  320  321  323  330  332  336  337  350  352  355  357  358  359\n",
      "  363  366  369  375  378  379  381  382  387  389  394  395  398  600\n",
      "  601  603  605  606  607  609  611  612  615  616  617  618  620  621\n",
      "  622  624  625  627  630  631  632  634  635  636  638  639  645  646\n",
      "  648  649  650  651  654  657  658  660  662  664  667  668  669  670\n",
      "  673  675  676  678  680  682  683  684  685  686  688  690  691  692\n",
      "  694  695  696  697  698  699  700  702  703  704  705  708  709  710\n",
      "  711  712  713  717  718  719  720  725  730  733  735  736  737  744\n",
      "  745  747  748  754  755  759  766  768  769  770  771  772  774  777\n",
      "  779  780  784  785  787  789  791  792  798  799  819  820  871  894\n",
      "  932  962 1001 1009 1012 1013 1014 1031 1034 1035 1038 1042 1044 1046\n",
      " 1049 1057 1060 1071 1089 1090 1092 1098 1101 1107 1110 1114 1120 1125\n",
      " 1130 1152 1158 1159 1160 1163 1166 1174 1178 1183 1187 1188 1190 1196\n",
      " 1330 1387 1609 1639 1667 1696 1741 1758 1872 1912 1915 1936] \n",
      "\n",
      "Q10: [ 206  235  236  247  252  281  282  292  318  335  338  364  367  370\n",
      "  371  377  380  385  652  671  724  824  882  951 1015 1029 1059 1066\n",
      " 1086 1094 1104 1131 1138 1139 1145 1147 1150 1165 1167 1405 1407 1424\n",
      " 1437 1470 1476 1484 1491 1519 1538 1548 1557 1577 1578 1595 1596 1603\n",
      " 1623 1699 1800 1801 1802 1803 1807 1808 1809 1815 1816 1817 1818 1819\n",
      " 1820 1822 1823 1824 1825 1826 1827 1829 1830 1832 1833 1834 1835 1836\n",
      " 1838 1839 1840 1841 1842 1844 1845 1848 1849 1851 1852 1854 1856 1858\n",
      " 1859 1860 1862 1864 1865 1867 1868 1869 1870 1871 1874 1875 1876 1877\n",
      " 1879 1880 1881 1882 1883 1885 1886 1887 1889 1890 1895 1896 1897 1899\n",
      " 1902 1905 1906 1907 1908 1909 1913 1914 1917 1918 1919 1920 1921 1923\n",
      " 1924 1925 1926 1927 1928 1929 1930 1932 1934 1937 1938 1940 1941 1942\n",
      " 1943 1946 1947 1948 1949 1951 1953 1954 1956 1957 1959 1961 1962 1964\n",
      " 1967 1968 1970 1971 1972 1973 1975 1976 1978 1981 1982 1983 1984 1986\n",
      " 1987 1988 1989 1990 1992 1993 1994 1995 1996 1997 1998] \n",
      "\n"
     ]
    }
   ],
   "source": [
    "print(\"Lista de Objetos por Grupo:\\n\")\n",
    "\n",
    "crisp_clusters_view1 = [np.where(best_view1.crisp_partition == k)[0] for k in range(K)]\n",
    "\n",
    "for k in range(K): \n",
    "    print('Q' + str(k+1) + \":\", crisp_clusters_view1[k], '\\n')"
   ]
  },
  {
   "cell_type": "code",
   "execution_count": 62,
   "metadata": {
    "ExecuteTime": {
     "end_time": "2020-09-07T01:09:50.527247Z",
     "start_time": "2020-09-07T01:09:50.515147Z"
    },
    "hidden": true
   },
   "outputs": [
    {
     "name": "stdout",
     "output_type": "stream",
     "text": [
      "Número de Objetos em cada Grupo Crisp: \n",
      "\n",
      "Q1: 221\n",
      "Q2: 67\n",
      "Q3: 172\n",
      "Q4: 303\n",
      "Q5: 145\n",
      "Q6: 222\n",
      "Q7: 207\n",
      "Q8: 248\n",
      "Q9: 222\n",
      "Q10: 193\n"
     ]
    }
   ],
   "source": [
    "print(\"Número de Objetos em cada Grupo Crisp: \\n\")\n",
    "\n",
    "num_objects_crisp_view1 = [cluster.shape[0] for cluster in crisp_clusters_view1]\n",
    "\n",
    "for k in range(K):\n",
    "    \n",
    "    print('Q' + str(k+1) + \":\", num_objects_crisp_view1[k])"
   ]
  },
  {
   "cell_type": "code",
   "execution_count": 63,
   "metadata": {
    "ExecuteTime": {
     "end_time": "2020-09-07T01:10:12.173369Z",
     "start_time": "2020-09-07T01:10:11.864164Z"
    },
    "hidden": true
   },
   "outputs": [
    {
     "data": {
      "image/png": "[encoded data removed]",
      "text/plain": [
       "<Figure size 720x576 with 1 Axes>"
      ]
     },
     "metadata": {
      "needs_background": "light"
     },
     "output_type": "display_data"
    }
   ],
   "source": [
    "ax = pd.DataFrame(num_objects_crisp_view1).plot.bar(figsize=(10,8),\n",
    "                                              fontsize=14,\n",
    "                                              legend=False,\n",
    "                                              rot=0)\n",
    "        \n",
    "ax.set_xticklabels(['Q' + str(k+1) for k in range(K)])\n",
    "ax.set_ylabel(\"Qtd Objetos\", fontsize=15)\n",
    "plt.show()"
   ]
  },
  {
   "cell_type": "code",
   "execution_count": 64,
   "metadata": {
    "ExecuteTime": {
     "end_time": "2020-09-07T01:10:59.899052Z",
     "start_time": "2020-09-07T01:10:59.887142Z"
    },
    "hidden": true
   },
   "outputs": [],
   "source": [
    "np.savetxt(path_results_view1 + \"particao_crisp.csv\", best_view1.crisp_partition, delimiter=\",\")"
   ]
  },
  {
   "cell_type": "markdown",
   "metadata": {
    "heading_collapsed": true,
    "hidden": true
   },
   "source": [
    "### Pesos das Matrizes"
   ]
  },
  {
   "cell_type": "code",
   "execution_count": 65,
   "metadata": {
    "ExecuteTime": {
     "end_time": "2020-09-07T01:11:45.451692Z",
     "start_time": "2020-09-07T01:11:45.446461Z"
    },
    "hidden": true
   },
   "outputs": [
    {
     "data": {
      "text/plain": [
       "array([[1.],\n",
       "       [1.],\n",
       "       [1.],\n",
       "       [1.],\n",
       "       [1.],\n",
       "       [1.],\n",
       "       [1.],\n",
       "       [1.],\n",
       "       [1.],\n",
       "       [1.]])"
      ]
     },
     "execution_count": 65,
     "metadata": {},
     "output_type": "execute_result"
    }
   ],
   "source": [
    "best_view1.relevance_weights"
   ]
  },
  {
   "cell_type": "markdown",
   "metadata": {
    "heading_collapsed": true,
    "hidden": true
   },
   "source": [
    "### Métricas"
   ]
  },
  {
   "cell_type": "code",
   "execution_count": 66,
   "metadata": {
    "ExecuteTime": {
     "end_time": "2020-09-07T01:12:19.445606Z",
     "start_time": "2020-09-07T01:12:19.442694Z"
    },
    "hidden": true
   },
   "outputs": [],
   "source": [
    "measures_view1 = []"
   ]
  },
  {
   "cell_type": "markdown",
   "metadata": {
    "heading_collapsed": true,
    "hidden": true
   },
   "source": [
    "#### Métricas Internas"
   ]
  },
  {
   "cell_type": "markdown",
   "metadata": {
    "hidden": true
   },
   "source": [
    "Modified Partition Coefficient"
   ]
  },
  {
   "cell_type": "code",
   "execution_count": 67,
   "metadata": {
    "ExecuteTime": {
     "end_time": "2020-09-07T01:13:29.228841Z",
     "start_time": "2020-09-07T01:13:29.223795Z"
    },
    "hidden": true
   },
   "outputs": [
    {
     "data": {
      "text/plain": [
       "0.022069337847517856"
      ]
     },
     "execution_count": 67,
     "metadata": {},
     "output_type": "execute_result"
    }
   ],
   "source": [
    "mpc = best_view1.mod_partition_coeff()\n",
    "mpc"
   ]
  },
  {
   "cell_type": "code",
   "execution_count": 68,
   "metadata": {
    "ExecuteTime": {
     "end_time": "2020-09-07T01:13:41.356954Z",
     "start_time": "2020-09-07T01:13:41.353575Z"
    },
    "hidden": true
   },
   "outputs": [],
   "source": [
    "measures_view1.append(mpc)"
   ]
  },
  {
   "cell_type": "markdown",
   "metadata": {
    "hidden": true
   },
   "source": [
    "Partition Entropy"
   ]
  },
  {
   "cell_type": "code",
   "execution_count": 69,
   "metadata": {
    "ExecuteTime": {
     "end_time": "2020-09-07T01:13:50.680139Z",
     "start_time": "2020-09-07T01:13:50.674102Z"
    },
    "hidden": true
   },
   "outputs": [
    {
     "data": {
      "text/plain": [
       "2.229448939966565"
      ]
     },
     "execution_count": 69,
     "metadata": {},
     "output_type": "execute_result"
    }
   ],
   "source": [
    "pe = best_view1.partition_entropy()\n",
    "pe"
   ]
  },
  {
   "cell_type": "code",
   "execution_count": 70,
   "metadata": {
    "ExecuteTime": {
     "end_time": "2020-09-07T01:13:59.106294Z",
     "start_time": "2020-09-07T01:13:59.103223Z"
    },
    "hidden": true
   },
   "outputs": [],
   "source": [
    "measures_view1.append(pe)"
   ]
  },
  {
   "cell_type": "markdown",
   "metadata": {
    "heading_collapsed": true,
    "hidden": true
   },
   "source": [
    "#### Métricas Externas"
   ]
  },
  {
   "cell_type": "code",
   "execution_count": 71,
   "metadata": {
    "ExecuteTime": {
     "end_time": "2020-09-07T01:14:32.790340Z",
     "start_time": "2020-09-07T01:14:32.769742Z"
    },
    "hidden": true
   },
   "outputs": [
    {
     "data": {
      "text/html": [
       "<div>\n",
       "<style scoped>\n",
       "    .dataframe tbody tr th:only-of-type {\n",
       "        vertical-align: middle;\n",
       "    }\n",
       "\n",
       "    .dataframe tbody tr th {\n",
       "        vertical-align: top;\n",
       "    }\n",
       "\n",
       "    .dataframe thead th {\n",
       "        text-align: right;\n",
       "    }\n",
       "</style>\n",
       "<table border=\"1\" class=\"dataframe\">\n",
       "  <thead>\n",
       "    <tr style=\"text-align: right;\">\n",
       "      <th></th>\n",
       "      <th>Q1</th>\n",
       "      <th>Q2</th>\n",
       "      <th>Q3</th>\n",
       "      <th>Q4</th>\n",
       "      <th>Q5</th>\n",
       "      <th>Q6</th>\n",
       "      <th>Q7</th>\n",
       "      <th>Q8</th>\n",
       "      <th>Q9</th>\n",
       "      <th>Q10</th>\n",
       "      <th>Soma</th>\n",
       "    </tr>\n",
       "  </thead>\n",
       "  <tbody>\n",
       "    <tr>\n",
       "      <th>P1</th>\n",
       "      <td>0</td>\n",
       "      <td>3</td>\n",
       "      <td>0</td>\n",
       "      <td>1</td>\n",
       "      <td>0</td>\n",
       "      <td>0</td>\n",
       "      <td>166</td>\n",
       "      <td>30</td>\n",
       "      <td>0</td>\n",
       "      <td>0</td>\n",
       "      <td>200</td>\n",
       "    </tr>\n",
       "    <tr>\n",
       "      <th>P2</th>\n",
       "      <td>100</td>\n",
       "      <td>6</td>\n",
       "      <td>4</td>\n",
       "      <td>13</td>\n",
       "      <td>2</td>\n",
       "      <td>0</td>\n",
       "      <td>0</td>\n",
       "      <td>2</td>\n",
       "      <td>55</td>\n",
       "      <td>18</td>\n",
       "      <td>200</td>\n",
       "    </tr>\n",
       "    <tr>\n",
       "      <th>P3</th>\n",
       "      <td>0</td>\n",
       "      <td>0</td>\n",
       "      <td>0</td>\n",
       "      <td>171</td>\n",
       "      <td>0</td>\n",
       "      <td>29</td>\n",
       "      <td>0</td>\n",
       "      <td>0</td>\n",
       "      <td>0</td>\n",
       "      <td>0</td>\n",
       "      <td>200</td>\n",
       "    </tr>\n",
       "    <tr>\n",
       "      <th>P4</th>\n",
       "      <td>74</td>\n",
       "      <td>2</td>\n",
       "      <td>2</td>\n",
       "      <td>8</td>\n",
       "      <td>0</td>\n",
       "      <td>1</td>\n",
       "      <td>1</td>\n",
       "      <td>0</td>\n",
       "      <td>109</td>\n",
       "      <td>3</td>\n",
       "      <td>200</td>\n",
       "    </tr>\n",
       "    <tr>\n",
       "      <th>P5</th>\n",
       "      <td>9</td>\n",
       "      <td>5</td>\n",
       "      <td>30</td>\n",
       "      <td>39</td>\n",
       "      <td>0</td>\n",
       "      <td>0</td>\n",
       "      <td>1</td>\n",
       "      <td>107</td>\n",
       "      <td>6</td>\n",
       "      <td>3</td>\n",
       "      <td>200</td>\n",
       "    </tr>\n",
       "    <tr>\n",
       "      <th>P6</th>\n",
       "      <td>30</td>\n",
       "      <td>2</td>\n",
       "      <td>87</td>\n",
       "      <td>10</td>\n",
       "      <td>0</td>\n",
       "      <td>6</td>\n",
       "      <td>5</td>\n",
       "      <td>5</td>\n",
       "      <td>40</td>\n",
       "      <td>15</td>\n",
       "      <td>200</td>\n",
       "    </tr>\n",
       "    <tr>\n",
       "      <th>P7</th>\n",
       "      <td>0</td>\n",
       "      <td>8</td>\n",
       "      <td>47</td>\n",
       "      <td>4</td>\n",
       "      <td>56</td>\n",
       "      <td>0</td>\n",
       "      <td>0</td>\n",
       "      <td>83</td>\n",
       "      <td>2</td>\n",
       "      <td>0</td>\n",
       "      <td>200</td>\n",
       "    </tr>\n",
       "    <tr>\n",
       "      <th>P8</th>\n",
       "      <td>4</td>\n",
       "      <td>0</td>\n",
       "      <td>0</td>\n",
       "      <td>42</td>\n",
       "      <td>0</td>\n",
       "      <td>138</td>\n",
       "      <td>0</td>\n",
       "      <td>0</td>\n",
       "      <td>0</td>\n",
       "      <td>16</td>\n",
       "      <td>200</td>\n",
       "    </tr>\n",
       "    <tr>\n",
       "      <th>P9</th>\n",
       "      <td>1</td>\n",
       "      <td>41</td>\n",
       "      <td>1</td>\n",
       "      <td>7</td>\n",
       "      <td>86</td>\n",
       "      <td>0</td>\n",
       "      <td>34</td>\n",
       "      <td>21</td>\n",
       "      <td>6</td>\n",
       "      <td>3</td>\n",
       "      <td>200</td>\n",
       "    </tr>\n",
       "    <tr>\n",
       "      <th>P10</th>\n",
       "      <td>3</td>\n",
       "      <td>0</td>\n",
       "      <td>1</td>\n",
       "      <td>8</td>\n",
       "      <td>1</td>\n",
       "      <td>48</td>\n",
       "      <td>0</td>\n",
       "      <td>0</td>\n",
       "      <td>4</td>\n",
       "      <td>135</td>\n",
       "      <td>200</td>\n",
       "    </tr>\n",
       "    <tr>\n",
       "      <th>Soma</th>\n",
       "      <td>221</td>\n",
       "      <td>67</td>\n",
       "      <td>172</td>\n",
       "      <td>303</td>\n",
       "      <td>145</td>\n",
       "      <td>222</td>\n",
       "      <td>207</td>\n",
       "      <td>248</td>\n",
       "      <td>222</td>\n",
       "      <td>193</td>\n",
       "      <td>2000</td>\n",
       "    </tr>\n",
       "  </tbody>\n",
       "</table>\n",
       "</div>"
      ],
      "text/plain": [
       "       Q1  Q2   Q3   Q4   Q5   Q6   Q7   Q8   Q9  Q10  Soma\n",
       "P1      0   3    0    1    0    0  166   30    0    0   200\n",
       "P2    100   6    4   13    2    0    0    2   55   18   200\n",
       "P3      0   0    0  171    0   29    0    0    0    0   200\n",
       "P4     74   2    2    8    0    1    1    0  109    3   200\n",
       "P5      9   5   30   39    0    0    1  107    6    3   200\n",
       "P6     30   2   87   10    0    6    5    5   40   15   200\n",
       "P7      0   8   47    4   56    0    0   83    2    0   200\n",
       "P8      4   0    0   42    0  138    0    0    0   16   200\n",
       "P9      1  41    1    7   86    0   34   21    6    3   200\n",
       "P10     3   0    1    8    1   48    0    0    4  135   200\n",
       "Soma  221  67  172  303  145  222  207  248  222  193  2000"
      ]
     },
     "execution_count": 71,
     "metadata": {},
     "output_type": "execute_result"
    }
   ],
   "source": [
    "best_view1.confusion_matrix()\n",
    "\n",
    "cols =  ['Q' + str(k+1) for k in range(K)] + ['Soma']\n",
    "indexes = ['P' + str(k+1) for k in range(K)] + ['Soma']\n",
    "\n",
    "pd.DataFrame(best_view1.expand_confusion_matrix, columns=cols, index=indexes)"
   ]
  },
  {
   "cell_type": "markdown",
   "metadata": {
    "hidden": true
   },
   "source": [
    "Índice de Rand Corrigido"
   ]
  },
  {
   "cell_type": "code",
   "execution_count": 72,
   "metadata": {
    "ExecuteTime": {
     "end_time": "2020-09-07T01:14:57.102558Z",
     "start_time": "2020-09-07T01:14:57.093807Z"
    },
    "hidden": true
   },
   "outputs": [
    {
     "data": {
      "text/plain": [
       "0.3585756050730023"
      ]
     },
     "execution_count": 72,
     "metadata": {},
     "output_type": "execute_result"
    }
   ],
   "source": [
    "ar_index = best_view1.adjusted_rand_index()\n",
    "ar_index"
   ]
  },
  {
   "cell_type": "code",
   "execution_count": 73,
   "metadata": {
    "ExecuteTime": {
     "end_time": "2020-09-07T01:15:08.128688Z",
     "start_time": "2020-09-07T01:15:08.124914Z"
    },
    "hidden": true
   },
   "outputs": [],
   "source": [
    "measures_view1.append(ar_index)"
   ]
  },
  {
   "cell_type": "markdown",
   "metadata": {
    "hidden": true
   },
   "source": [
    "F-measure"
   ]
  },
  {
   "cell_type": "code",
   "execution_count": 74,
   "metadata": {
    "ExecuteTime": {
     "end_time": "2020-09-07T01:15:22.978175Z",
     "start_time": "2020-09-07T01:15:22.970366Z"
    },
    "hidden": true
   },
   "outputs": [
    {
     "data": {
      "text/plain": [
       "0.5642850635628067"
      ]
     },
     "execution_count": 74,
     "metadata": {},
     "output_type": "execute_result"
    }
   ],
   "source": [
    "f1 = best_view1.f_measure()\n",
    "f1"
   ]
  },
  {
   "cell_type": "code",
   "execution_count": 75,
   "metadata": {
    "ExecuteTime": {
     "end_time": "2020-09-07T01:15:32.348324Z",
     "start_time": "2020-09-07T01:15:32.344788Z"
    },
    "hidden": true
   },
   "outputs": [],
   "source": [
    "measures_view1.append(f1)"
   ]
  },
  {
   "cell_type": "markdown",
   "metadata": {
    "hidden": true
   },
   "source": [
    "Erro de Atribuição"
   ]
  },
  {
   "cell_type": "code",
   "execution_count": 76,
   "metadata": {
    "ExecuteTime": {
     "end_time": "2020-09-07T01:15:41.427964Z",
     "start_time": "2020-09-07T01:15:41.420832Z"
    },
    "hidden": true
   },
   "outputs": [
    {
     "data": {
      "text/plain": [
       "0.43000000000000005"
      ]
     },
     "execution_count": 76,
     "metadata": {},
     "output_type": "execute_result"
    }
   ],
   "source": [
    "error_rate = best_view1.classification_error_rate()\n",
    "error_rate"
   ]
  },
  {
   "cell_type": "code",
   "execution_count": 77,
   "metadata": {
    "ExecuteTime": {
     "end_time": "2020-09-07T01:15:49.636302Z",
     "start_time": "2020-09-07T01:15:49.633243Z"
    },
    "hidden": true
   },
   "outputs": [],
   "source": [
    "measures_view1.append(error_rate)"
   ]
  },
  {
   "cell_type": "markdown",
   "metadata": {
    "heading_collapsed": true,
    "hidden": true
   },
   "source": [
    "#### Métricas Sumarizadas"
   ]
  },
  {
   "cell_type": "code",
   "execution_count": 78,
   "metadata": {
    "ExecuteTime": {
     "end_time": "2020-09-07T01:16:03.839051Z",
     "start_time": "2020-09-07T01:16:03.833713Z"
    },
    "hidden": true
   },
   "outputs": [
    {
     "data": {
      "text/plain": [
       "[0.022069337847517856,\n",
       " 2.229448939966565,\n",
       " 0.3585756050730023,\n",
       " 0.5642850635628067,\n",
       " 0.43000000000000005]"
      ]
     },
     "execution_count": 78,
     "metadata": {},
     "output_type": "execute_result"
    }
   ],
   "source": [
    "measures_view1"
   ]
  },
  {
   "cell_type": "code",
   "execution_count": 79,
   "metadata": {
    "ExecuteTime": {
     "end_time": "2020-09-07T01:16:43.107879Z",
     "start_time": "2020-09-07T01:16:43.092825Z"
    },
    "hidden": true
   },
   "outputs": [
    {
     "data": {
      "text/html": [
       "<div>\n",
       "<style scoped>\n",
       "    .dataframe tbody tr th:only-of-type {\n",
       "        vertical-align: middle;\n",
       "    }\n",
       "\n",
       "    .dataframe tbody tr th {\n",
       "        vertical-align: top;\n",
       "    }\n",
       "\n",
       "    .dataframe thead th {\n",
       "        text-align: right;\n",
       "    }\n",
       "</style>\n",
       "<table border=\"1\" class=\"dataframe\">\n",
       "  <thead>\n",
       "    <tr style=\"text-align: right;\">\n",
       "      <th></th>\n",
       "      <th>Mod Partition Coeff</th>\n",
       "      <th>Partition Entropy</th>\n",
       "      <th>Indice Rand Corr</th>\n",
       "      <th>F-measure</th>\n",
       "      <th>Erro Atribuição</th>\n",
       "    </tr>\n",
       "  </thead>\n",
       "  <tbody>\n",
       "    <tr>\n",
       "      <th>0</th>\n",
       "      <td>0.022069</td>\n",
       "      <td>2.229449</td>\n",
       "      <td>0.358576</td>\n",
       "      <td>0.564285</td>\n",
       "      <td>0.43</td>\n",
       "    </tr>\n",
       "  </tbody>\n",
       "</table>\n",
       "</div>"
      ],
      "text/plain": [
       "   Mod Partition Coeff  Partition Entropy  Indice Rand Corr  F-measure  \\\n",
       "0             0.022069           2.229449          0.358576   0.564285   \n",
       "\n",
       "   Erro Atribuição  \n",
       "0             0.43  "
      ]
     },
     "execution_count": 79,
     "metadata": {},
     "output_type": "execute_result"
    }
   ],
   "source": [
    "cols = ['Mod Partition Coeff', 'Partition Entropy', 'Indice Rand Corr',\n",
    "        'F-measure', 'Erro Atribuição']\n",
    "\n",
    "pd.DataFrame(measures_view1, index = cols).T"
   ]
  },
  {
   "cell_type": "markdown",
   "metadata": {
    "heading_collapsed": true,
    "hidden": true
   },
   "source": [
    "## Persistir Objeto do Experimento"
   ]
  },
  {
   "cell_type": "code",
   "execution_count": 80,
   "metadata": {
    "ExecuteTime": {
     "end_time": "2020-09-07T01:17:24.637192Z",
     "start_time": "2020-09-07T01:17:24.631446Z"
    },
    "hidden": true
   },
   "outputs": [],
   "source": [
    "exp_object_file = open(path_results_view1 + \"experiment_object\", \"wb\")\n",
    "\n",
    "pickle.dump(best_view1, exp_object_file)\n",
    "\n",
    "exp_object_file.close()"
   ]
  },
  {
   "cell_type": "markdown",
   "metadata": {
    "heading_collapsed": true
   },
   "source": [
    "# Experimento com a View2 Individualmente"
   ]
  },
  {
   "cell_type": "code",
   "execution_count": 43,
   "metadata": {
    "ExecuteTime": {
     "end_time": "2020-09-06T17:38:07.275979Z",
     "start_time": "2020-09-06T14:33:06.609121Z"
    },
    "hidden": true
   },
   "outputs": [
    {
     "name": "stdout",
     "output_type": "stream",
     "text": [
      "EXPERIMENTO 0\n",
      "0\n",
      "1\n",
      "EXPERIMENTO 1\n",
      "0\n",
      "1\n",
      "EXPERIMENTO 2\n",
      "0\n",
      "1\n",
      "EXPERIMENTO 3\n",
      "0\n",
      "1\n",
      "EXPERIMENTO 4\n",
      "0\n",
      "1\n",
      "EXPERIMENTO 5\n",
      "0\n",
      "1\n",
      "EXPERIMENTO 6\n",
      "0\n",
      "1\n",
      "EXPERIMENTO 7\n",
      "0\n",
      "1\n",
      "EXPERIMENTO 8\n",
      "0\n",
      "1\n",
      "EXPERIMENTO 9\n",
      "0\n",
      "1\n"
     ]
    }
   ],
   "source": [
    "dissim_matrices = [view2_dissim_matrix]\n",
    "p = len(dissim_matrices)\n",
    "\n",
    "G = Lambda = U = None\n",
    "\n",
    "best_view2, adequacy_criterions_view2 = run_experiments()"
   ]
  },
  {
   "cell_type": "markdown",
   "metadata": {
    "heading_collapsed": true,
    "hidden": true
   },
   "source": [
    "## Resultados"
   ]
  },
  {
   "cell_type": "code",
   "execution_count": 83,
   "metadata": {
    "ExecuteTime": {
     "end_time": "2020-09-07T00:35:03.382059Z",
     "start_time": "2020-09-07T00:35:03.377377Z"
    },
    "hidden": true
   },
   "outputs": [],
   "source": [
    "path_results_view2 = \"results_view2/\""
   ]
  },
  {
   "cell_type": "markdown",
   "metadata": {
    "heading_collapsed": true,
    "hidden": true
   },
   "source": [
    "### Função Objetivo"
   ]
  },
  {
   "cell_type": "code",
   "execution_count": 84,
   "metadata": {
    "ExecuteTime": {
     "end_time": "2020-09-07T01:01:19.470410Z",
     "start_time": "2020-09-07T01:01:19.465188Z"
    },
    "hidden": true
   },
   "outputs": [
    {
     "data": {
      "text/plain": [
       "array([1837.11273755, 1838.06443829, 1833.21592169, 1834.2827316 ,\n",
       "       1837.03052134, 1835.95401327, 1836.11449862, 1835.228456  ,\n",
       "       1838.02711455, 1840.25835689])"
      ]
     },
     "execution_count": 84,
     "metadata": {},
     "output_type": "execute_result"
    }
   ],
   "source": [
    "adequacy_criterions_view2 = np.array(adequacy_criterions_view2)\n",
    "adequacy_criterions_view2"
   ]
  },
  {
   "cell_type": "code",
   "execution_count": 85,
   "metadata": {
    "ExecuteTime": {
     "end_time": "2020-09-07T01:01:48.870765Z",
     "start_time": "2020-09-07T01:01:48.855753Z"
    },
    "hidden": true
   },
   "outputs": [
    {
     "data": {
      "text/html": [
       "<div>\n",
       "<style scoped>\n",
       "    .dataframe tbody tr th:only-of-type {\n",
       "        vertical-align: middle;\n",
       "    }\n",
       "\n",
       "    .dataframe tbody tr th {\n",
       "        vertical-align: top;\n",
       "    }\n",
       "\n",
       "    .dataframe thead th {\n",
       "        text-align: right;\n",
       "    }\n",
       "</style>\n",
       "<table border=\"1\" class=\"dataframe\">\n",
       "  <thead>\n",
       "    <tr style=\"text-align: right;\">\n",
       "      <th></th>\n",
       "      <th>Mínimo</th>\n",
       "      <th>Máximo</th>\n",
       "      <th>Média</th>\n",
       "      <th>Desvio-padrão</th>\n",
       "    </tr>\n",
       "  </thead>\n",
       "  <tbody>\n",
       "    <tr>\n",
       "      <th>0</th>\n",
       "      <td>1833.215922</td>\n",
       "      <td>1840.258357</td>\n",
       "      <td>1836.528879</td>\n",
       "      <td>1.931796</td>\n",
       "    </tr>\n",
       "  </tbody>\n",
       "</table>\n",
       "</div>"
      ],
      "text/plain": [
       "        Mínimo       Máximo        Média  Desvio-padrão\n",
       "0  1833.215922  1840.258357  1836.528879       1.931796"
      ]
     },
     "execution_count": 85,
     "metadata": {},
     "output_type": "execute_result"
    }
   ],
   "source": [
    "min_J = adequacy_criterions_view2.min()\n",
    "max_J = adequacy_criterions_view2.max()\n",
    "mean_J = adequacy_criterions_view2.mean()\n",
    "std_J = adequacy_criterions_view2.std()\n",
    "\n",
    "cols = columns=['Mínimo', 'Máximo', 'Média', 'Desvio-padrão']\n",
    "pd.DataFrame([[min_J, max_J, mean_J, std_J]], columns=cols)"
   ]
  },
  {
   "cell_type": "code",
   "execution_count": 86,
   "metadata": {
    "ExecuteTime": {
     "end_time": "2020-09-07T01:02:16.306886Z",
     "start_time": "2020-09-07T01:02:16.053651Z"
    },
    "hidden": true
   },
   "outputs": [
    {
     "data": {
      "image/png": "[encoded data removed]",
      "text/plain": [
       "<Figure size 720x432 with 1 Axes>"
      ]
     },
     "metadata": {
      "needs_background": "light"
     },
     "output_type": "display_data"
    }
   ],
   "source": [
    "ax = pd.DataFrame(adequacy_criterions_view2).plot(figsize=(10,6),\n",
    "                                       xticks=range(num_max_experiments),\n",
    "                                      fontsize=14,\n",
    "                                      legend=False)\n",
    "\n",
    "ax.set_xlabel(\"Nº Experimento\", fontsize=15)\n",
    "ax.set_ylabel(\"Função Objetivo\", fontsize=15)\n",
    "plt.show()"
   ]
  },
  {
   "cell_type": "code",
   "execution_count": 87,
   "metadata": {
    "ExecuteTime": {
     "end_time": "2020-09-07T01:02:55.125637Z",
     "start_time": "2020-09-07T01:02:55.119720Z"
    },
    "hidden": true
   },
   "outputs": [
    {
     "name": "stdout",
     "output_type": "stream",
     "text": [
      "Nº iterações do melhor experimento: 2\n"
     ]
    }
   ],
   "source": [
    "num_iter_best_exp = best_view2.iterations + 1\n",
    "print(\"Nº iterações do melhor experimento:\", num_iter_best_exp)\n",
    "\n",
    "np.savetxt(path_results_view2 + 'num_iter_melhor_exp.csv', [num_iter_best_exp], delimiter=',')"
   ]
  },
  {
   "cell_type": "code",
   "execution_count": 88,
   "metadata": {
    "ExecuteTime": {
     "end_time": "2020-09-07T01:03:22.625614Z",
     "start_time": "2020-09-07T01:03:22.620162Z"
    },
    "hidden": true
   },
   "outputs": [],
   "source": [
    "np.savetxt(path_results_view2 + \"funcao_obj.csv\", adequacy_criterions_view2, delimiter=\",\")"
   ]
  },
  {
   "cell_type": "markdown",
   "metadata": {
    "heading_collapsed": true,
    "hidden": true
   },
   "source": [
    "### Set-medoids (Protótipos)"
   ]
  },
  {
   "cell_type": "code",
   "execution_count": 89,
   "metadata": {
    "ExecuteTime": {
     "end_time": "2020-09-07T01:04:05.397076Z",
     "start_time": "2020-09-07T01:04:05.390900Z"
    },
    "hidden": true
   },
   "outputs": [
    {
     "data": {
      "text/plain": [
       "array([[ 392,  374],\n",
       "       [ 296, 1717],\n",
       "       [ 817,  525],\n",
       "       [ 661,  692],\n",
       "       [ 395,  384],\n",
       "       [ 315,  321],\n",
       "       [1907,  347],\n",
       "       [ 242, 1391],\n",
       "       [ 131,   57],\n",
       "       [1596, 1445]])"
      ]
     },
     "execution_count": 89,
     "metadata": {},
     "output_type": "execute_result"
    }
   ],
   "source": [
    "best_view2.prototypes"
   ]
  },
  {
   "cell_type": "code",
   "execution_count": 90,
   "metadata": {
    "ExecuteTime": {
     "end_time": "2020-09-07T01:04:33.456019Z",
     "start_time": "2020-09-07T01:04:33.444327Z"
    },
    "hidden": true
   },
   "outputs": [
    {
     "name": "stdout",
     "output_type": "stream",
     "text": [
      "Set-medoids (protótipos):\n",
      "\n",
      "Q1: [392 374]\n",
      "Q2: [ 296 1717]\n",
      "Q3: [817 525]\n",
      "Q4: [661 692]\n",
      "Q5: [395 384]\n",
      "Q6: [315 321]\n",
      "Q7: [1907  347]\n",
      "Q8: [ 242 1391]\n",
      "Q9: [131  57]\n",
      "Q10: [1596 1445]\n"
     ]
    }
   ],
   "source": [
    "print(\"Set-medoids (protótipos):\\n\")\n",
    "for num_cluster in range(K):\n",
    "    print('Q' + str(num_cluster+1) + \":\", best_view2.prototypes[num_cluster])"
   ]
  },
  {
   "cell_type": "code",
   "execution_count": 91,
   "metadata": {
    "ExecuteTime": {
     "end_time": "2020-09-07T01:04:56.482320Z",
     "start_time": "2020-09-07T01:04:56.474799Z"
    },
    "hidden": true
   },
   "outputs": [],
   "source": [
    "np.savetxt(path_results_view2 + \"prototipos.csv\", best_view2.prototypes, delimiter=\",\")"
   ]
  },
  {
   "cell_type": "markdown",
   "metadata": {
    "heading_collapsed": true,
    "hidden": true
   },
   "source": [
    "### Partição Fuzzy"
   ]
  },
  {
   "cell_type": "code",
   "execution_count": 92,
   "metadata": {
    "ExecuteTime": {
     "end_time": "2020-09-07T01:05:44.385425Z",
     "start_time": "2020-09-07T01:05:44.377755Z"
    },
    "hidden": true
   },
   "outputs": [
    {
     "data": {
      "text/plain": [
       "array([[0.0925359 , 0.09546864, 0.08880092, ..., 0.09078049, 0.19550401,\n",
       "        0.07976987],\n",
       "       [0.09650009, 0.09305484, 0.09530142, ..., 0.09467237, 0.17234641,\n",
       "        0.08415896],\n",
       "       [0.10080376, 0.10235155, 0.09641962, ..., 0.09651303, 0.14565295,\n",
       "        0.08577931],\n",
       "       ...,\n",
       "       [0.0986488 , 0.09430709, 0.10477317, ..., 0.10775621, 0.09057122,\n",
       "        0.0996972 ],\n",
       "       [0.09553123, 0.10007099, 0.10962205, ..., 0.11933282, 0.07899722,\n",
       "        0.10203966],\n",
       "       [0.10225348, 0.12453279, 0.10259075, ..., 0.10332448, 0.07363437,\n",
       "        0.0946346 ]])"
      ]
     },
     "execution_count": 92,
     "metadata": {},
     "output_type": "execute_result"
    }
   ],
   "source": [
    "best_view2.fuzzy_partition"
   ]
  },
  {
   "cell_type": "code",
   "execution_count": 93,
   "metadata": {
    "ExecuteTime": {
     "end_time": "2020-09-07T01:06:03.100092Z",
     "start_time": "2020-09-07T01:06:03.092953Z"
    },
    "hidden": true
   },
   "outputs": [
    {
     "data": {
      "text/plain": [
       "array([1., 1., 1., ..., 1., 1., 1.])"
      ]
     },
     "execution_count": 93,
     "metadata": {},
     "output_type": "execute_result"
    }
   ],
   "source": [
    "memberships_sums = best_view2.fuzzy_partition.sum(axis=1)\n",
    "memberships_sums"
   ]
  },
  {
   "cell_type": "code",
   "execution_count": 94,
   "metadata": {
    "ExecuteTime": {
     "end_time": "2020-09-07T01:06:13.376036Z",
     "start_time": "2020-09-07T01:06:12.570797Z"
    },
    "hidden": true
   },
   "outputs": [
    {
     "data": {
      "image/png": "[encoded data removed]",
      "text/plain": [
       "<Figure size 720x432 with 1 Axes>"
      ]
     },
     "metadata": {
      "needs_background": "light"
     },
     "output_type": "display_data"
    }
   ],
   "source": [
    "# Os graus de pertinência de cada objeto devem somar 1.\n",
    "ax = pd.DataFrame(memberships_sums).plot(figsize=(10,6),\n",
    "                                      fontsize=14,\n",
    "                                      legend=False)\n",
    "\n",
    "ax.set_xlabel(\"Objeto\", fontsize=15)\n",
    "ax.set_ylabel(\"Soma Graus Pertinência\", fontsize=15)\n",
    "plt.show()"
   ]
  },
  {
   "cell_type": "code",
   "execution_count": 95,
   "metadata": {
    "ExecuteTime": {
     "end_time": "2020-09-07T01:06:20.824920Z",
     "start_time": "2020-09-07T01:06:20.818062Z"
    },
    "hidden": true
   },
   "outputs": [
    {
     "data": {
      "text/plain": [
       "(0.9999999999999998, 1.0000000000000002)"
      ]
     },
     "execution_count": 95,
     "metadata": {},
     "output_type": "execute_result"
    }
   ],
   "source": [
    "# Os que não somam, é devido a erros numéricos.\n",
    "memberships_sums.min(), memberships_sums.max()"
   ]
  },
  {
   "cell_type": "code",
   "execution_count": 96,
   "metadata": {
    "ExecuteTime": {
     "end_time": "2020-09-07T01:07:04.701583Z",
     "start_time": "2020-09-07T01:07:04.670273Z"
    },
    "hidden": true
   },
   "outputs": [],
   "source": [
    "np.savetxt(path_results_view2 + \"particao_fuzzy.csv\", best_view2.fuzzy_partition, delimiter=\",\")"
   ]
  },
  {
   "cell_type": "markdown",
   "metadata": {
    "heading_collapsed": true,
    "hidden": true
   },
   "source": [
    "### Partição Crisp"
   ]
  },
  {
   "cell_type": "code",
   "execution_count": 97,
   "metadata": {
    "ExecuteTime": {
     "end_time": "2020-09-07T01:07:53.911320Z",
     "start_time": "2020-09-07T01:07:53.879959Z"
    },
    "hidden": true,
    "scrolled": true
   },
   "outputs": [
    {
     "data": {
      "text/plain": [
       "array([8, 8, 8, ..., 7, 7, 1])"
      ]
     },
     "execution_count": 97,
     "metadata": {},
     "output_type": "execute_result"
    }
   ],
   "source": [
    "best_view2.fuzzy_to_crisp()\n",
    "best_view2.crisp_partition"
   ]
  },
  {
   "cell_type": "code",
   "execution_count": 98,
   "metadata": {
    "ExecuteTime": {
     "end_time": "2020-09-07T01:08:42.360451Z",
     "start_time": "2020-09-07T01:08:42.347331Z"
    },
    "hidden": true
   },
   "outputs": [
    {
     "name": "stdout",
     "output_type": "stream",
     "text": [
      "Lista de Objetos por Grupo:\n",
      "\n",
      "Q1: [ 203  204  208  213  217  218  227  228  233  234  238  248  249  256\n",
      "  257  262  263  264  266  268  270  273  278  280  284  285  286  289\n",
      "  291  294  295  300  302  311  314  324  326  329  339  341  343  346\n",
      "  355  356  357  368  369  372  373  374  378  381  385  386  388  392\n",
      "  397  416  568  605  608  611  618  639  649  660  687  688  705  708\n",
      "  737  768  774  776  814  824  825  855  856  859  868  876  891  908\n",
      "  912  913  930  934  955  966  968  975  977  997  999 1011 1012 1021\n",
      " 1023 1026 1033 1039 1042 1046 1048 1054 1056 1063 1078 1079 1081 1084\n",
      " 1088 1089 1097 1108 1130 1132 1142 1162 1175 1176 1194 1197 1213 1215\n",
      " 1216 1287 1293 1296 1317 1323 1329 1339 1367 1616 1624 1625 1639 1643\n",
      " 1646 1667 1680 1695 1696 1698 1702 1703 1727 1736 1741 1753 1757 1793\n",
      " 1802 1849 1870 1872 1884 1912 1918] \n",
      "\n",
      "Q2: [ 210  229  232  235  236  240  244  255  274  296  304  310  313  316\n",
      "  353  377  396  607  617  635  659  666  677  758  837  872  951 1044\n",
      " 1053 1074 1100 1105 1106 1121 1200 1203 1220 1223 1228 1235 1242 1260\n",
      " 1269 1274 1284 1295 1299 1302 1305 1306 1345 1372 1393 1609 1638 1645\n",
      " 1647 1648 1658 1662 1672 1673 1682 1692 1707 1711 1713 1715 1717 1722\n",
      " 1723 1726 1740 1749 1754 1761 1762 1768 1769 1771 1786 1816 1818 1828\n",
      " 1832 1838 1846 1848 1859 1864 1868 1892 1895 1896 1901 1911 1913 1914\n",
      " 1925 1955 1962 1968 1969 1978 1980 1988 1990 1994 1995 1999] \n",
      "\n",
      "Q3: [ 247  254  261  281  283  292  352  354  362  370  375  410  414  424\n",
      "  425  438  445  449  452  456  459  460  470  472  493  499  500  523\n",
      "  525  535  539  540  544  548  550  554  555  558  572  573  578  626\n",
      "  629  631  640  656  697  763  780  790  804  806  810  812  817  820\n",
      "  821  831  833  836  839  840  841  843  849  851  853  854  857  862\n",
      "  866  867  869  870  871  873  880  881  885  888  889  892  893  894\n",
      "  898  900  903  906  909  910  911  914  915  918  921  922  923  925\n",
      "  926  927  932  936  937  938  939  940  941  942  943  944  947  949\n",
      "  950  952  953  956  958  959  962  967  969  970  972  979  982  983\n",
      "  984  985  987  989  995  998 1019 1032 1047 1058 1059 1068 1086 1112\n",
      " 1143 1145 1160 1164 1166 1171 1178 1199 1209 1212 1214 1222 1225 1238\n",
      " 1253 1254 1257 1266 1289 1298 1309 1310 1312 1320 1328 1330 1342 1343\n",
      " 1352 1355 1358 1362 1371 1378 1379 1385 1389 1397 1398 1403 1405 1407\n",
      " 1419 1427 1432 1435 1437 1439 1441 1444 1451 1460 1465 1467 1469 1486\n",
      " 1489 1490 1491 1492 1500 1501 1509 1516 1518 1524 1525 1526 1527 1528\n",
      " 1531 1534 1540 1545 1546 1549 1553 1558 1559 1562 1564 1565 1570 1573\n",
      " 1576 1577 1583 1814 1826 1830 1835 1842 1855 1863 1883 1885 1910 1919\n",
      " 1921 1929 1940 1941 1945 1948 1949 1961 1963 1971 1984 1991 1996] \n",
      "\n",
      "Q4: [ 245  260  301  323  399  526  600  601  603  604  606  609  610  612\n",
      "  613  614  619  620  621  622  623  624  627  628  630  632  634  636\n",
      "  637  641  642  643  644  645  647  648  650  651  652  653  654  655\n",
      "  657  661  662  663  664  665  667  669  670  672  673  674  676  678\n",
      "  679  681  682  683  684  685  686  689  690  691  692  693  694  696\n",
      "  698  699  700  704  706  707  711  715  716  717  719  720  721  722\n",
      "  723  724  725  726  727  728  730  731  732  733  734  735  736  738\n",
      "  740  741  742  744  745  746  747  748  749  750  751  752  753  754\n",
      "  755  757  759  760  762  764  765  766  767  769  770  771  773  775\n",
      "  777  778  779  781  782  784  785  786  787  789  791  794  795  796\n",
      "  797  798  799  800  802  819  822  826  835  844  848  877  883  884\n",
      "  890  895  896  899  905  916  917  924  933  935  946  954  981  986\n",
      "  990  996 1000 1002 1003 1007 1008 1013 1014 1015 1016 1022 1024 1041\n",
      " 1049 1050 1052 1057 1060 1061 1062 1069 1075 1077 1080 1082 1085 1087\n",
      " 1090 1093 1095 1096 1103 1104 1107 1109 1113 1115 1117 1118 1119 1122\n",
      " 1133 1135 1138 1139 1140 1146 1147 1150 1151 1155 1158 1159 1161 1167\n",
      " 1169 1173 1174 1179 1181 1185 1189 1191 1193 1195 1205 1208 1224 1226\n",
      " 1229 1231 1233 1236 1240 1247 1264 1278 1280 1281 1286 1290 1291 1300\n",
      " 1301 1307 1315 1316 1318 1324 1325 1326 1335 1348 1353 1354 1356 1360\n",
      " 1363 1366 1374 1376 1377 1380 1384 1390 1395 1396 1449 1502 1578 1601\n",
      " 1612 1729 1801 1804 1805 1806 1820 1822 1824 1825 1829 1833 1836 1841\n",
      " 1844 1845 1850 1857 1860 1861 1862 1865 1866 1877 1882 1889 1900 1905\n",
      " 1908 1916 1917 1923 1931 1934 1935 1939 1944 1947 1953 1956 1960 1965\n",
      " 1966 1974 1977 1979 1987 1992] \n",
      "\n",
      "Q5: [ 202  219  221  222  226  231  239  241  253  258  265  267  271  279\n",
      "  287  288  290  293  297  303  309  320  344  349  360  363  366  367\n",
      "  379  380  382  384  395  404  413  420  429  439  446  457  467  478\n",
      "  486  489  492  504  508  513  518  519  522  529  531  532  533  536\n",
      "  538  551  552  564  566  567  571  580  581  582  583  586  587  588\n",
      "  589  590  602  633  703  718  729  743  808  811  813  816  830  842\n",
      "  846  850  860  864  865  887  897  902  920  945  963  971  976  992\n",
      " 1025 1028 1035 1037 1043 1065 1066 1070 1073 1083 1094 1101 1102 1114\n",
      " 1123 1125 1131 1136 1154 1180 1183 1188 1190] \n",
      "\n",
      "Q6: [ 200  201  205  207  209  215  216  220  223  224  225  230  243  250\n",
      "  251  259  275  276  277  298  307  308  312  315  317  319  321  330\n",
      "  331  332  334  335  345  350  358  383  389  393  394  405  406  407\n",
      "  411  412  423  427  431  437  440  444  451  453  455  461  466  469\n",
      "  474  482  483  484  487  497  498  506  507  509  511  516  517  520\n",
      "  521  530  534  541  553  559  560  561  565  569  574  579  584  591\n",
      "  593  596  597  646  675  680  695  702  709  712  713  761  793  803\n",
      "  818  832  845  858  875  878  886  919  957  965  993 1001 1018 1030\n",
      " 1040 1055 1072 1129 1168 1338 1400 1417 1423 1450 1493 1503 1508 1510\n",
      " 1563 1589 1590 1915 1954] \n",
      "\n",
      "Q7: [ 327  340  347  359  615  658  668  739  861  901  928  929  948  964\n",
      " 1006 1020 1027 1029 1038 1051 1076 1111 1128 1137 1141 1153 1184 1186\n",
      " 1187 1198 1211 1249 1263 1303 1351 1359 1817 1819 1847 1852 1906 1907\n",
      " 1927 1928 1936] \n",
      "\n",
      "Q8: [ 206  237  242  246  305  306  342  351  361  364  365  376  542  616\n",
      "  625  710  714  801  805  807  809  827  828  829  834  838  847  852\n",
      "  863  879  882  907  931  960  961  974  978  991  994 1004 1005 1009\n",
      " 1010 1031 1034 1036 1045 1064 1067 1071 1091 1092 1098 1099 1116 1124\n",
      " 1126 1127 1134 1144 1148 1149 1152 1156 1157 1163 1165 1170 1172 1177\n",
      " 1182 1192 1196 1201 1202 1204 1206 1207 1210 1217 1218 1219 1221 1227\n",
      " 1230 1232 1234 1237 1239 1241 1243 1244 1245 1246 1248 1250 1251 1252\n",
      " 1255 1256 1258 1259 1261 1262 1265 1267 1268 1270 1271 1272 1273 1275\n",
      " 1276 1277 1279 1282 1283 1285 1288 1292 1294 1297 1304 1308 1313 1314\n",
      " 1319 1321 1322 1327 1331 1332 1333 1334 1336 1337 1340 1341 1344 1346\n",
      " 1347 1349 1350 1357 1361 1364 1365 1368 1369 1370 1373 1375 1381 1382\n",
      " 1383 1386 1387 1388 1391 1392 1394 1399 1402 1410 1425 1476 1478 1484\n",
      " 1487 1494 1519 1522 1533 1537 1557 1566 1569 1580 1584 1598 1800 1803\n",
      " 1807 1808 1809 1810 1811 1812 1813 1815 1821 1823 1827 1831 1834 1837\n",
      " 1839 1840 1843 1851 1853 1854 1856 1858 1867 1869 1871 1873 1874 1875\n",
      " 1878 1879 1881 1886 1887 1888 1890 1891 1893 1894 1897 1898 1899 1902\n",
      " 1903 1904 1909 1920 1922 1924 1926 1930 1932 1933 1937 1938 1942 1943\n",
      " 1946 1950 1951 1952 1957 1958 1959 1964 1967 1970 1972 1973 1975 1976\n",
      " 1981 1982 1983 1985 1986 1989 1993 1997 1998] \n",
      "\n",
      "Q9: [   0    1    2    3    4    5    6    7    8    9   10   11   12   13\n",
      "   14   15   16   17   18   19   20   21   22   23   24   25   26   27\n",
      "   28   29   30   31   32   33   34   35   36   37   38   39   40   41\n",
      "   42   43   44   45   46   47   48   49   50   51   52   53   54   55\n",
      "   56   57   58   59   60   61   62   63   64   65   66   67   68   69\n",
      "   70   71   72   73   74   75   76   77   78   79   80   81   82   83\n",
      "   84   85   86   87   88   89   90   91   92   93   94   95   96   97\n",
      "   98   99  100  101  102  103  104  105  106  107  108  109  110  111\n",
      "  112  113  114  115  116  117  118  119  120  121  122  123  124  125\n",
      "  126  127  128  129  130  131  132  133  134  135  136  137  138  139\n",
      "  140  141  142  143  144  145  146  147  148  149  150  151  152  153\n",
      "  154  155  156  157  158  159  160  161  162  163  164  165  166  167\n",
      "  168  169  170  171  172  173  174  175  176  177  178  179  180  181\n",
      "  182  183  184  185  186  187  188  189  190  191  192  193  194  195\n",
      "  196  197  198  199  815  980 1017 1600 1602 1603 1604 1605 1606 1607\n",
      " 1608 1610 1611 1613 1614 1615 1617 1618 1619 1620 1621 1622 1623 1626\n",
      " 1627 1628 1629 1630 1631 1632 1633 1634 1635 1636 1637 1640 1641 1642\n",
      " 1644 1649 1650 1651 1652 1653 1654 1655 1656 1657 1659 1660 1661 1663\n",
      " 1664 1665 1666 1668 1669 1670 1671 1674 1675 1676 1677 1678 1679 1681\n",
      " 1683 1684 1685 1686 1687 1688 1689 1690 1691 1693 1694 1697 1699 1700\n",
      " 1701 1704 1705 1706 1708 1709 1710 1712 1714 1716 1718 1719 1720 1721\n",
      " 1724 1725 1728 1730 1731 1732 1733 1734 1735 1737 1738 1739 1742 1743\n",
      " 1744 1745 1746 1747 1748 1750 1751 1752 1755 1756 1758 1759 1760 1763\n",
      " 1764 1765 1766 1767 1770 1772 1773 1774 1775 1776 1777 1778 1780 1781\n",
      " 1782 1783 1784 1785 1787 1788 1789 1790 1791 1792 1794 1795 1796 1797\n",
      " 1798 1799 1880] \n",
      "\n",
      "Q10: [ 211  212  214  252  269  272  282  299  318  322  325  328  333  336\n",
      "  337  338  348  371  387  390  391  398  400  401  402  403  408  409\n",
      "  415  417  418  419  421  422  426  428  430  432  433  434  435  436\n",
      "  441  442  443  447  448  450  454  458  462  463  464  465  468  471\n",
      "  473  475  476  477  479  480  481  485  488  490  491  494  495  496\n",
      "  501  502  503  505  510  512  514  515  524  527  528  537  543  545\n",
      "  546  547  549  556  557  562  563  570  575  576  577  585  592  594\n",
      "  595  598  599  638  671  701  756  772  783  788  792  823  874  904\n",
      "  973  988 1110 1120 1311 1401 1404 1406 1408 1409 1411 1412 1413 1414\n",
      " 1415 1416 1418 1420 1421 1422 1424 1426 1428 1429 1430 1431 1433 1434\n",
      " 1436 1438 1440 1442 1443 1445 1446 1447 1448 1452 1453 1454 1455 1456\n",
      " 1457 1458 1459 1461 1462 1463 1464 1466 1468 1470 1471 1472 1473 1474\n",
      " 1475 1477 1479 1480 1481 1482 1483 1485 1488 1495 1496 1497 1498 1499\n",
      " 1504 1505 1506 1507 1511 1512 1513 1514 1515 1517 1520 1521 1523 1529\n",
      " 1530 1532 1535 1536 1538 1539 1541 1542 1543 1544 1547 1548 1550 1551\n",
      " 1552 1554 1555 1556 1560 1561 1567 1568 1571 1572 1574 1575 1579 1581\n",
      " 1582 1585 1586 1587 1588 1591 1592 1593 1594 1595 1596 1597 1599 1779\n",
      " 1876] \n",
      "\n"
     ]
    }
   ],
   "source": [
    "print(\"Lista de Objetos por Grupo:\\n\")\n",
    "\n",
    "crisp_clusters_view2 = [np.where(best_view2.crisp_partition == k)[0] for k in range(K)]\n",
    "\n",
    "for k in range(K):\n",
    "    print('Q' + str(k+1) + \":\", crisp_clusters_view2[k], '\\n')"
   ]
  },
  {
   "cell_type": "code",
   "execution_count": 99,
   "metadata": {
    "ExecuteTime": {
     "end_time": "2020-09-07T01:09:50.527247Z",
     "start_time": "2020-09-07T01:09:50.515147Z"
    },
    "hidden": true
   },
   "outputs": [
    {
     "name": "stdout",
     "output_type": "stream",
     "text": [
      "Número de Objetos em cada Grupo Crisp: \n",
      "\n",
      "Q1: 161\n",
      "Q2: 110\n",
      "Q3: 251\n",
      "Q4: 328\n",
      "Q5: 121\n",
      "Q6: 131\n",
      "Q7: 45\n",
      "Q8: 261\n",
      "Q9: 353\n",
      "Q10: 239\n"
     ]
    }
   ],
   "source": [
    "print(\"Número de Objetos em cada Grupo Crisp: \\n\")\n",
    "\n",
    "num_objects_crisp_view2 = [cluster.shape[0] for cluster in crisp_clusters_view2]\n",
    "\n",
    "for k in range(K):\n",
    "    \n",
    "    print('Q' + str(k+1) + \":\", num_objects_crisp_view2[k])"
   ]
  },
  {
   "cell_type": "code",
   "execution_count": 101,
   "metadata": {
    "ExecuteTime": {
     "end_time": "2020-09-07T01:10:12.173369Z",
     "start_time": "2020-09-07T01:10:11.864164Z"
    },
    "hidden": true
   },
   "outputs": [
    {
     "data": {
      "image/png": "[encoded data removed]",
      "text/plain": [
       "<Figure size 720x576 with 1 Axes>"
      ]
     },
     "metadata": {
      "needs_background": "light"
     },
     "output_type": "display_data"
    }
   ],
   "source": [
    "ax = pd.DataFrame(num_objects_crisp_view2).plot.bar(figsize=(10,8),\n",
    "                                              fontsize=14,\n",
    "                                              legend=False,\n",
    "                                              rot=0)\n",
    "        \n",
    "ax.set_xticklabels(['Q' + str(k+1) for k in range(K)])\n",
    "ax.set_ylabel(\"Qtd Objetos\", fontsize=15)\n",
    "plt.show()"
   ]
  },
  {
   "cell_type": "code",
   "execution_count": 102,
   "metadata": {
    "ExecuteTime": {
     "end_time": "2020-09-07T01:10:59.899052Z",
     "start_time": "2020-09-07T01:10:59.887142Z"
    },
    "hidden": true
   },
   "outputs": [],
   "source": [
    "np.savetxt(path_results_view2 + \"particao_crisp.csv\", best_view2.crisp_partition, delimiter=\",\")"
   ]
  },
  {
   "cell_type": "markdown",
   "metadata": {
    "heading_collapsed": true,
    "hidden": true
   },
   "source": [
    "### Pesos das Matrizes"
   ]
  },
  {
   "cell_type": "code",
   "execution_count": 103,
   "metadata": {
    "ExecuteTime": {
     "end_time": "2020-09-07T01:11:45.451692Z",
     "start_time": "2020-09-07T01:11:45.446461Z"
    },
    "hidden": true
   },
   "outputs": [
    {
     "data": {
      "text/plain": [
       "array([[1.],\n",
       "       [1.],\n",
       "       [1.],\n",
       "       [1.],\n",
       "       [1.],\n",
       "       [1.],\n",
       "       [1.],\n",
       "       [1.],\n",
       "       [1.],\n",
       "       [1.]])"
      ]
     },
     "execution_count": 103,
     "metadata": {},
     "output_type": "execute_result"
    }
   ],
   "source": [
    "best_view2.relevance_weights"
   ]
  },
  {
   "cell_type": "markdown",
   "metadata": {
    "heading_collapsed": true,
    "hidden": true
   },
   "source": [
    "### Métricas"
   ]
  },
  {
   "cell_type": "code",
   "execution_count": 104,
   "metadata": {
    "ExecuteTime": {
     "end_time": "2020-09-07T01:12:19.445606Z",
     "start_time": "2020-09-07T01:12:19.442694Z"
    },
    "hidden": true
   },
   "outputs": [],
   "source": [
    "measures_view2 = []"
   ]
  },
  {
   "cell_type": "markdown",
   "metadata": {
    "heading_collapsed": true,
    "hidden": true
   },
   "source": [
    "#### Métricas Internas"
   ]
  },
  {
   "cell_type": "markdown",
   "metadata": {
    "hidden": true
   },
   "source": [
    "Modified Partition Coefficient"
   ]
  },
  {
   "cell_type": "code",
   "execution_count": 105,
   "metadata": {
    "ExecuteTime": {
     "end_time": "2020-09-07T01:13:29.228841Z",
     "start_time": "2020-09-07T01:13:29.223795Z"
    },
    "hidden": true
   },
   "outputs": [
    {
     "data": {
      "text/plain": [
       "0.012285447708433983"
      ]
     },
     "execution_count": 105,
     "metadata": {},
     "output_type": "execute_result"
    }
   ],
   "source": [
    "mpc = best_view2.mod_partition_coeff()\n",
    "mpc"
   ]
  },
  {
   "cell_type": "code",
   "execution_count": 106,
   "metadata": {
    "ExecuteTime": {
     "end_time": "2020-09-07T01:13:41.356954Z",
     "start_time": "2020-09-07T01:13:41.353575Z"
    },
    "hidden": true
   },
   "outputs": [],
   "source": [
    "measures_view2.append(mpc)"
   ]
  },
  {
   "cell_type": "markdown",
   "metadata": {
    "hidden": true
   },
   "source": [
    "Partition Entropy"
   ]
  },
  {
   "cell_type": "code",
   "execution_count": 107,
   "metadata": {
    "ExecuteTime": {
     "end_time": "2020-09-07T01:13:50.680139Z",
     "start_time": "2020-09-07T01:13:50.674102Z"
    },
    "hidden": true
   },
   "outputs": [
    {
     "data": {
      "text/plain": [
       "2.2702021227540183"
      ]
     },
     "execution_count": 107,
     "metadata": {},
     "output_type": "execute_result"
    }
   ],
   "source": [
    "pe = best_view2.partition_entropy()\n",
    "pe"
   ]
  },
  {
   "cell_type": "code",
   "execution_count": 108,
   "metadata": {
    "ExecuteTime": {
     "end_time": "2020-09-07T01:13:59.106294Z",
     "start_time": "2020-09-07T01:13:59.103223Z"
    },
    "hidden": true
   },
   "outputs": [],
   "source": [
    "measures_view2.append(pe)"
   ]
  },
  {
   "cell_type": "markdown",
   "metadata": {
    "heading_collapsed": true,
    "hidden": true
   },
   "source": [
    "#### Métricas Externas"
   ]
  },
  {
   "cell_type": "code",
   "execution_count": 109,
   "metadata": {
    "ExecuteTime": {
     "end_time": "2020-09-07T01:14:32.790340Z",
     "start_time": "2020-09-07T01:14:32.769742Z"
    },
    "hidden": true
   },
   "outputs": [
    {
     "data": {
      "text/html": [
       "<div>\n",
       "<style scoped>\n",
       "    .dataframe tbody tr th:only-of-type {\n",
       "        vertical-align: middle;\n",
       "    }\n",
       "\n",
       "    .dataframe tbody tr th {\n",
       "        vertical-align: top;\n",
       "    }\n",
       "\n",
       "    .dataframe thead th {\n",
       "        text-align: right;\n",
       "    }\n",
       "</style>\n",
       "<table border=\"1\" class=\"dataframe\">\n",
       "  <thead>\n",
       "    <tr style=\"text-align: right;\">\n",
       "      <th></th>\n",
       "      <th>Q1</th>\n",
       "      <th>Q2</th>\n",
       "      <th>Q3</th>\n",
       "      <th>Q4</th>\n",
       "      <th>Q5</th>\n",
       "      <th>Q6</th>\n",
       "      <th>Q7</th>\n",
       "      <th>Q8</th>\n",
       "      <th>Q9</th>\n",
       "      <th>Q10</th>\n",
       "      <th>Soma</th>\n",
       "    </tr>\n",
       "  </thead>\n",
       "  <tbody>\n",
       "    <tr>\n",
       "      <th>P1</th>\n",
       "      <td>0</td>\n",
       "      <td>0</td>\n",
       "      <td>0</td>\n",
       "      <td>0</td>\n",
       "      <td>0</td>\n",
       "      <td>0</td>\n",
       "      <td>0</td>\n",
       "      <td>0</td>\n",
       "      <td>200</td>\n",
       "      <td>0</td>\n",
       "      <td>200</td>\n",
       "    </tr>\n",
       "    <tr>\n",
       "      <th>P2</th>\n",
       "      <td>57</td>\n",
       "      <td>17</td>\n",
       "      <td>11</td>\n",
       "      <td>5</td>\n",
       "      <td>33</td>\n",
       "      <td>39</td>\n",
       "      <td>4</td>\n",
       "      <td>12</td>\n",
       "      <td>0</td>\n",
       "      <td>22</td>\n",
       "      <td>200</td>\n",
       "    </tr>\n",
       "    <tr>\n",
       "      <th>P3</th>\n",
       "      <td>2</td>\n",
       "      <td>0</td>\n",
       "      <td>30</td>\n",
       "      <td>1</td>\n",
       "      <td>39</td>\n",
       "      <td>48</td>\n",
       "      <td>0</td>\n",
       "      <td>1</td>\n",
       "      <td>0</td>\n",
       "      <td>79</td>\n",
       "      <td>200</td>\n",
       "    </tr>\n",
       "    <tr>\n",
       "      <th>P4</th>\n",
       "      <td>15</td>\n",
       "      <td>7</td>\n",
       "      <td>9</td>\n",
       "      <td>137</td>\n",
       "      <td>6</td>\n",
       "      <td>10</td>\n",
       "      <td>4</td>\n",
       "      <td>4</td>\n",
       "      <td>0</td>\n",
       "      <td>8</td>\n",
       "      <td>200</td>\n",
       "    </tr>\n",
       "    <tr>\n",
       "      <th>P5</th>\n",
       "      <td>21</td>\n",
       "      <td>3</td>\n",
       "      <td>82</td>\n",
       "      <td>27</td>\n",
       "      <td>20</td>\n",
       "      <td>12</td>\n",
       "      <td>6</td>\n",
       "      <td>22</td>\n",
       "      <td>2</td>\n",
       "      <td>5</td>\n",
       "      <td>200</td>\n",
       "    </tr>\n",
       "    <tr>\n",
       "      <th>P6</th>\n",
       "      <td>29</td>\n",
       "      <td>7</td>\n",
       "      <td>16</td>\n",
       "      <td>64</td>\n",
       "      <td>23</td>\n",
       "      <td>8</td>\n",
       "      <td>16</td>\n",
       "      <td>34</td>\n",
       "      <td>1</td>\n",
       "      <td>2</td>\n",
       "      <td>200</td>\n",
       "    </tr>\n",
       "    <tr>\n",
       "      <th>P7</th>\n",
       "      <td>11</td>\n",
       "      <td>19</td>\n",
       "      <td>31</td>\n",
       "      <td>42</td>\n",
       "      <td>0</td>\n",
       "      <td>1</td>\n",
       "      <td>6</td>\n",
       "      <td>89</td>\n",
       "      <td>0</td>\n",
       "      <td>1</td>\n",
       "      <td>200</td>\n",
       "    </tr>\n",
       "    <tr>\n",
       "      <th>P8</th>\n",
       "      <td>0</td>\n",
       "      <td>0</td>\n",
       "      <td>48</td>\n",
       "      <td>3</td>\n",
       "      <td>0</td>\n",
       "      <td>11</td>\n",
       "      <td>0</td>\n",
       "      <td>18</td>\n",
       "      <td>0</td>\n",
       "      <td>120</td>\n",
       "      <td>200</td>\n",
       "    </tr>\n",
       "    <tr>\n",
       "      <th>P9</th>\n",
       "      <td>19</td>\n",
       "      <td>28</td>\n",
       "      <td>0</td>\n",
       "      <td>3</td>\n",
       "      <td>0</td>\n",
       "      <td>0</td>\n",
       "      <td>0</td>\n",
       "      <td>0</td>\n",
       "      <td>149</td>\n",
       "      <td>1</td>\n",
       "      <td>200</td>\n",
       "    </tr>\n",
       "    <tr>\n",
       "      <th>P10</th>\n",
       "      <td>7</td>\n",
       "      <td>29</td>\n",
       "      <td>24</td>\n",
       "      <td>46</td>\n",
       "      <td>0</td>\n",
       "      <td>2</td>\n",
       "      <td>9</td>\n",
       "      <td>81</td>\n",
       "      <td>1</td>\n",
       "      <td>1</td>\n",
       "      <td>200</td>\n",
       "    </tr>\n",
       "    <tr>\n",
       "      <th>Soma</th>\n",
       "      <td>161</td>\n",
       "      <td>110</td>\n",
       "      <td>251</td>\n",
       "      <td>328</td>\n",
       "      <td>121</td>\n",
       "      <td>131</td>\n",
       "      <td>45</td>\n",
       "      <td>261</td>\n",
       "      <td>353</td>\n",
       "      <td>239</td>\n",
       "      <td>2000</td>\n",
       "    </tr>\n",
       "  </tbody>\n",
       "</table>\n",
       "</div>"
      ],
      "text/plain": [
       "       Q1   Q2   Q3   Q4   Q5   Q6  Q7   Q8   Q9  Q10  Soma\n",
       "P1      0    0    0    0    0    0   0    0  200    0   200\n",
       "P2     57   17   11    5   33   39   4   12    0   22   200\n",
       "P3      2    0   30    1   39   48   0    1    0   79   200\n",
       "P4     15    7    9  137    6   10   4    4    0    8   200\n",
       "P5     21    3   82   27   20   12   6   22    2    5   200\n",
       "P6     29    7   16   64   23    8  16   34    1    2   200\n",
       "P7     11   19   31   42    0    1   6   89    0    1   200\n",
       "P8      0    0   48    3    0   11   0   18    0  120   200\n",
       "P9     19   28    0    3    0    0   0    0  149    1   200\n",
       "P10     7   29   24   46    0    2   9   81    1    1   200\n",
       "Soma  161  110  251  328  121  131  45  261  353  239  2000"
      ]
     },
     "execution_count": 109,
     "metadata": {},
     "output_type": "execute_result"
    }
   ],
   "source": [
    "best_view2.confusion_matrix()\n",
    "\n",
    "cols =  ['Q' + str(k+1) for k in range(K)] + ['Soma']\n",
    "indexes = ['P' + str(k+1) for k in range(K)] + ['Soma']\n",
    "\n",
    "pd.DataFrame(best_view2.expand_confusion_matrix, columns=cols, index=indexes)"
   ]
  },
  {
   "cell_type": "markdown",
   "metadata": {
    "hidden": true
   },
   "source": [
    "Índice de Rand Corrigido"
   ]
  },
  {
   "cell_type": "code",
   "execution_count": 110,
   "metadata": {
    "ExecuteTime": {
     "end_time": "2020-09-07T01:14:57.102558Z",
     "start_time": "2020-09-07T01:14:57.093807Z"
    },
    "hidden": true
   },
   "outputs": [
    {
     "data": {
      "text/plain": [
       "0.26462750150567527"
      ]
     },
     "execution_count": 110,
     "metadata": {},
     "output_type": "execute_result"
    }
   ],
   "source": [
    "ar_index = best_view2.adjusted_rand_index()\n",
    "ar_index"
   ]
  },
  {
   "cell_type": "code",
   "execution_count": 111,
   "metadata": {
    "ExecuteTime": {
     "end_time": "2020-09-07T01:15:08.128688Z",
     "start_time": "2020-09-07T01:15:08.124914Z"
    },
    "hidden": true
   },
   "outputs": [],
   "source": [
    "measures_view2.append(ar_index)"
   ]
  },
  {
   "cell_type": "markdown",
   "metadata": {
    "hidden": true
   },
   "source": [
    "F-measure"
   ]
  },
  {
   "cell_type": "code",
   "execution_count": 112,
   "metadata": {
    "ExecuteTime": {
     "end_time": "2020-09-07T01:15:22.978175Z",
     "start_time": "2020-09-07T01:15:22.970366Z"
    },
    "hidden": true
   },
   "outputs": [
    {
     "data": {
      "text/plain": [
       "0.4347128659485023"
      ]
     },
     "execution_count": 112,
     "metadata": {},
     "output_type": "execute_result"
    }
   ],
   "source": [
    "f1 = best_view2.f_measure()\n",
    "f1"
   ]
  },
  {
   "cell_type": "code",
   "execution_count": 113,
   "metadata": {
    "ExecuteTime": {
     "end_time": "2020-09-07T01:15:32.348324Z",
     "start_time": "2020-09-07T01:15:32.344788Z"
    },
    "hidden": true
   },
   "outputs": [],
   "source": [
    "measures_view2.append(f1)"
   ]
  },
  {
   "cell_type": "markdown",
   "metadata": {
    "hidden": true
   },
   "source": [
    "Erro de Atribuição"
   ]
  },
  {
   "cell_type": "code",
   "execution_count": 114,
   "metadata": {
    "ExecuteTime": {
     "end_time": "2020-09-07T01:15:41.427964Z",
     "start_time": "2020-09-07T01:15:41.420832Z"
    },
    "hidden": true
   },
   "outputs": [
    {
     "data": {
      "text/plain": [
       "0.5915"
      ]
     },
     "execution_count": 114,
     "metadata": {},
     "output_type": "execute_result"
    }
   ],
   "source": [
    "error_rate = best_view2.classification_error_rate()\n",
    "error_rate"
   ]
  },
  {
   "cell_type": "code",
   "execution_count": 115,
   "metadata": {
    "ExecuteTime": {
     "end_time": "2020-09-07T01:15:49.636302Z",
     "start_time": "2020-09-07T01:15:49.633243Z"
    },
    "hidden": true
   },
   "outputs": [],
   "source": [
    "measures_view2.append(error_rate)"
   ]
  },
  {
   "cell_type": "markdown",
   "metadata": {
    "heading_collapsed": true,
    "hidden": true
   },
   "source": [
    "#### Métricas Sumarizadas"
   ]
  },
  {
   "cell_type": "code",
   "execution_count": 116,
   "metadata": {
    "ExecuteTime": {
     "end_time": "2020-09-07T01:16:03.839051Z",
     "start_time": "2020-09-07T01:16:03.833713Z"
    },
    "hidden": true
   },
   "outputs": [
    {
     "data": {
      "text/plain": [
       "[0.012285447708433983,\n",
       " 2.2702021227540183,\n",
       " 0.26462750150567527,\n",
       " 0.4347128659485023,\n",
       " 0.5915]"
      ]
     },
     "execution_count": 116,
     "metadata": {},
     "output_type": "execute_result"
    }
   ],
   "source": [
    "measures_view2"
   ]
  },
  {
   "cell_type": "code",
   "execution_count": 117,
   "metadata": {
    "ExecuteTime": {
     "end_time": "2020-09-07T01:16:43.107879Z",
     "start_time": "2020-09-07T01:16:43.092825Z"
    },
    "hidden": true
   },
   "outputs": [
    {
     "data": {
      "text/html": [
       "<div>\n",
       "<style scoped>\n",
       "    .dataframe tbody tr th:only-of-type {\n",
       "        vertical-align: middle;\n",
       "    }\n",
       "\n",
       "    .dataframe tbody tr th {\n",
       "        vertical-align: top;\n",
       "    }\n",
       "\n",
       "    .dataframe thead th {\n",
       "        text-align: right;\n",
       "    }\n",
       "</style>\n",
       "<table border=\"1\" class=\"dataframe\">\n",
       "  <thead>\n",
       "    <tr style=\"text-align: right;\">\n",
       "      <th></th>\n",
       "      <th>Mod Partition Coeff</th>\n",
       "      <th>Partition Entropy</th>\n",
       "      <th>Indice Rand Corr</th>\n",
       "      <th>F-measure</th>\n",
       "      <th>Erro Atribuição</th>\n",
       "    </tr>\n",
       "  </thead>\n",
       "  <tbody>\n",
       "    <tr>\n",
       "      <th>0</th>\n",
       "      <td>0.012285</td>\n",
       "      <td>2.270202</td>\n",
       "      <td>0.264628</td>\n",
       "      <td>0.434713</td>\n",
       "      <td>0.5915</td>\n",
       "    </tr>\n",
       "  </tbody>\n",
       "</table>\n",
       "</div>"
      ],
      "text/plain": [
       "   Mod Partition Coeff  Partition Entropy  Indice Rand Corr  F-measure  \\\n",
       "0             0.012285           2.270202          0.264628   0.434713   \n",
       "\n",
       "   Erro Atribuição  \n",
       "0           0.5915  "
      ]
     },
     "execution_count": 117,
     "metadata": {},
     "output_type": "execute_result"
    }
   ],
   "source": [
    "cols = ['Mod Partition Coeff', 'Partition Entropy', 'Indice Rand Corr',\n",
    "        'F-measure', 'Erro Atribuição']\n",
    "\n",
    "pd.DataFrame(measures_view2, index = cols).T"
   ]
  },
  {
   "cell_type": "markdown",
   "metadata": {
    "heading_collapsed": true,
    "hidden": true
   },
   "source": [
    "## Persistir Objeto do Experimento"
   ]
  },
  {
   "cell_type": "code",
   "execution_count": 118,
   "metadata": {
    "ExecuteTime": {
     "end_time": "2020-09-07T01:17:24.637192Z",
     "start_time": "2020-09-07T01:17:24.631446Z"
    },
    "hidden": true
   },
   "outputs": [],
   "source": [
    "exp_object_file = open(path_results_view2 + \"experiment_object\", \"wb\")\n",
    "\n",
    "pickle.dump(best_view2, exp_object_file)\n",
    "\n",
    "exp_object_file.close()"
   ]
  },
  {
   "cell_type": "markdown",
   "metadata": {
    "heading_collapsed": true
   },
   "source": [
    "# Experimento com a View3 Individualmente"
   ]
  },
  {
   "cell_type": "code",
   "execution_count": 44,
   "metadata": {
    "ExecuteTime": {
     "end_time": "2020-09-06T23:32:20.538632Z",
     "start_time": "2020-09-06T20:18:18.928763Z"
    },
    "hidden": true
   },
   "outputs": [
    {
     "name": "stdout",
     "output_type": "stream",
     "text": [
      "EXPERIMENTO 0\n",
      "0\n",
      "1\n",
      "EXPERIMENTO 1\n",
      "0\n",
      "1\n",
      "EXPERIMENTO 2\n",
      "0\n",
      "1\n",
      "EXPERIMENTO 3\n",
      "0\n",
      "1\n",
      "EXPERIMENTO 4\n",
      "0\n",
      "1\n",
      "EXPERIMENTO 5\n",
      "0\n",
      "1\n",
      "EXPERIMENTO 6\n",
      "0\n",
      "1\n",
      "EXPERIMENTO 7\n",
      "0\n",
      "1\n",
      "2\n",
      "EXPERIMENTO 8\n",
      "0\n",
      "1\n",
      "EXPERIMENTO 9\n",
      "0\n",
      "1\n"
     ]
    }
   ],
   "source": [
    "dissim_matrices = [view3_dissim_matrix]\n",
    "p = len(dissim_matrices)\n",
    "\n",
    "G = Lambda = U = None\n",
    "\n",
    "best_view3, adequacy_criterions_view3 = run_experiments()"
   ]
  },
  {
   "cell_type": "markdown",
   "metadata": {
    "heading_collapsed": true,
    "hidden": true
   },
   "source": [
    "## Resultados"
   ]
  },
  {
   "cell_type": "code",
   "execution_count": 120,
   "metadata": {
    "ExecuteTime": {
     "end_time": "2020-09-07T01:00:26.384564Z",
     "start_time": "2020-09-07T01:00:26.381147Z"
    },
    "hidden": true
   },
   "outputs": [],
   "source": [
    "path_results_view3 = \"results_view3/\""
   ]
  },
  {
   "cell_type": "markdown",
   "metadata": {
    "heading_collapsed": true,
    "hidden": true
   },
   "source": [
    "### Função Objetivo"
   ]
  },
  {
   "cell_type": "code",
   "execution_count": 121,
   "metadata": {
    "ExecuteTime": {
     "end_time": "2020-09-07T01:01:19.470410Z",
     "start_time": "2020-09-07T01:01:19.465188Z"
    },
    "hidden": true
   },
   "outputs": [
    {
     "data": {
      "text/plain": [
       "array([1553.850915  , 1556.14045953, 1551.45105681, 1553.91102535,\n",
       "       1555.64247337, 1551.25663616, 1555.88459113, 1555.06519323,\n",
       "       1556.05355777, 1548.48235444])"
      ]
     },
     "execution_count": 121,
     "metadata": {},
     "output_type": "execute_result"
    }
   ],
   "source": [
    "adequacy_criterions_view3 = np.array(adequacy_criterions_view3)\n",
    "adequacy_criterions_view3"
   ]
  },
  {
   "cell_type": "code",
   "execution_count": 122,
   "metadata": {
    "ExecuteTime": {
     "end_time": "2020-09-07T01:01:48.870765Z",
     "start_time": "2020-09-07T01:01:48.855753Z"
    },
    "hidden": true
   },
   "outputs": [
    {
     "data": {
      "text/html": [
       "<div>\n",
       "<style scoped>\n",
       "    .dataframe tbody tr th:only-of-type {\n",
       "        vertical-align: middle;\n",
       "    }\n",
       "\n",
       "    .dataframe tbody tr th {\n",
       "        vertical-align: top;\n",
       "    }\n",
       "\n",
       "    .dataframe thead th {\n",
       "        text-align: right;\n",
       "    }\n",
       "</style>\n",
       "<table border=\"1\" class=\"dataframe\">\n",
       "  <thead>\n",
       "    <tr style=\"text-align: right;\">\n",
       "      <th></th>\n",
       "      <th>Mínimo</th>\n",
       "      <th>Máximo</th>\n",
       "      <th>Média</th>\n",
       "      <th>Desvio-padrão</th>\n",
       "    </tr>\n",
       "  </thead>\n",
       "  <tbody>\n",
       "    <tr>\n",
       "      <th>0</th>\n",
       "      <td>1548.482354</td>\n",
       "      <td>1556.14046</td>\n",
       "      <td>1553.773826</td>\n",
       "      <td>2.452934</td>\n",
       "    </tr>\n",
       "  </tbody>\n",
       "</table>\n",
       "</div>"
      ],
      "text/plain": [
       "        Mínimo      Máximo        Média  Desvio-padrão\n",
       "0  1548.482354  1556.14046  1553.773826       2.452934"
      ]
     },
     "execution_count": 122,
     "metadata": {},
     "output_type": "execute_result"
    }
   ],
   "source": [
    "min_J = adequacy_criterions_view3.min()\n",
    "max_J = adequacy_criterions_view3.max()\n",
    "mean_J = adequacy_criterions_view3.mean()\n",
    "std_J = adequacy_criterions_view3.std()\n",
    "\n",
    "cols = columns=['Mínimo', 'Máximo', 'Média', 'Desvio-padrão']\n",
    "pd.DataFrame([[min_J, max_J, mean_J, std_J]], columns=cols)"
   ]
  },
  {
   "cell_type": "code",
   "execution_count": 123,
   "metadata": {
    "ExecuteTime": {
     "end_time": "2020-09-07T01:02:16.306886Z",
     "start_time": "2020-09-07T01:02:16.053651Z"
    },
    "hidden": true
   },
   "outputs": [
    {
     "data": {
      "image/png": "[encoded data removed]",
      "text/plain": [
       "<Figure size 720x432 with 1 Axes>"
      ]
     },
     "metadata": {
      "needs_background": "light"
     },
     "output_type": "display_data"
    }
   ],
   "source": [
    "ax = pd.DataFrame(adequacy_criterions_view3).plot(figsize=(10,6),\n",
    "                                       xticks=range(num_max_experiments),\n",
    "                                      fontsize=14,\n",
    "                                      legend=False)\n",
    "\n",
    "ax.set_xlabel(\"Nº Experimento\", fontsize=15)\n",
    "ax.set_ylabel(\"Função Objetivo\", fontsize=15)\n",
    "plt.show()"
   ]
  },
  {
   "cell_type": "code",
   "execution_count": 124,
   "metadata": {
    "ExecuteTime": {
     "end_time": "2020-09-07T01:02:55.125637Z",
     "start_time": "2020-09-07T01:02:55.119720Z"
    },
    "hidden": true
   },
   "outputs": [
    {
     "name": "stdout",
     "output_type": "stream",
     "text": [
      "Nº iterações do melhor experimento: 2\n"
     ]
    }
   ],
   "source": [
    "num_iter_best_exp = best_view3.iterations + 1\n",
    "print(\"Nº iterações do melhor experimento:\", num_iter_best_exp)\n",
    "\n",
    "np.savetxt(path_results_view3 + 'num_iter_melhor_exp.csv', [num_iter_best_exp], delimiter=',')"
   ]
  },
  {
   "cell_type": "code",
   "execution_count": 125,
   "metadata": {
    "ExecuteTime": {
     "end_time": "2020-09-07T01:03:22.625614Z",
     "start_time": "2020-09-07T01:03:22.620162Z"
    },
    "hidden": true
   },
   "outputs": [],
   "source": [
    "np.savetxt(path_results_view3 + \"funcao_obj.csv\", adequacy_criterions_view3, delimiter=\",\")"
   ]
  },
  {
   "cell_type": "markdown",
   "metadata": {
    "heading_collapsed": true,
    "hidden": true
   },
   "source": [
    "### Set-medoids (Protótipos)"
   ]
  },
  {
   "cell_type": "code",
   "execution_count": 126,
   "metadata": {
    "ExecuteTime": {
     "end_time": "2020-09-07T01:04:05.397076Z",
     "start_time": "2020-09-07T01:04:05.390900Z"
    },
    "hidden": true
   },
   "outputs": [
    {
     "data": {
      "text/plain": [
       "array([[  25,   78],\n",
       "       [1789,   11],\n",
       "       [ 654,  620],\n",
       "       [1890, 1887],\n",
       "       [  85,  117],\n",
       "       [ 191,   55],\n",
       "       [1494, 1831],\n",
       "       [ 779,  678],\n",
       "       [ 275,  354],\n",
       "       [  35,  103]])"
      ]
     },
     "execution_count": 126,
     "metadata": {},
     "output_type": "execute_result"
    }
   ],
   "source": [
    "best_view3.prototypes"
   ]
  },
  {
   "cell_type": "code",
   "execution_count": 127,
   "metadata": {
    "ExecuteTime": {
     "end_time": "2020-09-07T01:04:33.456019Z",
     "start_time": "2020-09-07T01:04:33.444327Z"
    },
    "hidden": true
   },
   "outputs": [
    {
     "name": "stdout",
     "output_type": "stream",
     "text": [
      "Set-medoids (protótipos):\n",
      "\n",
      "Q1: [25 78]\n",
      "Q2: [1789   11]\n",
      "Q3: [654 620]\n",
      "Q4: [1890 1887]\n",
      "Q5: [ 85 117]\n",
      "Q6: [191  55]\n",
      "Q7: [1494 1831]\n",
      "Q8: [779 678]\n",
      "Q9: [275 354]\n",
      "Q10: [ 35 103]\n"
     ]
    }
   ],
   "source": [
    "print(\"Set-medoids (protótipos):\\n\")\n",
    "for num_cluster in range(K):\n",
    "    print('Q' + str(num_cluster+1) + \":\", best_view3.prototypes[num_cluster])"
   ]
  },
  {
   "cell_type": "code",
   "execution_count": 128,
   "metadata": {
    "ExecuteTime": {
     "end_time": "2020-09-07T01:04:56.482320Z",
     "start_time": "2020-09-07T01:04:56.474799Z"
    },
    "hidden": true
   },
   "outputs": [],
   "source": [
    "np.savetxt(path_results_view3 + \"prototipos.csv\", best_view3.prototypes, delimiter=\",\")"
   ]
  },
  {
   "cell_type": "markdown",
   "metadata": {
    "heading_collapsed": true,
    "hidden": true
   },
   "source": [
    "### Partição Fuzzy"
   ]
  },
  {
   "cell_type": "code",
   "execution_count": 129,
   "metadata": {
    "ExecuteTime": {
     "end_time": "2020-09-07T01:05:44.385425Z",
     "start_time": "2020-09-07T01:05:44.377755Z"
    },
    "hidden": true
   },
   "outputs": [
    {
     "data": {
      "text/plain": [
       "array([[0.14798189, 0.08525234, 0.09394605, ..., 0.08695011, 0.07163927,\n",
       "        0.11188879],\n",
       "       [0.13367369, 0.09960495, 0.08353159, ..., 0.07336211, 0.09896266,\n",
       "        0.12420765],\n",
       "       [0.11554784, 0.12692763, 0.07573212, ..., 0.07641435, 0.07765703,\n",
       "        0.09772491],\n",
       "       ...,\n",
       "       [0.12228187, 0.10166436, 0.08364819, ..., 0.08320404, 0.09114926,\n",
       "        0.0972265 ],\n",
       "       [0.10891954, 0.10222163, 0.08656469, ..., 0.08425452, 0.10534278,\n",
       "        0.09990952],\n",
       "       [0.08533003, 0.08848248, 0.0955031 , ..., 0.08603755, 0.0959857 ,\n",
       "        0.08781492]])"
      ]
     },
     "execution_count": 129,
     "metadata": {},
     "output_type": "execute_result"
    }
   ],
   "source": [
    "best_view3.fuzzy_partition"
   ]
  },
  {
   "cell_type": "code",
   "execution_count": 130,
   "metadata": {
    "ExecuteTime": {
     "end_time": "2020-09-07T01:06:03.100092Z",
     "start_time": "2020-09-07T01:06:03.092953Z"
    },
    "hidden": true
   },
   "outputs": [
    {
     "data": {
      "text/plain": [
       "array([1., 1., 1., ..., 1., 1., 1.])"
      ]
     },
     "execution_count": 130,
     "metadata": {},
     "output_type": "execute_result"
    }
   ],
   "source": [
    "memberships_sums = best_view3.fuzzy_partition.sum(axis=1)\n",
    "memberships_sums"
   ]
  },
  {
   "cell_type": "code",
   "execution_count": 131,
   "metadata": {
    "ExecuteTime": {
     "end_time": "2020-09-07T01:06:13.376036Z",
     "start_time": "2020-09-07T01:06:12.570797Z"
    },
    "hidden": true
   },
   "outputs": [
    {
     "data": {
      "image/png": "[encoded data removed]",
      "text/plain": [
       "<Figure size 720x432 with 1 Axes>"
      ]
     },
     "metadata": {
      "needs_background": "light"
     },
     "output_type": "display_data"
    }
   ],
   "source": [
    "# Os graus de pertinência de cada objeto devem somar 1.\n",
    "ax = pd.DataFrame(memberships_sums).plot(figsize=(10,6),\n",
    "                                      fontsize=14,\n",
    "                                      legend=False)\n",
    "\n",
    "ax.set_xlabel(\"Objeto\", fontsize=15)\n",
    "ax.set_ylabel(\"Soma Graus Pertinência\", fontsize=15)\n",
    "plt.show()"
   ]
  },
  {
   "cell_type": "code",
   "execution_count": 132,
   "metadata": {
    "ExecuteTime": {
     "end_time": "2020-09-07T01:06:20.824920Z",
     "start_time": "2020-09-07T01:06:20.818062Z"
    },
    "hidden": true
   },
   "outputs": [
    {
     "data": {
      "text/plain": [
       "(0.9999999999999998, 1.0000000000000002)"
      ]
     },
     "execution_count": 132,
     "metadata": {},
     "output_type": "execute_result"
    }
   ],
   "source": [
    "# Os que não somam, é devido a erros numéricos.\n",
    "memberships_sums.min(), memberships_sums.max()"
   ]
  },
  {
   "cell_type": "code",
   "execution_count": 133,
   "metadata": {
    "ExecuteTime": {
     "end_time": "2020-09-07T01:07:04.701583Z",
     "start_time": "2020-09-07T01:07:04.670273Z"
    },
    "hidden": true
   },
   "outputs": [],
   "source": [
    "np.savetxt(path_results_view3 + \"particao_fuzzy.csv\", best_view3.fuzzy_partition, delimiter=\",\")"
   ]
  },
  {
   "cell_type": "markdown",
   "metadata": {
    "heading_collapsed": true,
    "hidden": true
   },
   "source": [
    "### Partição Crisp"
   ]
  },
  {
   "cell_type": "code",
   "execution_count": 134,
   "metadata": {
    "ExecuteTime": {
     "end_time": "2020-09-07T01:07:53.911320Z",
     "start_time": "2020-09-07T01:07:53.879959Z"
    },
    "hidden": true,
    "scrolled": true
   },
   "outputs": [
    {
     "data": {
      "text/plain": [
       "array([0, 0, 4, ..., 3, 3, 3])"
      ]
     },
     "execution_count": 134,
     "metadata": {},
     "output_type": "execute_result"
    }
   ],
   "source": [
    "best_view3.fuzzy_to_crisp()\n",
    "best_view3.crisp_partition"
   ]
  },
  {
   "cell_type": "code",
   "execution_count": 135,
   "metadata": {
    "ExecuteTime": {
     "end_time": "2020-09-07T01:08:42.360451Z",
     "start_time": "2020-09-07T01:08:42.347331Z"
    },
    "hidden": true
   },
   "outputs": [
    {
     "name": "stdout",
     "output_type": "stream",
     "text": [
      "Lista de Objetos por Grupo:\n",
      "\n",
      "Q1: [   0    1    3    4    7    8   13   14   17   19   23   25   34   36\n",
      "   37   39   47   49   51   53   58   59   60   67   71   73   78   82\n",
      "   89   91   93   94   97   98   99  102  104  105  109  110  111  112\n",
      "  113  114  120  122  123  124  126  127  128  129  139  141  146  148\n",
      "  151  152  153  154  156  157  162  165  167  170  171  181  182  183\n",
      "  186  187  190  192  194  195  199  409  419  428  432  440  442  445\n",
      "  451  458  471  487  489  505  506  510  526  544  545  568  573  581\n",
      "  586  605  715  774  801  804  812  823  829  836  862  869  893  908\n",
      "  931  936  940  949  952  978  979  983  989  991 1000 1028 1031 1058\n",
      " 1103 1125 1127 1131 1137 1158 1180 1202 1204 1205 1212 1213 1216 1217\n",
      " 1221 1223 1224 1225 1235 1236 1238 1240 1243 1252 1254 1255 1257 1258\n",
      " 1263 1273 1276 1277 1281 1282 1284 1288 1297 1307 1309 1313 1314 1319\n",
      " 1320 1326 1333 1342 1343 1344 1347 1350 1353 1354 1357 1362 1363 1364\n",
      " 1368 1369 1377 1380 1391 1395 1400 1607 1613 1636 1642 1645 1648 1649\n",
      " 1650 1652 1662 1664 1665 1672 1675 1677 1682 1685 1689 1703 1705 1709\n",
      " 1711 1712 1718 1726 1728 1735 1739 1740 1745 1762 1764 1766 1767 1772\n",
      " 1775 1776 1780 1782 1783 1785 1787 1790 1793 1795 1797 1798 1806 1820\n",
      " 1822 1841 1917 1929 1951 1967] \n",
      "\n",
      "Q2: [  11   22   31   50   70   81   83   95  131  135  142  150  160  178\n",
      "  193  209  401  402  406  411  420  422  427  431  437  444  448  452\n",
      "  453  454  455  462  469  474  481  488  492  494  496  504  511  513\n",
      "  514  516  520  524  528  533  537  541  548  551  559  560  561  563\n",
      "  564  571  574  579  585  588  591  593  594  815  867  897  899  901\n",
      "  902  913  920  964 1076 1210 1211 1222 1226 1232 1256 1261 1268 1278\n",
      " 1285 1290 1295 1296 1323 1327 1337 1339 1345 1351 1367 1387 1394 1510\n",
      " 1600 1605 1608 1610 1614 1615 1618 1619 1627 1629 1631 1632 1633 1635\n",
      " 1637 1639 1640 1643 1644 1651 1657 1658 1659 1660 1661 1663 1671 1679\n",
      " 1680 1681 1683 1686 1687 1693 1695 1702 1704 1706 1708 1710 1714 1716\n",
      " 1720 1721 1729 1730 1742 1743 1744 1746 1747 1751 1752 1756 1760 1763\n",
      " 1771 1774 1778 1779 1781 1784 1789 1792 1799 1832 1838 1885 1918 1991] \n",
      "\n",
      "Q3: [ 365  368  412  446  600  603  604  608  609  612  613  614  619  620\n",
      "  621  623  626  630  632  634  636  637  638  641  642  643  644  645\n",
      "  649  651  653  654  655  656  657  660  661  662  663  664  665  667\n",
      "  668  669  670  671  672  673  683  684  685  686  687  691  692  693\n",
      "  694  695  698  699  700  701  706  707  708  710  717  719  721  722\n",
      "  724  725  726  728  730  731  732  733  734  735  737  738  739  740\n",
      "  741  742  744  745  747  751  752  755  757  758  759  760  763  765\n",
      "  766  767  770  771  772  775  777  781  782  784  785  786  787  788\n",
      "  789  791  794  795  796  798  799  803  839  877  911  925 1002 1005\n",
      " 1009 1011 1016 1025 1033 1039 1041 1043 1047 1049 1050 1057 1066 1067\n",
      " 1070 1072 1079 1080 1082 1083 1085 1086 1089 1091 1092 1094 1096 1099\n",
      " 1104 1111 1112 1114 1116 1117 1121 1122 1128 1132 1133 1135 1139 1141\n",
      " 1143 1146 1148 1149 1154 1160 1162 1164 1166 1169 1172 1175 1179 1181\n",
      " 1182 1185 1187 1193 1195 1198 1199 1220 1233 1270 1280 1299 1324 1335\n",
      " 1390 1418 1477 1503 1611 1612 1692 1698 1715 1734 1741 1846 1870 1872] \n",
      "\n",
      "Q4: [ 205  219  228  250  252  253  259  281  319  320  325  327  332  334\n",
      "  369  379  387  395  424  473  569  590  713  813  824  832  840  849\n",
      "  856  858  859  864  868  876  882  891  895  924  930  934  944  951\n",
      "  955  971  980  982  988  990  992  993  998  999 1006 1026 1027 1029\n",
      " 1030 1037 1042 1044 1051 1052 1069 1074 1078 1084 1095 1102 1105 1106\n",
      " 1108 1124 1126 1140 1142 1145 1150 1155 1167 1183 1186 1191 1194 1401\n",
      " 1403 1405 1407 1414 1421 1424 1436 1437 1441 1443 1444 1449 1454 1458\n",
      " 1472 1476 1484 1490 1491 1509 1519 1524 1527 1531 1534 1537 1538 1542\n",
      " 1548 1549 1557 1562 1565 1568 1577 1578 1581 1595 1603 1609 1622 1623\n",
      " 1634 1667 1697 1699 1758 1770 1773 1796 1800 1801 1802 1803 1807 1808\n",
      " 1809 1810 1811 1812 1813 1815 1816 1817 1818 1819 1821 1823 1824 1825\n",
      " 1826 1827 1829 1830 1833 1834 1835 1839 1840 1842 1844 1845 1848 1849\n",
      " 1850 1851 1852 1854 1855 1858 1859 1860 1862 1864 1867 1868 1869 1871\n",
      " 1874 1875 1876 1877 1879 1880 1881 1883 1886 1887 1889 1890 1891 1892\n",
      " 1893 1894 1895 1896 1897 1898 1899 1901 1902 1904 1905 1906 1907 1908\n",
      " 1909 1910 1912 1913 1914 1916 1919 1920 1921 1923 1924 1925 1926 1927\n",
      " 1928 1930 1931 1932 1934 1937 1938 1940 1941 1942 1943 1945 1946 1947\n",
      " 1949 1950 1953 1954 1955 1957 1958 1959 1961 1962 1963 1964 1968 1969\n",
      " 1970 1971 1972 1975 1976 1978 1979 1980 1982 1983 1984 1985 1986 1987\n",
      " 1988 1990 1992 1993 1994 1995 1997 1998 1999] \n",
      "\n",
      "Q5: [   2    5    9   10   15   16   20   24   26   28   30   32   38   41\n",
      "   42   45   52   56   62   65   75   76   79   80   85   87   88   96\n",
      "  115  117  118  119  125  130  132  133  136  138  140  145  161  168\n",
      "  169  174  176  177  179  180  184  188  197  198  408  415  421  436\n",
      "  482  525  776  783  825  831  953  986  996 1018 1023 1088 1173 1176\n",
      " 1200 1215 1219 1230 1246 1249 1251 1253 1259 1260 1264 1265 1272 1274\n",
      " 1289 1298 1301 1302 1305 1306 1310 1316 1317 1328 1329 1331 1340 1349\n",
      " 1356 1366 1370 1396 1397 1399 1601 1616 1621 1630 1641 1653 1666 1668\n",
      " 1678 1684 1688 1700 1722 1724 1738 1765 1777 1794] \n",
      "\n",
      "Q6: [   6   18   27   33   40   43   44   46   48   54   55   57   61   66\n",
      "   68   72   74   84   90   92  100  101  108  116  134  137  143  144\n",
      "  147  149  159  166  175  185  189  191  196  264  404  405  407  413\n",
      "  416  418  429  438  439  457  461  467  477  478  490  497  507  517\n",
      "  519  521  522  530  531  534  540  549  556  558  565  567  572  583\n",
      "  595  596  750  792  808  821  850  870  875  878  907  927  956  981\n",
      "  985  987 1036 1045 1064 1071 1115 1118 1119 1177 1189 1192 1197 1203\n",
      " 1208 1209 1228 1229 1237 1239 1241 1244 1247 1271 1275 1279 1286 1287\n",
      " 1291 1293 1294 1300 1321 1325 1338 1348 1352 1355 1358 1371 1383 1384\n",
      " 1385 1388 1392 1617 1620 1628 1638 1646 1647 1655 1656 1673 1676 1690\n",
      " 1707 1717 1719 1732 1748 1753 1768 1786 1791 1936] \n",
      "\n",
      "Q7: [ 204  212  215  216  231  258  309  397  400  414  417  423  425  426\n",
      "  433  435  441  443  447  449  456  459  460  463  464  466  468  470\n",
      "  472  475  479  484  485  486  491  493  495  499  500  502  503  508\n",
      "  512  515  523  532  536  538  539  542  543  546  547  553  555  562\n",
      "  566  570  575  576  577  578  580  582  584  592  597  598  599  602\n",
      "  610  628  652  659  666  681  743  756  790  806  939  950 1007 1008\n",
      " 1015 1019 1022 1032 1053 1054 1062 1077 1081 1093 1100 1109 1134 1136\n",
      " 1147 1161 1402 1404 1406 1408 1409 1410 1411 1412 1413 1415 1416 1417\n",
      " 1419 1420 1422 1423 1425 1426 1427 1428 1429 1430 1431 1432 1433 1434\n",
      " 1435 1438 1439 1440 1442 1445 1446 1447 1448 1450 1451 1452 1453 1455\n",
      " 1456 1457 1459 1460 1461 1462 1463 1464 1465 1466 1468 1469 1470 1471\n",
      " 1473 1474 1475 1478 1479 1480 1481 1482 1483 1485 1486 1487 1488 1489\n",
      " 1492 1493 1494 1495 1496 1497 1498 1499 1500 1501 1502 1504 1505 1506\n",
      " 1507 1508 1511 1512 1513 1514 1515 1516 1517 1518 1520 1521 1522 1523\n",
      " 1525 1526 1528 1529 1530 1532 1533 1535 1536 1539 1540 1541 1543 1544\n",
      " 1545 1546 1547 1550 1551 1552 1553 1554 1555 1556 1558 1559 1560 1561\n",
      " 1563 1564 1566 1567 1569 1570 1571 1572 1573 1574 1575 1576 1579 1580\n",
      " 1582 1583 1584 1585 1586 1587 1588 1589 1590 1591 1592 1593 1594 1596\n",
      " 1597 1598 1599 1625 1733 1804 1814 1828 1831 1836 1837 1843 1847 1853\n",
      " 1856 1857 1861 1863 1865 1866 1873 1878 1882 1888 1900 1903 1911 1922\n",
      " 1933 1935 1939 1944 1948 1952 1956 1960 1965 1966 1973 1974 1977 1989\n",
      " 1996] \n",
      "\n",
      "Q8: [ 106  241  242  265  293  306  307  330  357  370  483  518  601  606\n",
      "  607  611  615  616  617  618  622  624  625  627  629  631  633  635\n",
      "  639  640  646  648  658  674  675  676  678  679  680  682  688  689\n",
      "  690  696  697  702  703  704  705  709  711  712  714  716  718  720\n",
      "  723  727  729  736  746  748  749  753  754  761  762  768  769  773\n",
      "  778  779  780  793  797  800  802  807  811  814  816  830  835  837\n",
      "  838  844  846  848  852  860  872  881  883  886  887  890  896  910\n",
      "  912  915  916  917  922  926  929  941  946  954  961  963  966  967\n",
      "  968  969  977  997 1003 1004 1010 1012 1013 1014 1017 1020 1021 1024\n",
      " 1034 1035 1038 1040 1046 1048 1055 1059 1060 1061 1063 1065 1068 1073\n",
      " 1075 1090 1098 1101 1107 1110 1113 1120 1123 1130 1138 1144 1151 1152\n",
      " 1153 1156 1157 1159 1163 1165 1168 1170 1171 1174 1178 1188 1190 1196\n",
      " 1234 1269 1283 1308 1312 1336 1341 1361 1374 1379 1386 1669 1696 1755\n",
      " 1915] \n",
      "\n",
      "Q9: [ 107  158  172  200  201  202  203  206  207  208  210  211  213  214\n",
      "  217  218  220  221  222  223  224  225  226  227  229  230  232  233\n",
      "  234  235  236  237  238  239  240  243  244  245  246  247  248  249\n",
      "  251  254  255  256  257  260  261  262  263  266  267  268  269  270\n",
      "  271  272  273  274  275  276  277  278  279  280  282  283  284  285\n",
      "  286  287  288  289  290  291  292  294  295  296  297  298  299  300\n",
      "  301  302  303  304  305  308  310  311  312  313  314  315  316  317\n",
      "  318  321  322  323  324  326  328  329  331  333  335  336  337  338\n",
      "  339  340  341  342  343  344  345  346  347  348  349  350  351  352\n",
      "  353  354  355  356  358  359  360  361  362  363  364  366  367  371\n",
      "  372  373  374  375  376  377  378  380  381  382  383  384  385  386\n",
      "  388  389  390  391  392  393  394  396  398  399  450  465  476  498\n",
      "  509  527  535  552  554  587  647  764  805  809  810  817  819  822\n",
      "  826  827  828  833  841  843  851  854  857  863  873  874  880  884\n",
      "  888  900  904  905  914  921  928  932  933  943  957  958  960  962\n",
      "  974  976  984  994 1001 1056 1087 1097 1129 1184 1242 1245 1330 1378\n",
      " 1467 1602 1606 1624 1674 1701 1725 1727 1731 1736 1737 1750 1754 1757\n",
      " 1761 1788 1805 1884 1981] \n",
      "\n",
      "Q10: [  12   21   29   35   63   64   69   77   86  103  121  155  163  164\n",
      "  173  403  410  430  434  480  501  529  550  557  589  650  677  818\n",
      "  820  834  842  845  847  853  855  861  865  866  871  879  885  889\n",
      "  892  894  898  903  906  909  918  919  923  935  937  938  942  945\n",
      "  947  948  959  965  970  972  973  975  995 1201 1206 1207 1214 1218\n",
      " 1227 1231 1248 1250 1262 1266 1267 1292 1303 1304 1311 1315 1318 1322\n",
      " 1332 1334 1346 1359 1360 1365 1372 1373 1375 1376 1381 1382 1389 1393\n",
      " 1398 1604 1626 1654 1670 1691 1694 1713 1723 1749 1759 1769] \n",
      "\n"
     ]
    }
   ],
   "source": [
    "print(\"Lista de Objetos por Grupo:\\n\")\n",
    "\n",
    "crisp_clusters_view3 = [np.where(best_view3.crisp_partition == k)[0] for k in range(K)]\n",
    "\n",
    "for k in range(K): \n",
    "    print('Q' + str(k+1) + \":\", crisp_clusters_view3[k], '\\n')"
   ]
  },
  {
   "cell_type": "code",
   "execution_count": 136,
   "metadata": {
    "ExecuteTime": {
     "end_time": "2020-09-07T01:09:50.527247Z",
     "start_time": "2020-09-07T01:09:50.515147Z"
    },
    "hidden": true
   },
   "outputs": [
    {
     "name": "stdout",
     "output_type": "stream",
     "text": [
      "Número de Objetos em cada Grupo Crisp: \n",
      "\n",
      "Q1: 244\n",
      "Q2: 168\n",
      "Q3: 210\n",
      "Q4: 275\n",
      "Q5: 122\n",
      "Q6: 150\n",
      "Q7: 295\n",
      "Q8: 183\n",
      "Q9: 243\n",
      "Q10: 110\n"
     ]
    }
   ],
   "source": [
    "print(\"Número de Objetos em cada Grupo Crisp: \\n\")\n",
    "\n",
    "num_objects_crisp_view3 = [cluster.shape[0] for cluster in crisp_clusters_view3]\n",
    "\n",
    "for k in range(K):\n",
    "    \n",
    "    print('Q' + str(k+1) + \":\", num_objects_crisp_view3[k])"
   ]
  },
  {
   "cell_type": "code",
   "execution_count": 137,
   "metadata": {
    "ExecuteTime": {
     "end_time": "2020-09-07T01:10:12.173369Z",
     "start_time": "2020-09-07T01:10:11.864164Z"
    },
    "hidden": true
   },
   "outputs": [
    {
     "data": {
      "image/png": "[encoded data removed]",
      "text/plain": [
       "<Figure size 720x576 with 1 Axes>"
      ]
     },
     "metadata": {
      "needs_background": "light"
     },
     "output_type": "display_data"
    }
   ],
   "source": [
    "ax = pd.DataFrame(num_objects_crisp_view3).plot.bar(figsize=(10,8),\n",
    "                                              fontsize=14,\n",
    "                                              legend=False,\n",
    "                                              rot=0)\n",
    "        \n",
    "ax.set_xticklabels(['Q' + str(k+1) for k in range(K)])\n",
    "ax.set_ylabel(\"Qtd Objetos\", fontsize=15)\n",
    "plt.show()"
   ]
  },
  {
   "cell_type": "code",
   "execution_count": 138,
   "metadata": {
    "ExecuteTime": {
     "end_time": "2020-09-07T01:10:59.899052Z",
     "start_time": "2020-09-07T01:10:59.887142Z"
    },
    "hidden": true
   },
   "outputs": [],
   "source": [
    "np.savetxt(path_results_view3 + \"particao_crisp.csv\", best_view3.crisp_partition, delimiter=\",\")"
   ]
  },
  {
   "cell_type": "markdown",
   "metadata": {
    "heading_collapsed": true,
    "hidden": true
   },
   "source": [
    "### Pesos das Matrizes"
   ]
  },
  {
   "cell_type": "code",
   "execution_count": 139,
   "metadata": {
    "ExecuteTime": {
     "end_time": "2020-09-07T01:11:45.451692Z",
     "start_time": "2020-09-07T01:11:45.446461Z"
    },
    "hidden": true
   },
   "outputs": [
    {
     "data": {
      "text/plain": [
       "array([[1.],\n",
       "       [1.],\n",
       "       [1.],\n",
       "       [1.],\n",
       "       [1.],\n",
       "       [1.],\n",
       "       [1.],\n",
       "       [1.],\n",
       "       [1.],\n",
       "       [1.]])"
      ]
     },
     "execution_count": 139,
     "metadata": {},
     "output_type": "execute_result"
    }
   ],
   "source": [
    "best_view3.relevance_weights"
   ]
  },
  {
   "cell_type": "markdown",
   "metadata": {
    "heading_collapsed": true,
    "hidden": true
   },
   "source": [
    "### Métricas"
   ]
  },
  {
   "cell_type": "code",
   "execution_count": 140,
   "metadata": {
    "ExecuteTime": {
     "end_time": "2020-09-07T01:12:19.445606Z",
     "start_time": "2020-09-07T01:12:19.442694Z"
    },
    "hidden": true
   },
   "outputs": [],
   "source": [
    "measures_view3 = []"
   ]
  },
  {
   "cell_type": "markdown",
   "metadata": {
    "heading_collapsed": true,
    "hidden": true
   },
   "source": [
    "#### Métricas Internas"
   ]
  },
  {
   "cell_type": "markdown",
   "metadata": {
    "hidden": true
   },
   "source": [
    "Modified Partition Coefficient"
   ]
  },
  {
   "cell_type": "code",
   "execution_count": 141,
   "metadata": {
    "ExecuteTime": {
     "end_time": "2020-09-07T01:13:29.228841Z",
     "start_time": "2020-09-07T01:13:29.223795Z"
    },
    "hidden": true
   },
   "outputs": [
    {
     "data": {
      "text/plain": [
       "0.01286662835643404"
      ]
     },
     "execution_count": 141,
     "metadata": {},
     "output_type": "execute_result"
    }
   ],
   "source": [
    "mpc = best_view3.mod_partition_coeff()\n",
    "mpc"
   ]
  },
  {
   "cell_type": "code",
   "execution_count": 142,
   "metadata": {
    "ExecuteTime": {
     "end_time": "2020-09-07T01:13:41.356954Z",
     "start_time": "2020-09-07T01:13:41.353575Z"
    },
    "hidden": true
   },
   "outputs": [],
   "source": [
    "measures_view3.append(mpc)"
   ]
  },
  {
   "cell_type": "markdown",
   "metadata": {
    "hidden": true
   },
   "source": [
    "Partition Entropy"
   ]
  },
  {
   "cell_type": "code",
   "execution_count": 143,
   "metadata": {
    "ExecuteTime": {
     "end_time": "2020-09-07T01:13:50.680139Z",
     "start_time": "2020-09-07T01:13:50.674102Z"
    },
    "hidden": true
   },
   "outputs": [
    {
     "data": {
      "text/plain": [
       "2.2675171639387317"
      ]
     },
     "execution_count": 143,
     "metadata": {},
     "output_type": "execute_result"
    }
   ],
   "source": [
    "pe = best_view3.partition_entropy()\n",
    "pe"
   ]
  },
  {
   "cell_type": "code",
   "execution_count": 144,
   "metadata": {
    "ExecuteTime": {
     "end_time": "2020-09-07T01:13:59.106294Z",
     "start_time": "2020-09-07T01:13:59.103223Z"
    },
    "hidden": true
   },
   "outputs": [],
   "source": [
    "measures_view3.append(pe)"
   ]
  },
  {
   "cell_type": "markdown",
   "metadata": {
    "heading_collapsed": true,
    "hidden": true
   },
   "source": [
    "#### Métricas Externas"
   ]
  },
  {
   "cell_type": "code",
   "execution_count": 145,
   "metadata": {
    "ExecuteTime": {
     "end_time": "2020-09-07T01:14:32.790340Z",
     "start_time": "2020-09-07T01:14:32.769742Z"
    },
    "hidden": true
   },
   "outputs": [
    {
     "data": {
      "text/html": [
       "<div>\n",
       "<style scoped>\n",
       "    .dataframe tbody tr th:only-of-type {\n",
       "        vertical-align: middle;\n",
       "    }\n",
       "\n",
       "    .dataframe tbody tr th {\n",
       "        vertical-align: top;\n",
       "    }\n",
       "\n",
       "    .dataframe thead th {\n",
       "        text-align: right;\n",
       "    }\n",
       "</style>\n",
       "<table border=\"1\" class=\"dataframe\">\n",
       "  <thead>\n",
       "    <tr style=\"text-align: right;\">\n",
       "      <th></th>\n",
       "      <th>Q1</th>\n",
       "      <th>Q2</th>\n",
       "      <th>Q3</th>\n",
       "      <th>Q4</th>\n",
       "      <th>Q5</th>\n",
       "      <th>Q6</th>\n",
       "      <th>Q7</th>\n",
       "      <th>Q8</th>\n",
       "      <th>Q9</th>\n",
       "      <th>Q10</th>\n",
       "      <th>Soma</th>\n",
       "    </tr>\n",
       "  </thead>\n",
       "  <tbody>\n",
       "    <tr>\n",
       "      <th>P1</th>\n",
       "      <td>77</td>\n",
       "      <td>15</td>\n",
       "      <td>0</td>\n",
       "      <td>0</td>\n",
       "      <td>52</td>\n",
       "      <td>37</td>\n",
       "      <td>0</td>\n",
       "      <td>1</td>\n",
       "      <td>3</td>\n",
       "      <td>15</td>\n",
       "      <td>200</td>\n",
       "    </tr>\n",
       "    <tr>\n",
       "      <th>P2</th>\n",
       "      <td>0</td>\n",
       "      <td>1</td>\n",
       "      <td>2</td>\n",
       "      <td>18</td>\n",
       "      <td>0</td>\n",
       "      <td>1</td>\n",
       "      <td>8</td>\n",
       "      <td>9</td>\n",
       "      <td>161</td>\n",
       "      <td>0</td>\n",
       "      <td>200</td>\n",
       "    </tr>\n",
       "    <tr>\n",
       "      <th>P3</th>\n",
       "      <td>22</td>\n",
       "      <td>49</td>\n",
       "      <td>2</td>\n",
       "      <td>4</td>\n",
       "      <td>6</td>\n",
       "      <td>34</td>\n",
       "      <td>61</td>\n",
       "      <td>2</td>\n",
       "      <td>10</td>\n",
       "      <td>10</td>\n",
       "      <td>200</td>\n",
       "    </tr>\n",
       "    <tr>\n",
       "      <th>P4</th>\n",
       "      <td>3</td>\n",
       "      <td>0</td>\n",
       "      <td>115</td>\n",
       "      <td>1</td>\n",
       "      <td>2</td>\n",
       "      <td>2</td>\n",
       "      <td>10</td>\n",
       "      <td>63</td>\n",
       "      <td>2</td>\n",
       "      <td>2</td>\n",
       "      <td>200</td>\n",
       "    </tr>\n",
       "    <tr>\n",
       "      <th>P5</th>\n",
       "      <td>20</td>\n",
       "      <td>9</td>\n",
       "      <td>5</td>\n",
       "      <td>29</td>\n",
       "      <td>5</td>\n",
       "      <td>12</td>\n",
       "      <td>3</td>\n",
       "      <td>41</td>\n",
       "      <td>38</td>\n",
       "      <td>38</td>\n",
       "      <td>200</td>\n",
       "    </tr>\n",
       "    <tr>\n",
       "      <th>P6</th>\n",
       "      <td>11</td>\n",
       "      <td>1</td>\n",
       "      <td>65</td>\n",
       "      <td>31</td>\n",
       "      <td>5</td>\n",
       "      <td>11</td>\n",
       "      <td>18</td>\n",
       "      <td>52</td>\n",
       "      <td>6</td>\n",
       "      <td>0</td>\n",
       "      <td>200</td>\n",
       "    </tr>\n",
       "    <tr>\n",
       "      <th>P7</th>\n",
       "      <td>55</td>\n",
       "      <td>22</td>\n",
       "      <td>8</td>\n",
       "      <td>0</td>\n",
       "      <td>34</td>\n",
       "      <td>32</td>\n",
       "      <td>0</td>\n",
       "      <td>11</td>\n",
       "      <td>4</td>\n",
       "      <td>34</td>\n",
       "      <td>200</td>\n",
       "    </tr>\n",
       "    <tr>\n",
       "      <th>P8</th>\n",
       "      <td>1</td>\n",
       "      <td>1</td>\n",
       "      <td>3</td>\n",
       "      <td>39</td>\n",
       "      <td>0</td>\n",
       "      <td>0</td>\n",
       "      <td>155</td>\n",
       "      <td>0</td>\n",
       "      <td>1</td>\n",
       "      <td>0</td>\n",
       "      <td>200</td>\n",
       "    </tr>\n",
       "    <tr>\n",
       "      <th>P9</th>\n",
       "      <td>47</td>\n",
       "      <td>65</td>\n",
       "      <td>7</td>\n",
       "      <td>12</td>\n",
       "      <td>18</td>\n",
       "      <td>20</td>\n",
       "      <td>2</td>\n",
       "      <td>3</td>\n",
       "      <td>15</td>\n",
       "      <td>11</td>\n",
       "      <td>200</td>\n",
       "    </tr>\n",
       "    <tr>\n",
       "      <th>P10</th>\n",
       "      <td>8</td>\n",
       "      <td>5</td>\n",
       "      <td>3</td>\n",
       "      <td>141</td>\n",
       "      <td>0</td>\n",
       "      <td>1</td>\n",
       "      <td>38</td>\n",
       "      <td>1</td>\n",
       "      <td>3</td>\n",
       "      <td>0</td>\n",
       "      <td>200</td>\n",
       "    </tr>\n",
       "    <tr>\n",
       "      <th>Soma</th>\n",
       "      <td>244</td>\n",
       "      <td>168</td>\n",
       "      <td>210</td>\n",
       "      <td>275</td>\n",
       "      <td>122</td>\n",
       "      <td>150</td>\n",
       "      <td>295</td>\n",
       "      <td>183</td>\n",
       "      <td>243</td>\n",
       "      <td>110</td>\n",
       "      <td>2000</td>\n",
       "    </tr>\n",
       "  </tbody>\n",
       "</table>\n",
       "</div>"
      ],
      "text/plain": [
       "       Q1   Q2   Q3   Q4   Q5   Q6   Q7   Q8   Q9  Q10  Soma\n",
       "P1     77   15    0    0   52   37    0    1    3   15   200\n",
       "P2      0    1    2   18    0    1    8    9  161    0   200\n",
       "P3     22   49    2    4    6   34   61    2   10   10   200\n",
       "P4      3    0  115    1    2    2   10   63    2    2   200\n",
       "P5     20    9    5   29    5   12    3   41   38   38   200\n",
       "P6     11    1   65   31    5   11   18   52    6    0   200\n",
       "P7     55   22    8    0   34   32    0   11    4   34   200\n",
       "P8      1    1    3   39    0    0  155    0    1    0   200\n",
       "P9     47   65    7   12   18   20    2    3   15   11   200\n",
       "P10     8    5    3  141    0    1   38    1    3    0   200\n",
       "Soma  244  168  210  275  122  150  295  183  243  110  2000"
      ]
     },
     "execution_count": 145,
     "metadata": {},
     "output_type": "execute_result"
    }
   ],
   "source": [
    "best_view3.confusion_matrix()\n",
    "\n",
    "cols =  ['Q' + str(k+1) for k in range(K)] + ['Soma']\n",
    "indexes = ['P' + str(k+1) for k in range(K)] + ['Soma']\n",
    "\n",
    "pd.DataFrame(best_view3.expand_confusion_matrix, columns=cols, index=indexes)"
   ]
  },
  {
   "cell_type": "markdown",
   "metadata": {
    "hidden": true
   },
   "source": [
    "Índice de Rand Corrigido"
   ]
  },
  {
   "cell_type": "code",
   "execution_count": 146,
   "metadata": {
    "ExecuteTime": {
     "end_time": "2020-09-07T01:14:57.102558Z",
     "start_time": "2020-09-07T01:14:57.093807Z"
    },
    "hidden": true
   },
   "outputs": [
    {
     "data": {
      "text/plain": [
       "0.25013492433128925"
      ]
     },
     "execution_count": 146,
     "metadata": {},
     "output_type": "execute_result"
    }
   ],
   "source": [
    "ar_index = best_view3.adjusted_rand_index()\n",
    "ar_index"
   ]
  },
  {
   "cell_type": "code",
   "execution_count": 147,
   "metadata": {
    "ExecuteTime": {
     "end_time": "2020-09-07T01:15:08.128688Z",
     "start_time": "2020-09-07T01:15:08.124914Z"
    },
    "hidden": true
   },
   "outputs": [],
   "source": [
    "measures_view3.append(ar_index)"
   ]
  },
  {
   "cell_type": "markdown",
   "metadata": {
    "hidden": true
   },
   "source": [
    "F-measure"
   ]
  },
  {
   "cell_type": "code",
   "execution_count": 148,
   "metadata": {
    "ExecuteTime": {
     "end_time": "2020-09-07T01:15:22.978175Z",
     "start_time": "2020-09-07T01:15:22.970366Z"
    },
    "hidden": true
   },
   "outputs": [
    {
     "data": {
      "text/plain": [
       "0.4284179022068296"
      ]
     },
     "execution_count": 148,
     "metadata": {},
     "output_type": "execute_result"
    }
   ],
   "source": [
    "f1 = best_view3.f_measure()\n",
    "f1"
   ]
  },
  {
   "cell_type": "code",
   "execution_count": 149,
   "metadata": {
    "ExecuteTime": {
     "end_time": "2020-09-07T01:15:32.348324Z",
     "start_time": "2020-09-07T01:15:32.344788Z"
    },
    "hidden": true
   },
   "outputs": [],
   "source": [
    "measures_view3.append(f1)"
   ]
  },
  {
   "cell_type": "markdown",
   "metadata": {
    "hidden": true
   },
   "source": [
    "Erro de Atribuição"
   ]
  },
  {
   "cell_type": "code",
   "execution_count": 150,
   "metadata": {
    "ExecuteTime": {
     "end_time": "2020-09-07T01:15:41.427964Z",
     "start_time": "2020-09-07T01:15:41.420832Z"
    },
    "hidden": true
   },
   "outputs": [
    {
     "data": {
      "text/plain": [
       "0.548"
      ]
     },
     "execution_count": 150,
     "metadata": {},
     "output_type": "execute_result"
    }
   ],
   "source": [
    "error_rate = best_view3.classification_error_rate()\n",
    "error_rate"
   ]
  },
  {
   "cell_type": "code",
   "execution_count": 151,
   "metadata": {
    "ExecuteTime": {
     "end_time": "2020-09-07T01:15:49.636302Z",
     "start_time": "2020-09-07T01:15:49.633243Z"
    },
    "hidden": true
   },
   "outputs": [],
   "source": [
    "measures_view3.append(error_rate)"
   ]
  },
  {
   "cell_type": "markdown",
   "metadata": {
    "heading_collapsed": true,
    "hidden": true
   },
   "source": [
    "#### Métricas Sumarizadas"
   ]
  },
  {
   "cell_type": "code",
   "execution_count": 152,
   "metadata": {
    "ExecuteTime": {
     "end_time": "2020-09-07T01:16:03.839051Z",
     "start_time": "2020-09-07T01:16:03.833713Z"
    },
    "hidden": true
   },
   "outputs": [
    {
     "data": {
      "text/plain": [
       "[0.01286662835643404,\n",
       " 2.2675171639387317,\n",
       " 0.25013492433128925,\n",
       " 0.4284179022068296,\n",
       " 0.548]"
      ]
     },
     "execution_count": 152,
     "metadata": {},
     "output_type": "execute_result"
    }
   ],
   "source": [
    "measures_view3"
   ]
  },
  {
   "cell_type": "code",
   "execution_count": 153,
   "metadata": {
    "ExecuteTime": {
     "end_time": "2020-09-07T01:16:43.107879Z",
     "start_time": "2020-09-07T01:16:43.092825Z"
    },
    "hidden": true
   },
   "outputs": [
    {
     "data": {
      "text/html": [
       "<div>\n",
       "<style scoped>\n",
       "    .dataframe tbody tr th:only-of-type {\n",
       "        vertical-align: middle;\n",
       "    }\n",
       "\n",
       "    .dataframe tbody tr th {\n",
       "        vertical-align: top;\n",
       "    }\n",
       "\n",
       "    .dataframe thead th {\n",
       "        text-align: right;\n",
       "    }\n",
       "</style>\n",
       "<table border=\"1\" class=\"dataframe\">\n",
       "  <thead>\n",
       "    <tr style=\"text-align: right;\">\n",
       "      <th></th>\n",
       "      <th>Mod Partition Coeff</th>\n",
       "      <th>Partition Entropy</th>\n",
       "      <th>Indice Rand Corr</th>\n",
       "      <th>F-measure</th>\n",
       "      <th>Erro Atribuição</th>\n",
       "    </tr>\n",
       "  </thead>\n",
       "  <tbody>\n",
       "    <tr>\n",
       "      <th>0</th>\n",
       "      <td>0.012867</td>\n",
       "      <td>2.267517</td>\n",
       "      <td>0.250135</td>\n",
       "      <td>0.428418</td>\n",
       "      <td>0.548</td>\n",
       "    </tr>\n",
       "  </tbody>\n",
       "</table>\n",
       "</div>"
      ],
      "text/plain": [
       "   Mod Partition Coeff  Partition Entropy  Indice Rand Corr  F-measure  \\\n",
       "0             0.012867           2.267517          0.250135   0.428418   \n",
       "\n",
       "   Erro Atribuição  \n",
       "0            0.548  "
      ]
     },
     "execution_count": 153,
     "metadata": {},
     "output_type": "execute_result"
    }
   ],
   "source": [
    "cols = ['Mod Partition Coeff', 'Partition Entropy', 'Indice Rand Corr',\n",
    "        'F-measure', 'Erro Atribuição']\n",
    "\n",
    "pd.DataFrame(measures_view3, index = cols).T"
   ]
  },
  {
   "cell_type": "markdown",
   "metadata": {
    "heading_collapsed": true,
    "hidden": true
   },
   "source": [
    "## Persistir Objeto do Experimento"
   ]
  },
  {
   "cell_type": "code",
   "execution_count": 154,
   "metadata": {
    "ExecuteTime": {
     "end_time": "2020-09-07T01:17:24.637192Z",
     "start_time": "2020-09-07T01:17:24.631446Z"
    },
    "hidden": true
   },
   "outputs": [],
   "source": [
    "exp_object_file = open(path_results_view3 + \"experiment_object\", \"wb\")\n",
    "\n",
    "pickle.dump(best_view3, exp_object_file)\n",
    "\n",
    "exp_object_file.close()"
   ]
  },
  {
   "cell_type": "markdown",
   "metadata": {
    "heading_collapsed": true
   },
   "source": [
    "# Comparação dos Experimentos"
   ]
  },
  {
   "cell_type": "code",
   "execution_count": 214,
   "metadata": {
    "ExecuteTime": {
     "end_time": "2020-09-07T23:09:11.623162Z",
     "start_time": "2020-09-07T23:09:11.600526Z"
    },
    "hidden": true
   },
   "outputs": [
    {
     "data": {
      "text/html": [
       "<div>\n",
       "<style scoped>\n",
       "    .dataframe tbody tr th:only-of-type {\n",
       "        vertical-align: middle;\n",
       "    }\n",
       "\n",
       "    .dataframe tbody tr th {\n",
       "        vertical-align: top;\n",
       "    }\n",
       "\n",
       "    .dataframe thead th {\n",
       "        text-align: right;\n",
       "    }\n",
       "</style>\n",
       "<table border=\"1\" class=\"dataframe\">\n",
       "  <thead>\n",
       "    <tr style=\"text-align: right;\">\n",
       "      <th></th>\n",
       "      <th>Mod Partition Coeff</th>\n",
       "      <th>Partition Entropy</th>\n",
       "      <th>Indice Rand Corr</th>\n",
       "      <th>F-measure</th>\n",
       "      <th>Erro Atribuição</th>\n",
       "    </tr>\n",
       "  </thead>\n",
       "  <tbody>\n",
       "    <tr>\n",
       "      <th>Multiviews</th>\n",
       "      <td>0.014067</td>\n",
       "      <td>2.262500</td>\n",
       "      <td>0.332666</td>\n",
       "      <td>0.499713</td>\n",
       "      <td>0.4965</td>\n",
       "    </tr>\n",
       "    <tr>\n",
       "      <th>View1</th>\n",
       "      <td>0.022069</td>\n",
       "      <td>2.229449</td>\n",
       "      <td>0.358576</td>\n",
       "      <td>0.564285</td>\n",
       "      <td>0.4300</td>\n",
       "    </tr>\n",
       "    <tr>\n",
       "      <th>View2</th>\n",
       "      <td>0.012285</td>\n",
       "      <td>2.270202</td>\n",
       "      <td>0.264628</td>\n",
       "      <td>0.434713</td>\n",
       "      <td>0.5915</td>\n",
       "    </tr>\n",
       "    <tr>\n",
       "      <th>View3</th>\n",
       "      <td>0.012867</td>\n",
       "      <td>2.267517</td>\n",
       "      <td>0.250135</td>\n",
       "      <td>0.428418</td>\n",
       "      <td>0.5480</td>\n",
       "    </tr>\n",
       "  </tbody>\n",
       "</table>\n",
       "</div>"
      ],
      "text/plain": [
       "            Mod Partition Coeff  Partition Entropy  Indice Rand Corr  \\\n",
       "Multiviews             0.014067           2.262500          0.332666   \n",
       "View1                  0.022069           2.229449          0.358576   \n",
       "View2                  0.012285           2.270202          0.264628   \n",
       "View3                  0.012867           2.267517          0.250135   \n",
       "\n",
       "            F-measure  Erro Atribuição  \n",
       "Multiviews   0.499713           0.4965  \n",
       "View1        0.564285           0.4300  \n",
       "View2        0.434713           0.5915  \n",
       "View3        0.428418           0.5480  "
      ]
     },
     "execution_count": 214,
     "metadata": {},
     "output_type": "execute_result"
    }
   ],
   "source": [
    "measures_experiments = [measures_multiviews, measures_view1, \n",
    "                        measures_view2, measures_view3]\n",
    "\n",
    "cols = ['Mod Partition Coeff', 'Partition Entropy', 'Indice Rand Corr',\n",
    "        'F-measure', 'Erro Atribuição']\n",
    "\n",
    "indexes = ['Multiviews','View1', 'View2', 'View3']\n",
    "\n",
    "pd.DataFrame(measures_experiments, columns = cols, index = indexes)"
   ]
  }
 ],
 "metadata": {
  "kernelspec": {
   "display_name": "Python 3",
   "language": "python",
   "name": "python3"
  },
  "language_info": {
   "codemirror_mode": {
    "name": "ipython",
    "version": 3
   },
   "file_extension": ".py",
   "mimetype": "text/x-python",
   "name": "python",
   "nbconvert_exporter": "python",
   "pygments_lexer": "ipython3",
   "version": "3.7.6"
  },
  "toc": {
   "base_numbering": 1,
   "nav_menu": {},
   "number_sections": true,
   "sideBar": true,
   "skip_h1_title": false,
   "title_cell": "Table of Contents",
   "title_sidebar": "Contents",
   "toc_cell": false,
   "toc_position": {
    "height": "calc(100% - 180px)",
    "left": "10px",
    "top": "150px",
    "width": "212.656px"
   },
   "toc_section_display": true,
   "toc_window_display": false
  }
 },
 "nbformat": 4,
 "nbformat_minor": 4
}
